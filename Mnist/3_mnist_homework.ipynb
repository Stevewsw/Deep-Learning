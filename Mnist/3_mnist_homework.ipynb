{
 "cells": [
  {
   "cell_type": "markdown",
   "metadata": {
    "toc": true
   },
   "source": [
    "<h1>Mnist 感知器版<span class=\"tocSkip\"></span></h1>\n",
    "<div class=\"toc\"><ul class=\"toc-item\"><li><span><a href=\"#导入工具包\" data-toc-modified-id=\"导入工具包-1\"><span class=\"toc-item-num\">1&nbsp;&nbsp;</span>导入工具包</a></span></li><li><span><a href=\"#导入数据\" data-toc-modified-id=\"导入数据-2\"><span class=\"toc-item-num\">2&nbsp;&nbsp;</span>导入数据</a></span></li><li><span><a href=\"#初始化模型参数\" data-toc-modified-id=\"初始化模型参数-3\"><span class=\"toc-item-num\">3&nbsp;&nbsp;</span>初始化模型参数</a></span></li><li><span><a href=\"#定义交叉熵\" data-toc-modified-id=\"定义交叉熵-4\"><span class=\"toc-item-num\">4&nbsp;&nbsp;</span>定义交叉熵</a></span></li><li><span><a href=\"#设置随机梯度下降\" data-toc-modified-id=\"设置随机梯度下降-5\"><span class=\"toc-item-num\">5&nbsp;&nbsp;</span>设置随机梯度下降</a></span></li><li><span><a href=\"#初始化所有参数\" data-toc-modified-id=\"初始化所有参数-6\"><span class=\"toc-item-num\">6&nbsp;&nbsp;</span>初始化所有参数</a></span></li><li><span><a href=\"#进行train\" data-toc-modified-id=\"进行train-7\"><span class=\"toc-item-num\">7&nbsp;&nbsp;</span>进行train</a></span></li><li><span><a href=\"#评价\" data-toc-modified-id=\"评价-8\"><span class=\"toc-item-num\">8&nbsp;&nbsp;</span>评价</a></span></li></ul></div>"
   ]
  },
  {
   "cell_type": "markdown",
   "metadata": {},
   "source": [
    "## 导入工具包"
   ]
  },
  {
   "cell_type": "code",
   "execution_count": 1,
   "metadata": {
    "ExecuteTime": {
     "end_time": "2018-03-23T01:10:19.802443Z",
     "start_time": "2018-03-23T01:10:00.938860Z"
    }
   },
   "outputs": [],
   "source": [
    "\"\"\"A very simple MNIST classifier.\n",
    "See extensive documentation at\n",
    "https://www.tensorflow.org/get_started/mnist/beginners\n",
    "\"\"\"\n",
    "#from __future__ import absolute_import\n",
    "#from __future__ import division\n",
    "#from __future__ import print_function\n",
    "\n",
    "import argparse\n",
    "import sys\n",
    "\n",
    "from tensorflow.examples.tutorials.mnist import input_data\n",
    "\n",
    "import tensorflow as tf\n",
    "\n",
    "FLAGS = None\n"
   ]
  },
  {
   "cell_type": "markdown",
   "metadata": {},
   "source": [
    "## 导入数据"
   ]
  },
  {
   "cell_type": "markdown",
   "metadata": {},
   "source": [
    "我们在这里调用系统提供的Mnist数据函数为我们读入数据，如果没有下载的话则进行下载。\n",
    "\n",
    "<font color=#ff0000>**这里将data_dir改为适合你的运行环境的目录**</font>"
   ]
  },
  {
   "cell_type": "code",
   "execution_count": 2,
   "metadata": {
    "ExecuteTime": {
     "end_time": "2018-03-23T01:11:11.754748Z",
     "start_time": "2018-03-23T01:11:10.587262Z"
    }
   },
   "outputs": [
    {
     "name": "stdout",
     "output_type": "stream",
     "text": [
      "Extracting E:/AI/00/data/Mnist/input_data\\train-images-idx3-ubyte.gz\n",
      "Extracting E:/AI/00/data/Mnist/input_data\\train-labels-idx1-ubyte.gz\n",
      "Extracting E:/AI/00/data/Mnist/input_data\\t10k-images-idx3-ubyte.gz\n",
      "Extracting E:/AI/00/data/Mnist/input_data\\t10k-labels-idx1-ubyte.gz\n"
     ]
    }
   ],
   "source": [
    "# Import data\n",
    "data_dir = 'E:/AI/00/data/Mnist/input_data'\n",
    "mnist = input_data.read_data_sets(data_dir, one_hot=True)"
   ]
  },
  {
   "cell_type": "markdown",
   "metadata": {
    "ExecuteTime": {
     "end_time": "2018-03-23T01:14:41.317119Z",
     "start_time": "2018-03-23T01:14:41.314117Z"
    }
   },
   "source": [
    "## 初始化模型参数"
   ]
  },
  {
   "cell_type": "markdown",
   "metadata": {},
   "source": [
    "一个非常非常简陋的模型"
   ]
  },
  {
   "cell_type": "code",
   "execution_count": 3,
   "metadata": {
    "ExecuteTime": {
     "end_time": "2018-03-23T01:11:27.664188Z",
     "start_time": "2018-03-23T01:11:27.624160Z"
    }
   },
   "outputs": [],
   "source": [
    "# Create the model\n",
    "x = tf.placeholder(tf.float32, [None, 784])\n",
    "W = tf.Variable(tf.zeros([784, 10]))\n",
    "b = tf.Variable(tf.zeros([10]))\n",
    "y = tf.matmul(x, W) + b"
   ]
  },
  {
   "cell_type": "markdown",
   "metadata": {},
   "source": [
    "定义我们的ground truth 占位符"
   ]
  },
  {
   "cell_type": "code",
   "execution_count": 4,
   "metadata": {
    "ExecuteTime": {
     "end_time": "2018-03-23T01:11:29.003908Z",
     "start_time": "2018-03-23T01:11:28.998404Z"
    }
   },
   "outputs": [],
   "source": [
    "# Define loss and optimizer\n",
    "y_ = tf.placeholder(tf.float32, [None, 10])"
   ]
  },
  {
   "cell_type": "markdown",
   "metadata": {},
   "source": [
    "## 定义交叉熵"
   ]
  },
  {
   "cell_type": "markdown",
   "metadata": {},
   "source": [
    "接下来我们计算交叉熵，注意这里不要使用注释中的手动计算方式，而是使用系统函数。\n",
    "另一个注意点就是，softmax_cross_entropy_with_logits的logits参数是**未经激活的wx+b**\n",
    "_with_logits就是说该函数自带激活"
   ]
  },
  {
   "cell_type": "code",
   "execution_count": 11,
   "metadata": {
    "ExecuteTime": {
     "end_time": "2018-03-23T01:17:42.026572Z",
     "start_time": "2018-03-23T01:17:42.010561Z"
    }
   },
   "outputs": [
    {
     "data": {
      "text/plain": [
       "['__builtins__',\n",
       " '__cached__',\n",
       " '__doc__',\n",
       " '__file__',\n",
       " '__loader__',\n",
       " '__name__',\n",
       " '__package__',\n",
       " '__spec__',\n",
       " '_allowed_symbols',\n",
       " '_ctc_ops',\n",
       " '_embedding_ops',\n",
       " '_nn_grad',\n",
       " '_nn_ops',\n",
       " '_sys',\n",
       " 'all_candidate_sampler',\n",
       " 'atrous_conv2d',\n",
       " 'atrous_conv2d_transpose',\n",
       " 'avg_pool',\n",
       " 'avg_pool3d',\n",
       " 'batch_norm_with_global_normalization',\n",
       " 'batch_normalization',\n",
       " 'bias_add',\n",
       " 'bidirectional_dynamic_rnn',\n",
       " 'compute_accidental_hits',\n",
       " 'conv1d',\n",
       " 'conv2d',\n",
       " 'conv2d_backprop_filter',\n",
       " 'conv2d_backprop_input',\n",
       " 'conv2d_transpose',\n",
       " 'conv3d',\n",
       " 'conv3d_backprop_filter_v2',\n",
       " 'conv3d_transpose',\n",
       " 'convolution',\n",
       " 'crelu',\n",
       " 'ctc_beam_search_decoder',\n",
       " 'ctc_greedy_decoder',\n",
       " 'ctc_loss',\n",
       " 'depthwise_conv2d',\n",
       " 'depthwise_conv2d_native',\n",
       " 'depthwise_conv2d_native_backprop_filter',\n",
       " 'depthwise_conv2d_native_backprop_input',\n",
       " 'dilation2d',\n",
       " 'dropout',\n",
       " 'dynamic_rnn',\n",
       " 'elu',\n",
       " 'embedding_lookup',\n",
       " 'embedding_lookup_sparse',\n",
       " 'erosion2d',\n",
       " 'fixed_unigram_candidate_sampler',\n",
       " 'fractional_avg_pool',\n",
       " 'fractional_max_pool',\n",
       " 'fused_batch_norm',\n",
       " 'in_top_k',\n",
       " 'l2_loss',\n",
       " 'l2_normalize',\n",
       " 'leaky_relu',\n",
       " 'learned_unigram_candidate_sampler',\n",
       " 'local_response_normalization',\n",
       " 'log_poisson_loss',\n",
       " 'log_softmax',\n",
       " 'log_uniform_candidate_sampler',\n",
       " 'lrn',\n",
       " 'max_pool',\n",
       " 'max_pool3d',\n",
       " 'max_pool_with_argmax',\n",
       " 'moments',\n",
       " 'nce_loss',\n",
       " 'normalize_moments',\n",
       " 'pool',\n",
       " 'quantized_avg_pool',\n",
       " 'quantized_conv2d',\n",
       " 'quantized_max_pool',\n",
       " 'quantized_relu_x',\n",
       " 'raw_rnn',\n",
       " 'relu',\n",
       " 'relu6',\n",
       " 'relu_layer',\n",
       " 'rnn_cell',\n",
       " 'sampled_softmax_loss',\n",
       " 'selu',\n",
       " 'separable_conv2d',\n",
       " 'sigmoid',\n",
       " 'sigmoid_cross_entropy_with_logits',\n",
       " 'softmax',\n",
       " 'softmax_cross_entropy_with_logits',\n",
       " 'softmax_cross_entropy_with_logits_v2',\n",
       " 'softplus',\n",
       " 'softsign',\n",
       " 'sparse_softmax_cross_entropy_with_logits',\n",
       " 'static_bidirectional_rnn',\n",
       " 'static_rnn',\n",
       " 'static_state_saving_rnn',\n",
       " 'sufficient_statistics',\n",
       " 'swish',\n",
       " 'tanh',\n",
       " 'top_k',\n",
       " 'uniform_candidate_sampler',\n",
       " 'weighted_cross_entropy_with_logits',\n",
       " 'weighted_moments',\n",
       " 'with_space_to_batch',\n",
       " 'xw_plus_b',\n",
       " 'zero_fraction']"
      ]
     },
     "execution_count": 11,
     "metadata": {},
     "output_type": "execute_result"
    }
   ],
   "source": [
    "dir(tf.nn)"
   ]
  },
  {
   "cell_type": "code",
   "execution_count": 6,
   "metadata": {
    "ExecuteTime": {
     "end_time": "2018-03-23T01:11:48.952089Z",
     "start_time": "2018-03-23T01:11:48.920069Z"
    }
   },
   "outputs": [],
   "source": [
    "# The raw formulation of cross-entropy,\n",
    "#\n",
    "#   tf.reduce_mean(-tf.reduce_sum(y_ * tf.log(tf.nn.softmax(y)),\n",
    "#                                 reduction_indices=[1]))\n",
    "#\n",
    "# can be numerically unstable.\n",
    "#\n",
    "# So here we use tf.nn.softmax_cross_entropy_with_logits on the raw\n",
    "# outputs of 'y', and then average across the batch.\n",
    "cross_entropy = tf.reduce_mean(\n",
    "    tf.nn.softmax_cross_entropy_with_logits_v2(labels=y_, logits=y))"
   ]
  },
  {
   "cell_type": "markdown",
   "metadata": {},
   "source": [
    "## 设置随机梯度下降"
   ]
  },
  {
   "cell_type": "markdown",
   "metadata": {},
   "source": [
    "生成一个训练step"
   ]
  },
  {
   "cell_type": "code",
   "execution_count": 7,
   "metadata": {
    "ExecuteTime": {
     "end_time": "2018-03-23T01:11:54.015431Z",
     "start_time": "2018-03-23T01:11:53.908185Z"
    }
   },
   "outputs": [],
   "source": [
    "train_step = tf.train.GradientDescentOptimizer(0.5).minimize(cross_entropy)"
   ]
  },
  {
   "cell_type": "markdown",
   "metadata": {},
   "source": [
    "## 初始化所有参数"
   ]
  },
  {
   "cell_type": "code",
   "execution_count": null,
   "metadata": {},
   "outputs": [],
   "source": [
    "sess = tf.Session()\n",
    "init_op = tf.global_variables_initializer()\n",
    "sess.run(init_op)"
   ]
  },
  {
   "cell_type": "markdown",
   "metadata": {},
   "source": [
    "在这里我们仍然调用系统提供的读取数据，为我们取得一个batch。\n",
    "然后我们运行3k个step(5 epochs)，对权重进行优化。"
   ]
  },
  {
   "cell_type": "markdown",
   "metadata": {},
   "source": [
    "## 进行train"
   ]
  },
  {
   "cell_type": "code",
   "execution_count": 8,
   "metadata": {
    "ExecuteTime": {
     "end_time": "2018-03-23T01:11:58.705383Z",
     "start_time": "2018-03-23T01:11:55.109949Z"
    }
   },
   "outputs": [],
   "source": [
    "# Train\n",
    "for _ in range(3000):\n",
    "  batch_xs, batch_ys = mnist.train.next_batch(100)\n",
    "  sess.run(train_step, feed_dict={x: batch_xs, y_: batch_ys})"
   ]
  },
  {
   "cell_type": "markdown",
   "metadata": {},
   "source": [
    "验证我们模型在测试数据上的准确率"
   ]
  },
  {
   "cell_type": "markdown",
   "metadata": {},
   "source": [
    "## 评价"
   ]
  },
  {
   "cell_type": "code",
   "execution_count": 9,
   "metadata": {
    "ExecuteTime": {
     "end_time": "2018-03-23T01:11:58.758417Z",
     "start_time": "2018-03-23T01:11:58.708386Z"
    }
   },
   "outputs": [
    {
     "name": "stdout",
     "output_type": "stream",
     "text": [
      "0.9216\n"
     ]
    }
   ],
   "source": [
    "  # Test trained model\n",
    "correct_prediction = tf.equal(tf.argmax(y, 1), tf.argmax(y_, 1))\n",
    "accuracy = tf.reduce_mean(tf.cast(correct_prediction, tf.float32))\n",
    "print(sess.run(accuracy, feed_dict={x: mnist.test.images,\n",
    "                                      y_: mnist.test.labels}))"
   ]
  },
  {
   "cell_type": "markdown",
   "metadata": {},
   "source": [
    "毫无疑问，这个模型是一个非常简陋，性能也不理想的模型。目前只能达到92%左右的准确率。\n",
    "接下来，希望大家利用现有的知识，将这个模型优化至98%以上的准确率。\n",
    "Hint：\n",
    "- 多隐层\n",
    "- 激活函数\n",
    "- 正则化\n",
    "- 初始化\n",
    "- 摸索一下各个超参数\n",
    "  - 隐层神经元数量\n",
    "  - 学习率\n",
    "  - 正则化惩罚因子\n",
    "  - 最好每隔几个step就对loss、accuracy等等进行一次输出，这样才能有根据地进行调整"
   ]
  }
 ],
 "metadata": {
  "kernelspec": {
   "display_name": "Python 3",
   "language": "python",
   "name": "python3"
  },
  "language_info": {
   "codemirror_mode": {
    "name": "ipython",
    "version": 3
   },
   "file_extension": ".py",
   "mimetype": "text/x-python",
   "name": "python",
   "nbconvert_exporter": "python",
   "pygments_lexer": "ipython3",
   "version": "3.6.4"
  },
  "toc": {
   "nav_menu": {},
   "number_sections": true,
   "sideBar": true,
   "skip_h1_title": false,
   "title_cell": "Mnist 感知器版",
   "title_sidebar": "Contents",
   "toc_cell": true,
   "toc_position": {},
   "toc_section_display": true,
   "toc_window_display": false
  }
 },
 "nbformat": 4,
 "nbformat_minor": 2
}
