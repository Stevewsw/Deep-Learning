{
 "cells": [
  {
   "cell_type": "markdown",
   "metadata": {
    "toc": true
   },
   "source": [
    "<h1>Mnist 多层感知器版更换初始化<span class=\"tocSkip\"></span></h1>\n",
    "<div class=\"toc\"><ul class=\"toc-item\"><li><span><a href=\"#导入工具包\" data-toc-modified-id=\"导入工具包-1\"><span class=\"toc-item-num\">1&nbsp;&nbsp;</span>导入工具包</a></span></li><li><span><a href=\"#导入数据\" data-toc-modified-id=\"导入数据-2\"><span class=\"toc-item-num\">2&nbsp;&nbsp;</span>导入数据</a></span></li><li><span><a href=\"#初始化模型参数\" data-toc-modified-id=\"初始化模型参数-3\"><span class=\"toc-item-num\">3&nbsp;&nbsp;</span>初始化模型参数</a></span></li><li><span><a href=\"#结论\" data-toc-modified-id=\"结论-4\"><span class=\"toc-item-num\">4&nbsp;&nbsp;</span>结论</a></span></li></ul></div>"
   ]
  },
  {
   "cell_type": "markdown",
   "metadata": {},
   "source": [
    "## 导入工具包"
   ]
  },
  {
   "cell_type": "code",
   "execution_count": 1,
   "metadata": {
    "ExecuteTime": {
     "end_time": "2018-03-23T08:18:13.937535Z",
     "start_time": "2018-03-23T08:18:11.055395Z"
    }
   },
   "outputs": [],
   "source": [
    "\"\"\"A very simple MNIST classifier.\n",
    "See extensive documentation at\n",
    "https://www.tensorflow.org/get_started/mnist/beginners\n",
    "\"\"\"\n",
    "#from __future__ import absolute_import\n",
    "#from __future__ import division\n",
    "#from __future__ import print_function\n",
    "\n",
    "import argparse\n",
    "import sys\n",
    "\n",
    "from tensorflow.examples.tutorials.mnist import input_data\n",
    "\n",
    "import tensorflow as tf\n",
    "\n",
    "FLAGS = None\n"
   ]
  },
  {
   "cell_type": "markdown",
   "metadata": {},
   "source": [
    "## 导入数据"
   ]
  },
  {
   "cell_type": "code",
   "execution_count": 2,
   "metadata": {
    "ExecuteTime": {
     "end_time": "2018-03-23T08:18:14.642506Z",
     "start_time": "2018-03-23T08:18:13.940541Z"
    }
   },
   "outputs": [
    {
     "name": "stdout",
     "output_type": "stream",
     "text": [
      "Extracting E:/AI/00/data/Mnist/input_data\\train-images-idx3-ubyte.gz\n",
      "Extracting E:/AI/00/data/Mnist/input_data\\train-labels-idx1-ubyte.gz\n",
      "Extracting E:/AI/00/data/Mnist/input_data\\t10k-images-idx3-ubyte.gz\n",
      "Extracting E:/AI/00/data/Mnist/input_data\\t10k-labels-idx1-ubyte.gz\n"
     ]
    }
   ],
   "source": [
    "# Import data\n",
    "data_dir = 'E:/AI/00/data/Mnist/input_data'\n",
    "mnist = input_data.read_data_sets(data_dir, one_hot=True)"
   ]
  },
  {
   "cell_type": "markdown",
   "metadata": {
    "ExecuteTime": {
     "end_time": "2018-03-23T01:14:41.317119Z",
     "start_time": "2018-03-23T01:14:41.314117Z"
    }
   },
   "source": [
    "## 初始化模型参数"
   ]
  },
  {
   "cell_type": "code",
   "execution_count": 115,
   "metadata": {
    "ExecuteTime": {
     "end_time": "2018-03-23T09:35:50.723239Z",
     "start_time": "2018-03-23T09:35:50.613641Z"
    }
   },
   "outputs": [],
   "source": [
    "# 初始化模型参数\n",
    "x  = tf.placeholder(tf.float32, [None, 784])\n",
    "W1 = tf.Variable(tf.random_normal([784,200],mean=0,stddev=0.2,seed=66))\n",
    "b1 = tf.Variable(tf.zeros([200]))\n",
    "W2 = tf.Variable(tf.truncated_normal([200,200],mean=0,stddev=0.1,seed=66))\n",
    "b2 = tf.Variable(tf.zeros([200]))\n",
    "W3 = tf.Variable(tf.truncated_normal([200,100],mean=0,stddev=0.1,seed=66))\n",
    "b3 = tf.Variable(tf.zeros([100]))\n",
    "W4 = tf.Variable(tf.truncated_normal([100,200],mean=0,stddev=0.1,seed=2))\n",
    "b4 = tf.Variable(tf.zeros([200]))\n",
    "W5 = tf.Variable(tf.truncated_normal([200,100],mean=0,stddev=0.1,seed=2))\n",
    "b5 = tf.Variable(tf.zeros([100]))\n",
    "W6 = tf.Variable(tf.truncated_normal([100,100],mean=0,stddev=0.1,seed=2))\n",
    "b6 = tf.Variable(tf.zeros([100]))\n",
    "W7 = tf.Variable(tf.zeros([100,10]))\n",
    "b7 = tf.Variable(tf.zeros([10]))"
   ]
  },
  {
   "cell_type": "code",
   "execution_count": 116,
   "metadata": {
    "ExecuteTime": {
     "end_time": "2018-03-23T09:35:51.033951Z",
     "start_time": "2018-03-23T09:35:51.003934Z"
    }
   },
   "outputs": [],
   "source": [
    "# 添加隐层\n",
    "hidden1 = tf.nn.tanh(tf.matmul(x,W1)+b1)\n",
    "hidden2 = tf.nn.elu(tf.matmul(hidden1,W2)+b2)\n",
    "hidden3 = tf.nn.relu6(tf.matmul(hidden2,W3)+b3)\n",
    "hidden4 = tf.nn.tanh(tf.matmul(hidden3,W4)+b4)\n",
    "hidden5 = tf.nn.relu(tf.matmul(hidden4,W5)+b5)\n",
    "hidden6 = tf.nn.relu(tf.matmul(hidden5,W6)+b6)\n",
    "y = tf.matmul(hidden6, W7) + b7\n",
    "y_ = tf.placeholder(tf.float32, [None, 10])"
   ]
  },
  {
   "cell_type": "code",
   "execution_count": 117,
   "metadata": {
    "ExecuteTime": {
     "end_time": "2018-03-23T09:35:52.241323Z",
     "start_time": "2018-03-23T09:35:51.385706Z"
    }
   },
   "outputs": [],
   "source": [
    "cross_entropy = tf.reduce_mean(\n",
    "    tf.nn.softmax_cross_entropy_with_logits_v2(labels=y_, logits=y))\n",
    "#    +tf.contrib.layers.l1_regularizer(0.005)(W4)\n",
    "train_step = tf.train.GradientDescentOptimizer(0.4).minimize(cross_entropy)\n",
    "sess = tf.Session()\n",
    "init_op = tf.global_variables_initializer()\n",
    "sess.run(init_op)"
   ]
  },
  {
   "cell_type": "code",
   "execution_count": 118,
   "metadata": {
    "ExecuteTime": {
     "end_time": "2018-03-23T09:37:37.821754Z",
     "start_time": "2018-03-23T09:35:52.243838Z"
    }
   },
   "outputs": [],
   "source": [
    "# Train\n",
    "acc=dict()\n",
    "correct_prediction = tf.equal(tf.argmax(y, 1), tf.argmax(y_, 1))\n",
    "accuracy = tf.reduce_mean(tf.cast(correct_prediction, tf.float32))\n",
    "\n",
    "for _ in range(20000):\n",
    "    batch_xs, batch_ys = mnist.train.next_batch(100)\n",
    "    sess.run(train_step, feed_dict={x: batch_xs, y_: batch_ys})\n",
    "    if _ %300==0:\n",
    "        acc[_]=sess.run(accuracy, feed_dict={x: mnist.test.images,\n",
    "                                    y_: mnist.test.labels})\n"
   ]
  },
  {
   "cell_type": "code",
   "execution_count": 119,
   "metadata": {
    "ExecuteTime": {
     "end_time": "2018-03-23T09:37:37.979358Z",
     "start_time": "2018-03-23T09:37:37.824757Z"
    }
   },
   "outputs": [
    {
     "data": {
      "image/png": "[encoded data removed]",
      "text/plain": [
       "<Figure size 432x288 with 1 Axes>"
      ]
     },
     "metadata": {},
     "output_type": "display_data"
    }
   ],
   "source": [
    "import matplotlib.pyplot as plt\n",
    "del(acc[0])\n",
    "plt.plot(acc.keys(),acc.values())\n",
    "plt.show()"
   ]
  },
  {
   "cell_type": "code",
   "execution_count": 120,
   "metadata": {
    "ExecuteTime": {
     "end_time": "2018-03-23T09:37:37.990368Z",
     "start_time": "2018-03-23T09:37:37.982361Z"
    }
   },
   "outputs": [
    {
     "data": {
      "text/plain": [
       "{300: 0.9396,\n",
       " 600: 0.9542,\n",
       " 900: 0.9569,\n",
       " 1200: 0.966,\n",
       " 1500: 0.9685,\n",
       " 1800: 0.9675,\n",
       " 2100: 0.9688,\n",
       " 2400: 0.971,\n",
       " 2700: 0.9768,\n",
       " 3000: 0.9715,\n",
       " 3300: 0.9735,\n",
       " 3600: 0.9716,\n",
       " 3900: 0.9705,\n",
       " 4200: 0.9734,\n",
       " 4500: 0.9739,\n",
       " 4800: 0.9617,\n",
       " 5100: 0.976,\n",
       " 5400: 0.9746,\n",
       " 5700: 0.9774,\n",
       " 6000: 0.9763,\n",
       " 6300: 0.9748,\n",
       " 6600: 0.9732,\n",
       " 6900: 0.9761,\n",
       " 7200: 0.9774,\n",
       " 7500: 0.9759,\n",
       " 7800: 0.9762,\n",
       " 8100: 0.976,\n",
       " 8400: 0.9755,\n",
       " 8700: 0.9772,\n",
       " 9000: 0.9702,\n",
       " 9300: 0.9774,\n",
       " 9600: 0.9758,\n",
       " 9900: 0.9758,\n",
       " 10200: 0.9763,\n",
       " 10500: 0.975,\n",
       " 10800: 0.9781,\n",
       " 11100: 0.978,\n",
       " 11400: 0.9736,\n",
       " 11700: 0.9799,\n",
       " 12000: 0.9757,\n",
       " 12300: 0.9784,\n",
       " 12600: 0.9799,\n",
       " 12900: 0.9796,\n",
       " 13200: 0.9771,\n",
       " 13500: 0.975,\n",
       " 13800: 0.9792,\n",
       " 14100: 0.9805,\n",
       " 14400: 0.9782,\n",
       " 14700: 0.9757,\n",
       " 15000: 0.9772,\n",
       " 15300: 0.9741,\n",
       " 15600: 0.9779,\n",
       " 15900: 0.978,\n",
       " 16200: 0.9802,\n",
       " 16500: 0.9797,\n",
       " 16800: 0.979,\n",
       " 17100: 0.9797,\n",
       " 17400: 0.9802,\n",
       " 17700: 0.9804,\n",
       " 18000: 0.9803,\n",
       " 18300: 0.9804,\n",
       " 18600: 0.9804,\n",
       " 18900: 0.9805,\n",
       " 19200: 0.9803,\n",
       " 19500: 0.9804,\n",
       " 19800: 0.9803}"
      ]
     },
     "execution_count": 120,
     "metadata": {},
     "output_type": "execute_result"
    }
   ],
   "source": [
    "acc"
   ]
  },
  {
   "cell_type": "markdown",
   "metadata": {},
   "source": [
    "四层隐层之后,改变初始化后,正确率达到97%"
   ]
  },
  {
   "cell_type": "markdown",
   "metadata": {},
   "source": [
    "毫无疑问，这个模型是一个非常简陋，性能也不理想的模型。目前只能达到92%左右的准确率。\n",
    "接下来，希望大家利用现有的知识，将这个模型优化至98%以上的准确率。\n",
    "Hint：\n",
    "- 多隐层\n",
    "- 激活函数\n",
    "- 正则化\n",
    "- 初始化`多层隐层改变初始化后97%`\n",
    "- 摸索一下各个超参数\n",
    "  - 隐层神经元数量\n",
    "  - 学习率\n",
    "  - 正则化惩罚因子\n",
    "  - 最好每隔几个step就对loss、accuracy等等进行一次输出，这样才能有根据地进行调整"
   ]
  },
  {
   "cell_type": "markdown",
   "metadata": {},
   "source": [
    "## 结论"
   ]
  },
  {
   "cell_type": "markdown",
   "metadata": {
    "ExecuteTime": {
     "end_time": "2018-03-23T03:47:53.024407Z",
     "start_time": "2018-03-23T03:47:52.999385Z"
    }
   },
   "source": [
    "当学习率增大时, 循环次数一定要跟着增大"
   ]
  },
  {
   "cell_type": "code",
   "execution_count": null,
   "metadata": {},
   "outputs": [],
   "source": []
  }
 ],
 "metadata": {
  "kernelspec": {
   "display_name": "Python 3",
   "language": "python",
   "name": "python3"
  },
  "language_info": {
   "codemirror_mode": {
    "name": "ipython",
    "version": 3
   },
   "file_extension": ".py",
   "mimetype": "text/x-python",
   "name": "python",
   "nbconvert_exporter": "python",
   "pygments_lexer": "ipython3",
   "version": "3.6.4"
  },
  "toc": {
   "nav_menu": {},
   "number_sections": true,
   "sideBar": true,
   "skip_h1_title": false,
   "title_cell": "Mnist 多层感知器版更换初始化",
   "title_sidebar": "添加隐层",
   "toc_cell": true,
   "toc_position": {},
   "toc_section_display": true,
   "toc_window_display": false
  }
 },
 "nbformat": 4,
 "nbformat_minor": 2
}
