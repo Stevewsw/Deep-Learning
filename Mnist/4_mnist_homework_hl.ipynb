{
 "cells": [
  {
   "cell_type": "markdown",
   "metadata": {
    "toc": true
   },
   "source": [
    "<h1>Mnist 多层感知器版<span class=\"tocSkip\"></span></h1>\n",
    "<div class=\"toc\"><ul class=\"toc-item\"><li><span><a href=\"#导入工具包\" data-toc-modified-id=\"导入工具包-1\"><span class=\"toc-item-num\">1&nbsp;&nbsp;</span>导入工具包</a></span></li><li><span><a href=\"#导入数据\" data-toc-modified-id=\"导入数据-2\"><span class=\"toc-item-num\">2&nbsp;&nbsp;</span>导入数据</a></span></li><li><span><a href=\"#初始化模型参数\" data-toc-modified-id=\"初始化模型参数-3\"><span class=\"toc-item-num\">3&nbsp;&nbsp;</span>初始化模型参数</a></span></li><li><span><a href=\"#添加隐层\" data-toc-modified-id=\"添加隐层-4\"><span class=\"toc-item-num\">4&nbsp;&nbsp;</span>添加隐层</a></span></li><li><span><a href=\"#定义交叉熵\" data-toc-modified-id=\"定义交叉熵-5\"><span class=\"toc-item-num\">5&nbsp;&nbsp;</span>定义交叉熵</a></span></li><li><span><a href=\"#设置随机梯度下降\" data-toc-modified-id=\"设置随机梯度下降-6\"><span class=\"toc-item-num\">6&nbsp;&nbsp;</span>设置随机梯度下降</a></span></li><li><span><a href=\"#初始化所有参数\" data-toc-modified-id=\"初始化所有参数-7\"><span class=\"toc-item-num\">7&nbsp;&nbsp;</span>初始化所有参数</a></span></li><li><span><a href=\"#进行train\" data-toc-modified-id=\"进行train-8\"><span class=\"toc-item-num\">8&nbsp;&nbsp;</span>进行train</a></span></li><li><span><a href=\"#评价\" data-toc-modified-id=\"评价-9\"><span class=\"toc-item-num\">9&nbsp;&nbsp;</span>评价</a></span></li><li><span><a href=\"#多层隐层\" data-toc-modified-id=\"多层隐层-10\"><span class=\"toc-item-num\">10&nbsp;&nbsp;</span>多层隐层</a></span></li><li><span><a href=\"#结论\" data-toc-modified-id=\"结论-11\"><span class=\"toc-item-num\">11&nbsp;&nbsp;</span>结论</a></span></li></ul></div>"
   ]
  },
  {
   "cell_type": "markdown",
   "metadata": {},
   "source": [
    "## 导入工具包"
   ]
  },
  {
   "cell_type": "code",
   "execution_count": 1,
   "metadata": {
    "ExecuteTime": {
     "end_time": "2018-03-23T09:24:29.167665Z",
     "start_time": "2018-03-23T09:24:24.434330Z"
    }
   },
   "outputs": [],
   "source": [
    "\"\"\"A very simple MNIST classifier.\n",
    "See extensive documentation at\n",
    "https://www.tensorflow.org/get_started/mnist/beginners\n",
    "\"\"\"\n",
    "#from __future__ import absolute_import\n",
    "#from __future__ import division\n",
    "#from __future__ import print_function\n",
    "\n",
    "import argparse\n",
    "import sys\n",
    "\n",
    "from tensorflow.examples.tutorials.mnist import input_data\n",
    "\n",
    "import tensorflow as tf\n",
    "\n",
    "FLAGS = None\n"
   ]
  },
  {
   "cell_type": "markdown",
   "metadata": {},
   "source": [
    "## 导入数据"
   ]
  },
  {
   "cell_type": "code",
   "execution_count": 2,
   "metadata": {
    "ExecuteTime": {
     "end_time": "2018-03-23T09:24:30.213899Z",
     "start_time": "2018-03-23T09:24:29.172168Z"
    }
   },
   "outputs": [
    {
     "name": "stdout",
     "output_type": "stream",
     "text": [
      "Extracting E:/AI/00/data/Mnist/input_data\\train-images-idx3-ubyte.gz\n",
      "Extracting E:/AI/00/data/Mnist/input_data\\train-labels-idx1-ubyte.gz\n",
      "Extracting E:/AI/00/data/Mnist/input_data\\t10k-images-idx3-ubyte.gz\n",
      "Extracting E:/AI/00/data/Mnist/input_data\\t10k-labels-idx1-ubyte.gz\n"
     ]
    }
   ],
   "source": [
    "# Import data\n",
    "data_dir = 'E:/AI/00/data/Mnist/input_data'\n",
    "mnist = input_data.read_data_sets(data_dir, one_hot=True)"
   ]
  },
  {
   "cell_type": "markdown",
   "metadata": {
    "ExecuteTime": {
     "end_time": "2018-03-23T01:14:41.317119Z",
     "start_time": "2018-03-23T01:14:41.314117Z"
    }
   },
   "source": [
    "## 初始化模型参数"
   ]
  },
  {
   "cell_type": "code",
   "execution_count": 3,
   "metadata": {
    "ExecuteTime": {
     "end_time": "2018-03-23T09:24:30.277442Z",
     "start_time": "2018-03-23T09:24:30.217902Z"
    }
   },
   "outputs": [],
   "source": [
    "# Create the model\n",
    "x = tf.placeholder(tf.float32, [None, 784])\n",
    "W1 = tf.Variable(tf.random_normal([784,100],stddev=0.1,seed=66))\n",
    "#用一个较小的正数来初始化偏置项, \n",
    "#[784,100]中的100是隐层权重矩阵的列数,大小随意\n",
    "#[784,100]中的784是为了与x中的[None,784]保持一致\n",
    "b1 = tf.Variable(tf.zeros([100]))\n",
    "#[100]同[784,100]中的100保持一致\n",
    "W2 = tf.Variable(tf.zeros([100, 10]))\n",
    "#[100,10]中的100同[784,100]中的100保持一致\n",
    "#[100,10]中的10同最终输出10中的10保持一致\n",
    "b2 = tf.Variable(tf.zeros([10]))\n",
    "#[10]同[100,10]中的10保持一致"
   ]
  },
  {
   "cell_type": "markdown",
   "metadata": {},
   "source": [
    "## 添加隐层"
   ]
  },
  {
   "cell_type": "code",
   "execution_count": 4,
   "metadata": {
    "ExecuteTime": {
     "end_time": "2018-03-23T09:24:30.296454Z",
     "start_time": "2018-03-23T09:24:30.280944Z"
    }
   },
   "outputs": [],
   "source": [
    "# Define loss and optimizer\n",
    "hidden1=tf.nn.sigmoid(tf.matmul(x,W1)+b1)  #这里使用传统的Sigmoid非线性激活函数\n",
    "y = tf.matmul(hidden1, W2) + b2\n",
    "y_ = tf.placeholder(tf.float32, [None, 10])"
   ]
  },
  {
   "cell_type": "markdown",
   "metadata": {},
   "source": [
    "## 定义交叉熵"
   ]
  },
  {
   "cell_type": "code",
   "execution_count": 5,
   "metadata": {
    "ExecuteTime": {
     "end_time": "2018-03-23T09:24:30.347488Z",
     "start_time": "2018-03-23T09:24:30.299956Z"
    }
   },
   "outputs": [],
   "source": [
    "cross_entropy = tf.reduce_mean(\n",
    "    tf.nn.softmax_cross_entropy_with_logits_v2(labels=y_, logits=y))"
   ]
  },
  {
   "cell_type": "markdown",
   "metadata": {},
   "source": [
    "## 设置随机梯度下降"
   ]
  },
  {
   "cell_type": "code",
   "execution_count": 6,
   "metadata": {
    "ExecuteTime": {
     "end_time": "2018-03-23T09:24:30.427041Z",
     "start_time": "2018-03-23T09:24:30.350991Z"
    }
   },
   "outputs": [],
   "source": [
    "train_step = tf.train.GradientDescentOptimizer(0.5).minimize(cross_entropy)"
   ]
  },
  {
   "cell_type": "markdown",
   "metadata": {},
   "source": [
    "## 初始化所有参数"
   ]
  },
  {
   "cell_type": "code",
   "execution_count": 7,
   "metadata": {
    "ExecuteTime": {
     "end_time": "2018-03-23T09:24:30.464565Z",
     "start_time": "2018-03-23T09:24:30.429543Z"
    }
   },
   "outputs": [],
   "source": [
    "sess = tf.Session()\n",
    "init_op = tf.global_variables_initializer()\n",
    "sess.run(init_op)"
   ]
  },
  {
   "cell_type": "markdown",
   "metadata": {},
   "source": [
    "## 进行train"
   ]
  },
  {
   "cell_type": "code",
   "execution_count": 8,
   "metadata": {
    "ExecuteTime": {
     "end_time": "2018-03-23T09:25:22.660874Z",
     "start_time": "2018-03-23T09:24:30.467567Z"
    }
   },
   "outputs": [],
   "source": [
    "# Train\n",
    "acc=dict()\n",
    "correct_prediction = tf.equal(tf.argmax(y, 1), tf.argmax(y_, 1))\n",
    "accuracy = tf.reduce_mean(tf.cast(correct_prediction, tf.float32))\n",
    "\n",
    "for _ in range(20000):\n",
    "    batch_xs, batch_ys = mnist.train.next_batch(100)\n",
    "    sess.run(train_step, feed_dict={x: batch_xs, y_: batch_ys})\n",
    "    if _ %300==0:\n",
    "        acc[_]=sess.run(accuracy, feed_dict={x: mnist.test.images,\n",
    "                                    y_: mnist.test.labels})\n"
   ]
  },
  {
   "cell_type": "markdown",
   "metadata": {},
   "source": [
    "验证我们模型在测试数据上的准确率"
   ]
  },
  {
   "cell_type": "markdown",
   "metadata": {},
   "source": [
    "## 评价"
   ]
  },
  {
   "cell_type": "code",
   "execution_count": 9,
   "metadata": {
    "ExecuteTime": {
     "end_time": "2018-03-23T09:25:23.091808Z",
     "start_time": "2018-03-23T09:25:22.665379Z"
    }
   },
   "outputs": [
    {
     "data": {
      "text/plain": [
       "<Figure size 640x480 with 1 Axes>"
      ]
     },
     "metadata": {},
     "output_type": "display_data"
    }
   ],
   "source": [
    "import matplotlib.pyplot as plt\n",
    "del(acc[0])\n",
    "plt.plot(acc.keys(),acc.values())\n",
    "plt.show()"
   ]
  },
  {
   "cell_type": "code",
   "execution_count": 18,
   "metadata": {
    "ExecuteTime": {
     "end_time": "2018-03-23T09:34:58.090753Z",
     "start_time": "2018-03-23T09:34:57.939514Z"
    }
   },
   "outputs": [
    {
     "data": {
      "image/png": "[encoded data removed]",
      "text/plain": [
       "<Figure size 432x288 with 1 Axes>"
      ]
     },
     "metadata": {},
     "output_type": "display_data"
    }
   ],
   "source": [
    "plt.plot(acc.keys(),acc.values())\n",
    "plt.show()"
   ]
  },
  {
   "cell_type": "code",
   "execution_count": 19,
   "metadata": {
    "ExecuteTime": {
     "end_time": "2018-03-23T09:37:25.853259Z",
     "start_time": "2018-03-23T09:37:25.843252Z"
    }
   },
   "outputs": [
    {
     "data": {
      "text/plain": [
       "{300: 0.8981,\n",
       " 600: 0.9185,\n",
       " 900: 0.9261,\n",
       " 1200: 0.9314,\n",
       " 1500: 0.9397,\n",
       " 1800: 0.9452,\n",
       " 2100: 0.9458,\n",
       " 2400: 0.95,\n",
       " 2700: 0.9529,\n",
       " 3000: 0.9544,\n",
       " 3300: 0.9567,\n",
       " 3600: 0.961,\n",
       " 3900: 0.9616,\n",
       " 4200: 0.9611,\n",
       " 4500: 0.9639,\n",
       " 4800: 0.9648,\n",
       " 5100: 0.9664,\n",
       " 5400: 0.9668,\n",
       " 5700: 0.9659,\n",
       " 6000: 0.9677,\n",
       " 6300: 0.9681,\n",
       " 6600: 0.9687,\n",
       " 6900: 0.9707,\n",
       " 7200: 0.9702,\n",
       " 7500: 0.9705,\n",
       " 7800: 0.9698,\n",
       " 8100: 0.9704,\n",
       " 8400: 0.9715,\n",
       " 8700: 0.9732,\n",
       " 9000: 0.972,\n",
       " 9300: 0.9737,\n",
       " 9600: 0.9719,\n",
       " 9900: 0.9717,\n",
       " 10200: 0.9744,\n",
       " 10500: 0.9746,\n",
       " 10800: 0.9745,\n",
       " 11100: 0.975,\n",
       " 11400: 0.9757,\n",
       " 11700: 0.9755,\n",
       " 12000: 0.9754,\n",
       " 12300: 0.9752,\n",
       " 12600: 0.9769,\n",
       " 12900: 0.9768,\n",
       " 13200: 0.9762,\n",
       " 13500: 0.9757,\n",
       " 13800: 0.9764,\n",
       " 14100: 0.9751,\n",
       " 14400: 0.9767,\n",
       " 14700: 0.977,\n",
       " 15000: 0.9766,\n",
       " 15300: 0.9775,\n",
       " 15600: 0.9775,\n",
       " 15900: 0.9773,\n",
       " 16200: 0.9782,\n",
       " 16500: 0.9778,\n",
       " 16800: 0.9772,\n",
       " 17100: 0.9772,\n",
       " 17400: 0.9777,\n",
       " 17700: 0.9794,\n",
       " 18000: 0.9785,\n",
       " 18300: 0.9776,\n",
       " 18600: 0.9785,\n",
       " 18900: 0.9779,\n",
       " 19200: 0.9788,\n",
       " 19500: 0.9802,\n",
       " 19800: 0.9792}"
      ]
     },
     "execution_count": 19,
     "metadata": {},
     "output_type": "execute_result"
    }
   ],
   "source": [
    "acc"
   ]
  },
  {
   "cell_type": "markdown",
   "metadata": {},
   "source": [
    "毫无疑问，这个模型是一个非常简陋，性能也不理想的模型。目前只能达到92%左右的准确率。\n",
    "接下来，希望大家利用现有的知识，将这个模型优化至98%以上的准确率。\n",
    "Hint：\n",
    "- 多隐层`一层隐层后95%`\n",
    "- 激活函数\n",
    "- 正则化\n",
    "- 初始化\n",
    "- 摸索一下各个超参数\n",
    "  - 隐层神经元数量\n",
    "  - 学习率\n",
    "  - 正则化惩罚因子\n",
    "  - 最好每隔几个step就对loss、accuracy等等进行一次输出，这样才能有根据地进行调整"
   ]
  },
  {
   "cell_type": "markdown",
   "metadata": {},
   "source": [
    "## 多层隐层"
   ]
  },
  {
   "cell_type": "code",
   "execution_count": 10,
   "metadata": {
    "ExecuteTime": {
     "end_time": "2018-03-23T09:25:23.220394Z",
     "start_time": "2018-03-23T09:25:23.095811Z"
    }
   },
   "outputs": [],
   "source": [
    "# Create the model\n",
    "x = tf.placeholder(tf.float32, [None, 784])\n",
    "W1 = tf.Variable(tf.truncated_normal([784,100],stddev=0.1))\n",
    "b1 = tf.Variable(tf.zeros([100]))\n",
    "W2 = tf.Variable(tf.truncated_normal([100,100],stddev=0.1))\n",
    "b2 = tf.Variable(tf.zeros([100]))\n",
    "W3 = tf.Variable(tf.truncated_normal([100,100],stddev=0.1))\n",
    "b3 = tf.Variable(tf.zeros([100]))\n",
    "W4 = tf.Variable(tf.truncated_normal([100,100],stddev=0.1))\n",
    "b4 = tf.Variable(tf.zeros([100]))\n",
    "W5 = tf.Variable(tf.zeros([100, 10]))\n",
    "b5 = tf.Variable(tf.zeros([10]))"
   ]
  },
  {
   "cell_type": "code",
   "execution_count": 11,
   "metadata": {
    "ExecuteTime": {
     "end_time": "2018-03-23T09:25:23.256919Z",
     "start_time": "2018-03-23T09:25:23.225898Z"
    }
   },
   "outputs": [],
   "source": [
    "# 添加隐层\n",
    "hidden1 = tf.nn.sigmoid(tf.matmul(x,W1)+b1)\n",
    "hidden2 = tf.nn.relu(tf.matmul(hidden1,W2)+b2)\n",
    "hidden3 = tf.nn.relu6(tf.matmul(hidden2,W3)+b3)\n",
    "hidden4 = tf.nn.tanh(tf.matmul(hidden3,W4)+b4)\n",
    "y = tf.matmul(hidden4, W5) + b5\n",
    "y_ = tf.placeholder(tf.float32, [None, 10])"
   ]
  },
  {
   "cell_type": "code",
   "execution_count": 12,
   "metadata": {
    "ExecuteTime": {
     "end_time": "2018-03-23T09:25:23.303949Z",
     "start_time": "2018-03-23T09:25:23.263923Z"
    }
   },
   "outputs": [],
   "source": [
    "cross_entropy = tf.reduce_mean(\n",
    "    tf.nn.softmax_cross_entropy_with_logits_v2(labels=y_, logits=y))"
   ]
  },
  {
   "cell_type": "code",
   "execution_count": 13,
   "metadata": {
    "ExecuteTime": {
     "end_time": "2018-03-23T09:25:23.491573Z",
     "start_time": "2018-03-23T09:25:23.307952Z"
    }
   },
   "outputs": [],
   "source": [
    "train_step = tf.train.GradientDescentOptimizer(0.5).minimize(cross_entropy)"
   ]
  },
  {
   "cell_type": "code",
   "execution_count": 14,
   "metadata": {
    "ExecuteTime": {
     "end_time": "2018-03-23T09:25:23.572126Z",
     "start_time": "2018-03-23T09:25:23.495576Z"
    }
   },
   "outputs": [],
   "source": [
    "sess = tf.Session()\n",
    "init_op = tf.global_variables_initializer()\n",
    "sess.run(init_op)"
   ]
  },
  {
   "cell_type": "code",
   "execution_count": 15,
   "metadata": {
    "ExecuteTime": {
     "end_time": "2018-03-23T09:25:36.635983Z",
     "start_time": "2018-03-23T09:25:23.575630Z"
    }
   },
   "outputs": [],
   "source": [
    "# Train\n",
    "for _ in range(3000):\n",
    "  batch_xs, batch_ys = mnist.train.next_batch(100)\n",
    "  sess.run(train_step, feed_dict={x: batch_xs, y_: batch_ys})"
   ]
  },
  {
   "cell_type": "code",
   "execution_count": 16,
   "metadata": {
    "ExecuteTime": {
     "end_time": "2018-03-23T09:25:36.754061Z",
     "start_time": "2018-03-23T09:25:36.639985Z"
    }
   },
   "outputs": [
    {
     "name": "stdout",
     "output_type": "stream",
     "text": [
      "0.9698\n"
     ]
    }
   ],
   "source": [
    "# Test trained model\n",
    "correct_prediction = tf.equal(tf.argmax(y, 1), tf.argmax(y_, 1))\n",
    "accuracy = tf.reduce_mean(tf.cast(correct_prediction, tf.float32))\n",
    "print(sess.run(accuracy, feed_dict={x: mnist.test.images,\n",
    "                                      y_: mnist.test.labels}))"
   ]
  },
  {
   "cell_type": "markdown",
   "metadata": {},
   "source": [
    "四层隐层之后,正确率达到96%"
   ]
  },
  {
   "cell_type": "markdown",
   "metadata": {},
   "source": [
    "## 结论"
   ]
  },
  {
   "cell_type": "markdown",
   "metadata": {
    "ExecuteTime": {
     "end_time": "2018-03-23T03:47:53.024407Z",
     "start_time": "2018-03-23T03:47:52.999385Z"
    }
   },
   "source": [
    "应当加隐层"
   ]
  },
  {
   "cell_type": "code",
   "execution_count": null,
   "metadata": {},
   "outputs": [],
   "source": []
  }
 ],
 "metadata": {
  "kernelspec": {
   "display_name": "Python 3",
   "language": "python",
   "name": "python3"
  },
  "language_info": {
   "codemirror_mode": {
    "name": "ipython",
    "version": 3
   },
   "file_extension": ".py",
   "mimetype": "text/x-python",
   "name": "python",
   "nbconvert_exporter": "python",
   "pygments_lexer": "ipython3",
   "version": "3.6.4"
  },
  "toc": {
   "nav_menu": {},
   "number_sections": true,
   "sideBar": true,
   "skip_h1_title": false,
   "title_cell": "Mnist 多层感知器版",
   "title_sidebar": "添加隐层",
   "toc_cell": true,
   "toc_position": {},
   "toc_section_display": true,
   "toc_window_display": false
  }
 },
 "nbformat": 4,
 "nbformat_minor": 2
}
