{
 "cells": [
  {
   "cell_type": "markdown",
   "metadata": {
    "toc": true
   },
   "source": [
    "<h1>Mnist 感知器版加正则<span class=\"tocSkip\"></span></h1>\n",
    "<div class=\"toc\"><ul class=\"toc-item\"><li><span><a href=\"#导入工具包\" data-toc-modified-id=\"导入工具包-1\"><span class=\"toc-item-num\">1&nbsp;&nbsp;</span>导入工具包</a></span></li><li><span><a href=\"#导入数据\" data-toc-modified-id=\"导入数据-2\"><span class=\"toc-item-num\">2&nbsp;&nbsp;</span>导入数据</a></span></li><li><span><a href=\"#初始化模型参数\" data-toc-modified-id=\"初始化模型参数-3\"><span class=\"toc-item-num\">3&nbsp;&nbsp;</span>初始化模型参数</a></span></li><li><span><a href=\"#定义交叉熵\" data-toc-modified-id=\"定义交叉熵-4\"><span class=\"toc-item-num\">4&nbsp;&nbsp;</span>定义交叉熵</a></span></li><li><span><a href=\"#设置随机梯度下降\" data-toc-modified-id=\"设置随机梯度下降-5\"><span class=\"toc-item-num\">5&nbsp;&nbsp;</span>设置随机梯度下降</a></span></li><li><span><a href=\"#初始化所有参数\" data-toc-modified-id=\"初始化所有参数-6\"><span class=\"toc-item-num\">6&nbsp;&nbsp;</span>初始化所有参数</a></span></li><li><span><a href=\"#进行train\" data-toc-modified-id=\"进行train-7\"><span class=\"toc-item-num\">7&nbsp;&nbsp;</span>进行train</a></span></li><li><span><a href=\"#评价\" data-toc-modified-id=\"评价-8\"><span class=\"toc-item-num\">8&nbsp;&nbsp;</span>评价</a></span></li><li><span><a href=\"#加隐层,加正则\" data-toc-modified-id=\"加隐层,加正则-9\"><span class=\"toc-item-num\">9&nbsp;&nbsp;</span>加隐层,加正则</a></span></li><li><span><a href=\"#结论\" data-toc-modified-id=\"结论-10\"><span class=\"toc-item-num\">10&nbsp;&nbsp;</span>结论</a></span></li><li><span><a href=\"#定义交叉熵\" data-toc-modified-id=\"定义交叉熵-11\"><span class=\"toc-item-num\">11&nbsp;&nbsp;</span>定义交叉熵</a></span></li></ul></div>"
   ]
  },
  {
   "cell_type": "markdown",
   "metadata": {},
   "source": [
    "## 导入工具包"
   ]
  },
  {
   "cell_type": "code",
   "execution_count": 1,
   "metadata": {
    "ExecuteTime": {
     "end_time": "2018-04-02T00:15:30.800356Z",
     "start_time": "2018-04-02T00:15:27.603914Z"
    }
   },
   "outputs": [],
   "source": [
    "\"\"\"A very simple MNIST classifier.\n",
    "See extensive documentation at\n",
    "https://www.tensorflow.org/get_started/mnist/beginners\n",
    "\"\"\"\n",
    "#from __future__ import absolute_import\n",
    "#from __future__ import division\n",
    "#from __future__ import print_function\n",
    "\n",
    "import argparse\n",
    "import sys\n",
    "\n",
    "from tensorflow.examples.tutorials.mnist import input_data\n",
    "\n",
    "import tensorflow as tf\n",
    "\n",
    "import matplotlib.pyplot as plt\n",
    "import pandas as pd\n",
    "import numpy as np\n",
    "\n",
    "FLAGS = None\n"
   ]
  },
  {
   "cell_type": "markdown",
   "metadata": {},
   "source": [
    "## 导入数据"
   ]
  },
  {
   "cell_type": "code",
   "execution_count": 2,
   "metadata": {
    "ExecuteTime": {
     "end_time": "2018-04-02T00:15:31.514850Z",
     "start_time": "2018-04-02T00:15:30.802889Z"
    }
   },
   "outputs": [
    {
     "name": "stdout",
     "output_type": "stream",
     "text": [
      "Extracting E:/AI/00/data/Mnist/input_data\\train-images-idx3-ubyte.gz\n",
      "Extracting E:/AI/00/data/Mnist/input_data\\train-labels-idx1-ubyte.gz\n",
      "Extracting E:/AI/00/data/Mnist/input_data\\t10k-images-idx3-ubyte.gz\n",
      "Extracting E:/AI/00/data/Mnist/input_data\\t10k-labels-idx1-ubyte.gz\n"
     ]
    }
   ],
   "source": [
    "# Import data\n",
    "data_dir = 'E:/AI/00/data/Mnist/input_data'\n",
    "mnist = input_data.read_data_sets(data_dir, one_hot=True)"
   ]
  },
  {
   "cell_type": "markdown",
   "metadata": {
    "ExecuteTime": {
     "end_time": "2018-03-23T01:14:41.317119Z",
     "start_time": "2018-03-23T01:14:41.314117Z"
    }
   },
   "source": [
    "## 初始化模型参数"
   ]
  },
  {
   "cell_type": "code",
   "execution_count": 3,
   "metadata": {
    "ExecuteTime": {
     "end_time": "2018-04-02T00:16:14.459586Z",
     "start_time": "2018-04-02T00:16:14.386265Z"
    }
   },
   "outputs": [],
   "source": [
    "# Create the model\n",
    "x = tf.placeholder(tf.float32, [None, 784])\n",
    "W1 = tf.Variable(tf.truncated_normal([784,100],stddev=0.1))\n",
    "b1 = tf.Variable(tf.zeros([100]))\n",
    "W2 = tf.Variable(tf.truncated_normal([100,100],stddev=0.1))\n",
    "b2 = tf.Variable(tf.zeros([100]))\n",
    "W3 = tf.Variable(tf.truncated_normal([100,100],stddev=0.1))\n",
    "b3 = tf.Variable(tf.zeros([100]))\n",
    "W4 = tf.Variable(tf.truncated_normal([100,100],stddev=0.1))\n",
    "b4 = tf.Variable(tf.zeros([100]))\n",
    "W5 = tf.Variable(tf.zeros([100, 10]))\n",
    "b5 = tf.Variable(tf.zeros([10]))"
   ]
  },
  {
   "cell_type": "code",
   "execution_count": 4,
   "metadata": {
    "ExecuteTime": {
     "end_time": "2018-04-02T00:16:14.990620Z",
     "start_time": "2018-04-02T00:16:14.969100Z"
    }
   },
   "outputs": [],
   "source": [
    "# 添加隐层\n",
    "hidden1 = tf.nn.sigmoid(tf.matmul(x,W1)+b1)\n",
    "hidden2 = tf.nn.relu(tf.matmul(hidden1,W2)+b2)\n",
    "hidden3 = tf.nn.relu6(tf.matmul(hidden2,W3)+b3)\n",
    "hidden4 = tf.nn.tanh(tf.matmul(hidden3,W4)+b4)\n",
    "y = tf.matmul(hidden4, W5) + b5\n",
    "y_ = tf.placeholder(tf.float32, [None, 10])"
   ]
  },
  {
   "cell_type": "markdown",
   "metadata": {},
   "source": [
    "## 定义交叉熵"
   ]
  },
  {
   "cell_type": "code",
   "execution_count": 7,
   "metadata": {
    "ExecuteTime": {
     "end_time": "2018-04-02T00:17:07.765903Z",
     "start_time": "2018-04-02T00:17:07.731881Z"
    }
   },
   "outputs": [],
   "source": [
    "cross_entropy = tf.reduce_mean(\n",
    "    tf.nn.softmax_cross_entropy_with_logits_v2(labels=y_, logits=y))\\\n",
    "    +tf.contrib.layers.l1_regularizer(0.001)(W1,b1)"
   ]
  },
  {
   "cell_type": "markdown",
   "metadata": {},
   "source": [
    "## 设置随机梯度下降"
   ]
  },
  {
   "cell_type": "code",
   "execution_count": 8,
   "metadata": {
    "ExecuteTime": {
     "end_time": "2018-04-02T00:17:12.836438Z",
     "start_time": "2018-04-02T00:17:12.711730Z"
    }
   },
   "outputs": [],
   "source": [
    "train_step = tf.train.GradientDescentOptimizer(0.5).minimize(cross_entropy)"
   ]
  },
  {
   "cell_type": "markdown",
   "metadata": {},
   "source": [
    "## 初始化所有参数"
   ]
  },
  {
   "cell_type": "code",
   "execution_count": 9,
   "metadata": {
    "ExecuteTime": {
     "end_time": "2018-04-02T00:17:16.311001Z",
     "start_time": "2018-04-02T00:17:16.264968Z"
    }
   },
   "outputs": [],
   "source": [
    "sess = tf.Session()\n",
    "init_op = tf.global_variables_initializer()\n",
    "sess.run(init_op)"
   ]
  },
  {
   "cell_type": "markdown",
   "metadata": {},
   "source": [
    "## 进行train"
   ]
  },
  {
   "cell_type": "code",
   "execution_count": 10,
   "metadata": {
    "ExecuteTime": {
     "end_time": "2018-04-02T00:18:48.553720Z",
     "start_time": "2018-04-02T00:17:21.536551Z"
    }
   },
   "outputs": [],
   "source": [
    "# 开始训练,Train\n",
    "\n",
    "# 设置正确率计算公式\n",
    "correct_prediction = tf.equal(tf.argmax(y, 1), tf.argmax(y_, 1))\n",
    "accuracy = tf.reduce_mean(tf.cast(correct_prediction, tf.float32))\n",
    "\n",
    "a_ce={'train':[],'test':[],'c_e':[]}#用于存放正确率和交叉熵\n",
    "#{'acc': accuracy, 'c_e': cross_entropy}\n",
    "for _ in range(20000):\n",
    "    # 每次获取小批量的数据\n",
    "    batch_xs, batch_ys = mnist.train.next_batch(100)\n",
    "    # 执行train_step\n",
    "    sess.run(train_step, feed_dict={x: batch_xs, y_: batch_ys})\n",
    "    if _ %300==0:\n",
    "        #将正确率和交叉熵分别添加进各自的list\n",
    "        a_ce['train'].append(sess.run(accuracy, feed_dict={x: mnist.test.images,y_: mnist.test.labels}))\n",
    "        a_ce['c_e'].append(sess.run(cross_entropy, feed_dict={x: mnist.test.images,y_: mnist.test.labels}))\n",
    "        a_ce['test'].append(sess.run(accuracy, feed_dict={x: mnist.train.images,y_: mnist.train.labels}))"
   ]
  },
  {
   "cell_type": "markdown",
   "metadata": {},
   "source": [
    "## 评价"
   ]
  },
  {
   "cell_type": "code",
   "execution_count": 11,
   "metadata": {
    "ExecuteTime": {
     "end_time": "2018-04-02T00:18:48.566293Z",
     "start_time": "2018-04-02T00:18:48.553720Z"
    }
   },
   "outputs": [],
   "source": [
    "# 将得到的正确率和交叉熵转换成DataFrame\n",
    "df=pd.DataFrame(data=a_ce,index=[x for x in range(20000) if x%300==0])\n",
    "# 删除前几列的异常点\n",
    "df.drop([0,300,600,900],inplace=True)"
   ]
  },
  {
   "cell_type": "code",
   "execution_count": 12,
   "metadata": {
    "ExecuteTime": {
     "end_time": "2018-04-02T00:18:48.861668Z",
     "start_time": "2018-04-02T00:18:48.568294Z"
    }
   },
   "outputs": [
    {
     "data": {
      "image/png": "[encoded data removed]",
      "text/plain": [
       "<Figure size 432x288 with 2 Axes>"
      ]
     },
     "metadata": {},
     "output_type": "display_data"
    }
   ],
   "source": [
    "# 绘图\n",
    "\n",
    "# 子图一: 正确率\n",
    "ax1 = plt.figure().add_subplot(111)\n",
    "ax1.plot(df['train'], label='train', color='b')\n",
    "ax1.plot(df['test'], label='test', color='g')\n",
    "ax1.plot([1000,20000], [0.98,0.98], label='0.98', color='y')\n",
    "#ax1.set_ylim([0.970, 0.984])\n",
    "ax1.set_ylabel('accuracy')\n",
    "ax1.legend(loc=4)\n",
    "\n",
    "# 子图一: 交叉熵\n",
    "ax2 = ax1.twinx()  \n",
    "ax2.plot(df['c_e'],label='cross_entropy', color='r')\n",
    "#ax2.set_ylim([0.072, 0.100])\n",
    "ax2.set_ylabel('cross_entropy')\n",
    "ax2.legend(loc=8)\n",
    "\n",
    "plt.grid(True, linestyle = \"-\")\n",
    "plt.show()"
   ]
  },
  {
   "cell_type": "code",
   "execution_count": 13,
   "metadata": {
    "ExecuteTime": {
     "end_time": "2018-04-02T00:20:03.746802Z",
     "start_time": "2018-04-02T00:20:03.711273Z"
    }
   },
   "outputs": [
    {
     "data": {
      "text/html": [
       "<div>\n",
       "<style scoped>\n",
       "    .dataframe tbody tr th:only-of-type {\n",
       "        vertical-align: middle;\n",
       "    }\n",
       "\n",
       "    .dataframe tbody tr th {\n",
       "        vertical-align: top;\n",
       "    }\n",
       "\n",
       "    .dataframe thead th {\n",
       "        text-align: right;\n",
       "    }\n",
       "</style>\n",
       "<table border=\"1\" class=\"dataframe\">\n",
       "  <thead>\n",
       "    <tr style=\"text-align: right;\">\n",
       "      <th></th>\n",
       "      <th>1200</th>\n",
       "      <th>1500</th>\n",
       "      <th>1800</th>\n",
       "      <th>2100</th>\n",
       "      <th>2400</th>\n",
       "      <th>2700</th>\n",
       "      <th>3000</th>\n",
       "      <th>3300</th>\n",
       "      <th>3600</th>\n",
       "      <th>3900</th>\n",
       "      <th>...</th>\n",
       "      <th>17100</th>\n",
       "      <th>17400</th>\n",
       "      <th>17700</th>\n",
       "      <th>18000</th>\n",
       "      <th>18300</th>\n",
       "      <th>18600</th>\n",
       "      <th>18900</th>\n",
       "      <th>19200</th>\n",
       "      <th>19500</th>\n",
       "      <th>19800</th>\n",
       "    </tr>\n",
       "  </thead>\n",
       "  <tbody>\n",
       "    <tr>\n",
       "      <th>c_e</th>\n",
       "      <td>0.718731</td>\n",
       "      <td>1.414079</td>\n",
       "      <td>0.608937</td>\n",
       "      <td>0.626576</td>\n",
       "      <td>0.637680</td>\n",
       "      <td>0.530968</td>\n",
       "      <td>0.526933</td>\n",
       "      <td>0.554894</td>\n",
       "      <td>0.590067</td>\n",
       "      <td>0.566176</td>\n",
       "      <td>...</td>\n",
       "      <td>0.550733</td>\n",
       "      <td>0.413951</td>\n",
       "      <td>0.388612</td>\n",
       "      <td>0.404952</td>\n",
       "      <td>0.427135</td>\n",
       "      <td>0.486677</td>\n",
       "      <td>0.464689</td>\n",
       "      <td>0.444286</td>\n",
       "      <td>0.389220</td>\n",
       "      <td>0.379660</td>\n",
       "    </tr>\n",
       "    <tr>\n",
       "      <th>test</th>\n",
       "      <td>0.889182</td>\n",
       "      <td>0.662600</td>\n",
       "      <td>0.898509</td>\n",
       "      <td>0.890182</td>\n",
       "      <td>0.880236</td>\n",
       "      <td>0.918073</td>\n",
       "      <td>0.919145</td>\n",
       "      <td>0.906455</td>\n",
       "      <td>0.896764</td>\n",
       "      <td>0.912018</td>\n",
       "      <td>...</td>\n",
       "      <td>0.925200</td>\n",
       "      <td>0.952109</td>\n",
       "      <td>0.949782</td>\n",
       "      <td>0.952564</td>\n",
       "      <td>0.945655</td>\n",
       "      <td>0.919327</td>\n",
       "      <td>0.937600</td>\n",
       "      <td>0.940564</td>\n",
       "      <td>0.953582</td>\n",
       "      <td>0.952218</td>\n",
       "    </tr>\n",
       "    <tr>\n",
       "      <th>train</th>\n",
       "      <td>0.893200</td>\n",
       "      <td>0.660400</td>\n",
       "      <td>0.900900</td>\n",
       "      <td>0.896200</td>\n",
       "      <td>0.878000</td>\n",
       "      <td>0.919900</td>\n",
       "      <td>0.920100</td>\n",
       "      <td>0.911200</td>\n",
       "      <td>0.894400</td>\n",
       "      <td>0.910200</td>\n",
       "      <td>...</td>\n",
       "      <td>0.926200</td>\n",
       "      <td>0.947800</td>\n",
       "      <td>0.945900</td>\n",
       "      <td>0.949800</td>\n",
       "      <td>0.940400</td>\n",
       "      <td>0.918800</td>\n",
       "      <td>0.934900</td>\n",
       "      <td>0.932900</td>\n",
       "      <td>0.949700</td>\n",
       "      <td>0.946500</td>\n",
       "    </tr>\n",
       "  </tbody>\n",
       "</table>\n",
       "<p>3 rows × 63 columns</p>\n",
       "</div>"
      ],
      "text/plain": [
       "          1200      1500      1800      2100      2400      2700      3000   \\\n",
       "c_e    0.718731  1.414079  0.608937  0.626576  0.637680  0.530968  0.526933   \n",
       "test   0.889182  0.662600  0.898509  0.890182  0.880236  0.918073  0.919145   \n",
       "train  0.893200  0.660400  0.900900  0.896200  0.878000  0.919900  0.920100   \n",
       "\n",
       "          3300      3600      3900     ...        17100     17400     17700  \\\n",
       "c_e    0.554894  0.590067  0.566176    ...     0.550733  0.413951  0.388612   \n",
       "test   0.906455  0.896764  0.912018    ...     0.925200  0.952109  0.949782   \n",
       "train  0.911200  0.894400  0.910200    ...     0.926200  0.947800  0.945900   \n",
       "\n",
       "          18000     18300     18600     18900     19200     19500     19800  \n",
       "c_e    0.404952  0.427135  0.486677  0.464689  0.444286  0.389220  0.379660  \n",
       "test   0.952564  0.945655  0.919327  0.937600  0.940564  0.953582  0.952218  \n",
       "train  0.949800  0.940400  0.918800  0.934900  0.932900  0.949700  0.946500  \n",
       "\n",
       "[3 rows x 63 columns]"
      ]
     },
     "execution_count": 13,
     "metadata": {},
     "output_type": "execute_result"
    }
   ],
   "source": [
    "df.T"
   ]
  },
  {
   "cell_type": "markdown",
   "metadata": {},
   "source": [
    "毫无疑问，这个模型是一个非常简陋，性能也不理想的模型。目前只能达到92%左右的准确率。\n",
    "接下来，希望大家利用现有的知识，将这个模型优化至98%以上的准确率。\n",
    "Hint：\n",
    "- 多隐层\n",
    "- 激活函数\n",
    "- 正则化**对W1和b1加正则,正确率为94%,下降了**\n",
    "- 初始化\n",
    "- 摸索一下各个超参数\n",
    "  - 隐层神经元数量\n",
    "  - 学习率\n",
    "  - 正则化惩罚因子\n",
    "  - 最好每隔几个step就对loss、accuracy等等进行一次输出，这样才能有根据地进行调整"
   ]
  },
  {
   "cell_type": "markdown",
   "metadata": {},
   "source": [
    "## 加隐层,加正则"
   ]
  },
  {
   "cell_type": "code",
   "execution_count": 19,
   "metadata": {
    "ExecuteTime": {
     "end_time": "2018-04-02T00:22:16.031487Z",
     "start_time": "2018-04-02T00:22:15.956931Z"
    }
   },
   "outputs": [],
   "source": [
    "# Create the model\n",
    "x = tf.placeholder(tf.float32, [None, 784])\n",
    "W1 = tf.Variable(tf.truncated_normal([784,100],stddev=0.1))\n",
    "b1 = tf.Variable(tf.zeros([100]))\n",
    "W2 = tf.Variable(tf.truncated_normal([100,100],stddev=0.1))\n",
    "b2 = tf.Variable(tf.zeros([100]))\n",
    "W3 = tf.Variable(tf.truncated_normal([100,100],stddev=0.1))\n",
    "b3 = tf.Variable(tf.zeros([100]))\n",
    "W4 = tf.Variable(tf.truncated_normal([100,100],stddev=0.1))\n",
    "b4 = tf.Variable(tf.zeros([100]))\n",
    "W5 = tf.Variable(tf.zeros([100, 10]))\n",
    "b5 = tf.Variable(tf.zeros([10]))"
   ]
  },
  {
   "cell_type": "code",
   "execution_count": 20,
   "metadata": {
    "ExecuteTime": {
     "end_time": "2018-04-02T00:22:16.331737Z",
     "start_time": "2018-04-02T00:22:16.308724Z"
    }
   },
   "outputs": [],
   "source": [
    "# 添加隐层\n",
    "hidden1 = tf.nn.sigmoid(tf.matmul(x,W1)+b1)\n",
    "hidden2 = tf.nn.relu(tf.matmul(hidden1,W2)+b2)\n",
    "hidden3 = tf.nn.relu6(tf.matmul(hidden2,W3)+b3)\n",
    "hidden4 = tf.nn.tanh(tf.matmul(hidden3,W4)+b4)\n",
    "y = tf.matmul(hidden4, W5) + b5\n",
    "y_ = tf.placeholder(tf.float32, [None, 10])"
   ]
  },
  {
   "cell_type": "code",
   "execution_count": 21,
   "metadata": {
    "ExecuteTime": {
     "end_time": "2018-04-02T00:22:16.771230Z",
     "start_time": "2018-04-02T00:22:16.725201Z"
    }
   },
   "outputs": [],
   "source": [
    "cross_entropy = tf.reduce_mean(\n",
    "    tf.nn.softmax_cross_entropy_with_logits_v2(labels=y_, logits=y))\\\n",
    "    +tf.contrib.layers.l1_regularizer(0.0001)(W1,b1)\\\n",
    "    +tf.contrib.layers.l1_regularizer(0.0001)(W2,b2)\\\n",
    "    +tf.contrib.layers.l1_regularizer(0.0001)(W3,b3)\\\n",
    "    +tf.contrib.layers.l1_regularizer(0.0001)(W4,b4)"
   ]
  },
  {
   "cell_type": "code",
   "execution_count": 22,
   "metadata": {
    "ExecuteTime": {
     "end_time": "2018-04-02T00:22:17.388360Z",
     "start_time": "2018-04-02T00:22:17.229017Z"
    }
   },
   "outputs": [],
   "source": [
    "train_step = tf.train.GradientDescentOptimizer(0.5).minimize(cross_entropy)"
   ]
  },
  {
   "cell_type": "code",
   "execution_count": 23,
   "metadata": {
    "ExecuteTime": {
     "end_time": "2018-04-02T00:22:17.906931Z",
     "start_time": "2018-04-02T00:22:17.812521Z"
    }
   },
   "outputs": [],
   "source": [
    "sess = tf.Session()\n",
    "init_op = tf.global_variables_initializer()\n",
    "sess.run(init_op)"
   ]
  },
  {
   "cell_type": "code",
   "execution_count": 24,
   "metadata": {
    "ExecuteTime": {
     "end_time": "2018-04-02T00:23:45.176602Z",
     "start_time": "2018-04-02T00:22:19.628296Z"
    }
   },
   "outputs": [],
   "source": [
    "# 开始训练,Train\n",
    "\n",
    "# 设置正确率计算公式\n",
    "correct_prediction = tf.equal(tf.argmax(y, 1), tf.argmax(y_, 1))\n",
    "accuracy = tf.reduce_mean(tf.cast(correct_prediction, tf.float32))\n",
    "\n",
    "a_ce={'train':[],'test':[],'c_e':[]}#用于存放正确率和交叉熵\n",
    "#{'acc': accuracy, 'c_e': cross_entropy}\n",
    "for _ in range(20000):\n",
    "    # 每次获取小批量的数据\n",
    "    batch_xs, batch_ys = mnist.train.next_batch(100)\n",
    "    # 执行train_step\n",
    "    sess.run(train_step, feed_dict={x: batch_xs, y_: batch_ys})\n",
    "    if _ %300==0:\n",
    "        #将正确率和交叉熵分别添加进各自的list\n",
    "        a_ce['train'].append(sess.run(accuracy, feed_dict={x: mnist.test.images,y_: mnist.test.labels}))\n",
    "        a_ce['c_e'].append(sess.run(cross_entropy, feed_dict={x: mnist.test.images,y_: mnist.test.labels}))\n",
    "        a_ce['test'].append(sess.run(accuracy, feed_dict={x: mnist.train.images,y_: mnist.train.labels}))"
   ]
  },
  {
   "cell_type": "code",
   "execution_count": 25,
   "metadata": {
    "ExecuteTime": {
     "end_time": "2018-04-02T00:23:45.190608Z",
     "start_time": "2018-04-02T00:23:45.179601Z"
    }
   },
   "outputs": [],
   "source": [
    "# 将得到的正确率和交叉熵转换成DataFrame\n",
    "df=pd.DataFrame(data=a_ce,index=[x for x in range(20000) if x%300==0])\n",
    "# 删除前几列的异常点\n",
    "df.drop([0,300,600,900],inplace=True)"
   ]
  },
  {
   "cell_type": "code",
   "execution_count": 26,
   "metadata": {
    "ExecuteTime": {
     "end_time": "2018-04-02T00:23:45.492856Z",
     "start_time": "2018-04-02T00:23:45.193109Z"
    }
   },
   "outputs": [
    {
     "data": {
      "image/png": "[encoded data removed]",
      "text/plain": [
       "<Figure size 432x288 with 2 Axes>"
      ]
     },
     "metadata": {},
     "output_type": "display_data"
    }
   ],
   "source": [
    "# 绘图\n",
    "\n",
    "# 子图一: 正确率\n",
    "ax1 = plt.figure().add_subplot(111)\n",
    "ax1.plot(df['train'], label='train', color='b')\n",
    "ax1.plot(df['test'], label='test', color='g')\n",
    "ax1.plot([1000,20000], [0.98,0.98], label='0.98', color='y')\n",
    "#ax1.set_ylim([0.970, 0.984])\n",
    "ax1.set_ylabel('accuracy')\n",
    "ax1.legend(loc=4)\n",
    "\n",
    "# 子图一: 交叉熵\n",
    "ax2 = ax1.twinx()  \n",
    "ax2.plot(df['c_e'],label='cross_entropy', color='r')\n",
    "#ax2.set_ylim([0.072, 0.100])\n",
    "ax2.set_ylabel('cross_entropy')\n",
    "ax2.legend(loc=8)\n",
    "\n",
    "plt.grid(True, linestyle = \"-\")\n",
    "plt.show()"
   ]
  },
  {
   "cell_type": "code",
   "execution_count": 27,
   "metadata": {
    "ExecuteTime": {
     "end_time": "2018-04-02T00:24:29.012621Z",
     "start_time": "2018-04-02T00:24:28.979546Z"
    }
   },
   "outputs": [
    {
     "data": {
      "text/html": [
       "<div>\n",
       "<style scoped>\n",
       "    .dataframe tbody tr th:only-of-type {\n",
       "        vertical-align: middle;\n",
       "    }\n",
       "\n",
       "    .dataframe tbody tr th {\n",
       "        vertical-align: top;\n",
       "    }\n",
       "\n",
       "    .dataframe thead th {\n",
       "        text-align: right;\n",
       "    }\n",
       "</style>\n",
       "<table border=\"1\" class=\"dataframe\">\n",
       "  <thead>\n",
       "    <tr style=\"text-align: right;\">\n",
       "      <th></th>\n",
       "      <th>1200</th>\n",
       "      <th>1500</th>\n",
       "      <th>1800</th>\n",
       "      <th>2100</th>\n",
       "      <th>2400</th>\n",
       "      <th>2700</th>\n",
       "      <th>3000</th>\n",
       "      <th>3300</th>\n",
       "      <th>3600</th>\n",
       "      <th>3900</th>\n",
       "      <th>...</th>\n",
       "      <th>17100</th>\n",
       "      <th>17400</th>\n",
       "      <th>17700</th>\n",
       "      <th>18000</th>\n",
       "      <th>18300</th>\n",
       "      <th>18600</th>\n",
       "      <th>18900</th>\n",
       "      <th>19200</th>\n",
       "      <th>19500</th>\n",
       "      <th>19800</th>\n",
       "    </tr>\n",
       "  </thead>\n",
       "  <tbody>\n",
       "    <tr>\n",
       "      <th>c_e</th>\n",
       "      <td>0.744276</td>\n",
       "      <td>0.548842</td>\n",
       "      <td>0.511727</td>\n",
       "      <td>0.440373</td>\n",
       "      <td>0.431909</td>\n",
       "      <td>0.367702</td>\n",
       "      <td>0.415811</td>\n",
       "      <td>0.340843</td>\n",
       "      <td>0.353145</td>\n",
       "      <td>0.312409</td>\n",
       "      <td>...</td>\n",
       "      <td>0.269970</td>\n",
       "      <td>0.240888</td>\n",
       "      <td>0.251977</td>\n",
       "      <td>0.249848</td>\n",
       "      <td>0.243487</td>\n",
       "      <td>0.239848</td>\n",
       "      <td>0.254448</td>\n",
       "      <td>0.232306</td>\n",
       "      <td>0.257102</td>\n",
       "      <td>0.239679</td>\n",
       "    </tr>\n",
       "    <tr>\n",
       "      <th>test</th>\n",
       "      <td>0.897855</td>\n",
       "      <td>0.951727</td>\n",
       "      <td>0.948418</td>\n",
       "      <td>0.957964</td>\n",
       "      <td>0.953018</td>\n",
       "      <td>0.964709</td>\n",
       "      <td>0.947745</td>\n",
       "      <td>0.966964</td>\n",
       "      <td>0.960000</td>\n",
       "      <td>0.971182</td>\n",
       "      <td>...</td>\n",
       "      <td>0.968673</td>\n",
       "      <td>0.978709</td>\n",
       "      <td>0.975982</td>\n",
       "      <td>0.975255</td>\n",
       "      <td>0.974564</td>\n",
       "      <td>0.980782</td>\n",
       "      <td>0.974764</td>\n",
       "      <td>0.981600</td>\n",
       "      <td>0.974291</td>\n",
       "      <td>0.979109</td>\n",
       "    </tr>\n",
       "    <tr>\n",
       "      <th>train</th>\n",
       "      <td>0.902800</td>\n",
       "      <td>0.947800</td>\n",
       "      <td>0.943400</td>\n",
       "      <td>0.957000</td>\n",
       "      <td>0.949300</td>\n",
       "      <td>0.961100</td>\n",
       "      <td>0.944400</td>\n",
       "      <td>0.964300</td>\n",
       "      <td>0.952100</td>\n",
       "      <td>0.965900</td>\n",
       "      <td>...</td>\n",
       "      <td>0.961900</td>\n",
       "      <td>0.971800</td>\n",
       "      <td>0.968700</td>\n",
       "      <td>0.965900</td>\n",
       "      <td>0.968000</td>\n",
       "      <td>0.970300</td>\n",
       "      <td>0.965400</td>\n",
       "      <td>0.971200</td>\n",
       "      <td>0.964900</td>\n",
       "      <td>0.970500</td>\n",
       "    </tr>\n",
       "  </tbody>\n",
       "</table>\n",
       "<p>3 rows × 63 columns</p>\n",
       "</div>"
      ],
      "text/plain": [
       "          1200      1500      1800      2100      2400      2700      3000   \\\n",
       "c_e    0.744276  0.548842  0.511727  0.440373  0.431909  0.367702  0.415811   \n",
       "test   0.897855  0.951727  0.948418  0.957964  0.953018  0.964709  0.947745   \n",
       "train  0.902800  0.947800  0.943400  0.957000  0.949300  0.961100  0.944400   \n",
       "\n",
       "          3300      3600      3900     ...        17100     17400     17700  \\\n",
       "c_e    0.340843  0.353145  0.312409    ...     0.269970  0.240888  0.251977   \n",
       "test   0.966964  0.960000  0.971182    ...     0.968673  0.978709  0.975982   \n",
       "train  0.964300  0.952100  0.965900    ...     0.961900  0.971800  0.968700   \n",
       "\n",
       "          18000     18300     18600     18900     19200     19500     19800  \n",
       "c_e    0.249848  0.243487  0.239848  0.254448  0.232306  0.257102  0.239679  \n",
       "test   0.975255  0.974564  0.980782  0.974764  0.981600  0.974291  0.979109  \n",
       "train  0.965900  0.968000  0.970300  0.965400  0.971200  0.964900  0.970500  \n",
       "\n",
       "[3 rows x 63 columns]"
      ]
     },
     "execution_count": 27,
     "metadata": {},
     "output_type": "execute_result"
    }
   ],
   "source": [
    "df.T"
   ]
  },
  {
   "cell_type": "markdown",
   "metadata": {},
   "source": [
    "加了隐层,加了正则,正确率为97%, 依然下降"
   ]
  },
  {
   "cell_type": "markdown",
   "metadata": {},
   "source": [
    "## 结论"
   ]
  },
  {
   "cell_type": "markdown",
   "metadata": {},
   "source": [
    "不应当加正则"
   ]
  },
  {
   "cell_type": "markdown",
   "metadata": {},
   "source": [
    "## 定义交叉熵"
   ]
  },
  {
   "cell_type": "code",
   "execution_count": null,
   "metadata": {},
   "outputs": [],
   "source": []
  }
 ],
 "metadata": {
  "kernelspec": {
   "display_name": "Python 3",
   "language": "python",
   "name": "python3"
  },
  "language_info": {
   "codemirror_mode": {
    "name": "ipython",
    "version": 3
   },
   "file_extension": ".py",
   "mimetype": "text/x-python",
   "name": "python",
   "nbconvert_exporter": "python",
   "pygments_lexer": "ipython3",
   "version": "3.6.4"
  },
  "toc": {
   "nav_menu": {},
   "number_sections": true,
   "sideBar": true,
   "skip_h1_title": false,
   "title_cell": "Mnist 感知器版加正则",
   "title_sidebar": "Contents",
   "toc_cell": true,
   "toc_position": {},
   "toc_section_display": true,
   "toc_window_display": false
  }
 },
 "nbformat": 4,
 "nbformat_minor": 2
}
