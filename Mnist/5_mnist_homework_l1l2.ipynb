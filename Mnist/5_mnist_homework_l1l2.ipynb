{
 "cells": [
  {
   "cell_type": "markdown",
   "metadata": {
    "toc": true
   },
   "source": [
    "<h1>Mnist 感知器版加正则<span class=\"tocSkip\"></span></h1>\n",
    "<div class=\"toc\"><ul class=\"toc-item\"><li><span><a href=\"#导入工具包\" data-toc-modified-id=\"导入工具包-1\"><span class=\"toc-item-num\">1&nbsp;&nbsp;</span>导入工具包</a></span></li><li><span><a href=\"#导入数据\" data-toc-modified-id=\"导入数据-2\"><span class=\"toc-item-num\">2&nbsp;&nbsp;</span>导入数据</a></span></li><li><span><a href=\"#初始化模型参数\" data-toc-modified-id=\"初始化模型参数-3\"><span class=\"toc-item-num\">3&nbsp;&nbsp;</span>初始化模型参数</a></span></li><li><span><a href=\"#定义交叉熵\" data-toc-modified-id=\"定义交叉熵-4\"><span class=\"toc-item-num\">4&nbsp;&nbsp;</span>定义交叉熵</a></span></li><li><span><a href=\"#设置随机梯度下降\" data-toc-modified-id=\"设置随机梯度下降-5\"><span class=\"toc-item-num\">5&nbsp;&nbsp;</span>设置随机梯度下降</a></span></li><li><span><a href=\"#初始化所有参数\" data-toc-modified-id=\"初始化所有参数-6\"><span class=\"toc-item-num\">6&nbsp;&nbsp;</span>初始化所有参数</a></span></li><li><span><a href=\"#进行train\" data-toc-modified-id=\"进行train-7\"><span class=\"toc-item-num\">7&nbsp;&nbsp;</span>进行train</a></span></li><li><span><a href=\"#评价\" data-toc-modified-id=\"评价-8\"><span class=\"toc-item-num\">8&nbsp;&nbsp;</span>评价</a></span></li><li><span><a href=\"#加隐层,加正则\" data-toc-modified-id=\"加隐层,加正则-9\"><span class=\"toc-item-num\">9&nbsp;&nbsp;</span>加隐层,加正则</a></span></li><li><span><a href=\"#结论\" data-toc-modified-id=\"结论-10\"><span class=\"toc-item-num\">10&nbsp;&nbsp;</span>结论</a></span></li></ul></div>"
   ]
  },
  {
   "cell_type": "markdown",
   "metadata": {},
   "source": [
    "## 导入工具包"
   ]
  },
  {
   "cell_type": "code",
   "execution_count": 1,
   "metadata": {
    "ExecuteTime": {
     "end_time": "2018-03-23T09:41:29.620842Z",
     "start_time": "2018-03-23T09:41:26.558676Z"
    }
   },
   "outputs": [],
   "source": [
    "\"\"\"A very simple MNIST classifier.\n",
    "See extensive documentation at\n",
    "https://www.tensorflow.org/get_started/mnist/beginners\n",
    "\"\"\"\n",
    "#from __future__ import absolute_import\n",
    "#from __future__ import division\n",
    "#from __future__ import print_function\n",
    "\n",
    "import argparse\n",
    "import sys\n",
    "\n",
    "from tensorflow.examples.tutorials.mnist import input_data\n",
    "\n",
    "import tensorflow as tf\n",
    "\n",
    "FLAGS = None\n"
   ]
  },
  {
   "cell_type": "markdown",
   "metadata": {},
   "source": [
    "## 导入数据"
   ]
  },
  {
   "cell_type": "code",
   "execution_count": 2,
   "metadata": {
    "ExecuteTime": {
     "end_time": "2018-03-23T09:41:30.381847Z",
     "start_time": "2018-03-23T09:41:29.624845Z"
    }
   },
   "outputs": [
    {
     "name": "stdout",
     "output_type": "stream",
     "text": [
      "Extracting E:/AI/00/data/Mnist/input_data\\train-images-idx3-ubyte.gz\n",
      "Extracting E:/AI/00/data/Mnist/input_data\\train-labels-idx1-ubyte.gz\n",
      "Extracting E:/AI/00/data/Mnist/input_data\\t10k-images-idx3-ubyte.gz\n",
      "Extracting E:/AI/00/data/Mnist/input_data\\t10k-labels-idx1-ubyte.gz\n"
     ]
    }
   ],
   "source": [
    "# Import data\n",
    "data_dir = 'E:/AI/00/data/Mnist/input_data'\n",
    "mnist = input_data.read_data_sets(data_dir, one_hot=True)"
   ]
  },
  {
   "cell_type": "markdown",
   "metadata": {
    "ExecuteTime": {
     "end_time": "2018-03-23T01:14:41.317119Z",
     "start_time": "2018-03-23T01:14:41.314117Z"
    }
   },
   "source": [
    "## 初始化模型参数"
   ]
  },
  {
   "cell_type": "code",
   "execution_count": 3,
   "metadata": {
    "ExecuteTime": {
     "end_time": "2018-03-23T09:41:30.408367Z",
     "start_time": "2018-03-23T09:41:30.384848Z"
    }
   },
   "outputs": [],
   "source": [
    "# Create the model\n",
    "x = tf.placeholder(tf.float32, [None, 784])\n",
    "W = tf.Variable(tf.zeros([784, 10]))\n",
    "b = tf.Variable(tf.zeros([10]))\n",
    "y = tf.matmul(x, W) + b"
   ]
  },
  {
   "cell_type": "code",
   "execution_count": 4,
   "metadata": {
    "ExecuteTime": {
     "end_time": "2018-03-23T09:41:30.415870Z",
     "start_time": "2018-03-23T09:41:30.410866Z"
    }
   },
   "outputs": [],
   "source": [
    "# Define loss and optimizer\n",
    "y_ = tf.placeholder(tf.float32, [None, 10])"
   ]
  },
  {
   "cell_type": "markdown",
   "metadata": {},
   "source": [
    "## 定义交叉熵"
   ]
  },
  {
   "cell_type": "code",
   "execution_count": 5,
   "metadata": {
    "ExecuteTime": {
     "end_time": "2018-03-23T09:41:30.554059Z",
     "start_time": "2018-03-23T09:41:30.418372Z"
    }
   },
   "outputs": [],
   "source": [
    "cross_entropy = tf.reduce_mean(\n",
    "    tf.nn.softmax_cross_entropy_with_logits_v2(labels=y_, logits=y))\\\n",
    "    +tf.contrib.layers.l1_regularizer(0.001)(W,b)"
   ]
  },
  {
   "cell_type": "markdown",
   "metadata": {},
   "source": [
    "## 设置随机梯度下降"
   ]
  },
  {
   "cell_type": "code",
   "execution_count": 6,
   "metadata": {
    "ExecuteTime": {
     "end_time": "2018-03-23T09:41:30.613597Z",
     "start_time": "2018-03-23T09:41:30.557060Z"
    }
   },
   "outputs": [],
   "source": [
    "train_step = tf.train.GradientDescentOptimizer(0.5).minimize(cross_entropy)"
   ]
  },
  {
   "cell_type": "markdown",
   "metadata": {},
   "source": [
    "## 初始化所有参数"
   ]
  },
  {
   "cell_type": "code",
   "execution_count": 7,
   "metadata": {
    "ExecuteTime": {
     "end_time": "2018-03-23T09:41:30.636114Z",
     "start_time": "2018-03-23T09:41:30.616100Z"
    }
   },
   "outputs": [],
   "source": [
    "sess = tf.Session()\n",
    "init_op = tf.global_variables_initializer()\n",
    "sess.run(init_op)"
   ]
  },
  {
   "cell_type": "markdown",
   "metadata": {},
   "source": [
    "## 进行train"
   ]
  },
  {
   "cell_type": "code",
   "execution_count": 8,
   "metadata": {
    "ExecuteTime": {
     "end_time": "2018-03-23T09:41:34.449912Z",
     "start_time": "2018-03-23T09:41:30.638615Z"
    }
   },
   "outputs": [],
   "source": [
    "# Train\n",
    "for _ in range(3000):\n",
    "  batch_xs, batch_ys = mnist.train.next_batch(100)\n",
    "  sess.run(train_step, feed_dict={x: batch_xs, y_: batch_ys})"
   ]
  },
  {
   "cell_type": "markdown",
   "metadata": {},
   "source": [
    "## 评价"
   ]
  },
  {
   "cell_type": "code",
   "execution_count": 9,
   "metadata": {
    "ExecuteTime": {
     "end_time": "2018-03-23T09:41:34.490938Z",
     "start_time": "2018-03-23T09:41:34.452412Z"
    }
   },
   "outputs": [
    {
     "name": "stdout",
     "output_type": "stream",
     "text": [
      "0.8969\n"
     ]
    }
   ],
   "source": [
    "  # Test trained model\n",
    "correct_prediction = tf.equal(tf.argmax(y, 1), tf.argmax(y_, 1))\n",
    "accuracy = tf.reduce_mean(tf.cast(correct_prediction, tf.float32))\n",
    "print(sess.run(accuracy, feed_dict={x: mnist.test.images,\n",
    "                                      y_: mnist.test.labels}))"
   ]
  },
  {
   "cell_type": "markdown",
   "metadata": {},
   "source": [
    "毫无疑问，这个模型是一个非常简陋，性能也不理想的模型。目前只能达到92%左右的准确率。\n",
    "接下来，希望大家利用现有的知识，将这个模型优化至98%以上的准确率。\n",
    "Hint：\n",
    "- 多隐层\n",
    "- 激活函数\n",
    "- 正则化`正确率为89%,下降了`\n",
    "- 初始化\n",
    "- 摸索一下各个超参数\n",
    "  - 隐层神经元数量\n",
    "  - 学习率\n",
    "  - 正则化惩罚因子\n",
    "  - 最好每隔几个step就对loss、accuracy等等进行一次输出，这样才能有根据地进行调整"
   ]
  },
  {
   "cell_type": "markdown",
   "metadata": {},
   "source": [
    "## 加隐层,加正则"
   ]
  },
  {
   "cell_type": "code",
   "execution_count": 10,
   "metadata": {
    "ExecuteTime": {
     "end_time": "2018-03-23T09:41:34.565916Z",
     "start_time": "2018-03-23T09:41:34.493938Z"
    }
   },
   "outputs": [],
   "source": [
    "# Create the model\n",
    "x = tf.placeholder(tf.float32, [None, 784])\n",
    "W1 = tf.Variable(tf.truncated_normal([784,100],stddev=0.1))#用一个较小的正数来初始化偏置项\n",
    "b1 = tf.Variable(tf.zeros([100]))\n",
    "W2 = tf.Variable(tf.zeros([100, 10]))\n",
    "b2 = tf.Variable(tf.zeros([10]))"
   ]
  },
  {
   "cell_type": "code",
   "execution_count": 11,
   "metadata": {
    "ExecuteTime": {
     "end_time": "2018-03-23T09:41:34.579462Z",
     "start_time": "2018-03-23T09:41:34.568956Z"
    }
   },
   "outputs": [],
   "source": [
    "# Define loss and optimizer\n",
    "hidden1=tf.nn.sigmoid(tf.matmul(x,W1)+b1)  #这里使用传统的Sigmoid非线性激活函数\n",
    "y = tf.matmul(hidden1, W2) + b2\n",
    "y_ = tf.placeholder(tf.float32, [None, 10])"
   ]
  },
  {
   "cell_type": "code",
   "execution_count": 12,
   "metadata": {
    "ExecuteTime": {
     "end_time": "2018-03-23T09:41:34.620491Z",
     "start_time": "2018-03-23T09:41:34.581962Z"
    }
   },
   "outputs": [],
   "source": [
    "cross_entropy = tf.reduce_mean(\n",
    "    tf.nn.softmax_cross_entropy_with_logits_v2(labels=y_, logits=y))\\\n",
    "    + tf.contrib.layers.l2_regularizer(0.001)(W1)\\\n",
    "    + tf.contrib.layers.l1_regularizer(0.001)(W2,b2)"
   ]
  },
  {
   "cell_type": "code",
   "execution_count": 13,
   "metadata": {
    "ExecuteTime": {
     "end_time": "2018-03-23T09:41:34.724558Z",
     "start_time": "2018-03-23T09:41:34.623490Z"
    }
   },
   "outputs": [],
   "source": [
    "train_step = tf.train.GradientDescentOptimizer(0.5).minimize(cross_entropy)\n",
    "\n",
    "sess = tf.Session()\n",
    "init_op = tf.global_variables_initializer()\n",
    "sess.run(init_op)"
   ]
  },
  {
   "cell_type": "code",
   "execution_count": 14,
   "metadata": {
    "ExecuteTime": {
     "end_time": "2018-03-23T09:42:13.480257Z",
     "start_time": "2018-03-23T09:41:34.726559Z"
    }
   },
   "outputs": [],
   "source": [
    "# Train\n",
    "acc=dict()\n",
    "correct_prediction = tf.equal(tf.argmax(y, 1), tf.argmax(y_, 1))\n",
    "accuracy = tf.reduce_mean(tf.cast(correct_prediction, tf.float32))\n",
    "\n",
    "for _ in range(20000):\n",
    "    batch_xs, batch_ys = mnist.train.next_batch(100)\n",
    "    sess.run(train_step, feed_dict={x: batch_xs, y_: batch_ys})\n",
    "    if _ %300==0:\n",
    "        acc[_]=sess.run(accuracy, feed_dict={x: mnist.test.images,\n",
    "                                    y_: mnist.test.labels})\n"
   ]
  },
  {
   "cell_type": "code",
   "execution_count": 17,
   "metadata": {
    "ExecuteTime": {
     "end_time": "2018-03-23T09:43:21.368949Z",
     "start_time": "2018-03-23T09:43:21.219350Z"
    }
   },
   "outputs": [
    {
     "data": {
      "image/png": "[encoded data removed]",
      "text/plain": [
       "<Figure size 432x288 with 1 Axes>"
      ]
     },
     "metadata": {},
     "output_type": "display_data"
    }
   ],
   "source": [
    "import matplotlib.pyplot as plt\n",
    "del(acc[0])\n",
    "plt.plot(acc.keys(),acc.values())\n",
    "plt.show()"
   ]
  },
  {
   "cell_type": "code",
   "execution_count": 16,
   "metadata": {
    "ExecuteTime": {
     "end_time": "2018-03-23T09:42:55.537901Z",
     "start_time": "2018-03-23T09:42:55.527893Z"
    }
   },
   "outputs": [
    {
     "data": {
      "text/plain": [
       "{300: 0.895,\n",
       " 600: 0.9115,\n",
       " 900: 0.915,\n",
       " 1200: 0.9219,\n",
       " 1500: 0.9228,\n",
       " 1800: 0.9241,\n",
       " 2100: 0.927,\n",
       " 2400: 0.9306,\n",
       " 2700: 0.932,\n",
       " 3000: 0.9296,\n",
       " 3300: 0.9309,\n",
       " 3600: 0.934,\n",
       " 3900: 0.9347,\n",
       " 4200: 0.9382,\n",
       " 4500: 0.9371,\n",
       " 4800: 0.9407,\n",
       " 5100: 0.9409,\n",
       " 5400: 0.9399,\n",
       " 5700: 0.9432,\n",
       " 6000: 0.9417,\n",
       " 6300: 0.9421,\n",
       " 6600: 0.942,\n",
       " 6900: 0.9436,\n",
       " 7200: 0.9458,\n",
       " 7500: 0.9455,\n",
       " 7800: 0.9432,\n",
       " 8100: 0.9424,\n",
       " 8400: 0.9475,\n",
       " 8700: 0.9468,\n",
       " 9000: 0.9467,\n",
       " 9300: 0.9433,\n",
       " 9600: 0.9472,\n",
       " 9900: 0.9468,\n",
       " 10200: 0.9497,\n",
       " 10500: 0.9492,\n",
       " 10800: 0.9471,\n",
       " 11100: 0.947,\n",
       " 11400: 0.9502,\n",
       " 11700: 0.9487,\n",
       " 12000: 0.9488,\n",
       " 12300: 0.9474,\n",
       " 12600: 0.9505,\n",
       " 12900: 0.9513,\n",
       " 13200: 0.9497,\n",
       " 13500: 0.949,\n",
       " 13800: 0.9517,\n",
       " 14100: 0.9471,\n",
       " 14400: 0.9488,\n",
       " 14700: 0.9486,\n",
       " 15000: 0.9502,\n",
       " 15300: 0.9501,\n",
       " 15600: 0.9522,\n",
       " 15900: 0.949,\n",
       " 16200: 0.9463,\n",
       " 16500: 0.9447,\n",
       " 16800: 0.9514,\n",
       " 17100: 0.9487,\n",
       " 17400: 0.9506,\n",
       " 17700: 0.9516,\n",
       " 18000: 0.9491,\n",
       " 18300: 0.951,\n",
       " 18600: 0.9501,\n",
       " 18900: 0.9521,\n",
       " 19200: 0.9506,\n",
       " 19500: 0.9502,\n",
       " 19800: 0.9459}"
      ]
     },
     "execution_count": 16,
     "metadata": {},
     "output_type": "execute_result"
    }
   ],
   "source": [
    "acc"
   ]
  },
  {
   "cell_type": "markdown",
   "metadata": {},
   "source": [
    "加了隐层,加了正则,正确率为93%, 依然下降"
   ]
  },
  {
   "cell_type": "markdown",
   "metadata": {},
   "source": [
    "## 结论"
   ]
  },
  {
   "cell_type": "markdown",
   "metadata": {},
   "source": [
    "不应当加正则"
   ]
  },
  {
   "cell_type": "code",
   "execution_count": null,
   "metadata": {},
   "outputs": [],
   "source": []
  }
 ],
 "metadata": {
  "kernelspec": {
   "display_name": "Python 3",
   "language": "python",
   "name": "python3"
  },
  "language_info": {
   "codemirror_mode": {
    "name": "ipython",
    "version": 3
   },
   "file_extension": ".py",
   "mimetype": "text/x-python",
   "name": "python",
   "nbconvert_exporter": "python",
   "pygments_lexer": "ipython3",
   "version": "3.6.4"
  },
  "toc": {
   "nav_menu": {},
   "number_sections": true,
   "sideBar": true,
   "skip_h1_title": false,
   "title_cell": "Mnist 感知器版加正则",
   "title_sidebar": "Contents",
   "toc_cell": true,
   "toc_position": {},
   "toc_section_display": true,
   "toc_window_display": false
  }
 },
 "nbformat": 4,
 "nbformat_minor": 2
}
