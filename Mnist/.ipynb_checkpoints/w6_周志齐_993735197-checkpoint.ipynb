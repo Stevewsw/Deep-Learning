{
 "cells": [
  {
   "cell_type": "markdown",
   "metadata": {
    "toc": true
   },
   "source": [
    "<h1>Mnist 多层感知器<span class=\"tocSkip\"></span></h1>\n",
    "<div class=\"toc\"><ul class=\"toc-item\"><li><span><a href=\"#导入工具包\" data-toc-modified-id=\"导入工具包-1\"><span class=\"toc-item-num\">1&nbsp;&nbsp;</span>导入工具包</a></span></li><li><span><a href=\"#导入数据\" data-toc-modified-id=\"导入数据-2\"><span class=\"toc-item-num\">2&nbsp;&nbsp;</span>导入数据</a></span></li><li><span><a href=\"#构建多层感知器\" data-toc-modified-id=\"构建多层感知器-3\"><span class=\"toc-item-num\">3&nbsp;&nbsp;</span>构建多层感知器</a></span></li><li><span><a href=\"#结论\" data-toc-modified-id=\"结论-4\"><span class=\"toc-item-num\">4&nbsp;&nbsp;</span>结论</a></span></li></ul></div>"
   ]
  },
  {
   "cell_type": "markdown",
   "metadata": {},
   "source": [
    "## 导入工具包"
   ]
  },
  {
   "cell_type": "code",
   "execution_count": 1,
   "metadata": {
    "ExecuteTime": {
     "end_time": "2018-03-23T15:07:18.022544Z",
     "start_time": "2018-03-23T15:07:14.832682Z"
    }
   },
   "outputs": [],
   "source": [
    "\"\"\"A very simple MNIST classifier.\n",
    "See extensive documentation at\n",
    "https://www.tensorflow.org/get_started/mnist/beginners\n",
    "\"\"\"\n",
    "#from __future__ import absolute_import\n",
    "#from __future__ import division\n",
    "#from __future__ import print_function\n",
    "\n",
    "import argparse\n",
    "import sys\n",
    "\n",
    "from tensorflow.examples.tutorials.mnist import input_data\n",
    "\n",
    "import tensorflow as tf\n",
    "\n",
    "import matplotlib.pyplot as plt\n",
    "import pandas as pd\n",
    "import numpy as np\n",
    "\n",
    "FLAGS = None\n"
   ]
  },
  {
   "cell_type": "markdown",
   "metadata": {},
   "source": [
    "## 导入数据"
   ]
  },
  {
   "cell_type": "code",
   "execution_count": 2,
   "metadata": {
    "ExecuteTime": {
     "end_time": "2018-03-23T15:07:18.718047Z",
     "start_time": "2018-03-23T15:07:18.025088Z"
    }
   },
   "outputs": [
    {
     "name": "stdout",
     "output_type": "stream",
     "text": [
      "Extracting E:/AI/00/data/Mnist/input_data\\train-images-idx3-ubyte.gz\n",
      "Extracting E:/AI/00/data/Mnist/input_data\\train-labels-idx1-ubyte.gz\n",
      "Extracting E:/AI/00/data/Mnist/input_data\\t10k-images-idx3-ubyte.gz\n",
      "Extracting E:/AI/00/data/Mnist/input_data\\t10k-labels-idx1-ubyte.gz\n"
     ]
    }
   ],
   "source": [
    "# Import data\n",
    "data_dir = 'E:/AI/00/data/Mnist/input_data'\n",
    "mnist = input_data.read_data_sets(data_dir, one_hot=True)"
   ]
  },
  {
   "cell_type": "markdown",
   "metadata": {
    "ExecuteTime": {
     "end_time": "2018-03-23T01:14:41.317119Z",
     "start_time": "2018-03-23T01:14:41.314117Z"
    }
   },
   "source": [
    "## 构建多层感知器"
   ]
  },
  {
   "cell_type": "code",
   "execution_count": 3,
   "metadata": {
    "ExecuteTime": {
     "end_time": "2018-03-23T15:07:18.778087Z",
     "start_time": "2018-03-23T15:07:18.721050Z"
    }
   },
   "outputs": [],
   "source": [
    "# 初始化模型参数\n",
    "x  = tf.placeholder(tf.float32, [None, 784])\n",
    "# 初始化各层权重\n",
    "W1 = tf.Variable(tf.random_normal([784,200],mean=0,stddev=0.08,seed=66))\n",
    "b1 = tf.Variable(tf.zeros([200]))\n",
    "W2 = tf.Variable(tf.truncated_normal([200,200],mean=0,stddev=0.08,seed=66))\n",
    "b2 = tf.Variable(tf.zeros([200]))\n",
    "W3 = tf.Variable(tf.truncated_normal([200,200],mean=0,stddev=0.08,seed=66))\n",
    "b3 = tf.Variable(tf.zeros([200]))\n",
    "W4 = tf.Variable(tf.zeros([200,10]))\n",
    "b4 = tf.Variable(tf.zeros([10]))"
   ]
  },
  {
   "cell_type": "code",
   "execution_count": 4,
   "metadata": {
    "ExecuteTime": {
     "end_time": "2018-03-23T15:07:18.801103Z",
     "start_time": "2018-03-23T15:07:18.780588Z"
    }
   },
   "outputs": [],
   "source": [
    "# 添加隐层\n",
    "hidden1 = tf.nn.relu6(tf.matmul(x,W1)+b1)\n",
    "hidden2 = tf.nn.tanh(tf.matmul(hidden1,W2)+b2)\n",
    "hidden3 = tf.nn.relu(tf.matmul(hidden2,W3)+b3)\n",
    "# 设置logit\n",
    "y = tf.matmul(hidden3, W4) + b4\n",
    "# 初始化y_truth\n",
    "y_ = tf.placeholder(tf.float32, [None, 10])"
   ]
  },
  {
   "cell_type": "code",
   "execution_count": 5,
   "metadata": {
    "ExecuteTime": {
     "end_time": "2018-03-23T15:07:18.832527Z",
     "start_time": "2018-03-23T15:07:18.803508Z"
    }
   },
   "outputs": [],
   "source": [
    "# 设置交叉熵(不加正则)\n",
    "cross_entropy = tf.reduce_mean(\n",
    "    tf.nn.softmax_cross_entropy_with_logits_v2(labels=y_, logits=y))\n",
    "#    +tf.contrib.layers.l1_regularizer(0.005)(W4)"
   ]
  },
  {
   "cell_type": "code",
   "execution_count": 6,
   "metadata": {
    "ExecuteTime": {
     "end_time": "2018-03-23T15:07:18.920084Z",
     "start_time": "2018-03-23T15:07:18.834529Z"
    }
   },
   "outputs": [],
   "source": [
    "# 设置随机梯度下降\n",
    "train_step = tf.train.GradientDescentOptimizer(0.5).minimize(cross_entropy)"
   ]
  },
  {
   "cell_type": "code",
   "execution_count": 7,
   "metadata": {
    "ExecuteTime": {
     "end_time": "2018-03-23T15:07:18.961616Z",
     "start_time": "2018-03-23T15:07:18.923087Z"
    }
   },
   "outputs": [],
   "source": [
    "# 设置Session\n",
    "sess = tf.Session()\n",
    "init_op = tf.global_variables_initializer()#初始化可变变量\n",
    "sess.run(init_op)"
   ]
  },
  {
   "cell_type": "code",
   "execution_count": 8,
   "metadata": {
    "ExecuteTime": {
     "end_time": "2018-03-23T15:08:33.818836Z",
     "start_time": "2018-03-23T15:07:18.963614Z"
    }
   },
   "outputs": [],
   "source": [
    "# 开始训练,Train\n",
    "\n",
    "# 设置正确率计算公式\n",
    "correct_prediction = tf.equal(tf.argmax(y, 1), tf.argmax(y_, 1))\n",
    "accuracy = tf.reduce_mean(tf.cast(correct_prediction, tf.float32))\n",
    "\n",
    "a_ce={'acc':[],'c_e':[]}#用于存放正确率和交叉熵\n",
    "#{'acc': accuracy, 'c_e': cross_entropy}\n",
    "for _ in range(20000):\n",
    "    # 每次获取小批量的数据\n",
    "    batch_xs, batch_ys = mnist.train.next_batch(100)\n",
    "    # 执行train_step\n",
    "    sess.run(train_step, feed_dict={x: batch_xs, y_: batch_ys})\n",
    "    if _ %300==0:\n",
    "        # 获取正确率和交叉熵\n",
    "        acc,c_e = sess.run([accuracy,cross_entropy]\n",
    "                        , feed_dict={x: mnist.test.images\n",
    "                                     ,y_: mnist.test.labels})\n",
    "        #将正确率和交叉熵分别添加进各自的list\n",
    "        a_ce['acc'].append(acc),a_ce['c_e'].append(c_e)"
   ]
  },
  {
   "cell_type": "code",
   "execution_count": 9,
   "metadata": {
    "ExecuteTime": {
     "end_time": "2018-03-23T15:08:33.831346Z",
     "start_time": "2018-03-23T15:08:33.821339Z"
    },
    "scrolled": false
   },
   "outputs": [],
   "source": [
    "# 将得到的正确率和交叉熵转换成DataFrame\n",
    "df=pd.DataFrame(data=a_ce,index=[x for x in range(20000) if x%300==0])\n",
    "# 删除前几列的异常点\n",
    "df.drop([0,300,600,900],inplace=True)"
   ]
  },
  {
   "cell_type": "code",
   "execution_count": 10,
   "metadata": {
    "ExecuteTime": {
     "end_time": "2018-03-23T15:08:34.118152Z",
     "start_time": "2018-03-23T15:08:33.834349Z"
    }
   },
   "outputs": [
    {
     "data": {
      "image/png": "[encoded data removed]",
      "text/plain": [
       "<Figure size 432x288 with 2 Axes>"
      ]
     },
     "metadata": {},
     "output_type": "display_data"
    }
   ],
   "source": [
    "# 绘图\n",
    "\n",
    "# 子图一: 正确率\n",
    "ax1 = plt.figure().add_subplot(111)\n",
    "ax1.plot(df['acc'], label='accuracy', color='b')\n",
    "ax1.plot([1000,20000], [0.98,0.98], label='0.98', color='r')\n",
    "#ax1.set_ylim([0.970, 0.984])\n",
    "ax1.set_ylabel('accuracy')\n",
    "ax1.legend(loc=4)\n",
    "\n",
    "# 子图一: 交叉熵\n",
    "ax2 = ax1.twinx()  \n",
    "ax2.plot(df['c_e'],label='cross_entropy', color='g')\n",
    "#ax2.set_ylim([0.072, 0.100])\n",
    "ax2.set_ylabel('cross_entropy')\n",
    "ax2.legend(loc=8)\n",
    "\n",
    "plt.grid(True, linestyle = \"-\")\n",
    "plt.show()"
   ]
  },
  {
   "cell_type": "markdown",
   "metadata": {},
   "source": [
    "## 结论"
   ]
  },
  {
   "cell_type": "markdown",
   "metadata": {},
   "source": [
    "将这个非常简陋模型复杂化后，这个模型优化至98%以上的准确率。\n",
    "Hint：\n",
    "- 多隐层: 3层\n",
    "- 激活函数: 一层:relu6, 二层:tanh , 三层:relu\n",
    "- 正则化: 无\n",
    "- 初始化: 见上面注释\n",
    "- 摸索一下各个超参数\n",
    "  - 隐层神经元数量:一层:784x200, 二层:200x200, 三层:200x200\n",
    "  - 学习率: 0.5\n",
    "  - 正则化惩罚因子: 无\n",
    "  - 最好每隔300个step就对loss、accuracy等等进行一次输出，这样才能有根据地进行调整"
   ]
  },
  {
   "cell_type": "code",
   "execution_count": null,
   "metadata": {},
   "outputs": [],
   "source": []
  }
 ],
 "metadata": {
  "kernelspec": {
   "display_name": "Python 3",
   "language": "python",
   "name": "python3"
  },
  "language_info": {
   "codemirror_mode": {
    "name": "ipython",
    "version": 3
   },
   "file_extension": ".py",
   "mimetype": "text/x-python",
   "name": "python",
   "nbconvert_exporter": "python",
   "pygments_lexer": "ipython3",
   "version": "3.6.4"
  },
  "toc": {
   "nav_menu": {},
   "number_sections": true,
   "sideBar": true,
   "skip_h1_title": false,
   "title_cell": "Mnist 多层感知器",
   "title_sidebar": "三层隐层",
   "toc_cell": true,
   "toc_position": {},
   "toc_section_display": true,
   "toc_window_display": false
  }
 },
 "nbformat": 4,
 "nbformat_minor": 2
}
