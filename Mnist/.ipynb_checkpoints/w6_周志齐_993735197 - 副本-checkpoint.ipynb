{
 "cells": [
  {
   "cell_type": "markdown",
   "metadata": {
    "toc": true
   },
   "source": [
    "<h1>Mnist 多层感知器<span class=\"tocSkip\"></span></h1>\n",
    "<div class=\"toc\"><ul class=\"toc-item\"><li><span><a href=\"#导入工具包\" data-toc-modified-id=\"导入工具包-1\"><span class=\"toc-item-num\">1&nbsp;&nbsp;</span>导入工具包</a></span></li><li><span><a href=\"#导入数据\" data-toc-modified-id=\"导入数据-2\"><span class=\"toc-item-num\">2&nbsp;&nbsp;</span>导入数据</a></span></li><li><span><a href=\"#构建多层感知器\" data-toc-modified-id=\"构建多层感知器-3\"><span class=\"toc-item-num\">3&nbsp;&nbsp;</span>构建多层感知器</a></span></li><li><span><a href=\"#结论\" data-toc-modified-id=\"结论-4\"><span class=\"toc-item-num\">4&nbsp;&nbsp;</span>结论</a></span></li></ul></div>"
   ]
  },
  {
   "cell_type": "markdown",
   "metadata": {},
   "source": [
    "## 导入工具包"
   ]
  },
  {
   "cell_type": "code",
   "execution_count": 1,
   "metadata": {
    "ExecuteTime": {
     "end_time": "2018-03-24T06:31:36.265315Z",
     "start_time": "2018-03-24T06:31:17.759527Z"
    }
   },
   "outputs": [],
   "source": [
    "\"\"\"A very simple MNIST classifier.\n",
    "See extensive documentation at\n",
    "https://www.tensorflow.org/get_started/mnist/beginners\n",
    "\"\"\"\n",
    "#from __future__ import absolute_import\n",
    "#from __future__ import division\n",
    "#from __future__ import print_function\n",
    "\n",
    "import argparse\n",
    "import sys\n",
    "\n",
    "from tensorflow.examples.tutorials.mnist import input_data\n",
    "\n",
    "import tensorflow as tf\n",
    "\n",
    "import matplotlib.pyplot as plt\n",
    "import pandas as pd\n",
    "import numpy as np\n",
    "\n",
    "FLAGS = None\n"
   ]
  },
  {
   "cell_type": "markdown",
   "metadata": {},
   "source": [
    "## 导入数据"
   ]
  },
  {
   "cell_type": "code",
   "execution_count": 2,
   "metadata": {
    "ExecuteTime": {
     "end_time": "2018-03-24T06:31:37.550856Z",
     "start_time": "2018-03-24T06:31:36.267823Z"
    }
   },
   "outputs": [
    {
     "name": "stdout",
     "output_type": "stream",
     "text": [
      "Extracting E:/AI/00/data/Mnist/input_data\\train-images-idx3-ubyte.gz\n",
      "Extracting E:/AI/00/data/Mnist/input_data\\train-labels-idx1-ubyte.gz\n",
      "Extracting E:/AI/00/data/Mnist/input_data\\t10k-images-idx3-ubyte.gz\n",
      "Extracting E:/AI/00/data/Mnist/input_data\\t10k-labels-idx1-ubyte.gz\n"
     ]
    }
   ],
   "source": [
    "# Import data\n",
    "data_dir = 'E:/AI/00/data/Mnist/input_data'\n",
    "mnist = input_data.read_data_sets(data_dir, one_hot=True)"
   ]
  },
  {
   "cell_type": "markdown",
   "metadata": {
    "ExecuteTime": {
     "end_time": "2018-03-23T01:14:41.317119Z",
     "start_time": "2018-03-23T01:14:41.314117Z"
    }
   },
   "source": [
    "## 构建多层感知器"
   ]
  },
  {
   "cell_type": "code",
   "execution_count": 3,
   "metadata": {
    "ExecuteTime": {
     "end_time": "2018-03-24T06:31:37.636735Z",
     "start_time": "2018-03-24T06:31:37.553358Z"
    }
   },
   "outputs": [],
   "source": [
    "# 初始化模型参数\n",
    "x  = tf.placeholder(tf.float32, [None, 784])\n",
    "# 初始化各层权重\n",
    "W1 = tf.Variable(tf.random_normal([784,200],mean=0,stddev=0.08,seed=66))\n",
    "b1 = tf.Variable(tf.zeros([200]))\n",
    "W2 = tf.Variable(tf.truncated_normal([200,200],mean=0,stddev=0.08,seed=66))\n",
    "b2 = tf.Variable(tf.zeros([200]))\n",
    "W3 = tf.Variable(tf.truncated_normal([200,200],mean=0,stddev=0.08,seed=66))\n",
    "b3 = tf.Variable(tf.zeros([200]))\n",
    "W4 = tf.Variable(tf.zeros([200,10]))\n",
    "b4 = tf.Variable(tf.zeros([10]))"
   ]
  },
  {
   "cell_type": "code",
   "execution_count": 4,
   "metadata": {
    "ExecuteTime": {
     "end_time": "2018-03-24T06:31:37.660752Z",
     "start_time": "2018-03-24T06:31:37.639737Z"
    }
   },
   "outputs": [],
   "source": [
    "# 添加隐层\n",
    "hidden1 = tf.nn.relu6(tf.matmul(x,W1)+b1)\n",
    "hidden2 = tf.nn.tanh(tf.matmul(hidden1,W2)+b2)\n",
    "hidden3 = tf.nn.relu(tf.matmul(hidden2,W3)+b3)\n",
    "# 设置logit\n",
    "y = tf.matmul(hidden3, W4) + b4\n",
    "# 初始化y_truth\n",
    "y_ = tf.placeholder(tf.float32, [None, 10])"
   ]
  },
  {
   "cell_type": "code",
   "execution_count": 5,
   "metadata": {
    "ExecuteTime": {
     "end_time": "2018-03-24T06:31:37.693781Z",
     "start_time": "2018-03-24T06:31:37.664256Z"
    }
   },
   "outputs": [],
   "source": [
    "# 设置交叉熵(不加正则)\n",
    "cross_entropy = tf.reduce_mean(\n",
    "    tf.nn.softmax_cross_entropy_with_logits_v2(labels=y_, logits=y))\n",
    "#    +tf.contrib.layers.l1_regularizer(0.005)(W4)"
   ]
  },
  {
   "cell_type": "code",
   "execution_count": 6,
   "metadata": {
    "ExecuteTime": {
     "end_time": "2018-03-24T06:31:37.801860Z",
     "start_time": "2018-03-24T06:31:37.695779Z"
    }
   },
   "outputs": [],
   "source": [
    "# 设置随机梯度下降\n",
    "train_step = tf.train.GradientDescentOptimizer(0.5).minimize(cross_entropy)"
   ]
  },
  {
   "cell_type": "code",
   "execution_count": 7,
   "metadata": {
    "ExecuteTime": {
     "end_time": "2018-03-24T06:31:37.893603Z",
     "start_time": "2018-03-24T06:31:37.805863Z"
    }
   },
   "outputs": [],
   "source": [
    "# 设置Session\n",
    "sess = tf.Session()\n",
    "init_op = tf.global_variables_initializer()#初始化可变变量\n",
    "sess.run(init_op)"
   ]
  },
  {
   "cell_type": "code",
   "execution_count": 8,
   "metadata": {
    "ExecuteTime": {
     "end_time": "2018-03-24T06:36:20.830381Z",
     "start_time": "2018-03-24T06:34:38.671658Z"
    }
   },
   "outputs": [],
   "source": [
    "# 开始训练,Train\n",
    "\n",
    "# 设置正确率计算公式\n",
    "correct_prediction = tf.equal(tf.argmax(y, 1), tf.argmax(y_, 1))\n",
    "accuracy = tf.reduce_mean(tf.cast(correct_prediction, tf.float32))\n",
    "\n",
    "a_ce={'acc':[],'c_e':[]}#用于存放正确率和交叉熵\n",
    "#{'acc': accuracy, 'c_e': cross_entropy}\n",
    "for _ in range(20000):\n",
    "    # 每次获取小批量的数据\n",
    "    batch_xs, batch_ys = mnist.train.next_batch(100)\n",
    "    # 执行train_step\n",
    "    sess.run(train_step, feed_dict={x: batch_xs, y_: batch_ys})\n",
    "    if _ %300==0:\n",
    "        # 获取正确率和交叉熵\n",
    "        acc,c_e = [sess.run(accuracy, feed_dict={x: mnist.test.images\n",
    "                                     ,y_: mnist.test.labels})\n",
    "                   , sess.run(accuracy, feed_dict={x: mnist.train.images\n",
    "                                     ,y_: mnist.train.labels})]\n",
    "        #将正确率和交叉熵分别添加进各自的list\n",
    "        a_ce['acc'].append(acc),a_ce['c_e'].append(c_e)"
   ]
  },
  {
   "cell_type": "code",
   "execution_count": 9,
   "metadata": {
    "ExecuteTime": {
     "end_time": "2018-03-24T06:37:01.350649Z",
     "start_time": "2018-03-24T06:37:01.310621Z"
    },
    "scrolled": false
   },
   "outputs": [],
   "source": [
    "# 将得到的正确率和交叉熵转换成DataFrame\n",
    "df=pd.DataFrame(data=a_ce,index=[x for x in range(20000) if x%300==0])\n",
    "# 删除前几列的异常点\n",
    "df.drop([0,300,600,900],inplace=True)"
   ]
  },
  {
   "cell_type": "code",
   "execution_count": 10,
   "metadata": {
    "ExecuteTime": {
     "end_time": "2018-03-24T06:37:02.447027Z",
     "start_time": "2018-03-24T06:37:02.131657Z"
    }
   },
   "outputs": [
    {
     "data": {
      "image/png": "[encoded data removed]",
      "text/plain": [
       "<Figure size 432x288 with 2 Axes>"
      ]
     },
     "metadata": {},
     "output_type": "display_data"
    }
   ],
   "source": [
    "# 绘图\n",
    "\n",
    "# 子图一: 正确率\n",
    "ax1 = plt.figure().add_subplot(111)\n",
    "ax1.plot(df['acc'], label='accuracy', color='b')\n",
    "ax1.plot([1000,20000], [0.98,0.98], label='0.98', color='r')\n",
    "#ax1.set_ylim([0.970, 0.984])\n",
    "ax1.set_ylabel('accuracy')\n",
    "ax1.legend(loc=4)\n",
    "\n",
    "# 子图一: 交叉熵\n",
    "ax2 = ax1.twinx()  \n",
    "ax2.plot(df['c_e'],label='cross_entropy', color='g')\n",
    "#ax2.set_ylim([0.072, 0.100])\n",
    "ax2.set_ylabel('cross_entropy')\n",
    "ax2.legend(loc=8)\n",
    "\n",
    "plt.grid(True, linestyle = \"-\")\n",
    "plt.show()"
   ]
  },
  {
   "cell_type": "code",
   "execution_count": 11,
   "metadata": {
    "ExecuteTime": {
     "end_time": "2018-03-24T06:37:31.982787Z",
     "start_time": "2018-03-24T06:37:31.944758Z"
    }
   },
   "outputs": [
    {
     "data": {
      "text/html": [
       "<div>\n",
       "<style scoped>\n",
       "    .dataframe tbody tr th:only-of-type {\n",
       "        vertical-align: middle;\n",
       "    }\n",
       "\n",
       "    .dataframe tbody tr th {\n",
       "        vertical-align: top;\n",
       "    }\n",
       "\n",
       "    .dataframe thead th {\n",
       "        text-align: right;\n",
       "    }\n",
       "</style>\n",
       "<table border=\"1\" class=\"dataframe\">\n",
       "  <thead>\n",
       "    <tr style=\"text-align: right;\">\n",
       "      <th></th>\n",
       "      <th>acc</th>\n",
       "      <th>c_e</th>\n",
       "    </tr>\n",
       "  </thead>\n",
       "  <tbody>\n",
       "    <tr>\n",
       "      <th>1200</th>\n",
       "      <td>0.9692</td>\n",
       "      <td>0.977982</td>\n",
       "    </tr>\n",
       "    <tr>\n",
       "      <th>1500</th>\n",
       "      <td>0.9634</td>\n",
       "      <td>0.973709</td>\n",
       "    </tr>\n",
       "    <tr>\n",
       "      <th>1800</th>\n",
       "      <td>0.9741</td>\n",
       "      <td>0.985182</td>\n",
       "    </tr>\n",
       "    <tr>\n",
       "      <th>2100</th>\n",
       "      <td>0.9770</td>\n",
       "      <td>0.990218</td>\n",
       "    </tr>\n",
       "    <tr>\n",
       "      <th>2400</th>\n",
       "      <td>0.9721</td>\n",
       "      <td>0.987873</td>\n",
       "    </tr>\n",
       "    <tr>\n",
       "      <th>2700</th>\n",
       "      <td>0.9723</td>\n",
       "      <td>0.987327</td>\n",
       "    </tr>\n",
       "    <tr>\n",
       "      <th>3000</th>\n",
       "      <td>0.9766</td>\n",
       "      <td>0.990836</td>\n",
       "    </tr>\n",
       "    <tr>\n",
       "      <th>3300</th>\n",
       "      <td>0.9774</td>\n",
       "      <td>0.993782</td>\n",
       "    </tr>\n",
       "    <tr>\n",
       "      <th>3600</th>\n",
       "      <td>0.9755</td>\n",
       "      <td>0.993836</td>\n",
       "    </tr>\n",
       "    <tr>\n",
       "      <th>3900</th>\n",
       "      <td>0.9758</td>\n",
       "      <td>0.995291</td>\n",
       "    </tr>\n",
       "    <tr>\n",
       "      <th>4200</th>\n",
       "      <td>0.9788</td>\n",
       "      <td>0.996564</td>\n",
       "    </tr>\n",
       "    <tr>\n",
       "      <th>4500</th>\n",
       "      <td>0.9802</td>\n",
       "      <td>0.997400</td>\n",
       "    </tr>\n",
       "    <tr>\n",
       "      <th>4800</th>\n",
       "      <td>0.9763</td>\n",
       "      <td>0.994091</td>\n",
       "    </tr>\n",
       "    <tr>\n",
       "      <th>5100</th>\n",
       "      <td>0.9796</td>\n",
       "      <td>0.997145</td>\n",
       "    </tr>\n",
       "    <tr>\n",
       "      <th>5400</th>\n",
       "      <td>0.9801</td>\n",
       "      <td>0.997291</td>\n",
       "    </tr>\n",
       "    <tr>\n",
       "      <th>5700</th>\n",
       "      <td>0.9766</td>\n",
       "      <td>0.996909</td>\n",
       "    </tr>\n",
       "    <tr>\n",
       "      <th>6000</th>\n",
       "      <td>0.9777</td>\n",
       "      <td>0.996055</td>\n",
       "    </tr>\n",
       "    <tr>\n",
       "      <th>6300</th>\n",
       "      <td>0.9832</td>\n",
       "      <td>0.999309</td>\n",
       "    </tr>\n",
       "    <tr>\n",
       "      <th>6600</th>\n",
       "      <td>0.9810</td>\n",
       "      <td>0.998491</td>\n",
       "    </tr>\n",
       "    <tr>\n",
       "      <th>6900</th>\n",
       "      <td>0.9817</td>\n",
       "      <td>0.999582</td>\n",
       "    </tr>\n",
       "    <tr>\n",
       "      <th>7200</th>\n",
       "      <td>0.9814</td>\n",
       "      <td>0.999600</td>\n",
       "    </tr>\n",
       "    <tr>\n",
       "      <th>7500</th>\n",
       "      <td>0.9835</td>\n",
       "      <td>0.999764</td>\n",
       "    </tr>\n",
       "    <tr>\n",
       "      <th>7800</th>\n",
       "      <td>0.9825</td>\n",
       "      <td>0.999964</td>\n",
       "    </tr>\n",
       "    <tr>\n",
       "      <th>8100</th>\n",
       "      <td>0.9834</td>\n",
       "      <td>0.999964</td>\n",
       "    </tr>\n",
       "    <tr>\n",
       "      <th>8400</th>\n",
       "      <td>0.9826</td>\n",
       "      <td>0.999982</td>\n",
       "    </tr>\n",
       "    <tr>\n",
       "      <th>8700</th>\n",
       "      <td>0.9832</td>\n",
       "      <td>0.999982</td>\n",
       "    </tr>\n",
       "    <tr>\n",
       "      <th>9000</th>\n",
       "      <td>0.9834</td>\n",
       "      <td>1.000000</td>\n",
       "    </tr>\n",
       "    <tr>\n",
       "      <th>9300</th>\n",
       "      <td>0.9838</td>\n",
       "      <td>1.000000</td>\n",
       "    </tr>\n",
       "    <tr>\n",
       "      <th>9600</th>\n",
       "      <td>0.9837</td>\n",
       "      <td>1.000000</td>\n",
       "    </tr>\n",
       "    <tr>\n",
       "      <th>9900</th>\n",
       "      <td>0.9836</td>\n",
       "      <td>1.000000</td>\n",
       "    </tr>\n",
       "    <tr>\n",
       "      <th>...</th>\n",
       "      <td>...</td>\n",
       "      <td>...</td>\n",
       "    </tr>\n",
       "    <tr>\n",
       "      <th>11100</th>\n",
       "      <td>0.9837</td>\n",
       "      <td>1.000000</td>\n",
       "    </tr>\n",
       "    <tr>\n",
       "      <th>11400</th>\n",
       "      <td>0.9836</td>\n",
       "      <td>1.000000</td>\n",
       "    </tr>\n",
       "    <tr>\n",
       "      <th>11700</th>\n",
       "      <td>0.9838</td>\n",
       "      <td>1.000000</td>\n",
       "    </tr>\n",
       "    <tr>\n",
       "      <th>12000</th>\n",
       "      <td>0.9839</td>\n",
       "      <td>1.000000</td>\n",
       "    </tr>\n",
       "    <tr>\n",
       "      <th>12300</th>\n",
       "      <td>0.9838</td>\n",
       "      <td>1.000000</td>\n",
       "    </tr>\n",
       "    <tr>\n",
       "      <th>12600</th>\n",
       "      <td>0.9838</td>\n",
       "      <td>1.000000</td>\n",
       "    </tr>\n",
       "    <tr>\n",
       "      <th>12900</th>\n",
       "      <td>0.9839</td>\n",
       "      <td>1.000000</td>\n",
       "    </tr>\n",
       "    <tr>\n",
       "      <th>13200</th>\n",
       "      <td>0.9837</td>\n",
       "      <td>1.000000</td>\n",
       "    </tr>\n",
       "    <tr>\n",
       "      <th>13500</th>\n",
       "      <td>0.9838</td>\n",
       "      <td>1.000000</td>\n",
       "    </tr>\n",
       "    <tr>\n",
       "      <th>13800</th>\n",
       "      <td>0.9835</td>\n",
       "      <td>1.000000</td>\n",
       "    </tr>\n",
       "    <tr>\n",
       "      <th>14100</th>\n",
       "      <td>0.9838</td>\n",
       "      <td>1.000000</td>\n",
       "    </tr>\n",
       "    <tr>\n",
       "      <th>14400</th>\n",
       "      <td>0.9839</td>\n",
       "      <td>1.000000</td>\n",
       "    </tr>\n",
       "    <tr>\n",
       "      <th>14700</th>\n",
       "      <td>0.9838</td>\n",
       "      <td>1.000000</td>\n",
       "    </tr>\n",
       "    <tr>\n",
       "      <th>15000</th>\n",
       "      <td>0.9837</td>\n",
       "      <td>1.000000</td>\n",
       "    </tr>\n",
       "    <tr>\n",
       "      <th>15300</th>\n",
       "      <td>0.9835</td>\n",
       "      <td>1.000000</td>\n",
       "    </tr>\n",
       "    <tr>\n",
       "      <th>15600</th>\n",
       "      <td>0.9842</td>\n",
       "      <td>1.000000</td>\n",
       "    </tr>\n",
       "    <tr>\n",
       "      <th>15900</th>\n",
       "      <td>0.9838</td>\n",
       "      <td>1.000000</td>\n",
       "    </tr>\n",
       "    <tr>\n",
       "      <th>16200</th>\n",
       "      <td>0.9837</td>\n",
       "      <td>1.000000</td>\n",
       "    </tr>\n",
       "    <tr>\n",
       "      <th>16500</th>\n",
       "      <td>0.9838</td>\n",
       "      <td>1.000000</td>\n",
       "    </tr>\n",
       "    <tr>\n",
       "      <th>16800</th>\n",
       "      <td>0.9840</td>\n",
       "      <td>1.000000</td>\n",
       "    </tr>\n",
       "    <tr>\n",
       "      <th>17100</th>\n",
       "      <td>0.9837</td>\n",
       "      <td>1.000000</td>\n",
       "    </tr>\n",
       "    <tr>\n",
       "      <th>17400</th>\n",
       "      <td>0.9837</td>\n",
       "      <td>1.000000</td>\n",
       "    </tr>\n",
       "    <tr>\n",
       "      <th>17700</th>\n",
       "      <td>0.9838</td>\n",
       "      <td>1.000000</td>\n",
       "    </tr>\n",
       "    <tr>\n",
       "      <th>18000</th>\n",
       "      <td>0.9840</td>\n",
       "      <td>1.000000</td>\n",
       "    </tr>\n",
       "    <tr>\n",
       "      <th>18300</th>\n",
       "      <td>0.9836</td>\n",
       "      <td>1.000000</td>\n",
       "    </tr>\n",
       "    <tr>\n",
       "      <th>18600</th>\n",
       "      <td>0.9837</td>\n",
       "      <td>1.000000</td>\n",
       "    </tr>\n",
       "    <tr>\n",
       "      <th>18900</th>\n",
       "      <td>0.9840</td>\n",
       "      <td>1.000000</td>\n",
       "    </tr>\n",
       "    <tr>\n",
       "      <th>19200</th>\n",
       "      <td>0.9836</td>\n",
       "      <td>1.000000</td>\n",
       "    </tr>\n",
       "    <tr>\n",
       "      <th>19500</th>\n",
       "      <td>0.9839</td>\n",
       "      <td>1.000000</td>\n",
       "    </tr>\n",
       "    <tr>\n",
       "      <th>19800</th>\n",
       "      <td>0.9837</td>\n",
       "      <td>1.000000</td>\n",
       "    </tr>\n",
       "  </tbody>\n",
       "</table>\n",
       "<p>63 rows × 2 columns</p>\n",
       "</div>"
      ],
      "text/plain": [
       "          acc       c_e\n",
       "1200   0.9692  0.977982\n",
       "1500   0.9634  0.973709\n",
       "1800   0.9741  0.985182\n",
       "2100   0.9770  0.990218\n",
       "2400   0.9721  0.987873\n",
       "2700   0.9723  0.987327\n",
       "3000   0.9766  0.990836\n",
       "3300   0.9774  0.993782\n",
       "3600   0.9755  0.993836\n",
       "3900   0.9758  0.995291\n",
       "4200   0.9788  0.996564\n",
       "4500   0.9802  0.997400\n",
       "4800   0.9763  0.994091\n",
       "5100   0.9796  0.997145\n",
       "5400   0.9801  0.997291\n",
       "5700   0.9766  0.996909\n",
       "6000   0.9777  0.996055\n",
       "6300   0.9832  0.999309\n",
       "6600   0.9810  0.998491\n",
       "6900   0.9817  0.999582\n",
       "7200   0.9814  0.999600\n",
       "7500   0.9835  0.999764\n",
       "7800   0.9825  0.999964\n",
       "8100   0.9834  0.999964\n",
       "8400   0.9826  0.999982\n",
       "8700   0.9832  0.999982\n",
       "9000   0.9834  1.000000\n",
       "9300   0.9838  1.000000\n",
       "9600   0.9837  1.000000\n",
       "9900   0.9836  1.000000\n",
       "...       ...       ...\n",
       "11100  0.9837  1.000000\n",
       "11400  0.9836  1.000000\n",
       "11700  0.9838  1.000000\n",
       "12000  0.9839  1.000000\n",
       "12300  0.9838  1.000000\n",
       "12600  0.9838  1.000000\n",
       "12900  0.9839  1.000000\n",
       "13200  0.9837  1.000000\n",
       "13500  0.9838  1.000000\n",
       "13800  0.9835  1.000000\n",
       "14100  0.9838  1.000000\n",
       "14400  0.9839  1.000000\n",
       "14700  0.9838  1.000000\n",
       "15000  0.9837  1.000000\n",
       "15300  0.9835  1.000000\n",
       "15600  0.9842  1.000000\n",
       "15900  0.9838  1.000000\n",
       "16200  0.9837  1.000000\n",
       "16500  0.9838  1.000000\n",
       "16800  0.9840  1.000000\n",
       "17100  0.9837  1.000000\n",
       "17400  0.9837  1.000000\n",
       "17700  0.9838  1.000000\n",
       "18000  0.9840  1.000000\n",
       "18300  0.9836  1.000000\n",
       "18600  0.9837  1.000000\n",
       "18900  0.9840  1.000000\n",
       "19200  0.9836  1.000000\n",
       "19500  0.9839  1.000000\n",
       "19800  0.9837  1.000000\n",
       "\n",
       "[63 rows x 2 columns]"
      ]
     },
     "execution_count": 11,
     "metadata": {},
     "output_type": "execute_result"
    }
   ],
   "source": [
    "df"
   ]
  },
  {
   "cell_type": "markdown",
   "metadata": {},
   "source": [
    "## 结论"
   ]
  },
  {
   "cell_type": "markdown",
   "metadata": {},
   "source": [
    "将这个非常简陋模型复杂化后，这个模型优化至98%以上的准确率。\n",
    "Hint：\n",
    "- 多隐层: 3层\n",
    "- 激活函数: 一层:relu6, 二层:tanh , 三层:relu\n",
    "- 正则化: 无\n",
    "- 初始化: 见上面注释\n",
    "- 摸索一下各个超参数\n",
    "  - 隐层神经元数量:一层:784x200, 二层:200x200, 三层:200x200\n",
    "  - 学习率: 0.5\n",
    "  - 正则化惩罚因子: 无\n",
    "  - 最好每隔300个step就对loss、accuracy等等进行一次输出，这样才能有根据地进行调整"
   ]
  },
  {
   "cell_type": "code",
   "execution_count": null,
   "metadata": {},
   "outputs": [],
   "source": []
  }
 ],
 "metadata": {
  "kernelspec": {
   "display_name": "Python 3",
   "language": "python",
   "name": "python3"
  },
  "language_info": {
   "codemirror_mode": {
    "name": "ipython",
    "version": 3
   },
   "file_extension": ".py",
   "mimetype": "text/x-python",
   "name": "python",
   "nbconvert_exporter": "python",
   "pygments_lexer": "ipython3",
   "version": "3.6.4"
  },
  "toc": {
   "nav_menu": {},
   "number_sections": true,
   "sideBar": true,
   "skip_h1_title": false,
   "title_cell": "Mnist 多层感知器",
   "title_sidebar": "三层隐层",
   "toc_cell": true,
   "toc_position": {},
   "toc_section_display": true,
   "toc_window_display": false
  }
 },
 "nbformat": 4,
 "nbformat_minor": 2
}
