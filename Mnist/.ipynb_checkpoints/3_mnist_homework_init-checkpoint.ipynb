{
 "cells": [
  {
   "cell_type": "markdown",
   "metadata": {
    "toc": true
   },
   "source": [
    "<h1>Mnist 多层感知器版更换初始化<span class=\"tocSkip\"></span></h1>\n",
    "<div class=\"toc\"><ul class=\"toc-item\"><li><span><a href=\"#导入工具包\" data-toc-modified-id=\"导入工具包-1\"><span class=\"toc-item-num\">1&nbsp;&nbsp;</span>导入工具包</a></span></li><li><span><a href=\"#导入数据\" data-toc-modified-id=\"导入数据-2\"><span class=\"toc-item-num\">2&nbsp;&nbsp;</span>导入数据</a></span></li><li><span><a href=\"#初始化模型参数\" data-toc-modified-id=\"初始化模型参数-3\"><span class=\"toc-item-num\">3&nbsp;&nbsp;</span>初始化模型参数</a></span></li><li><span><a href=\"#添加隐层\" data-toc-modified-id=\"添加隐层-4\"><span class=\"toc-item-num\">4&nbsp;&nbsp;</span>添加隐层</a></span></li><li><span><a href=\"#定义交叉熵\" data-toc-modified-id=\"定义交叉熵-5\"><span class=\"toc-item-num\">5&nbsp;&nbsp;</span>定义交叉熵</a></span></li><li><span><a href=\"#设置随机梯度下降\" data-toc-modified-id=\"设置随机梯度下降-6\"><span class=\"toc-item-num\">6&nbsp;&nbsp;</span>设置随机梯度下降</a></span></li><li><span><a href=\"#初始化所有参数\" data-toc-modified-id=\"初始化所有参数-7\"><span class=\"toc-item-num\">7&nbsp;&nbsp;</span>初始化所有参数</a></span></li><li><span><a href=\"#进行train\" data-toc-modified-id=\"进行train-8\"><span class=\"toc-item-num\">8&nbsp;&nbsp;</span>进行train</a></span></li><li><span><a href=\"#评价\" data-toc-modified-id=\"评价-9\"><span class=\"toc-item-num\">9&nbsp;&nbsp;</span>评价</a></span></li><li><span><a href=\"#多层隐层\" data-toc-modified-id=\"多层隐层-10\"><span class=\"toc-item-num\">10&nbsp;&nbsp;</span>多层隐层</a></span></li><li><span><a href=\"#结论\" data-toc-modified-id=\"结论-11\"><span class=\"toc-item-num\">11&nbsp;&nbsp;</span>结论</a></span></li></ul></div>"
   ]
  },
  {
   "cell_type": "markdown",
   "metadata": {},
   "source": [
    "## 导入工具包"
   ]
  },
  {
   "cell_type": "code",
   "execution_count": 1,
   "metadata": {
    "ExecuteTime": {
     "end_time": "2018-03-23T03:51:35.902658Z",
     "start_time": "2018-03-23T03:51:33.027061Z"
    }
   },
   "outputs": [],
   "source": [
    "\"\"\"A very simple MNIST classifier.\n",
    "See extensive documentation at\n",
    "https://www.tensorflow.org/get_started/mnist/beginners\n",
    "\"\"\"\n",
    "#from __future__ import absolute_import\n",
    "#from __future__ import division\n",
    "#from __future__ import print_function\n",
    "\n",
    "import argparse\n",
    "import sys\n",
    "\n",
    "from tensorflow.examples.tutorials.mnist import input_data\n",
    "\n",
    "import tensorflow as tf\n",
    "\n",
    "FLAGS = None\n"
   ]
  },
  {
   "cell_type": "markdown",
   "metadata": {},
   "source": [
    "## 导入数据"
   ]
  },
  {
   "cell_type": "code",
   "execution_count": 2,
   "metadata": {
    "ExecuteTime": {
     "end_time": "2018-03-23T03:51:36.634165Z",
     "start_time": "2018-03-23T03:51:35.906161Z"
    }
   },
   "outputs": [
    {
     "name": "stdout",
     "output_type": "stream",
     "text": [
      "Extracting E:/AI/00/data/Mnist/input_data\\train-images-idx3-ubyte.gz\n",
      "Extracting E:/AI/00/data/Mnist/input_data\\train-labels-idx1-ubyte.gz\n",
      "Extracting E:/AI/00/data/Mnist/input_data\\t10k-images-idx3-ubyte.gz\n",
      "Extracting E:/AI/00/data/Mnist/input_data\\t10k-labels-idx1-ubyte.gz\n"
     ]
    }
   ],
   "source": [
    "# Import data\n",
    "data_dir = 'E:/AI/00/data/Mnist/input_data'\n",
    "mnist = input_data.read_data_sets(data_dir, one_hot=True)"
   ]
  },
  {
   "cell_type": "markdown",
   "metadata": {
    "ExecuteTime": {
     "end_time": "2018-03-23T01:14:41.317119Z",
     "start_time": "2018-03-23T01:14:41.314117Z"
    }
   },
   "source": [
    "## 初始化模型参数"
   ]
  },
  {
   "cell_type": "code",
   "execution_count": 3,
   "metadata": {
    "ExecuteTime": {
     "end_time": "2018-03-23T03:52:30.356084Z",
     "start_time": "2018-03-23T03:52:30.281031Z"
    }
   },
   "outputs": [],
   "source": [
    "# Create the model\n",
    "x = tf.placeholder(tf.float32, [None, 784])\n",
    "W1 = tf.Variable(tf.truncated_normal([784,100],stddev=0.1))\n",
    "b1 = tf.Variable(tf.zeros([100]))\n",
    "W2 = tf.Variable(tf.truncated_normal([100,100],stddev=0.1))\n",
    "b2 = tf.Variable(tf.zeros([100]))\n",
    "W3 = tf.Variable(tf.truncated_normal([100,100],stddev=0.1))\n",
    "b3 = tf.Variable(tf.zeros([100]))\n",
    "W4 = tf.Variable(tf.truncated_normal([100,100],stddev=0.1))\n",
    "b4 = tf.Variable(tf.zeros([100]))\n",
    "W5 = tf.Variable(tf.zeros([100, 10]))\n",
    "b5 = tf.Variable(tf.zeros([10]))"
   ]
  },
  {
   "cell_type": "markdown",
   "metadata": {},
   "source": [
    "## 添加隐层"
   ]
  },
  {
   "cell_type": "code",
   "execution_count": 4,
   "metadata": {
    "ExecuteTime": {
     "end_time": "2018-03-23T03:52:31.692389Z",
     "start_time": "2018-03-23T03:52:31.670370Z"
    }
   },
   "outputs": [],
   "source": [
    "# 添加隐层\n",
    "hidden1 = tf.nn.sigmoid(tf.matmul(x,W1)+b1)\n",
    "hidden2 = tf.nn.relu(tf.matmul(hidden1,W2)+b2)\n",
    "hidden3 = tf.nn.relu6(tf.matmul(hidden2,W3)+b3)\n",
    "hidden4 = tf.nn.tanh(tf.matmul(hidden3,W4)+b4)\n",
    "y = tf.matmul(hidden4, W5) + b5\n",
    "y_ = tf.placeholder(tf.float32, [None, 10])"
   ]
  },
  {
   "cell_type": "markdown",
   "metadata": {},
   "source": [
    "## 定义交叉熵"
   ]
  },
  {
   "cell_type": "code",
   "execution_count": 5,
   "metadata": {
    "ExecuteTime": {
     "end_time": "2018-03-23T03:52:34.321713Z",
     "start_time": "2018-03-23T03:52:34.294649Z"
    }
   },
   "outputs": [],
   "source": [
    "cross_entropy = tf.reduce_mean(\n",
    "    tf.nn.softmax_cross_entropy_with_logits_v2(labels=y_, logits=y))"
   ]
  },
  {
   "cell_type": "markdown",
   "metadata": {},
   "source": [
    "## 设置随机梯度下降"
   ]
  },
  {
   "cell_type": "code",
   "execution_count": 6,
   "metadata": {
    "ExecuteTime": {
     "end_time": "2018-03-23T03:52:36.228997Z",
     "start_time": "2018-03-23T03:52:36.121911Z"
    }
   },
   "outputs": [],
   "source": [
    "train_step = tf.train.GradientDescentOptimizer(0.5).minimize(cross_entropy)"
   ]
  },
  {
   "cell_type": "markdown",
   "metadata": {},
   "source": [
    "## 初始化所有参数"
   ]
  },
  {
   "cell_type": "code",
   "execution_count": 7,
   "metadata": {
    "ExecuteTime": {
     "end_time": "2018-03-23T03:52:37.501156Z",
     "start_time": "2018-03-23T03:52:37.462126Z"
    }
   },
   "outputs": [],
   "source": [
    "sess = tf.Session()\n",
    "init_op = tf.global_variables_initializer()\n",
    "sess.run(init_op)"
   ]
  },
  {
   "cell_type": "markdown",
   "metadata": {},
   "source": [
    "## 进行train"
   ]
  },
  {
   "cell_type": "code",
   "execution_count": 8,
   "metadata": {
    "ExecuteTime": {
     "end_time": "2018-03-23T03:52:48.935418Z",
     "start_time": "2018-03-23T03:52:39.646322Z"
    }
   },
   "outputs": [],
   "source": [
    "# Train\n",
    "for _ in range(3000):\n",
    "  batch_xs, batch_ys = mnist.train.next_batch(100)\n",
    "  sess.run(train_step, feed_dict={x: batch_xs, y_: batch_ys})"
   ]
  },
  {
   "cell_type": "markdown",
   "metadata": {},
   "source": [
    "## 评价"
   ]
  },
  {
   "cell_type": "code",
   "execution_count": 9,
   "metadata": {
    "ExecuteTime": {
     "end_time": "2018-03-23T03:52:49.025991Z",
     "start_time": "2018-03-23T03:52:48.939931Z"
    }
   },
   "outputs": [
    {
     "name": "stdout",
     "output_type": "stream",
     "text": [
      "0.9687\n"
     ]
    }
   ],
   "source": [
    "  # Test trained model\n",
    "correct_prediction = tf.equal(tf.argmax(y, 1), tf.argmax(y_, 1))\n",
    "accuracy = tf.reduce_mean(tf.cast(correct_prediction, tf.float32))\n",
    "print(sess.run(accuracy, feed_dict={x: mnist.test.images,\n",
    "                                      y_: mnist.test.labels}))"
   ]
  },
  {
   "cell_type": "markdown",
   "metadata": {},
   "source": [
    "毫无疑问，这个模型是一个非常简陋，性能也不理想的模型。目前只能达到92%左右的准确率。\n",
    "接下来，希望大家利用现有的知识，将这个模型优化至98%以上的准确率。\n",
    "Hint：\n",
    "- 多隐层`一层隐层后95%`\n",
    "- 激活函数\n",
    "- 正则化\n",
    "- 初始化\n",
    "- 摸索一下各个超参数\n",
    "  - 隐层神经元数量\n",
    "  - 学习率\n",
    "  - 正则化惩罚因子\n",
    "  - 最好每隔几个step就对loss、accuracy等等进行一次输出，这样才能有根据地进行调整"
   ]
  },
  {
   "cell_type": "markdown",
   "metadata": {},
   "source": [
    "## 多层隐层"
   ]
  },
  {
   "cell_type": "code",
   "execution_count": 44,
   "metadata": {
    "ExecuteTime": {
     "end_time": "2018-03-23T03:08:06.415125Z",
     "start_time": "2018-03-23T03:08:06.384104Z"
    }
   },
   "outputs": [],
   "source": [
    "cross_entropy = tf.reduce_mean(\n",
    "    tf.nn.softmax_cross_entropy_with_logits_v2(labels=y_, logits=y))"
   ]
  },
  {
   "cell_type": "code",
   "execution_count": 45,
   "metadata": {
    "ExecuteTime": {
     "end_time": "2018-03-23T03:08:06.803001Z",
     "start_time": "2018-03-23T03:08:06.698422Z"
    }
   },
   "outputs": [],
   "source": [
    "train_step = tf.train.GradientDescentOptimizer(0.5).minimize(cross_entropy)"
   ]
  },
  {
   "cell_type": "code",
   "execution_count": 46,
   "metadata": {
    "ExecuteTime": {
     "end_time": "2018-03-23T03:08:07.066936Z",
     "start_time": "2018-03-23T03:08:06.940339Z"
    }
   },
   "outputs": [],
   "source": [
    "sess = tf.Session()\n",
    "init_op = tf.global_variables_initializer()\n",
    "sess.run(init_op)"
   ]
  },
  {
   "cell_type": "code",
   "execution_count": 47,
   "metadata": {
    "ExecuteTime": {
     "end_time": "2018-03-23T03:08:16.149893Z",
     "start_time": "2018-03-23T03:08:07.226236Z"
    }
   },
   "outputs": [],
   "source": [
    "# Train\n",
    "for _ in range(3000):\n",
    "  batch_xs, batch_ys = mnist.train.next_batch(100)\n",
    "  sess.run(train_step, feed_dict={x: batch_xs, y_: batch_ys})"
   ]
  },
  {
   "cell_type": "code",
   "execution_count": 48,
   "metadata": {
    "ExecuteTime": {
     "end_time": "2018-03-23T03:08:16.260005Z",
     "start_time": "2018-03-23T03:08:16.151897Z"
    }
   },
   "outputs": [
    {
     "name": "stdout",
     "output_type": "stream",
     "text": [
      "0.9692\n"
     ]
    }
   ],
   "source": [
    "# Test trained model\n",
    "correct_prediction = tf.equal(tf.argmax(y, 1), tf.argmax(y_, 1))\n",
    "accuracy = tf.reduce_mean(tf.cast(correct_prediction, tf.float32))\n",
    "print(sess.run(accuracy, feed_dict={x: mnist.test.images,\n",
    "                                      y_: mnist.test.labels}))"
   ]
  },
  {
   "cell_type": "markdown",
   "metadata": {},
   "source": [
    "四层隐层之后,正确率达到96%"
   ]
  },
  {
   "cell_type": "markdown",
   "metadata": {},
   "source": [
    "## 结论"
   ]
  },
  {
   "cell_type": "markdown",
   "metadata": {
    "ExecuteTime": {
     "end_time": "2018-03-23T03:47:53.024407Z",
     "start_time": "2018-03-23T03:47:52.999385Z"
    }
   },
   "source": [
    "应当加隐层"
   ]
  },
  {
   "cell_type": "code",
   "execution_count": null,
   "metadata": {},
   "outputs": [],
   "source": []
  }
 ],
 "metadata": {
  "kernelspec": {
   "display_name": "Python 3",
   "language": "python",
   "name": "python3"
  },
  "language_info": {
   "codemirror_mode": {
    "name": "ipython",
    "version": 3
   },
   "file_extension": ".py",
   "mimetype": "text/x-python",
   "name": "python",
   "nbconvert_exporter": "python",
   "pygments_lexer": "ipython3",
   "version": "3.6.4"
  },
  "toc": {
   "nav_menu": {},
   "number_sections": true,
   "sideBar": true,
   "skip_h1_title": false,
   "title_cell": "Mnist 多层感知器版更换初始化",
   "title_sidebar": "添加隐层",
   "toc_cell": true,
   "toc_position": {},
   "toc_section_display": true,
   "toc_window_display": false
  }
 },
 "nbformat": 4,
 "nbformat_minor": 2
}
