{
 "cells": [
  {
   "cell_type": "markdown",
   "metadata": {
    "toc": true
   },
   "source": [
    "<h1>Mnist 多层感知器版<span class=\"tocSkip\"></span></h1>\n",
    "<div class=\"toc\"><ul class=\"toc-item\"><li><span><a href=\"#导入工具包\" data-toc-modified-id=\"导入工具包-1\"><span class=\"toc-item-num\">1&nbsp;&nbsp;</span>导入工具包</a></span></li><li><span><a href=\"#导入数据\" data-toc-modified-id=\"导入数据-2\"><span class=\"toc-item-num\">2&nbsp;&nbsp;</span>导入数据</a></span></li><li><span><a href=\"#初始化模型参数\" data-toc-modified-id=\"初始化模型参数-3\"><span class=\"toc-item-num\">3&nbsp;&nbsp;</span>初始化模型参数</a></span></li><li><span><a href=\"#添加隐层\" data-toc-modified-id=\"添加隐层-4\"><span class=\"toc-item-num\">4&nbsp;&nbsp;</span>添加隐层</a></span></li><li><span><a href=\"#定义交叉熵\" data-toc-modified-id=\"定义交叉熵-5\"><span class=\"toc-item-num\">5&nbsp;&nbsp;</span>定义交叉熵</a></span></li><li><span><a href=\"#设置随机梯度下降\" data-toc-modified-id=\"设置随机梯度下降-6\"><span class=\"toc-item-num\">6&nbsp;&nbsp;</span>设置随机梯度下降</a></span></li><li><span><a href=\"#初始化所有参数\" data-toc-modified-id=\"初始化所有参数-7\"><span class=\"toc-item-num\">7&nbsp;&nbsp;</span>初始化所有参数</a></span></li><li><span><a href=\"#进行train\" data-toc-modified-id=\"进行train-8\"><span class=\"toc-item-num\">8&nbsp;&nbsp;</span>进行train</a></span></li><li><span><a href=\"#评价\" data-toc-modified-id=\"评价-9\"><span class=\"toc-item-num\">9&nbsp;&nbsp;</span>评价</a></span></li><li><span><a href=\"#多层隐层\" data-toc-modified-id=\"多层隐层-10\"><span class=\"toc-item-num\">10&nbsp;&nbsp;</span>多层隐层</a></span></li><li><span><a href=\"#结论\" data-toc-modified-id=\"结论-11\"><span class=\"toc-item-num\">11&nbsp;&nbsp;</span>结论</a></span></li></ul></div>"
   ]
  },
  {
   "cell_type": "markdown",
   "metadata": {},
   "source": [
    "## 导入工具包"
   ]
  },
  {
   "cell_type": "code",
   "execution_count": 3,
   "metadata": {
    "ExecuteTime": {
     "end_time": "2018-04-02T05:17:34.906779Z",
     "start_time": "2018-04-02T05:17:34.892765Z"
    }
   },
   "outputs": [],
   "source": [
    "\"\"\"A very simple MNIST classifier.\n",
    "See extensive documentation at\n",
    "https://www.tensorflow.org/get_started/mnist/beginners\n",
    "\"\"\"\n",
    "#from __future__ import absolute_import\n",
    "#from __future__ import division\n",
    "#from __future__ import print_function\n",
    "\n",
    "import argparse\n",
    "import sys\n",
    "\n",
    "from tensorflow.examples.tutorials.mnist import input_data\n",
    "\n",
    "import tensorflow as tf\n",
    "\n",
    "import matplotlib.pyplot as plt\n",
    "import pandas as pd\n",
    "import numpy as np\n",
    "\n",
    "FLAGS = None\n"
   ]
  },
  {
   "cell_type": "markdown",
   "metadata": {},
   "source": [
    "## 导入数据"
   ]
  },
  {
   "cell_type": "code",
   "execution_count": 4,
   "metadata": {
    "ExecuteTime": {
     "end_time": "2018-04-02T05:17:36.855822Z",
     "start_time": "2018-04-02T05:17:36.171668Z"
    }
   },
   "outputs": [
    {
     "name": "stdout",
     "output_type": "stream",
     "text": [
      "Extracting E:/AI/00/data/Mnist/input_data\\train-images-idx3-ubyte.gz\n",
      "Extracting E:/AI/00/data/Mnist/input_data\\train-labels-idx1-ubyte.gz\n",
      "Extracting E:/AI/00/data/Mnist/input_data\\t10k-images-idx3-ubyte.gz\n",
      "Extracting E:/AI/00/data/Mnist/input_data\\t10k-labels-idx1-ubyte.gz\n"
     ]
    }
   ],
   "source": [
    "# Import data\n",
    "data_dir = 'E:/AI/00/data/Mnist/input_data'\n",
    "mnist = input_data.read_data_sets(data_dir, one_hot=True)"
   ]
  },
  {
   "cell_type": "markdown",
   "metadata": {
    "ExecuteTime": {
     "end_time": "2018-03-23T01:14:41.317119Z",
     "start_time": "2018-03-23T01:14:41.314117Z"
    }
   },
   "source": [
    "## 初始化模型参数"
   ]
  },
  {
   "cell_type": "code",
   "execution_count": 5,
   "metadata": {
    "ExecuteTime": {
     "end_time": "2018-04-02T05:17:39.242598Z",
     "start_time": "2018-04-02T05:17:39.203067Z"
    }
   },
   "outputs": [],
   "source": [
    "# Create the model\n",
    "x = tf.placeholder(tf.float32, [None, 784])\n",
    "W1 = tf.Variable(tf.random_normal([784,400],stddev=0.1,seed=66))\n",
    "#用一个较小的正数来初始化偏置项, \n",
    "#[784,100]中的100是隐层权重矩阵的列数,大小随意\n",
    "#[784,100]中的784是为了与x中的[None,784]保持一致\n",
    "b1 = tf.Variable(tf.zeros([400]))\n",
    "#[100]同[784,100]中的100保持一致\n",
    "W2 = tf.Variable(tf.zeros([400, 10]))\n",
    "#[100,10]中的100同[784,100]中的100保持一致\n",
    "#[100,10]中的10同最终输出10中的10保持一致\n",
    "b2 = tf.Variable(tf.zeros([10]))\n",
    "#[10]同[100,10]中的10保持一致"
   ]
  },
  {
   "cell_type": "markdown",
   "metadata": {},
   "source": [
    "## 添加隐层"
   ]
  },
  {
   "cell_type": "code",
   "execution_count": 6,
   "metadata": {
    "ExecuteTime": {
     "end_time": "2018-04-02T05:17:42.174432Z",
     "start_time": "2018-04-02T05:17:42.162425Z"
    }
   },
   "outputs": [],
   "source": [
    "# Define loss and optimizer\n",
    "hidden1=tf.nn.sigmoid(tf.matmul(x,W1)+b1)  #这里使用传统的Sigmoid非线性激活函数\n",
    "y = tf.matmul(hidden1, W2) + b2\n",
    "y_ = tf.placeholder(tf.float32, [None, 10])"
   ]
  },
  {
   "cell_type": "markdown",
   "metadata": {},
   "source": [
    "## 定义交叉熵"
   ]
  },
  {
   "cell_type": "code",
   "execution_count": 7,
   "metadata": {
    "ExecuteTime": {
     "end_time": "2018-04-02T05:17:43.945995Z",
     "start_time": "2018-04-02T05:17:43.914467Z"
    }
   },
   "outputs": [],
   "source": [
    "cross_entropy = tf.reduce_mean(\n",
    "    tf.nn.softmax_cross_entropy_with_logits_v2(labels=y_, logits=y))"
   ]
  },
  {
   "cell_type": "markdown",
   "metadata": {},
   "source": [
    "## 设置随机梯度下降"
   ]
  },
  {
   "cell_type": "code",
   "execution_count": 8,
   "metadata": {
    "ExecuteTime": {
     "end_time": "2018-04-02T05:17:45.094821Z",
     "start_time": "2018-04-02T05:17:45.033270Z"
    }
   },
   "outputs": [],
   "source": [
    "train_step = tf.train.GradientDescentOptimizer(0.5).minimize(cross_entropy)"
   ]
  },
  {
   "cell_type": "markdown",
   "metadata": {},
   "source": [
    "## 初始化所有参数"
   ]
  },
  {
   "cell_type": "code",
   "execution_count": 9,
   "metadata": {
    "ExecuteTime": {
     "end_time": "2018-04-02T05:17:47.638821Z",
     "start_time": "2018-04-02T05:17:47.602797Z"
    }
   },
   "outputs": [],
   "source": [
    "sess = tf.Session()\n",
    "init_op = tf.global_variables_initializer()\n",
    "sess.run(init_op)"
   ]
  },
  {
   "cell_type": "markdown",
   "metadata": {},
   "source": [
    "## 进行train"
   ]
  },
  {
   "cell_type": "code",
   "execution_count": 10,
   "metadata": {
    "ExecuteTime": {
     "end_time": "2018-04-02T05:19:55.982558Z",
     "start_time": "2018-04-02T05:17:50.354312Z"
    }
   },
   "outputs": [],
   "source": [
    "# 开始训练,Train\n",
    "\n",
    "# 设置正确率计算公式\n",
    "correct_prediction = tf.equal(tf.argmax(y, 1), tf.argmax(y_, 1))\n",
    "accuracy = tf.reduce_mean(tf.cast(correct_prediction, tf.float32))\n",
    "\n",
    "a_ce={'train':[],'test':[],'c_e':[]}#用于存放正确率和交叉熵\n",
    "#{'acc': accuracy, 'c_e': cross_entropy}\n",
    "for _ in range(20000):\n",
    "    # 每次获取小批量的数据\n",
    "    batch_xs, batch_ys = mnist.train.next_batch(100)\n",
    "    # 执行train_step\n",
    "    sess.run(train_step, feed_dict={x: batch_xs, y_: batch_ys})\n",
    "    if _ %300==0:\n",
    "        #将正确率和交叉熵分别添加进各自的list\n",
    "        a_ce['train'].append(sess.run(accuracy, feed_dict={x: mnist.test.images,y_: mnist.test.labels}))\n",
    "        a_ce['c_e'].append(sess.run(cross_entropy, feed_dict={x: mnist.test.images,y_: mnist.test.labels}))\n",
    "        a_ce['test'].append(sess.run(accuracy, feed_dict={x: mnist.train.images,y_: mnist.train.labels}))"
   ]
  },
  {
   "cell_type": "markdown",
   "metadata": {},
   "source": [
    "验证我们模型在测试数据上的准确率"
   ]
  },
  {
   "cell_type": "markdown",
   "metadata": {},
   "source": [
    "## 评价"
   ]
  },
  {
   "cell_type": "code",
   "execution_count": 11,
   "metadata": {
    "ExecuteTime": {
     "end_time": "2018-04-02T05:19:55.995206Z",
     "start_time": "2018-04-02T05:19:55.982558Z"
    }
   },
   "outputs": [],
   "source": [
    "# 将得到的正确率和交叉熵转换成DataFrame\n",
    "df=pd.DataFrame(data=a_ce,index=[x for x in range(20000) if x%300==0])\n",
    "# 删除前几列的异常点\n",
    "df.drop([0,300,600,900],inplace=True)"
   ]
  },
  {
   "cell_type": "code",
   "execution_count": 12,
   "metadata": {
    "ExecuteTime": {
     "end_time": "2018-04-02T05:19:56.308105Z",
     "start_time": "2018-04-02T05:19:55.997207Z"
    }
   },
   "outputs": [
    {
     "data": {
      "image/png": "[encoded data removed]",
      "text/plain": [
       "<Figure size 432x288 with 2 Axes>"
      ]
     },
     "metadata": {},
     "output_type": "display_data"
    }
   ],
   "source": [
    "# 绘图\n",
    "\n",
    "# 子图一: 正确率\n",
    "ax1 = plt.figure().add_subplot(111)\n",
    "ax1.plot(df['train'], label='train', color='b')\n",
    "ax1.plot(df['test'], label='test', color='g')\n",
    "ax1.plot([1000,20000], [0.98,0.98], label='0.98', color='y')\n",
    "#ax1.set_ylim([0.970, 0.984])\n",
    "ax1.set_ylabel('accuracy')\n",
    "ax1.legend(loc=4)\n",
    "\n",
    "# 子图一: 交叉熵\n",
    "ax2 = ax1.twinx()  \n",
    "ax2.plot(df['c_e'],label='cross_entropy', color='r')\n",
    "#ax2.set_ylim([0.072, 0.100])\n",
    "ax2.set_ylabel('cross_entropy')\n",
    "ax2.legend(loc=8)\n",
    "\n",
    "plt.grid(True, linestyle = \"-\")\n",
    "plt.show()"
   ]
  },
  {
   "cell_type": "code",
   "execution_count": 13,
   "metadata": {
    "ExecuteTime": {
     "end_time": "2018-04-02T05:19:56.347142Z",
     "start_time": "2018-04-02T05:19:56.310106Z"
    }
   },
   "outputs": [
    {
     "data": {
      "text/html": [
       "<div>\n",
       "<style scoped>\n",
       "    .dataframe tbody tr th:only-of-type {\n",
       "        vertical-align: middle;\n",
       "    }\n",
       "\n",
       "    .dataframe tbody tr th {\n",
       "        vertical-align: top;\n",
       "    }\n",
       "\n",
       "    .dataframe thead th {\n",
       "        text-align: right;\n",
       "    }\n",
       "</style>\n",
       "<table border=\"1\" class=\"dataframe\">\n",
       "  <thead>\n",
       "    <tr style=\"text-align: right;\">\n",
       "      <th></th>\n",
       "      <th>1200</th>\n",
       "      <th>1500</th>\n",
       "      <th>1800</th>\n",
       "      <th>2100</th>\n",
       "      <th>2400</th>\n",
       "      <th>2700</th>\n",
       "      <th>3000</th>\n",
       "      <th>3300</th>\n",
       "      <th>3600</th>\n",
       "      <th>3900</th>\n",
       "      <th>...</th>\n",
       "      <th>17100</th>\n",
       "      <th>17400</th>\n",
       "      <th>17700</th>\n",
       "      <th>18000</th>\n",
       "      <th>18300</th>\n",
       "      <th>18600</th>\n",
       "      <th>18900</th>\n",
       "      <th>19200</th>\n",
       "      <th>19500</th>\n",
       "      <th>19800</th>\n",
       "    </tr>\n",
       "  </thead>\n",
       "  <tbody>\n",
       "    <tr>\n",
       "      <th>c_e</th>\n",
       "      <td>0.232672</td>\n",
       "      <td>0.216884</td>\n",
       "      <td>0.192371</td>\n",
       "      <td>0.183262</td>\n",
       "      <td>0.165805</td>\n",
       "      <td>0.153390</td>\n",
       "      <td>0.148822</td>\n",
       "      <td>0.137418</td>\n",
       "      <td>0.132274</td>\n",
       "      <td>0.129802</td>\n",
       "      <td>...</td>\n",
       "      <td>0.063048</td>\n",
       "      <td>0.062557</td>\n",
       "      <td>0.064339</td>\n",
       "      <td>0.063922</td>\n",
       "      <td>0.064899</td>\n",
       "      <td>0.064513</td>\n",
       "      <td>0.063797</td>\n",
       "      <td>0.063423</td>\n",
       "      <td>0.063450</td>\n",
       "      <td>0.062339</td>\n",
       "    </tr>\n",
       "    <tr>\n",
       "      <th>test</th>\n",
       "      <td>0.931127</td>\n",
       "      <td>0.937145</td>\n",
       "      <td>0.943982</td>\n",
       "      <td>0.949345</td>\n",
       "      <td>0.953764</td>\n",
       "      <td>0.957436</td>\n",
       "      <td>0.959327</td>\n",
       "      <td>0.962527</td>\n",
       "      <td>0.965036</td>\n",
       "      <td>0.966964</td>\n",
       "      <td>...</td>\n",
       "      <td>0.996782</td>\n",
       "      <td>0.997000</td>\n",
       "      <td>0.996945</td>\n",
       "      <td>0.997255</td>\n",
       "      <td>0.997309</td>\n",
       "      <td>0.997491</td>\n",
       "      <td>0.997527</td>\n",
       "      <td>0.997655</td>\n",
       "      <td>0.997818</td>\n",
       "      <td>0.998382</td>\n",
       "    </tr>\n",
       "    <tr>\n",
       "      <th>train</th>\n",
       "      <td>0.932700</td>\n",
       "      <td>0.937600</td>\n",
       "      <td>0.945800</td>\n",
       "      <td>0.946900</td>\n",
       "      <td>0.952100</td>\n",
       "      <td>0.955900</td>\n",
       "      <td>0.956400</td>\n",
       "      <td>0.959300</td>\n",
       "      <td>0.961600</td>\n",
       "      <td>0.962600</td>\n",
       "      <td>...</td>\n",
       "      <td>0.980700</td>\n",
       "      <td>0.980500</td>\n",
       "      <td>0.979400</td>\n",
       "      <td>0.979700</td>\n",
       "      <td>0.980400</td>\n",
       "      <td>0.979100</td>\n",
       "      <td>0.980700</td>\n",
       "      <td>0.980700</td>\n",
       "      <td>0.980100</td>\n",
       "      <td>0.981100</td>\n",
       "    </tr>\n",
       "  </tbody>\n",
       "</table>\n",
       "<p>3 rows × 63 columns</p>\n",
       "</div>"
      ],
      "text/plain": [
       "          1200      1500      1800      2100      2400      2700      3000   \\\n",
       "c_e    0.232672  0.216884  0.192371  0.183262  0.165805  0.153390  0.148822   \n",
       "test   0.931127  0.937145  0.943982  0.949345  0.953764  0.957436  0.959327   \n",
       "train  0.932700  0.937600  0.945800  0.946900  0.952100  0.955900  0.956400   \n",
       "\n",
       "          3300      3600      3900     ...        17100     17400     17700  \\\n",
       "c_e    0.137418  0.132274  0.129802    ...     0.063048  0.062557  0.064339   \n",
       "test   0.962527  0.965036  0.966964    ...     0.996782  0.997000  0.996945   \n",
       "train  0.959300  0.961600  0.962600    ...     0.980700  0.980500  0.979400   \n",
       "\n",
       "          18000     18300     18600     18900     19200     19500     19800  \n",
       "c_e    0.063922  0.064899  0.064513  0.063797  0.063423  0.063450  0.062339  \n",
       "test   0.997255  0.997309  0.997491  0.997527  0.997655  0.997818  0.998382  \n",
       "train  0.979700  0.980400  0.979100  0.980700  0.980700  0.980100  0.981100  \n",
       "\n",
       "[3 rows x 63 columns]"
      ]
     },
     "execution_count": 13,
     "metadata": {},
     "output_type": "execute_result"
    }
   ],
   "source": [
    "df.T"
   ]
  },
  {
   "cell_type": "markdown",
   "metadata": {},
   "source": [
    "毫无疑问，这个模型是一个非常简陋，性能也不理想的模型。目前只能达到92%左右的准确率。\n",
    "接下来，希望大家利用现有的知识，将这个模型优化至98%以上的准确率。\n",
    "Hint：\n",
    "- 多隐层**一层隐层,400神经元后98%**\n",
    "- 激活函数\n",
    "- 正则化\n",
    "- 初始化\n",
    "- 摸索一下各个超参数\n",
    "  - 隐层神经元数量\n",
    "  - 学习率\n",
    "  - 正则化惩罚因子\n",
    "  - 最好每隔几个step就对loss、accuracy等等进行一次输出，这样才能有根据地进行调整"
   ]
  },
  {
   "cell_type": "markdown",
   "metadata": {},
   "source": [
    "## 多层隐层"
   ]
  },
  {
   "cell_type": "code",
   "execution_count": 31,
   "metadata": {
    "ExecuteTime": {
     "end_time": "2018-04-02T05:35:04.484544Z",
     "start_time": "2018-04-02T05:35:04.397462Z"
    }
   },
   "outputs": [],
   "source": [
    "# Create the model\n",
    "x = tf.placeholder(tf.float32, [None, 784])\n",
    "W1 = tf.Variable(tf.truncated_normal([784,400],stddev=0.1))\n",
    "b1 = tf.Variable(tf.zeros([400]))\n",
    "W2 = tf.Variable(tf.truncated_normal([400,400],stddev=0.1))\n",
    "b2 = tf.Variable(tf.zeros([400]))\n",
    "W3 = tf.Variable(tf.truncated_normal([400,400],stddev=0.1))\n",
    "b3 = tf.Variable(tf.zeros([400]))\n",
    "W4 = tf.Variable(tf.truncated_normal([400,400],stddev=0.1))\n",
    "b4 = tf.Variable(tf.zeros([400]))\n",
    "W5 = tf.Variable(tf.zeros([400, 10]))\n",
    "b5 = tf.Variable(tf.zeros([10]))"
   ]
  },
  {
   "cell_type": "code",
   "execution_count": 32,
   "metadata": {
    "ExecuteTime": {
     "end_time": "2018-04-02T05:35:05.138822Z",
     "start_time": "2018-04-02T05:35:05.116808Z"
    }
   },
   "outputs": [],
   "source": [
    "# 添加隐层\n",
    "hidden1 = tf.nn.sigmoid(tf.matmul(x,W1)+b1)\n",
    "hidden2 = tf.nn.tanh(tf.matmul(hidden1,W2)+b2)\n",
    "hidden3 = tf.nn.relu6(tf.matmul(hidden2,W3)+b3)\n",
    "hidden4 = tf.nn.relu(tf.matmul(hidden3,W4)+b4)\n",
    "y = tf.matmul(hidden4, W5) + b5\n",
    "y_ = tf.placeholder(tf.float32, [None, 10])"
   ]
  },
  {
   "cell_type": "code",
   "execution_count": 33,
   "metadata": {
    "ExecuteTime": {
     "end_time": "2018-04-02T05:35:05.793398Z",
     "start_time": "2018-04-02T05:35:05.753992Z"
    }
   },
   "outputs": [],
   "source": [
    "cross_entropy = tf.reduce_mean(\n",
    "    tf.nn.softmax_cross_entropy_with_logits_v2(labels=y_, logits=y))"
   ]
  },
  {
   "cell_type": "code",
   "execution_count": 34,
   "metadata": {
    "ExecuteTime": {
     "end_time": "2018-04-02T05:35:07.239129Z",
     "start_time": "2018-04-02T05:35:06.853004Z"
    }
   },
   "outputs": [],
   "source": [
    "train_step = tf.train.GradientDescentOptimizer(40).minimize(cross_entropy)"
   ]
  },
  {
   "cell_type": "code",
   "execution_count": 35,
   "metadata": {
    "ExecuteTime": {
     "end_time": "2018-04-02T05:35:08.351943Z",
     "start_time": "2018-04-02T05:35:08.196569Z"
    }
   },
   "outputs": [],
   "source": [
    "sess = tf.Session()\n",
    "init_op = tf.global_variables_initializer()\n",
    "sess.run(init_op)"
   ]
  },
  {
   "cell_type": "code",
   "execution_count": 36,
   "metadata": {
    "ExecuteTime": {
     "end_time": "2018-04-02T05:41:47.315109Z",
     "start_time": "2018-04-02T05:35:12.973703Z"
    }
   },
   "outputs": [],
   "source": [
    "# 开始训练,Train\n",
    "\n",
    "# 设置正确率计算公式\n",
    "correct_prediction = tf.equal(tf.argmax(y, 1), tf.argmax(y_, 1))\n",
    "accuracy = tf.reduce_mean(tf.cast(correct_prediction, tf.float32))\n",
    "\n",
    "a_ce={'train':[],'test':[],'c_e':[]}#用于存放正确率和交叉熵\n",
    "#{'acc': accuracy, 'c_e': cross_entropy}\n",
    "for _ in range(20000):\n",
    "    # 每次获取小批量的数据\n",
    "    batch_xs, batch_ys = mnist.train.next_batch(100)\n",
    "    # 执行train_step\n",
    "    sess.run(train_step, feed_dict={x: batch_xs, y_: batch_ys})\n",
    "    if _ %300==0:\n",
    "        #将正确率和交叉熵分别添加进各自的list\n",
    "        a_ce['train'].append(sess.run(accuracy, feed_dict={x: mnist.test.images,y_: mnist.test.labels}))\n",
    "        a_ce['c_e'].append(sess.run(cross_entropy, feed_dict={x: mnist.test.images,y_: mnist.test.labels}))\n",
    "        a_ce['test'].append(sess.run(accuracy, feed_dict={x: mnist.train.images,y_: mnist.train.labels}))"
   ]
  },
  {
   "cell_type": "code",
   "execution_count": 37,
   "metadata": {
    "ExecuteTime": {
     "end_time": "2018-04-02T05:41:47.332119Z",
     "start_time": "2018-04-02T05:41:47.319111Z"
    }
   },
   "outputs": [],
   "source": [
    "# 将得到的正确率和交叉熵转换成DataFrame\n",
    "df=pd.DataFrame(data=a_ce,index=[x for x in range(20000) if x%300==0])\n",
    "# 删除前几列的异常点\n",
    "df.drop([0,300,600,900],inplace=True)"
   ]
  },
  {
   "cell_type": "code",
   "execution_count": 38,
   "metadata": {
    "ExecuteTime": {
     "end_time": "2018-04-02T05:41:47.658356Z",
     "start_time": "2018-04-02T05:41:47.336623Z"
    }
   },
   "outputs": [
    {
     "data": {
      "image/png": "[encoded data removed]",
      "text/plain": [
       "<Figure size 432x288 with 2 Axes>"
      ]
     },
     "metadata": {},
     "output_type": "display_data"
    }
   ],
   "source": [
    "# 绘图\n",
    "\n",
    "# 子图一: 正确率\n",
    "ax1 = plt.figure().add_subplot(111)\n",
    "ax1.plot(df['train'], label='train', color='b')\n",
    "ax1.plot(df['test'], label='test', color='g')\n",
    "ax1.plot([1000,20000], [0.98,0.98], label='0.98', color='y')\n",
    "#ax1.set_ylim([0.970, 0.984])\n",
    "ax1.set_ylabel('accuracy')\n",
    "ax1.legend(loc=4)\n",
    "\n",
    "# 子图一: 交叉熵\n",
    "ax2 = ax1.twinx()  \n",
    "ax2.plot(df['c_e'],label='cross_entropy', color='r')\n",
    "#ax2.set_ylim([0.072, 0.100])\n",
    "ax2.set_ylabel('cross_entropy')\n",
    "ax2.legend(loc=8)\n",
    "\n",
    "plt.grid(True, linestyle = \"-\")\n",
    "plt.show()"
   ]
  },
  {
   "cell_type": "code",
   "execution_count": 39,
   "metadata": {
    "ExecuteTime": {
     "end_time": "2018-04-02T05:41:47.696884Z",
     "start_time": "2018-04-02T05:41:47.661858Z"
    }
   },
   "outputs": [
    {
     "data": {
      "text/html": [
       "<div>\n",
       "<style scoped>\n",
       "    .dataframe tbody tr th:only-of-type {\n",
       "        vertical-align: middle;\n",
       "    }\n",
       "\n",
       "    .dataframe tbody tr th {\n",
       "        vertical-align: top;\n",
       "    }\n",
       "\n",
       "    .dataframe thead th {\n",
       "        text-align: right;\n",
       "    }\n",
       "</style>\n",
       "<table border=\"1\" class=\"dataframe\">\n",
       "  <thead>\n",
       "    <tr style=\"text-align: right;\">\n",
       "      <th></th>\n",
       "      <th>1200</th>\n",
       "      <th>1500</th>\n",
       "      <th>1800</th>\n",
       "      <th>2100</th>\n",
       "      <th>2400</th>\n",
       "      <th>2700</th>\n",
       "      <th>3000</th>\n",
       "      <th>3300</th>\n",
       "      <th>3600</th>\n",
       "      <th>3900</th>\n",
       "      <th>...</th>\n",
       "      <th>17100</th>\n",
       "      <th>17400</th>\n",
       "      <th>17700</th>\n",
       "      <th>18000</th>\n",
       "      <th>18300</th>\n",
       "      <th>18600</th>\n",
       "      <th>18900</th>\n",
       "      <th>19200</th>\n",
       "      <th>19500</th>\n",
       "      <th>19800</th>\n",
       "    </tr>\n",
       "  </thead>\n",
       "  <tbody>\n",
       "    <tr>\n",
       "      <th>c_e</th>\n",
       "      <td>6.959212</td>\n",
       "      <td>9.873296</td>\n",
       "      <td>10.475575</td>\n",
       "      <td>10.476928</td>\n",
       "      <td>10.299924</td>\n",
       "      <td>11.227619</td>\n",
       "      <td>9.191800</td>\n",
       "      <td>7.730433</td>\n",
       "      <td>11.725697</td>\n",
       "      <td>6.877100</td>\n",
       "      <td>...</td>\n",
       "      <td>7.638973</td>\n",
       "      <td>8.540707</td>\n",
       "      <td>8.963084</td>\n",
       "      <td>10.630229</td>\n",
       "      <td>8.377542</td>\n",
       "      <td>8.722772</td>\n",
       "      <td>10.474289</td>\n",
       "      <td>13.173118</td>\n",
       "      <td>9.651205</td>\n",
       "      <td>8.888178</td>\n",
       "    </tr>\n",
       "    <tr>\n",
       "      <th>test</th>\n",
       "      <td>0.090673</td>\n",
       "      <td>0.098491</td>\n",
       "      <td>0.097982</td>\n",
       "      <td>0.099164</td>\n",
       "      <td>0.097982</td>\n",
       "      <td>0.112345</td>\n",
       "      <td>0.090673</td>\n",
       "      <td>0.097982</td>\n",
       "      <td>0.090673</td>\n",
       "      <td>0.096491</td>\n",
       "      <td>...</td>\n",
       "      <td>0.103909</td>\n",
       "      <td>0.103909</td>\n",
       "      <td>0.099455</td>\n",
       "      <td>0.099164</td>\n",
       "      <td>0.112345</td>\n",
       "      <td>0.099164</td>\n",
       "      <td>0.096491</td>\n",
       "      <td>0.098491</td>\n",
       "      <td>0.102509</td>\n",
       "      <td>0.102509</td>\n",
       "    </tr>\n",
       "    <tr>\n",
       "      <th>train</th>\n",
       "      <td>0.089200</td>\n",
       "      <td>0.095800</td>\n",
       "      <td>0.097400</td>\n",
       "      <td>0.100900</td>\n",
       "      <td>0.097400</td>\n",
       "      <td>0.113500</td>\n",
       "      <td>0.089200</td>\n",
       "      <td>0.097400</td>\n",
       "      <td>0.089200</td>\n",
       "      <td>0.098200</td>\n",
       "      <td>...</td>\n",
       "      <td>0.102800</td>\n",
       "      <td>0.102800</td>\n",
       "      <td>0.103200</td>\n",
       "      <td>0.100900</td>\n",
       "      <td>0.113500</td>\n",
       "      <td>0.100900</td>\n",
       "      <td>0.098200</td>\n",
       "      <td>0.095800</td>\n",
       "      <td>0.101000</td>\n",
       "      <td>0.101000</td>\n",
       "    </tr>\n",
       "  </tbody>\n",
       "</table>\n",
       "<p>3 rows × 63 columns</p>\n",
       "</div>"
      ],
      "text/plain": [
       "          1200      1500       1800       2100       2400       2700   \\\n",
       "c_e    6.959212  9.873296  10.475575  10.476928  10.299924  11.227619   \n",
       "test   0.090673  0.098491   0.097982   0.099164   0.097982   0.112345   \n",
       "train  0.089200  0.095800   0.097400   0.100900   0.097400   0.113500   \n",
       "\n",
       "          3000      3300       3600      3900     ...        17100     17400  \\\n",
       "c_e    9.191800  7.730433  11.725697  6.877100    ...     7.638973  8.540707   \n",
       "test   0.090673  0.097982   0.090673  0.096491    ...     0.103909  0.103909   \n",
       "train  0.089200  0.097400   0.089200  0.098200    ...     0.102800  0.102800   \n",
       "\n",
       "          17700      18000     18300     18600      18900      19200  \\\n",
       "c_e    8.963084  10.630229  8.377542  8.722772  10.474289  13.173118   \n",
       "test   0.099455   0.099164  0.112345  0.099164   0.096491   0.098491   \n",
       "train  0.103200   0.100900  0.113500  0.100900   0.098200   0.095800   \n",
       "\n",
       "          19500     19800  \n",
       "c_e    9.651205  8.888178  \n",
       "test   0.102509  0.102509  \n",
       "train  0.101000  0.101000  \n",
       "\n",
       "[3 rows x 63 columns]"
      ]
     },
     "execution_count": 39,
     "metadata": {},
     "output_type": "execute_result"
    }
   ],
   "source": [
    "df.T"
   ]
  },
  {
   "cell_type": "markdown",
   "metadata": {},
   "source": [
    "四层隐层之后,正确率达到98%,但是交叉熵并不理想"
   ]
  },
  {
   "cell_type": "markdown",
   "metadata": {},
   "source": [
    "毫无疑问，这个模型是一个非常简陋，性能也不理想的模型。目前只能达到92%左右的准确率。\n",
    "接下来，希望大家利用现有的知识，将这个模型优化至98%以上的准确率。\n",
    "Hint：\n",
    "- 多隐层**一层隐层400神经元后98%,四层隐层,每层400后到了反而降低到10%**\n",
    "- 激活函数\n",
    "- 正则化\n",
    "- 初始化\n",
    "- 摸索一下各个超参数\n",
    "  - 隐层神经元数量\n",
    "  - 学习率\n",
    "  - 正则化惩罚因子\n",
    "  - 最好每隔几个step就对loss、accuracy等等进行一次输出，这样才能有根据地进行调整"
   ]
  },
  {
   "cell_type": "code",
   "execution_count": 58,
   "metadata": {
    "ExecuteTime": {
     "end_time": "2018-04-02T06:01:45.909565Z",
     "start_time": "2018-04-02T06:01:45.835034Z"
    }
   },
   "outputs": [],
   "source": [
    "# Create the model\n",
    "x = tf.placeholder(tf.float32, [None, 784])\n",
    "W1 = tf.Variable(tf.truncated_normal([784,400],stddev=0.1))\n",
    "b1 = tf.Variable(tf.zeros([400]))\n",
    "W2 = tf.Variable(tf.truncated_normal([400,100],stddev=0.1))\n",
    "b2 = tf.Variable(tf.zeros([100]))\n",
    "W3 = tf.Variable(tf.truncated_normal([100,400],stddev=0.1))\n",
    "b3 = tf.Variable(tf.zeros([400]))\n",
    "W4 = tf.Variable(tf.truncated_normal([400,100],stddev=0.1))\n",
    "b4 = tf.Variable(tf.zeros([100]))\n",
    "W5 = tf.Variable(tf.zeros([100, 10]))\n",
    "b5 = tf.Variable(tf.zeros([10]))"
   ]
  },
  {
   "cell_type": "code",
   "execution_count": 59,
   "metadata": {
    "ExecuteTime": {
     "end_time": "2018-04-02T06:01:46.301754Z",
     "start_time": "2018-04-02T06:01:46.278738Z"
    }
   },
   "outputs": [],
   "source": [
    "# 添加隐层\n",
    "hidden1 = tf.nn.sigmoid(tf.matmul(x,W1)+b1)\n",
    "hidden2 = tf.nn.tanh(tf.matmul(hidden1,W2)+b2)\n",
    "hidden3 = tf.nn.relu6(tf.matmul(hidden2,W3)+b3)\n",
    "hidden4 = tf.nn.relu(tf.matmul(hidden3,W4)+b4)\n",
    "y = tf.matmul(hidden4, W5) + b5\n",
    "y_ = tf.placeholder(tf.float32, [None, 10])"
   ]
  },
  {
   "cell_type": "code",
   "execution_count": 60,
   "metadata": {
    "ExecuteTime": {
     "end_time": "2018-04-02T06:01:46.920742Z",
     "start_time": "2018-04-02T06:01:46.889722Z"
    }
   },
   "outputs": [],
   "source": [
    "cross_entropy = tf.reduce_mean(\n",
    "    tf.nn.softmax_cross_entropy_with_logits_v2(labels=y_, logits=y))"
   ]
  },
  {
   "cell_type": "code",
   "execution_count": 61,
   "metadata": {
    "ExecuteTime": {
     "end_time": "2018-04-02T06:01:47.483155Z",
     "start_time": "2018-04-02T06:01:47.340538Z"
    }
   },
   "outputs": [],
   "source": [
    "train_step = tf.train.GradientDescentOptimizer(0.5).minimize(cross_entropy)"
   ]
  },
  {
   "cell_type": "code",
   "execution_count": 62,
   "metadata": {
    "ExecuteTime": {
     "end_time": "2018-04-02T06:01:48.277976Z",
     "start_time": "2018-04-02T06:01:47.945204Z"
    }
   },
   "outputs": [],
   "source": [
    "sess = tf.Session()\n",
    "init_op = tf.global_variables_initializer()\n",
    "sess.run(init_op)"
   ]
  },
  {
   "cell_type": "code",
   "execution_count": 63,
   "metadata": {
    "ExecuteTime": {
     "end_time": "2018-04-02T06:04:31.435142Z",
     "start_time": "2018-04-02T06:01:48.512831Z"
    }
   },
   "outputs": [],
   "source": [
    "# 开始训练,Train\n",
    "\n",
    "# 设置正确率计算公式\n",
    "correct_prediction = tf.equal(tf.argmax(y, 1), tf.argmax(y_, 1))\n",
    "accuracy = tf.reduce_mean(tf.cast(correct_prediction, tf.float32))\n",
    "\n",
    "a_ce={'train':[],'test':[],'c_e':[]}#用于存放正确率和交叉熵\n",
    "#{'acc': accuracy, 'c_e': cross_entropy}\n",
    "for _ in range(20000):\n",
    "    # 每次获取小批量的数据\n",
    "    batch_xs, batch_ys = mnist.train.next_batch(100)\n",
    "    # 执行train_step\n",
    "    sess.run(train_step, feed_dict={x: batch_xs, y_: batch_ys})\n",
    "    if _ %300==0:\n",
    "        #将正确率和交叉熵分别添加进各自的list\n",
    "        a_ce['train'].append(sess.run(accuracy, feed_dict={x: mnist.test.images,y_: mnist.test.labels}))\n",
    "        a_ce['c_e'].append(sess.run(cross_entropy, feed_dict={x: mnist.test.images,y_: mnist.test.labels}))\n",
    "        a_ce['test'].append(sess.run(accuracy, feed_dict={x: mnist.train.images,y_: mnist.train.labels}))"
   ]
  },
  {
   "cell_type": "code",
   "execution_count": 64,
   "metadata": {
    "ExecuteTime": {
     "end_time": "2018-04-02T06:04:31.451155Z",
     "start_time": "2018-04-02T06:04:31.438646Z"
    }
   },
   "outputs": [],
   "source": [
    "# 将得到的正确率和交叉熵转换成DataFrame\n",
    "df=pd.DataFrame(data=a_ce,index=[x for x in range(20000) if x%300==0])\n",
    "# 删除前几列的异常点\n",
    "df.drop([0,300,600,900],inplace=True)"
   ]
  },
  {
   "cell_type": "code",
   "execution_count": 65,
   "metadata": {
    "ExecuteTime": {
     "end_time": "2018-04-02T06:04:31.773385Z",
     "start_time": "2018-04-02T06:04:31.454157Z"
    }
   },
   "outputs": [
    {
     "data": {
      "image/png": "[encoded data removed]",
      "text/plain": [
       "<Figure size 432x288 with 2 Axes>"
      ]
     },
     "metadata": {},
     "output_type": "display_data"
    }
   ],
   "source": [
    "# 绘图\n",
    "\n",
    "# 子图一: 正确率\n",
    "ax1 = plt.figure().add_subplot(111)\n",
    "ax1.plot(df['train'], label='train', color='b')\n",
    "ax1.plot(df['test'], label='test', color='g')\n",
    "ax1.plot([1000,20000], [0.98,0.98], label='0.98', color='y')\n",
    "#ax1.set_ylim([0.970, 0.984])\n",
    "ax1.set_ylabel('accuracy')\n",
    "ax1.legend(loc=4)\n",
    "\n",
    "# 子图一: 交叉熵\n",
    "ax2 = ax1.twinx()  \n",
    "ax2.plot(df['c_e'],label='cross_entropy', color='r')\n",
    "#ax2.set_ylim([0.072, 0.100])\n",
    "ax2.set_ylabel('cross_entropy')\n",
    "ax2.legend(loc=8)\n",
    "\n",
    "plt.grid(True, linestyle = \"-\")\n",
    "plt.show()"
   ]
  },
  {
   "cell_type": "code",
   "execution_count": 66,
   "metadata": {
    "ExecuteTime": {
     "end_time": "2018-04-02T06:04:31.824418Z",
     "start_time": "2018-04-02T06:04:31.777887Z"
    }
   },
   "outputs": [
    {
     "data": {
      "text/html": [
       "<div>\n",
       "<style scoped>\n",
       "    .dataframe tbody tr th:only-of-type {\n",
       "        vertical-align: middle;\n",
       "    }\n",
       "\n",
       "    .dataframe tbody tr th {\n",
       "        vertical-align: top;\n",
       "    }\n",
       "\n",
       "    .dataframe thead th {\n",
       "        text-align: right;\n",
       "    }\n",
       "</style>\n",
       "<table border=\"1\" class=\"dataframe\">\n",
       "  <thead>\n",
       "    <tr style=\"text-align: right;\">\n",
       "      <th></th>\n",
       "      <th>1200</th>\n",
       "      <th>1500</th>\n",
       "      <th>1800</th>\n",
       "      <th>2100</th>\n",
       "      <th>2400</th>\n",
       "      <th>2700</th>\n",
       "      <th>3000</th>\n",
       "      <th>3300</th>\n",
       "      <th>3600</th>\n",
       "      <th>3900</th>\n",
       "      <th>...</th>\n",
       "      <th>17100</th>\n",
       "      <th>17400</th>\n",
       "      <th>17700</th>\n",
       "      <th>18000</th>\n",
       "      <th>18300</th>\n",
       "      <th>18600</th>\n",
       "      <th>18900</th>\n",
       "      <th>19200</th>\n",
       "      <th>19500</th>\n",
       "      <th>19800</th>\n",
       "    </tr>\n",
       "  </thead>\n",
       "  <tbody>\n",
       "    <tr>\n",
       "      <th>c_e</th>\n",
       "      <td>0.186640</td>\n",
       "      <td>0.169482</td>\n",
       "      <td>0.196305</td>\n",
       "      <td>0.141865</td>\n",
       "      <td>0.114021</td>\n",
       "      <td>0.111572</td>\n",
       "      <td>0.134434</td>\n",
       "      <td>0.110307</td>\n",
       "      <td>0.10552</td>\n",
       "      <td>0.112009</td>\n",
       "      <td>...</td>\n",
       "      <td>0.118799</td>\n",
       "      <td>0.107858</td>\n",
       "      <td>0.106655</td>\n",
       "      <td>0.114904</td>\n",
       "      <td>0.110221</td>\n",
       "      <td>0.111188</td>\n",
       "      <td>0.111353</td>\n",
       "      <td>0.11285</td>\n",
       "      <td>0.113636</td>\n",
       "      <td>0.113561</td>\n",
       "    </tr>\n",
       "    <tr>\n",
       "      <th>test</th>\n",
       "      <td>0.943982</td>\n",
       "      <td>0.951109</td>\n",
       "      <td>0.946018</td>\n",
       "      <td>0.963200</td>\n",
       "      <td>0.972255</td>\n",
       "      <td>0.972691</td>\n",
       "      <td>0.968655</td>\n",
       "      <td>0.976018</td>\n",
       "      <td>0.98080</td>\n",
       "      <td>0.979036</td>\n",
       "      <td>...</td>\n",
       "      <td>0.998418</td>\n",
       "      <td>0.999673</td>\n",
       "      <td>0.999818</td>\n",
       "      <td>0.999982</td>\n",
       "      <td>0.999982</td>\n",
       "      <td>0.999982</td>\n",
       "      <td>1.000000</td>\n",
       "      <td>1.00000</td>\n",
       "      <td>1.000000</td>\n",
       "      <td>1.000000</td>\n",
       "    </tr>\n",
       "    <tr>\n",
       "      <th>train</th>\n",
       "      <td>0.939300</td>\n",
       "      <td>0.946800</td>\n",
       "      <td>0.940000</td>\n",
       "      <td>0.958700</td>\n",
       "      <td>0.965400</td>\n",
       "      <td>0.965300</td>\n",
       "      <td>0.960200</td>\n",
       "      <td>0.965900</td>\n",
       "      <td>0.96770</td>\n",
       "      <td>0.965300</td>\n",
       "      <td>...</td>\n",
       "      <td>0.976800</td>\n",
       "      <td>0.979500</td>\n",
       "      <td>0.980000</td>\n",
       "      <td>0.979100</td>\n",
       "      <td>0.979200</td>\n",
       "      <td>0.980200</td>\n",
       "      <td>0.980200</td>\n",
       "      <td>0.98050</td>\n",
       "      <td>0.980400</td>\n",
       "      <td>0.980100</td>\n",
       "    </tr>\n",
       "  </tbody>\n",
       "</table>\n",
       "<p>3 rows × 63 columns</p>\n",
       "</div>"
      ],
      "text/plain": [
       "          1200      1500      1800      2100      2400      2700      3000   \\\n",
       "c_e    0.186640  0.169482  0.196305  0.141865  0.114021  0.111572  0.134434   \n",
       "test   0.943982  0.951109  0.946018  0.963200  0.972255  0.972691  0.968655   \n",
       "train  0.939300  0.946800  0.940000  0.958700  0.965400  0.965300  0.960200   \n",
       "\n",
       "          3300     3600      3900     ...        17100     17400     17700  \\\n",
       "c_e    0.110307  0.10552  0.112009    ...     0.118799  0.107858  0.106655   \n",
       "test   0.976018  0.98080  0.979036    ...     0.998418  0.999673  0.999818   \n",
       "train  0.965900  0.96770  0.965300    ...     0.976800  0.979500  0.980000   \n",
       "\n",
       "          18000     18300     18600     18900    19200     19500     19800  \n",
       "c_e    0.114904  0.110221  0.111188  0.111353  0.11285  0.113636  0.113561  \n",
       "test   0.999982  0.999982  0.999982  1.000000  1.00000  1.000000  1.000000  \n",
       "train  0.979100  0.979200  0.980200  0.980200  0.98050  0.980400  0.980100  \n",
       "\n",
       "[3 rows x 63 columns]"
      ]
     },
     "execution_count": 66,
     "metadata": {},
     "output_type": "execute_result"
    }
   ],
   "source": [
    "df.T"
   ]
  },
  {
   "cell_type": "markdown",
   "metadata": {},
   "source": [
    "四层隐层之后,正确率达到98%,但是交叉熵并不理想"
   ]
  },
  {
   "cell_type": "markdown",
   "metadata": {},
   "source": [
    "毫无疑问，这个模型是一个非常简陋，性能也不理想的模型。目前只能达到92%左右的准确率。\n",
    "接下来，希望大家利用现有的知识，将这个模型优化至98%以上的准确率。\n",
    "Hint：\n",
    "- 多隐层**一层隐层400神经元后98%,四层隐层第一层400后还是98%**\n",
    "- 激活函数\n",
    "- 正则化\n",
    "- 初始化\n",
    "- 摸索一下各个超参数\n",
    "  - 隐层神经元数量\n",
    "  - 学习率\n",
    "  - 正则化惩罚因子\n",
    "  - 最好每隔几个step就对loss、accuracy等等进行一次输出，这样才能有根据地进行调整"
   ]
  },
  {
   "cell_type": "code",
   "execution_count": 70,
   "metadata": {
    "ExecuteTime": {
     "end_time": "2018-04-02T06:01:45.909565Z",
     "start_time": "2018-04-02T06:01:45.835034Z"
    }
   },
   "outputs": [],
   "source": [
    "# Create the model\n",
    "x = tf.placeholder(tf.float32, [None, 784])\n",
    "W1 = tf.Variable(tf.truncated_normal([784,200],stddev=0.1))\n",
    "b1 = tf.Variable(tf.zeros([200]))\n",
    "W2 = tf.Variable(tf.truncated_normal([200,200],stddev=0.1))\n",
    "b2 = tf.Variable(tf.zeros([200]))\n",
    "W3 = tf.Variable(tf.truncated_normal([200,200],stddev=0.1))\n",
    "b3 = tf.Variable(tf.zeros([200]))\n",
    "W4 = tf.Variable(tf.truncated_normal([200,200],stddev=0.1))\n",
    "b4 = tf.Variable(tf.zeros([200]))\n",
    "W5 = tf.Variable(tf.zeros([200, 10]))\n",
    "b5 = tf.Variable(tf.zeros([10]))"
   ]
  },
  {
   "cell_type": "code",
   "execution_count": 71,
   "metadata": {
    "ExecuteTime": {
     "end_time": "2018-04-02T06:01:46.301754Z",
     "start_time": "2018-04-02T06:01:46.278738Z"
    }
   },
   "outputs": [],
   "source": [
    "# 添加隐层\n",
    "hidden1 = tf.nn.sigmoid(tf.matmul(x,W1)+b1)\n",
    "hidden2 = tf.nn.tanh(tf.matmul(hidden1,W2)+b2)\n",
    "hidden3 = tf.nn.relu6(tf.matmul(hidden2,W3)+b3)\n",
    "hidden4 = tf.nn.relu(tf.matmul(hidden3,W4)+b4)\n",
    "y = tf.matmul(hidden4, W5) + b5\n",
    "y_ = tf.placeholder(tf.float32, [None, 10])"
   ]
  },
  {
   "cell_type": "code",
   "execution_count": 72,
   "metadata": {
    "ExecuteTime": {
     "end_time": "2018-04-02T06:01:46.920742Z",
     "start_time": "2018-04-02T06:01:46.889722Z"
    }
   },
   "outputs": [],
   "source": [
    "cross_entropy = tf.reduce_mean(\n",
    "    tf.nn.softmax_cross_entropy_with_logits_v2(labels=y_, logits=y))"
   ]
  },
  {
   "cell_type": "code",
   "execution_count": 73,
   "metadata": {
    "ExecuteTime": {
     "end_time": "2018-04-02T06:01:47.483155Z",
     "start_time": "2018-04-02T06:01:47.340538Z"
    }
   },
   "outputs": [],
   "source": [
    "train_step = tf.train.GradientDescentOptimizer(40).minimize(cross_entropy)"
   ]
  },
  {
   "cell_type": "code",
   "execution_count": 74,
   "metadata": {
    "ExecuteTime": {
     "end_time": "2018-04-02T06:01:48.277976Z",
     "start_time": "2018-04-02T06:01:47.945204Z"
    }
   },
   "outputs": [],
   "source": [
    "sess = tf.Session()\n",
    "init_op = tf.global_variables_initializer()\n",
    "sess.run(init_op)"
   ]
  },
  {
   "cell_type": "code",
   "execution_count": 75,
   "metadata": {
    "ExecuteTime": {
     "end_time": "2018-04-02T06:04:31.435142Z",
     "start_time": "2018-04-02T06:01:48.512831Z"
    }
   },
   "outputs": [],
   "source": [
    "# 开始训练,Train\n",
    "\n",
    "# 设置正确率计算公式\n",
    "correct_prediction = tf.equal(tf.argmax(y, 1), tf.argmax(y_, 1))\n",
    "accuracy = tf.reduce_mean(tf.cast(correct_prediction, tf.float32))\n",
    "\n",
    "a_ce={'train':[],'test':[],'c_e':[]}#用于存放正确率和交叉熵\n",
    "#{'acc': accuracy, 'c_e': cross_entropy}\n",
    "for _ in range(20000):\n",
    "    # 每次获取小批量的数据\n",
    "    batch_xs, batch_ys = mnist.train.next_batch(100)\n",
    "    # 执行train_step\n",
    "    sess.run(train_step, feed_dict={x: batch_xs, y_: batch_ys})\n",
    "    if _ %300==0:\n",
    "        #将正确率和交叉熵分别添加进各自的list\n",
    "        a_ce['train'].append(sess.run(accuracy, feed_dict={x: mnist.test.images,y_: mnist.test.labels}))\n",
    "        a_ce['c_e'].append(sess.run(cross_entropy, feed_dict={x: mnist.test.images,y_: mnist.test.labels}))\n",
    "        a_ce['test'].append(sess.run(accuracy, feed_dict={x: mnist.train.images,y_: mnist.train.labels}))"
   ]
  },
  {
   "cell_type": "code",
   "execution_count": 76,
   "metadata": {
    "ExecuteTime": {
     "end_time": "2018-04-02T06:04:31.451155Z",
     "start_time": "2018-04-02T06:04:31.438646Z"
    }
   },
   "outputs": [],
   "source": [
    "# 将得到的正确率和交叉熵转换成DataFrame\n",
    "df=pd.DataFrame(data=a_ce,index=[x for x in range(20000) if x%300==0])\n",
    "# 删除前几列的异常点\n",
    "df.drop([0,300,600,900],inplace=True)"
   ]
  },
  {
   "cell_type": "code",
   "execution_count": 77,
   "metadata": {
    "ExecuteTime": {
     "end_time": "2018-04-02T06:04:31.773385Z",
     "start_time": "2018-04-02T06:04:31.454157Z"
    },
    "scrolled": true
   },
   "outputs": [
    {
     "data": {
      "image/png": "[encoded data removed]",
      "text/plain": [
       "<Figure size 432x288 with 2 Axes>"
      ]
     },
     "metadata": {},
     "output_type": "display_data"
    }
   ],
   "source": [
    "# 绘图\n",
    "\n",
    "# 子图一: 正确率\n",
    "ax1 = plt.figure().add_subplot(111)\n",
    "ax1.plot(df['train'], label='train', color='b')\n",
    "ax1.plot(df['test'], label='test', color='g')\n",
    "ax1.plot([1000,20000], [0.98,0.98], label='0.98', color='y')\n",
    "#ax1.set_ylim([0.970, 0.984])\n",
    "ax1.set_ylabel('accuracy')\n",
    "ax1.legend(loc=4)\n",
    "\n",
    "# 子图一: 交叉熵\n",
    "ax2 = ax1.twinx()  \n",
    "ax2.plot(df['c_e'],label='cross_entropy', color='r')\n",
    "#ax2.set_ylim([0.072, 0.100])\n",
    "ax2.set_ylabel('cross_entropy')\n",
    "ax2.legend(loc=8)\n",
    "\n",
    "plt.grid(True, linestyle = \"-\")\n",
    "plt.show()"
   ]
  },
  {
   "cell_type": "code",
   "execution_count": 78,
   "metadata": {
    "ExecuteTime": {
     "end_time": "2018-04-02T06:04:31.824418Z",
     "start_time": "2018-04-02T06:04:31.777887Z"
    }
   },
   "outputs": [
    {
     "data": {
      "text/html": [
       "<div>\n",
       "<style scoped>\n",
       "    .dataframe tbody tr th:only-of-type {\n",
       "        vertical-align: middle;\n",
       "    }\n",
       "\n",
       "    .dataframe tbody tr th {\n",
       "        vertical-align: top;\n",
       "    }\n",
       "\n",
       "    .dataframe thead th {\n",
       "        text-align: right;\n",
       "    }\n",
       "</style>\n",
       "<table border=\"1\" class=\"dataframe\">\n",
       "  <thead>\n",
       "    <tr style=\"text-align: right;\">\n",
       "      <th></th>\n",
       "      <th>1200</th>\n",
       "      <th>1500</th>\n",
       "      <th>1800</th>\n",
       "      <th>2100</th>\n",
       "      <th>2400</th>\n",
       "      <th>2700</th>\n",
       "      <th>3000</th>\n",
       "      <th>3300</th>\n",
       "      <th>3600</th>\n",
       "      <th>3900</th>\n",
       "      <th>...</th>\n",
       "      <th>17100</th>\n",
       "      <th>17400</th>\n",
       "      <th>17700</th>\n",
       "      <th>18000</th>\n",
       "      <th>18300</th>\n",
       "      <th>18600</th>\n",
       "      <th>18900</th>\n",
       "      <th>19200</th>\n",
       "      <th>19500</th>\n",
       "      <th>19800</th>\n",
       "    </tr>\n",
       "  </thead>\n",
       "  <tbody>\n",
       "    <tr>\n",
       "      <th>c_e</th>\n",
       "      <td>7.774827</td>\n",
       "      <td>11.658925</td>\n",
       "      <td>7.268486</td>\n",
       "      <td>12.848756</td>\n",
       "      <td>9.352977</td>\n",
       "      <td>10.285822</td>\n",
       "      <td>9.899798</td>\n",
       "      <td>10.671981</td>\n",
       "      <td>11.325466</td>\n",
       "      <td>8.178122</td>\n",
       "      <td>...</td>\n",
       "      <td>10.656005</td>\n",
       "      <td>11.367874</td>\n",
       "      <td>9.235520</td>\n",
       "      <td>7.284326</td>\n",
       "      <td>15.377085</td>\n",
       "      <td>14.757211</td>\n",
       "      <td>5.018603</td>\n",
       "      <td>9.306767</td>\n",
       "      <td>9.194686</td>\n",
       "      <td>8.620548</td>\n",
       "    </tr>\n",
       "    <tr>\n",
       "      <th>test</th>\n",
       "      <td>0.098491</td>\n",
       "      <td>0.112345</td>\n",
       "      <td>0.102509</td>\n",
       "      <td>0.112345</td>\n",
       "      <td>0.102509</td>\n",
       "      <td>0.098982</td>\n",
       "      <td>0.103909</td>\n",
       "      <td>0.098982</td>\n",
       "      <td>0.102509</td>\n",
       "      <td>0.096491</td>\n",
       "      <td>...</td>\n",
       "      <td>0.097982</td>\n",
       "      <td>0.103909</td>\n",
       "      <td>0.090673</td>\n",
       "      <td>0.090673</td>\n",
       "      <td>0.103909</td>\n",
       "      <td>0.112345</td>\n",
       "      <td>0.096491</td>\n",
       "      <td>0.090673</td>\n",
       "      <td>0.096491</td>\n",
       "      <td>0.090673</td>\n",
       "    </tr>\n",
       "    <tr>\n",
       "      <th>train</th>\n",
       "      <td>0.095800</td>\n",
       "      <td>0.113500</td>\n",
       "      <td>0.101000</td>\n",
       "      <td>0.113500</td>\n",
       "      <td>0.101000</td>\n",
       "      <td>0.098000</td>\n",
       "      <td>0.102800</td>\n",
       "      <td>0.098000</td>\n",
       "      <td>0.101000</td>\n",
       "      <td>0.098200</td>\n",
       "      <td>...</td>\n",
       "      <td>0.097400</td>\n",
       "      <td>0.102800</td>\n",
       "      <td>0.089200</td>\n",
       "      <td>0.089200</td>\n",
       "      <td>0.102800</td>\n",
       "      <td>0.113500</td>\n",
       "      <td>0.098200</td>\n",
       "      <td>0.089200</td>\n",
       "      <td>0.098200</td>\n",
       "      <td>0.089200</td>\n",
       "    </tr>\n",
       "  </tbody>\n",
       "</table>\n",
       "<p>3 rows × 63 columns</p>\n",
       "</div>"
      ],
      "text/plain": [
       "          1200       1500      1800       2100      2400       2700   \\\n",
       "c_e    7.774827  11.658925  7.268486  12.848756  9.352977  10.285822   \n",
       "test   0.098491   0.112345  0.102509   0.112345  0.102509   0.098982   \n",
       "train  0.095800   0.113500  0.101000   0.113500  0.101000   0.098000   \n",
       "\n",
       "          3000       3300       3600      3900     ...         17100  \\\n",
       "c_e    9.899798  10.671981  11.325466  8.178122    ...     10.656005   \n",
       "test   0.103909   0.098982   0.102509  0.096491    ...      0.097982   \n",
       "train  0.102800   0.098000   0.101000  0.098200    ...      0.097400   \n",
       "\n",
       "           17400     17700     18000      18300      18600     18900  \\\n",
       "c_e    11.367874  9.235520  7.284326  15.377085  14.757211  5.018603   \n",
       "test    0.103909  0.090673  0.090673   0.103909   0.112345  0.096491   \n",
       "train   0.102800  0.089200  0.089200   0.102800   0.113500  0.098200   \n",
       "\n",
       "          19200     19500     19800  \n",
       "c_e    9.306767  9.194686  8.620548  \n",
       "test   0.090673  0.096491  0.090673  \n",
       "train  0.089200  0.098200  0.089200  \n",
       "\n",
       "[3 rows x 63 columns]"
      ]
     },
     "execution_count": 78,
     "metadata": {},
     "output_type": "execute_result"
    }
   ],
   "source": [
    "df.T"
   ]
  },
  {
   "cell_type": "markdown",
   "metadata": {},
   "source": [
    "四层隐层之后,正确率达到98%,但是交叉熵并不理想"
   ]
  },
  {
   "cell_type": "markdown",
   "metadata": {},
   "source": [
    "毫无疑问，这个模型是一个非常简陋，性能也不理想的模型。目前只能达到92%左右的准确率。\n",
    "接下来，希望大家利用现有的知识，将这个模型优化至98%以上的准确率。\n",
    "Hint：\n",
    "- 多隐层**一层隐层400神经元后98%,四层隐层,每层200后到了10%**\n",
    "- 激活函数\n",
    "- 正则化\n",
    "- 初始化\n",
    "- 摸索一下各个超参数\n",
    "  - 隐层神经元数量\n",
    "  - 学习率\n",
    "  - 正则化惩罚因子\n",
    "  - 最好每隔几个step就对loss、accuracy等等进行一次输出，这样才能有根据地进行调整"
   ]
  },
  {
   "cell_type": "markdown",
   "metadata": {},
   "source": [
    "## 结论"
   ]
  },
  {
   "cell_type": "markdown",
   "metadata": {
    "ExecuteTime": {
     "end_time": "2018-03-23T03:47:53.024407Z",
     "start_time": "2018-03-23T03:47:52.999385Z"
    }
   },
   "source": [
    "应当加隐层"
   ]
  },
  {
   "cell_type": "code",
   "execution_count": null,
   "metadata": {},
   "outputs": [],
   "source": []
  }
 ],
 "metadata": {
  "kernelspec": {
   "display_name": "Python 3",
   "language": "python",
   "name": "python3"
  },
  "language_info": {
   "codemirror_mode": {
    "name": "ipython",
    "version": 3
   },
   "file_extension": ".py",
   "mimetype": "text/x-python",
   "name": "python",
   "nbconvert_exporter": "python",
   "pygments_lexer": "ipython3",
   "version": "3.6.4"
  },
  "toc": {
   "nav_menu": {},
   "number_sections": true,
   "sideBar": true,
   "skip_h1_title": false,
   "title_cell": "Mnist 多层感知器版",
   "title_sidebar": "添加隐层",
   "toc_cell": true,
   "toc_position": {},
   "toc_section_display": true,
   "toc_window_display": false
  }
 },
 "nbformat": 4,
 "nbformat_minor": 2
}
