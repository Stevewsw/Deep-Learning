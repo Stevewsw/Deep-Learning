{
 "cells": [
  {
   "cell_type": "markdown",
   "metadata": {
    "toc": true
   },
   "source": [
    "<h1>Mnist 多层感知器版<span class=\"tocSkip\"></span></h1>\n",
    "<div class=\"toc\"><ul class=\"toc-item\"><li><span><a href=\"#导入工具包\" data-toc-modified-id=\"导入工具包-1\"><span class=\"toc-item-num\">1&nbsp;&nbsp;</span>导入工具包</a></span></li><li><span><a href=\"#导入数据\" data-toc-modified-id=\"导入数据-2\"><span class=\"toc-item-num\">2&nbsp;&nbsp;</span>导入数据</a></span></li><li><span><a href=\"#初始化模型参数\" data-toc-modified-id=\"初始化模型参数-3\"><span class=\"toc-item-num\">3&nbsp;&nbsp;</span>初始化模型参数</a></span></li><li><span><a href=\"#添加隐层\" data-toc-modified-id=\"添加隐层-4\"><span class=\"toc-item-num\">4&nbsp;&nbsp;</span>添加隐层</a></span></li><li><span><a href=\"#定义交叉熵\" data-toc-modified-id=\"定义交叉熵-5\"><span class=\"toc-item-num\">5&nbsp;&nbsp;</span>定义交叉熵</a></span></li><li><span><a href=\"#设置随机梯度下降\" data-toc-modified-id=\"设置随机梯度下降-6\"><span class=\"toc-item-num\">6&nbsp;&nbsp;</span>设置随机梯度下降</a></span></li><li><span><a href=\"#初始化所有参数\" data-toc-modified-id=\"初始化所有参数-7\"><span class=\"toc-item-num\">7&nbsp;&nbsp;</span>初始化所有参数</a></span></li><li><span><a href=\"#进行train\" data-toc-modified-id=\"进行train-8\"><span class=\"toc-item-num\">8&nbsp;&nbsp;</span>进行train</a></span></li><li><span><a href=\"#评价\" data-toc-modified-id=\"评价-9\"><span class=\"toc-item-num\">9&nbsp;&nbsp;</span>评价</a></span></li><li><span><a href=\"#多层隐层\" data-toc-modified-id=\"多层隐层-10\"><span class=\"toc-item-num\">10&nbsp;&nbsp;</span>多层隐层</a></span></li><li><span><a href=\"#结论\" data-toc-modified-id=\"结论-11\"><span class=\"toc-item-num\">11&nbsp;&nbsp;</span>结论</a></span></li></ul></div>"
   ]
  },
  {
   "cell_type": "markdown",
   "metadata": {},
   "source": [
    "## 导入工具包"
   ]
  },
  {
   "cell_type": "code",
   "execution_count": 1,
   "metadata": {
    "ExecuteTime": {
     "end_time": "2018-04-02T00:40:04.890525Z",
     "start_time": "2018-04-02T00:40:01.746920Z"
    }
   },
   "outputs": [],
   "source": [
    "\"\"\"A very simple MNIST classifier.\n",
    "See extensive documentation at\n",
    "https://www.tensorflow.org/get_started/mnist/beginners\n",
    "\"\"\"\n",
    "#from __future__ import absolute_import\n",
    "#from __future__ import division\n",
    "#from __future__ import print_function\n",
    "\n",
    "import argparse\n",
    "import sys\n",
    "\n",
    "from tensorflow.examples.tutorials.mnist import input_data\n",
    "\n",
    "import tensorflow as tf\n",
    "\n",
    "import matplotlib.pyplot as plt\n",
    "import pandas as pd\n",
    "import numpy as np\n",
    "\n",
    "FLAGS = None\n"
   ]
  },
  {
   "cell_type": "markdown",
   "metadata": {},
   "source": [
    "## 导入数据"
   ]
  },
  {
   "cell_type": "code",
   "execution_count": 2,
   "metadata": {
    "ExecuteTime": {
     "end_time": "2018-04-02T00:40:05.596601Z",
     "start_time": "2018-04-02T00:40:04.893024Z"
    }
   },
   "outputs": [
    {
     "name": "stdout",
     "output_type": "stream",
     "text": [
      "Extracting E:/AI/00/data/Mnist/input_data\\train-images-idx3-ubyte.gz\n",
      "Extracting E:/AI/00/data/Mnist/input_data\\train-labels-idx1-ubyte.gz\n",
      "Extracting E:/AI/00/data/Mnist/input_data\\t10k-images-idx3-ubyte.gz\n",
      "Extracting E:/AI/00/data/Mnist/input_data\\t10k-labels-idx1-ubyte.gz\n"
     ]
    }
   ],
   "source": [
    "# Import data\n",
    "data_dir = 'E:/AI/00/data/Mnist/input_data'\n",
    "mnist = input_data.read_data_sets(data_dir, one_hot=True)"
   ]
  },
  {
   "cell_type": "markdown",
   "metadata": {
    "ExecuteTime": {
     "end_time": "2018-03-23T01:14:41.317119Z",
     "start_time": "2018-03-23T01:14:41.314117Z"
    }
   },
   "source": [
    "## 初始化模型参数"
   ]
  },
  {
   "cell_type": "code",
   "execution_count": 3,
   "metadata": {
    "ExecuteTime": {
     "end_time": "2018-04-02T00:05:51.811793Z",
     "start_time": "2018-04-02T00:05:51.772264Z"
    }
   },
   "outputs": [],
   "source": [
    "# Create the model\n",
    "x = tf.placeholder(tf.float32, [None, 784])\n",
    "W1 = tf.Variable(tf.random_normal([784,100],stddev=0.1,seed=66))\n",
    "#用一个较小的正数来初始化偏置项, \n",
    "#[784,100]中的100是隐层权重矩阵的列数,大小随意\n",
    "#[784,100]中的784是为了与x中的[None,784]保持一致\n",
    "b1 = tf.Variable(tf.zeros([100]))\n",
    "#[100]同[784,100]中的100保持一致\n",
    "W2 = tf.Variable(tf.zeros([100, 10]))\n",
    "#[100,10]中的100同[784,100]中的100保持一致\n",
    "#[100,10]中的10同最终输出10中的10保持一致\n",
    "b2 = tf.Variable(tf.zeros([10]))\n",
    "#[10]同[100,10]中的10保持一致"
   ]
  },
  {
   "cell_type": "markdown",
   "metadata": {},
   "source": [
    "## 添加隐层"
   ]
  },
  {
   "cell_type": "code",
   "execution_count": 4,
   "metadata": {
    "ExecuteTime": {
     "end_time": "2018-04-02T00:05:51.825802Z",
     "start_time": "2018-04-02T00:05:51.813793Z"
    }
   },
   "outputs": [],
   "source": [
    "# Define loss and optimizer\n",
    "hidden1=tf.nn.sigmoid(tf.matmul(x,W1)+b1)  #这里使用传统的Sigmoid非线性激活函数\n",
    "y = tf.matmul(hidden1, W2) + b2\n",
    "y_ = tf.placeholder(tf.float32, [None, 10])"
   ]
  },
  {
   "cell_type": "markdown",
   "metadata": {},
   "source": [
    "## 定义交叉熵"
   ]
  },
  {
   "cell_type": "code",
   "execution_count": 5,
   "metadata": {
    "ExecuteTime": {
     "end_time": "2018-04-02T00:05:51.856823Z",
     "start_time": "2018-04-02T00:05:51.827802Z"
    }
   },
   "outputs": [],
   "source": [
    "cross_entropy = tf.reduce_mean(\n",
    "    tf.nn.softmax_cross_entropy_with_logits_v2(labels=y_, logits=y))"
   ]
  },
  {
   "cell_type": "markdown",
   "metadata": {},
   "source": [
    "## 设置随机梯度下降"
   ]
  },
  {
   "cell_type": "code",
   "execution_count": 6,
   "metadata": {
    "ExecuteTime": {
     "end_time": "2018-04-02T00:05:51.918872Z",
     "start_time": "2018-04-02T00:05:51.858822Z"
    }
   },
   "outputs": [],
   "source": [
    "train_step = tf.train.GradientDescentOptimizer(0.5).minimize(cross_entropy)"
   ]
  },
  {
   "cell_type": "markdown",
   "metadata": {},
   "source": [
    "## 初始化所有参数"
   ]
  },
  {
   "cell_type": "code",
   "execution_count": 7,
   "metadata": {
    "ExecuteTime": {
     "end_time": "2018-04-02T00:05:51.947891Z",
     "start_time": "2018-04-02T00:05:51.920874Z"
    }
   },
   "outputs": [],
   "source": [
    "sess = tf.Session()\n",
    "init_op = tf.global_variables_initializer()\n",
    "sess.run(init_op)"
   ]
  },
  {
   "cell_type": "markdown",
   "metadata": {},
   "source": [
    "## 进行train"
   ]
  },
  {
   "cell_type": "code",
   "execution_count": 8,
   "metadata": {
    "ExecuteTime": {
     "end_time": "2018-04-02T00:06:57.432849Z",
     "start_time": "2018-04-02T00:06:09.848593Z"
    }
   },
   "outputs": [],
   "source": [
    "# 开始训练,Train\n",
    "\n",
    "# 设置正确率计算公式\n",
    "correct_prediction = tf.equal(tf.argmax(y, 1), tf.argmax(y_, 1))\n",
    "accuracy = tf.reduce_mean(tf.cast(correct_prediction, tf.float32))\n",
    "\n",
    "a_ce={'train':[],'test':[],'c_e':[]}#用于存放正确率和交叉熵\n",
    "#{'acc': accuracy, 'c_e': cross_entropy}\n",
    "for _ in range(20000):\n",
    "    # 每次获取小批量的数据\n",
    "    batch_xs, batch_ys = mnist.train.next_batch(100)\n",
    "    # 执行train_step\n",
    "    sess.run(train_step, feed_dict={x: batch_xs, y_: batch_ys})\n",
    "    if _ %300==0:\n",
    "        #将正确率和交叉熵分别添加进各自的list\n",
    "        a_ce['train'].append(sess.run(accuracy, feed_dict={x: mnist.test.images,y_: mnist.test.labels}))\n",
    "        a_ce['c_e'].append(sess.run(cross_entropy, feed_dict={x: mnist.test.images,y_: mnist.test.labels}))\n",
    "        a_ce['test'].append(sess.run(accuracy, feed_dict={x: mnist.train.images,y_: mnist.train.labels}))"
   ]
  },
  {
   "cell_type": "markdown",
   "metadata": {},
   "source": [
    "验证我们模型在测试数据上的准确率"
   ]
  },
  {
   "cell_type": "markdown",
   "metadata": {},
   "source": [
    "## 评价"
   ]
  },
  {
   "cell_type": "code",
   "execution_count": 9,
   "metadata": {
    "ExecuteTime": {
     "end_time": "2018-04-02T00:08:16.706134Z",
     "start_time": "2018-04-02T00:08:16.695124Z"
    }
   },
   "outputs": [],
   "source": [
    "# 将得到的正确率和交叉熵转换成DataFrame\n",
    "df=pd.DataFrame(data=a_ce,index=[x for x in range(20000) if x%300==0])\n",
    "# 删除前几列的异常点\n",
    "df.drop([0,300,600,900],inplace=True)"
   ]
  },
  {
   "cell_type": "code",
   "execution_count": 10,
   "metadata": {
    "ExecuteTime": {
     "end_time": "2018-04-02T00:08:17.631045Z",
     "start_time": "2018-04-02T00:08:17.334614Z"
    }
   },
   "outputs": [
    {
     "data": {
      "image/png": "[encoded data removed]",
      "text/plain": [
       "<Figure size 432x288 with 2 Axes>"
      ]
     },
     "metadata": {},
     "output_type": "display_data"
    }
   ],
   "source": [
    "# 绘图\n",
    "\n",
    "# 子图一: 正确率\n",
    "ax1 = plt.figure().add_subplot(111)\n",
    "ax1.plot(df['train'], label='train', color='b')\n",
    "ax1.plot(df['test'], label='test', color='g')\n",
    "ax1.plot([1000,20000], [0.98,0.98], label='0.98', color='y')\n",
    "#ax1.set_ylim([0.970, 0.984])\n",
    "ax1.set_ylabel('accuracy')\n",
    "ax1.legend(loc=4)\n",
    "\n",
    "# 子图一: 交叉熵\n",
    "ax2 = ax1.twinx()  \n",
    "ax2.plot(df['c_e'],label='cross_entropy', color='r')\n",
    "#ax2.set_ylim([0.072, 0.100])\n",
    "ax2.set_ylabel('cross_entropy')\n",
    "ax2.legend(loc=8)\n",
    "\n",
    "plt.grid(True, linestyle = \"-\")\n",
    "plt.show()"
   ]
  },
  {
   "cell_type": "code",
   "execution_count": 11,
   "metadata": {
    "ExecuteTime": {
     "end_time": "2018-04-02T00:08:38.866484Z",
     "start_time": "2018-04-02T00:08:38.822952Z"
    }
   },
   "outputs": [
    {
     "data": {
      "text/html": [
       "<div>\n",
       "<style scoped>\n",
       "    .dataframe tbody tr th:only-of-type {\n",
       "        vertical-align: middle;\n",
       "    }\n",
       "\n",
       "    .dataframe tbody tr th {\n",
       "        vertical-align: top;\n",
       "    }\n",
       "\n",
       "    .dataframe thead th {\n",
       "        text-align: right;\n",
       "    }\n",
       "</style>\n",
       "<table border=\"1\" class=\"dataframe\">\n",
       "  <thead>\n",
       "    <tr style=\"text-align: right;\">\n",
       "      <th></th>\n",
       "      <th>1200</th>\n",
       "      <th>1500</th>\n",
       "      <th>1800</th>\n",
       "      <th>2100</th>\n",
       "      <th>2400</th>\n",
       "      <th>2700</th>\n",
       "      <th>3000</th>\n",
       "      <th>3300</th>\n",
       "      <th>3600</th>\n",
       "      <th>3900</th>\n",
       "      <th>...</th>\n",
       "      <th>17100</th>\n",
       "      <th>17400</th>\n",
       "      <th>17700</th>\n",
       "      <th>18000</th>\n",
       "      <th>18300</th>\n",
       "      <th>18600</th>\n",
       "      <th>18900</th>\n",
       "      <th>19200</th>\n",
       "      <th>19500</th>\n",
       "      <th>19800</th>\n",
       "    </tr>\n",
       "  </thead>\n",
       "  <tbody>\n",
       "    <tr>\n",
       "      <th>c_e</th>\n",
       "      <td>0.228677</td>\n",
       "      <td>0.211626</td>\n",
       "      <td>0.199296</td>\n",
       "      <td>0.182547</td>\n",
       "      <td>0.167514</td>\n",
       "      <td>0.158152</td>\n",
       "      <td>0.151683</td>\n",
       "      <td>0.143363</td>\n",
       "      <td>0.138791</td>\n",
       "      <td>0.134402</td>\n",
       "      <td>...</td>\n",
       "      <td>0.075938</td>\n",
       "      <td>0.074209</td>\n",
       "      <td>0.075082</td>\n",
       "      <td>0.075565</td>\n",
       "      <td>0.075699</td>\n",
       "      <td>0.074912</td>\n",
       "      <td>0.076333</td>\n",
       "      <td>0.075197</td>\n",
       "      <td>0.073071</td>\n",
       "      <td>0.074628</td>\n",
       "    </tr>\n",
       "    <tr>\n",
       "      <th>test</th>\n",
       "      <td>0.931691</td>\n",
       "      <td>0.939582</td>\n",
       "      <td>0.942473</td>\n",
       "      <td>0.946782</td>\n",
       "      <td>0.952309</td>\n",
       "      <td>0.955982</td>\n",
       "      <td>0.958473</td>\n",
       "      <td>0.962455</td>\n",
       "      <td>0.963836</td>\n",
       "      <td>0.965727</td>\n",
       "      <td>...</td>\n",
       "      <td>0.995164</td>\n",
       "      <td>0.995073</td>\n",
       "      <td>0.995691</td>\n",
       "      <td>0.995291</td>\n",
       "      <td>0.995091</td>\n",
       "      <td>0.995909</td>\n",
       "      <td>0.995382</td>\n",
       "      <td>0.996364</td>\n",
       "      <td>0.996564</td>\n",
       "      <td>0.996909</td>\n",
       "    </tr>\n",
       "    <tr>\n",
       "      <th>train</th>\n",
       "      <td>0.932300</td>\n",
       "      <td>0.939300</td>\n",
       "      <td>0.941700</td>\n",
       "      <td>0.948400</td>\n",
       "      <td>0.950000</td>\n",
       "      <td>0.953700</td>\n",
       "      <td>0.955400</td>\n",
       "      <td>0.957400</td>\n",
       "      <td>0.958100</td>\n",
       "      <td>0.961000</td>\n",
       "      <td>...</td>\n",
       "      <td>0.977800</td>\n",
       "      <td>0.977700</td>\n",
       "      <td>0.977400</td>\n",
       "      <td>0.977200</td>\n",
       "      <td>0.975800</td>\n",
       "      <td>0.976800</td>\n",
       "      <td>0.977400</td>\n",
       "      <td>0.977100</td>\n",
       "      <td>0.978400</td>\n",
       "      <td>0.977600</td>\n",
       "    </tr>\n",
       "  </tbody>\n",
       "</table>\n",
       "<p>3 rows × 63 columns</p>\n",
       "</div>"
      ],
      "text/plain": [
       "          1200      1500      1800      2100      2400      2700      3000   \\\n",
       "c_e    0.228677  0.211626  0.199296  0.182547  0.167514  0.158152  0.151683   \n",
       "test   0.931691  0.939582  0.942473  0.946782  0.952309  0.955982  0.958473   \n",
       "train  0.932300  0.939300  0.941700  0.948400  0.950000  0.953700  0.955400   \n",
       "\n",
       "          3300      3600      3900     ...        17100     17400     17700  \\\n",
       "c_e    0.143363  0.138791  0.134402    ...     0.075938  0.074209  0.075082   \n",
       "test   0.962455  0.963836  0.965727    ...     0.995164  0.995073  0.995691   \n",
       "train  0.957400  0.958100  0.961000    ...     0.977800  0.977700  0.977400   \n",
       "\n",
       "          18000     18300     18600     18900     19200     19500     19800  \n",
       "c_e    0.075565  0.075699  0.074912  0.076333  0.075197  0.073071  0.074628  \n",
       "test   0.995291  0.995091  0.995909  0.995382  0.996364  0.996564  0.996909  \n",
       "train  0.977200  0.975800  0.976800  0.977400  0.977100  0.978400  0.977600  \n",
       "\n",
       "[3 rows x 63 columns]"
      ]
     },
     "execution_count": 11,
     "metadata": {},
     "output_type": "execute_result"
    }
   ],
   "source": [
    "df.T"
   ]
  },
  {
   "cell_type": "markdown",
   "metadata": {},
   "source": [
    "毫无疑问，这个模型是一个非常简陋，性能也不理想的模型。目前只能达到92%左右的准确率。\n",
    "接下来，希望大家利用现有的知识，将这个模型优化至98%以上的准确率。\n",
    "Hint：\n",
    "- 多隐层**一层隐层后97.8%**\n",
    "- 激活函数\n",
    "- 正则化\n",
    "- 初始化\n",
    "- 摸索一下各个超参数\n",
    "  - 隐层神经元数量\n",
    "  - 学习率\n",
    "  - 正则化惩罚因子\n",
    "  - 最好每隔几个step就对loss、accuracy等等进行一次输出，这样才能有根据地进行调整"
   ]
  },
  {
   "cell_type": "markdown",
   "metadata": {},
   "source": [
    "## 多层隐层"
   ]
  },
  {
   "cell_type": "code",
   "execution_count": 12,
   "metadata": {
    "ExecuteTime": {
     "end_time": "2018-04-02T00:10:33.999897Z",
     "start_time": "2018-04-02T00:10:33.925340Z"
    }
   },
   "outputs": [],
   "source": [
    "# Create the model\n",
    "x = tf.placeholder(tf.float32, [None, 784])\n",
    "W1 = tf.Variable(tf.truncated_normal([784,100],stddev=0.1))\n",
    "b1 = tf.Variable(tf.zeros([100]))\n",
    "W2 = tf.Variable(tf.truncated_normal([100,100],stddev=0.1))\n",
    "b2 = tf.Variable(tf.zeros([100]))\n",
    "W3 = tf.Variable(tf.truncated_normal([100,100],stddev=0.1))\n",
    "b3 = tf.Variable(tf.zeros([100]))\n",
    "W4 = tf.Variable(tf.truncated_normal([100,100],stddev=0.1))\n",
    "b4 = tf.Variable(tf.zeros([100]))\n",
    "W5 = tf.Variable(tf.zeros([100, 10]))\n",
    "b5 = tf.Variable(tf.zeros([10]))"
   ]
  },
  {
   "cell_type": "code",
   "execution_count": 13,
   "metadata": {
    "ExecuteTime": {
     "end_time": "2018-04-02T00:10:34.579753Z",
     "start_time": "2018-04-02T00:10:34.557738Z"
    }
   },
   "outputs": [],
   "source": [
    "# 添加隐层\n",
    "hidden1 = tf.nn.sigmoid(tf.matmul(x,W1)+b1)\n",
    "hidden2 = tf.nn.relu(tf.matmul(hidden1,W2)+b2)\n",
    "hidden3 = tf.nn.relu6(tf.matmul(hidden2,W3)+b3)\n",
    "hidden4 = tf.nn.tanh(tf.matmul(hidden3,W4)+b4)\n",
    "y = tf.matmul(hidden4, W5) + b5\n",
    "y_ = tf.placeholder(tf.float32, [None, 10])"
   ]
  },
  {
   "cell_type": "code",
   "execution_count": 14,
   "metadata": {
    "ExecuteTime": {
     "end_time": "2018-04-02T00:10:36.259543Z",
     "start_time": "2018-04-02T00:10:36.229517Z"
    }
   },
   "outputs": [],
   "source": [
    "cross_entropy = tf.reduce_mean(\n",
    "    tf.nn.softmax_cross_entropy_with_logits_v2(labels=y_, logits=y))"
   ]
  },
  {
   "cell_type": "code",
   "execution_count": 15,
   "metadata": {
    "ExecuteTime": {
     "end_time": "2018-04-02T00:10:37.622815Z",
     "start_time": "2018-04-02T00:10:37.517236Z"
    }
   },
   "outputs": [],
   "source": [
    "train_step = tf.train.GradientDescentOptimizer(0.5).minimize(cross_entropy)"
   ]
  },
  {
   "cell_type": "code",
   "execution_count": 16,
   "metadata": {
    "ExecuteTime": {
     "end_time": "2018-04-02T00:10:38.835378Z",
     "start_time": "2018-04-02T00:10:38.789346Z"
    }
   },
   "outputs": [],
   "source": [
    "sess = tf.Session()\n",
    "init_op = tf.global_variables_initializer()\n",
    "sess.run(init_op)"
   ]
  },
  {
   "cell_type": "code",
   "execution_count": 17,
   "metadata": {
    "ExecuteTime": {
     "end_time": "2018-04-02T00:12:06.041448Z",
     "start_time": "2018-04-02T00:10:42.101446Z"
    }
   },
   "outputs": [],
   "source": [
    "# 开始训练,Train\n",
    "\n",
    "# 设置正确率计算公式\n",
    "correct_prediction = tf.equal(tf.argmax(y, 1), tf.argmax(y_, 1))\n",
    "accuracy = tf.reduce_mean(tf.cast(correct_prediction, tf.float32))\n",
    "\n",
    "a_ce={'train':[],'test':[],'c_e':[]}#用于存放正确率和交叉熵\n",
    "#{'acc': accuracy, 'c_e': cross_entropy}\n",
    "for _ in range(20000):\n",
    "    # 每次获取小批量的数据\n",
    "    batch_xs, batch_ys = mnist.train.next_batch(100)\n",
    "    # 执行train_step\n",
    "    sess.run(train_step, feed_dict={x: batch_xs, y_: batch_ys})\n",
    "    if _ %300==0:\n",
    "        #将正确率和交叉熵分别添加进各自的list\n",
    "        a_ce['train'].append(sess.run(accuracy, feed_dict={x: mnist.test.images,y_: mnist.test.labels}))\n",
    "        a_ce['c_e'].append(sess.run(cross_entropy, feed_dict={x: mnist.test.images,y_: mnist.test.labels}))\n",
    "        a_ce['test'].append(sess.run(accuracy, feed_dict={x: mnist.train.images,y_: mnist.train.labels}))"
   ]
  },
  {
   "cell_type": "code",
   "execution_count": 18,
   "metadata": {
    "ExecuteTime": {
     "end_time": "2018-04-02T00:12:06.056526Z",
     "start_time": "2018-04-02T00:12:06.041448Z"
    }
   },
   "outputs": [],
   "source": [
    "# 将得到的正确率和交叉熵转换成DataFrame\n",
    "df=pd.DataFrame(data=a_ce,index=[x for x in range(20000) if x%300==0])\n",
    "# 删除前几列的异常点\n",
    "df.drop([0,300,600,900],inplace=True)"
   ]
  },
  {
   "cell_type": "code",
   "execution_count": 19,
   "metadata": {
    "ExecuteTime": {
     "end_time": "2018-04-02T00:12:06.334739Z",
     "start_time": "2018-04-02T00:12:06.059527Z"
    }
   },
   "outputs": [
    {
     "data": {
      "image/png": "[encoded data removed]",
      "text/plain": [
       "<Figure size 432x288 with 2 Axes>"
      ]
     },
     "metadata": {},
     "output_type": "display_data"
    }
   ],
   "source": [
    "# 绘图\n",
    "\n",
    "# 子图一: 正确率\n",
    "ax1 = plt.figure().add_subplot(111)\n",
    "ax1.plot(df['train'], label='train', color='b')\n",
    "ax1.plot(df['test'], label='test', color='g')\n",
    "ax1.plot([1000,20000], [0.98,0.98], label='0.98', color='y')\n",
    "#ax1.set_ylim([0.970, 0.984])\n",
    "ax1.set_ylabel('accuracy')\n",
    "ax1.legend(loc=4)\n",
    "\n",
    "# 子图一: 交叉熵\n",
    "ax2 = ax1.twinx()  \n",
    "ax2.plot(df['c_e'],label='cross_entropy', color='r')\n",
    "#ax2.set_ylim([0.072, 0.100])\n",
    "ax2.set_ylabel('cross_entropy')\n",
    "ax2.legend(loc=8)\n",
    "\n",
    "plt.grid(True, linestyle = \"-\")\n",
    "plt.show()"
   ]
  },
  {
   "cell_type": "code",
   "execution_count": 20,
   "metadata": {
    "ExecuteTime": {
     "end_time": "2018-04-02T00:12:06.369761Z",
     "start_time": "2018-04-02T00:12:06.337740Z"
    }
   },
   "outputs": [
    {
     "data": {
      "text/html": [
       "<div>\n",
       "<style scoped>\n",
       "    .dataframe tbody tr th:only-of-type {\n",
       "        vertical-align: middle;\n",
       "    }\n",
       "\n",
       "    .dataframe tbody tr th {\n",
       "        vertical-align: top;\n",
       "    }\n",
       "\n",
       "    .dataframe thead th {\n",
       "        text-align: right;\n",
       "    }\n",
       "</style>\n",
       "<table border=\"1\" class=\"dataframe\">\n",
       "  <thead>\n",
       "    <tr style=\"text-align: right;\">\n",
       "      <th></th>\n",
       "      <th>1200</th>\n",
       "      <th>1500</th>\n",
       "      <th>1800</th>\n",
       "      <th>2100</th>\n",
       "      <th>2400</th>\n",
       "      <th>2700</th>\n",
       "      <th>3000</th>\n",
       "      <th>3300</th>\n",
       "      <th>3600</th>\n",
       "      <th>3900</th>\n",
       "      <th>...</th>\n",
       "      <th>17100</th>\n",
       "      <th>17400</th>\n",
       "      <th>17700</th>\n",
       "      <th>18000</th>\n",
       "      <th>18300</th>\n",
       "      <th>18600</th>\n",
       "      <th>18900</th>\n",
       "      <th>19200</th>\n",
       "      <th>19500</th>\n",
       "      <th>19800</th>\n",
       "    </tr>\n",
       "  </thead>\n",
       "  <tbody>\n",
       "    <tr>\n",
       "      <th>c_e</th>\n",
       "      <td>0.141440</td>\n",
       "      <td>0.125305</td>\n",
       "      <td>0.150377</td>\n",
       "      <td>0.113683</td>\n",
       "      <td>0.120942</td>\n",
       "      <td>0.11564</td>\n",
       "      <td>0.118462</td>\n",
       "      <td>0.092325</td>\n",
       "      <td>0.094102</td>\n",
       "      <td>0.088749</td>\n",
       "      <td>...</td>\n",
       "      <td>0.115677</td>\n",
       "      <td>0.114013</td>\n",
       "      <td>0.114407</td>\n",
       "      <td>0.114995</td>\n",
       "      <td>0.115385</td>\n",
       "      <td>0.115547</td>\n",
       "      <td>0.116167</td>\n",
       "      <td>0.116304</td>\n",
       "      <td>0.117423</td>\n",
       "      <td>0.117118</td>\n",
       "    </tr>\n",
       "    <tr>\n",
       "      <th>test</th>\n",
       "      <td>0.960855</td>\n",
       "      <td>0.969164</td>\n",
       "      <td>0.962382</td>\n",
       "      <td>0.972436</td>\n",
       "      <td>0.973145</td>\n",
       "      <td>0.97380</td>\n",
       "      <td>0.973545</td>\n",
       "      <td>0.983273</td>\n",
       "      <td>0.985327</td>\n",
       "      <td>0.985764</td>\n",
       "      <td>...</td>\n",
       "      <td>1.000000</td>\n",
       "      <td>0.999982</td>\n",
       "      <td>1.000000</td>\n",
       "      <td>1.000000</td>\n",
       "      <td>1.000000</td>\n",
       "      <td>1.000000</td>\n",
       "      <td>1.000000</td>\n",
       "      <td>1.000000</td>\n",
       "      <td>1.000000</td>\n",
       "      <td>1.000000</td>\n",
       "    </tr>\n",
       "    <tr>\n",
       "      <th>train</th>\n",
       "      <td>0.956300</td>\n",
       "      <td>0.960200</td>\n",
       "      <td>0.953700</td>\n",
       "      <td>0.964800</td>\n",
       "      <td>0.962200</td>\n",
       "      <td>0.96440</td>\n",
       "      <td>0.962700</td>\n",
       "      <td>0.972200</td>\n",
       "      <td>0.972700</td>\n",
       "      <td>0.973900</td>\n",
       "      <td>...</td>\n",
       "      <td>0.979700</td>\n",
       "      <td>0.980000</td>\n",
       "      <td>0.979700</td>\n",
       "      <td>0.980000</td>\n",
       "      <td>0.980100</td>\n",
       "      <td>0.980200</td>\n",
       "      <td>0.980000</td>\n",
       "      <td>0.980100</td>\n",
       "      <td>0.980100</td>\n",
       "      <td>0.980000</td>\n",
       "    </tr>\n",
       "  </tbody>\n",
       "</table>\n",
       "<p>3 rows × 63 columns</p>\n",
       "</div>"
      ],
      "text/plain": [
       "          1200      1500      1800      2100      2400     2700      3000   \\\n",
       "c_e    0.141440  0.125305  0.150377  0.113683  0.120942  0.11564  0.118462   \n",
       "test   0.960855  0.969164  0.962382  0.972436  0.973145  0.97380  0.973545   \n",
       "train  0.956300  0.960200  0.953700  0.964800  0.962200  0.96440  0.962700   \n",
       "\n",
       "          3300      3600      3900     ...        17100     17400     17700  \\\n",
       "c_e    0.092325  0.094102  0.088749    ...     0.115677  0.114013  0.114407   \n",
       "test   0.983273  0.985327  0.985764    ...     1.000000  0.999982  1.000000   \n",
       "train  0.972200  0.972700  0.973900    ...     0.979700  0.980000  0.979700   \n",
       "\n",
       "          18000     18300     18600     18900     19200     19500     19800  \n",
       "c_e    0.114995  0.115385  0.115547  0.116167  0.116304  0.117423  0.117118  \n",
       "test   1.000000  1.000000  1.000000  1.000000  1.000000  1.000000  1.000000  \n",
       "train  0.980000  0.980100  0.980200  0.980000  0.980100  0.980100  0.980000  \n",
       "\n",
       "[3 rows x 63 columns]"
      ]
     },
     "execution_count": 20,
     "metadata": {},
     "output_type": "execute_result"
    }
   ],
   "source": [
    "df.T"
   ]
  },
  {
   "cell_type": "markdown",
   "metadata": {},
   "source": [
    "四层隐层之后,正确率达到98%,但是交叉熵并不理想"
   ]
  },
  {
   "cell_type": "markdown",
   "metadata": {},
   "source": [
    "毫无疑问，这个模型是一个非常简陋，性能也不理想的模型。目前只能达到92%左右的准确率。\n",
    "接下来，希望大家利用现有的知识，将这个模型优化至98%以上的准确率。\n",
    "Hint：\n",
    "- 多隐层**一层隐层后97.8%,四层隐层后到了98.0%**\n",
    "- 激活函数\n",
    "- 正则化\n",
    "- 初始化\n",
    "- 摸索一下各个超参数\n",
    "  - 隐层神经元数量\n",
    "  - 学习率\n",
    "  - 正则化惩罚因子\n",
    "  - 最好每隔几个step就对loss、accuracy等等进行一次输出，这样才能有根据地进行调整"
   ]
  },
  {
   "cell_type": "markdown",
   "metadata": {},
   "source": [
    "## 结论"
   ]
  },
  {
   "cell_type": "markdown",
   "metadata": {
    "ExecuteTime": {
     "end_time": "2018-03-23T03:47:53.024407Z",
     "start_time": "2018-03-23T03:47:52.999385Z"
    }
   },
   "source": [
    "应当加隐层"
   ]
  },
  {
   "cell_type": "code",
   "execution_count": null,
   "metadata": {},
   "outputs": [],
   "source": []
  }
 ],
 "metadata": {
  "kernelspec": {
   "display_name": "Python 3",
   "language": "python",
   "name": "python3"
  },
  "language_info": {
   "codemirror_mode": {
    "name": "ipython",
    "version": 3
   },
   "file_extension": ".py",
   "mimetype": "text/x-python",
   "name": "python",
   "nbconvert_exporter": "python",
   "pygments_lexer": "ipython3",
   "version": "3.6.4"
  },
  "toc": {
   "nav_menu": {},
   "number_sections": true,
   "sideBar": true,
   "skip_h1_title": false,
   "title_cell": "Mnist 多层感知器版",
   "title_sidebar": "添加隐层",
   "toc_cell": true,
   "toc_position": {},
   "toc_section_display": true,
   "toc_window_display": false
  }
 },
 "nbformat": 4,
 "nbformat_minor": 2
}
