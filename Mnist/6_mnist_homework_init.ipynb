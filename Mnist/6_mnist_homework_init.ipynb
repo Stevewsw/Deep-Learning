{
 "cells": [
  {
   "cell_type": "markdown",
   "metadata": {
    "toc": true
   },
   "source": [
    "<h1>Mnist 多层感知器版更换初始化<span class=\"tocSkip\"></span></h1>\n",
    "<div class=\"toc\"><ul class=\"toc-item\"><li><span><a href=\"#导入工具包\" data-toc-modified-id=\"导入工具包-1\"><span class=\"toc-item-num\">1&nbsp;&nbsp;</span>导入工具包</a></span></li><li><span><a href=\"#导入数据\" data-toc-modified-id=\"导入数据-2\"><span class=\"toc-item-num\">2&nbsp;&nbsp;</span>导入数据</a></span></li><li><span><a href=\"#初始化模型参数-normal\" data-toc-modified-id=\"初始化模型参数-normal-3\"><span class=\"toc-item-num\">3&nbsp;&nbsp;</span>初始化模型参数-normal</a></span></li><li><span><a href=\"#初始化模型参数-zero\" data-toc-modified-id=\"初始化模型参数-zero-4\"><span class=\"toc-item-num\">4&nbsp;&nbsp;</span>初始化模型参数-zero</a></span></li><li><span><a href=\"#结论\" data-toc-modified-id=\"结论-5\"><span class=\"toc-item-num\">5&nbsp;&nbsp;</span>结论</a></span></li></ul></div>"
   ]
  },
  {
   "cell_type": "markdown",
   "metadata": {},
   "source": [
    "## 导入工具包"
   ]
  },
  {
   "cell_type": "code",
   "execution_count": 1,
   "metadata": {
    "ExecuteTime": {
     "end_time": "2018-04-02T09:26:32.785760Z",
     "start_time": "2018-04-02T09:26:29.552020Z"
    }
   },
   "outputs": [],
   "source": [
    "\"\"\"A very simple MNIST classifier.\n",
    "See extensive documentation at\n",
    "https://www.tensorflow.org/get_started/mnist/beginners\n",
    "\"\"\"\n",
    "#from __future__ import absolute_import\n",
    "#from __future__ import division\n",
    "#from __future__ import print_function\n",
    "\n",
    "import argparse\n",
    "import sys\n",
    "\n",
    "from tensorflow.examples.tutorials.mnist import input_data\n",
    "\n",
    "import tensorflow as tf\n",
    "\n",
    "import matplotlib.pyplot as plt\n",
    "import pandas as pd\n",
    "import numpy as np\n",
    "\n",
    "FLAGS = None\n"
   ]
  },
  {
   "cell_type": "markdown",
   "metadata": {},
   "source": [
    "## 导入数据"
   ]
  },
  {
   "cell_type": "code",
   "execution_count": 2,
   "metadata": {
    "ExecuteTime": {
     "end_time": "2018-04-02T09:26:33.508033Z",
     "start_time": "2018-04-02T09:26:32.786258Z"
    }
   },
   "outputs": [
    {
     "name": "stdout",
     "output_type": "stream",
     "text": [
      "Extracting E:/AI/00/data/Mnist/input_data\\train-images-idx3-ubyte.gz\n",
      "Extracting E:/AI/00/data/Mnist/input_data\\train-labels-idx1-ubyte.gz\n",
      "Extracting E:/AI/00/data/Mnist/input_data\\t10k-images-idx3-ubyte.gz\n",
      "Extracting E:/AI/00/data/Mnist/input_data\\t10k-labels-idx1-ubyte.gz\n"
     ]
    }
   ],
   "source": [
    "# Import data\n",
    "data_dir = 'E:/AI/00/data/Mnist/input_data'\n",
    "mnist = input_data.read_data_sets(data_dir, one_hot=True)"
   ]
  },
  {
   "cell_type": "markdown",
   "metadata": {
    "ExecuteTime": {
     "end_time": "2018-03-23T01:14:41.317119Z",
     "start_time": "2018-03-23T01:14:41.314117Z"
    }
   },
   "source": [
    "## 初始化模型参数-normal"
   ]
  },
  {
   "cell_type": "code",
   "execution_count": 3,
   "metadata": {
    "ExecuteTime": {
     "end_time": "2018-04-02T09:29:01.613941Z",
     "start_time": "2018-04-02T09:29:01.525470Z"
    }
   },
   "outputs": [],
   "source": [
    "# 初始化模型参数\n",
    "sjy=100\n",
    "x  = tf.placeholder(tf.float32, [None, 784])\n",
    "W1 = tf.Variable(tf.truncated_normal([784,sjy],mean=0,stddev=(2/sjy)**0.5,seed=66))\n",
    "b1 = tf.Variable(tf.zeros([sjy]))\n",
    "W2 = tf.Variable(tf.truncated_normal([sjy,sjy],mean=0,stddev=(2/sjy)**0.5,seed=66))\n",
    "b2 = tf.Variable(tf.zeros([sjy]))\n",
    "W3 = tf.Variable(tf.truncated_normal([sjy,sjy],mean=0,stddev=(2/sjy)**0.5,seed=66))\n",
    "b3 = tf.Variable(tf.zeros([sjy]))\n",
    "W4 = tf.Variable(tf.truncated_normal([sjy,sjy],mean=0,stddev=(2/sjy)**0.5,seed=66))\n",
    "b4 = tf.Variable(tf.zeros([sjy]))\n",
    "W5 = tf.Variable(tf.truncated_normal([sjy,10 ],mean=0,stddev=(2/sjy)**0.5,seed=66))\n",
    "b5 = tf.Variable(tf.zeros([10]))"
   ]
  },
  {
   "cell_type": "code",
   "execution_count": 4,
   "metadata": {
    "ExecuteTime": {
     "end_time": "2018-04-02T09:29:02.522071Z",
     "start_time": "2018-04-02T09:29:02.500056Z"
    }
   },
   "outputs": [],
   "source": [
    "# 添加隐层\n",
    "hidden1 = tf.nn.sigmoid(tf.matmul(x,W1)+b1)\n",
    "hidden2 = tf.nn.tanh(tf.matmul(hidden1,W2)+b2)\n",
    "hidden3 = tf.nn.relu6(tf.matmul(hidden2,W3)+b3)\n",
    "hidden4 = tf.nn.relu(tf.matmul(hidden3,W4)+b4)\n",
    "y = tf.matmul(hidden4, W5) + b5\n",
    "y_ = tf.placeholder(tf.float32, [None, 10])"
   ]
  },
  {
   "cell_type": "code",
   "execution_count": 5,
   "metadata": {
    "ExecuteTime": {
     "end_time": "2018-04-02T09:29:03.631878Z",
     "start_time": "2018-04-02T09:29:03.467831Z"
    }
   },
   "outputs": [],
   "source": [
    "cross_entropy = tf.reduce_mean(\n",
    "    tf.nn.softmax_cross_entropy_with_logits_v2(labels=y_, logits=y))\n",
    "train_step = tf.train.GradientDescentOptimizer(0.5).minimize(cross_entropy)\n",
    "sess = tf.Session()\n",
    "init_op = tf.global_variables_initializer()\n",
    "sess.run(init_op)"
   ]
  },
  {
   "cell_type": "code",
   "execution_count": 6,
   "metadata": {
    "ExecuteTime": {
     "end_time": "2018-04-02T09:30:29.609272Z",
     "start_time": "2018-04-02T09:29:05.054605Z"
    }
   },
   "outputs": [],
   "source": [
    "# 开始训练,Train\n",
    "\n",
    "# 设置正确率计算公式\n",
    "correct_prediction = tf.equal(tf.argmax(y, 1), tf.argmax(y_, 1))\n",
    "accuracy = tf.reduce_mean(tf.cast(correct_prediction, tf.float32))\n",
    "\n",
    "a_ce={'train':[],'test':[],'c_e':[]}#用于存放正确率和交叉熵\n",
    "#{'acc': accuracy, 'c_e': cross_entropy}\n",
    "for _ in range(20000):\n",
    "    # 每次获取小批量的数据\n",
    "    batch_xs, batch_ys = mnist.train.next_batch(100)\n",
    "    # 执行train_step\n",
    "    sess.run(train_step, feed_dict={x: batch_xs, y_: batch_ys})\n",
    "    if _ %300==0:\n",
    "        #将正确率和交叉熵分别添加进各自的list\n",
    "        a_ce['train'].append(sess.run(accuracy, feed_dict={x: mnist.test.images,y_: mnist.test.labels}))\n",
    "        a_ce['c_e'].append(sess.run(cross_entropy, feed_dict={x: mnist.test.images,y_: mnist.test.labels}))\n",
    "        a_ce['test'].append(sess.run(accuracy, feed_dict={x: mnist.train.images,y_: mnist.train.labels}))"
   ]
  },
  {
   "cell_type": "code",
   "execution_count": 7,
   "metadata": {
    "ExecuteTime": {
     "end_time": "2018-04-02T09:30:29.624559Z",
     "start_time": "2018-04-02T09:30:29.609272Z"
    }
   },
   "outputs": [],
   "source": [
    "# 将得到的正确率和交叉熵转换成DataFrame\n",
    "df=pd.DataFrame(data=a_ce,index=[x for x in range(20000) if x%300==0])\n",
    "# 删除前几列的异常点\n",
    "df.drop([0,300,600,900],inplace=True)"
   ]
  },
  {
   "cell_type": "code",
   "execution_count": 8,
   "metadata": {
    "ExecuteTime": {
     "end_time": "2018-04-02T09:30:29.918279Z",
     "start_time": "2018-04-02T09:30:29.627562Z"
    }
   },
   "outputs": [
    {
     "data": {
      "image/png": "[encoded data removed]",
      "text/plain": [
       "<Figure size 432x288 with 2 Axes>"
      ]
     },
     "metadata": {},
     "output_type": "display_data"
    }
   ],
   "source": [
    "# 绘图\n",
    "\n",
    "# 子图一: 正确率\n",
    "ax1 = plt.figure().add_subplot(111)\n",
    "ax1.plot(df['train'], label='train', color='b')\n",
    "ax1.plot(df['test'], label='test', color='g')\n",
    "ax1.plot([1000,20000], [0.98,0.98], label='0.98', color='y')\n",
    "#ax1.set_ylim([0.970, 0.984])\n",
    "ax1.set_ylabel('accuracy')\n",
    "ax1.legend(loc=4)\n",
    "\n",
    "# 子图一: 交叉熵\n",
    "ax2 = ax1.twinx()  \n",
    "ax2.plot(df['c_e'],label='cross_entropy', color='r')\n",
    "#ax2.set_ylim([0.072, 0.100])\n",
    "ax2.set_ylabel('cross_entropy')\n",
    "ax2.legend(loc=8)\n",
    "\n",
    "plt.grid(True, linestyle = \"-\")\n",
    "plt.show()"
   ]
  },
  {
   "cell_type": "code",
   "execution_count": 9,
   "metadata": {
    "ExecuteTime": {
     "end_time": "2018-04-02T09:30:29.955304Z",
     "start_time": "2018-04-02T09:30:29.921282Z"
    }
   },
   "outputs": [
    {
     "data": {
      "text/html": [
       "<div>\n",
       "<style scoped>\n",
       "    .dataframe tbody tr th:only-of-type {\n",
       "        vertical-align: middle;\n",
       "    }\n",
       "\n",
       "    .dataframe tbody tr th {\n",
       "        vertical-align: top;\n",
       "    }\n",
       "\n",
       "    .dataframe thead th {\n",
       "        text-align: right;\n",
       "    }\n",
       "</style>\n",
       "<table border=\"1\" class=\"dataframe\">\n",
       "  <thead>\n",
       "    <tr style=\"text-align: right;\">\n",
       "      <th></th>\n",
       "      <th>1200</th>\n",
       "      <th>1500</th>\n",
       "      <th>1800</th>\n",
       "      <th>2100</th>\n",
       "      <th>2400</th>\n",
       "      <th>2700</th>\n",
       "      <th>3000</th>\n",
       "      <th>3300</th>\n",
       "      <th>3600</th>\n",
       "      <th>3900</th>\n",
       "      <th>...</th>\n",
       "      <th>17100</th>\n",
       "      <th>17400</th>\n",
       "      <th>17700</th>\n",
       "      <th>18000</th>\n",
       "      <th>18300</th>\n",
       "      <th>18600</th>\n",
       "      <th>18900</th>\n",
       "      <th>19200</th>\n",
       "      <th>19500</th>\n",
       "      <th>19800</th>\n",
       "    </tr>\n",
       "  </thead>\n",
       "  <tbody>\n",
       "    <tr>\n",
       "      <th>c_e</th>\n",
       "      <td>0.133499</td>\n",
       "      <td>0.120669</td>\n",
       "      <td>0.115574</td>\n",
       "      <td>0.113413</td>\n",
       "      <td>0.096596</td>\n",
       "      <td>0.098038</td>\n",
       "      <td>0.099486</td>\n",
       "      <td>0.096098</td>\n",
       "      <td>0.089534</td>\n",
       "      <td>0.085398</td>\n",
       "      <td>...</td>\n",
       "      <td>0.105542</td>\n",
       "      <td>0.10544</td>\n",
       "      <td>0.106606</td>\n",
       "      <td>0.106322</td>\n",
       "      <td>0.108414</td>\n",
       "      <td>0.1085</td>\n",
       "      <td>0.109444</td>\n",
       "      <td>0.111092</td>\n",
       "      <td>0.110268</td>\n",
       "      <td>0.111268</td>\n",
       "    </tr>\n",
       "    <tr>\n",
       "      <th>test</th>\n",
       "      <td>0.963782</td>\n",
       "      <td>0.968345</td>\n",
       "      <td>0.971455</td>\n",
       "      <td>0.974636</td>\n",
       "      <td>0.980091</td>\n",
       "      <td>0.978491</td>\n",
       "      <td>0.979618</td>\n",
       "      <td>0.983745</td>\n",
       "      <td>0.985364</td>\n",
       "      <td>0.987727</td>\n",
       "      <td>...</td>\n",
       "      <td>0.999945</td>\n",
       "      <td>1.00000</td>\n",
       "      <td>1.000000</td>\n",
       "      <td>1.000000</td>\n",
       "      <td>1.000000</td>\n",
       "      <td>1.0000</td>\n",
       "      <td>1.000000</td>\n",
       "      <td>1.000000</td>\n",
       "      <td>1.000000</td>\n",
       "      <td>1.000000</td>\n",
       "    </tr>\n",
       "    <tr>\n",
       "      <th>train</th>\n",
       "      <td>0.958200</td>\n",
       "      <td>0.961700</td>\n",
       "      <td>0.964900</td>\n",
       "      <td>0.963200</td>\n",
       "      <td>0.969900</td>\n",
       "      <td>0.970100</td>\n",
       "      <td>0.970200</td>\n",
       "      <td>0.971300</td>\n",
       "      <td>0.972800</td>\n",
       "      <td>0.975300</td>\n",
       "      <td>...</td>\n",
       "      <td>0.981100</td>\n",
       "      <td>0.98090</td>\n",
       "      <td>0.981200</td>\n",
       "      <td>0.980500</td>\n",
       "      <td>0.981000</td>\n",
       "      <td>0.9813</td>\n",
       "      <td>0.980700</td>\n",
       "      <td>0.981200</td>\n",
       "      <td>0.980900</td>\n",
       "      <td>0.980800</td>\n",
       "    </tr>\n",
       "  </tbody>\n",
       "</table>\n",
       "<p>3 rows × 63 columns</p>\n",
       "</div>"
      ],
      "text/plain": [
       "          1200      1500      1800      2100      2400      2700      3000   \\\n",
       "c_e    0.133499  0.120669  0.115574  0.113413  0.096596  0.098038  0.099486   \n",
       "test   0.963782  0.968345  0.971455  0.974636  0.980091  0.978491  0.979618   \n",
       "train  0.958200  0.961700  0.964900  0.963200  0.969900  0.970100  0.970200   \n",
       "\n",
       "          3300      3600      3900     ...        17100    17400     17700  \\\n",
       "c_e    0.096098  0.089534  0.085398    ...     0.105542  0.10544  0.106606   \n",
       "test   0.983745  0.985364  0.987727    ...     0.999945  1.00000  1.000000   \n",
       "train  0.971300  0.972800  0.975300    ...     0.981100  0.98090  0.981200   \n",
       "\n",
       "          18000     18300   18600     18900     19200     19500     19800  \n",
       "c_e    0.106322  0.108414  0.1085  0.109444  0.111092  0.110268  0.111268  \n",
       "test   1.000000  1.000000  1.0000  1.000000  1.000000  1.000000  1.000000  \n",
       "train  0.980500  0.981000  0.9813  0.980700  0.981200  0.980900  0.980800  \n",
       "\n",
       "[3 rows x 63 columns]"
      ]
     },
     "execution_count": 9,
     "metadata": {},
     "output_type": "execute_result"
    }
   ],
   "source": [
    "df.T"
   ]
  },
  {
   "cell_type": "code",
   "execution_count": null,
   "metadata": {},
   "outputs": [],
   "source": []
  },
  {
   "cell_type": "markdown",
   "metadata": {},
   "source": [
    "毫无疑问，这个模型是一个非常简陋，性能也不理想的模型。目前只能达到92%左右的准确率。\n",
    "接下来，希望大家利用现有的知识，将这个模型优化至98%以上的准确率。\n",
    "Hint：\n",
    "- 多隐层\n",
    "- 激活函数\n",
    "- 正则化\n",
    "- 初始化**多层隐层改变初始化后97.7%**\n",
    "- 摸索一下各个超参数\n",
    "  - 隐层神经元数量\n",
    "  - 学习率\n",
    "  - 正则化惩罚因子\n",
    "  - 最好每隔几个step就对loss、accuracy等等进行一次输出，这样才能有根据地进行调整"
   ]
  },
  {
   "cell_type": "markdown",
   "metadata": {
    "ExecuteTime": {
     "end_time": "2018-03-23T01:14:41.317119Z",
     "start_time": "2018-03-23T01:14:41.314117Z"
    }
   },
   "source": [
    "## 初始化模型参数-zero"
   ]
  },
  {
   "cell_type": "code",
   "execution_count": 10,
   "metadata": {
    "ExecuteTime": {
     "end_time": "2018-04-02T09:30:58.860075Z",
     "start_time": "2018-04-02T09:30:58.779018Z"
    }
   },
   "outputs": [],
   "source": [
    "# 初始化模型参数\n",
    "sjy=100\n",
    "x  = tf.placeholder(tf.float32, [None, 784])\n",
    "W1 = tf.Variable(tf.truncated_normal([784,sjy],mean=0,stddev=(1/sjy)**0.5,seed=66))\n",
    "b1 = tf.Variable(tf.zeros([sjy]))\n",
    "W2 = tf.Variable(tf.truncated_normal([sjy,sjy],mean=0,stddev=(1/sjy)**0.5,seed=66))\n",
    "b2 = tf.Variable(tf.zeros([sjy]))\n",
    "W3 = tf.Variable(tf.truncated_normal([sjy,sjy],mean=0,stddev=(1/sjy)**0.5,seed=66))\n",
    "b3 = tf.Variable(tf.zeros([sjy]))\n",
    "W4 = tf.Variable(tf.truncated_normal([sjy,sjy],mean=0,stddev=(1/sjy)**0.5,seed=66))\n",
    "b4 = tf.Variable(tf.zeros([sjy]))\n",
    "W5 = tf.Variable(tf.truncated_normal([sjy,10 ],mean=0,stddev=(1/sjy)**0.5,seed=66))\n",
    "b5 = tf.Variable(tf.zeros([10]))"
   ]
  },
  {
   "cell_type": "code",
   "execution_count": 11,
   "metadata": {
    "ExecuteTime": {
     "end_time": "2018-04-02T09:30:59.343994Z",
     "start_time": "2018-04-02T09:30:59.321980Z"
    }
   },
   "outputs": [],
   "source": [
    "# 添加隐层\n",
    "hidden1 = tf.nn.sigmoid(tf.matmul(x,W1)+b1)\n",
    "hidden2 = tf.nn.tanh(tf.matmul(hidden1,W2)+b2)\n",
    "hidden3 = tf.nn.relu6(tf.matmul(hidden2,W3)+b3)\n",
    "hidden4 = tf.nn.relu(tf.matmul(hidden3,W4)+b4)\n",
    "y = tf.matmul(hidden4, W5) + b5\n",
    "y_ = tf.placeholder(tf.float32, [None, 10])"
   ]
  },
  {
   "cell_type": "code",
   "execution_count": 12,
   "metadata": {
    "ExecuteTime": {
     "end_time": "2018-04-02T09:30:59.990215Z",
     "start_time": "2018-04-02T09:30:59.802911Z"
    }
   },
   "outputs": [],
   "source": [
    "cross_entropy = tf.reduce_mean(\n",
    "    tf.nn.softmax_cross_entropy_with_logits_v2(labels=y_, logits=y))\n",
    "train_step = tf.train.GradientDescentOptimizer(0.5).minimize(cross_entropy)\n",
    "sess = tf.Session()\n",
    "init_op = tf.global_variables_initializer()\n",
    "sess.run(init_op)"
   ]
  },
  {
   "cell_type": "code",
   "execution_count": 13,
   "metadata": {
    "ExecuteTime": {
     "end_time": "2018-04-02T09:32:25.086855Z",
     "start_time": "2018-04-02T09:31:00.554092Z"
    }
   },
   "outputs": [],
   "source": [
    "# 开始训练,Train\n",
    "\n",
    "# 设置正确率计算公式\n",
    "correct_prediction = tf.equal(tf.argmax(y, 1), tf.argmax(y_, 1))\n",
    "accuracy = tf.reduce_mean(tf.cast(correct_prediction, tf.float32))\n",
    "\n",
    "a_ce={'train':[],'test':[],'c_e':[]}#用于存放正确率和交叉熵\n",
    "#{'acc': accuracy, 'c_e': cross_entropy}\n",
    "for _ in range(20000):\n",
    "    # 每次获取小批量的数据\n",
    "    batch_xs, batch_ys = mnist.train.next_batch(100)\n",
    "    # 执行train_step\n",
    "    sess.run(train_step, feed_dict={x: batch_xs, y_: batch_ys})\n",
    "    if _ %300==0:\n",
    "        #将正确率和交叉熵分别添加进各自的list\n",
    "        a_ce['train'].append(sess.run(accuracy, feed_dict={x: mnist.test.images,y_: mnist.test.labels}))\n",
    "        a_ce['c_e'].append(sess.run(cross_entropy, feed_dict={x: mnist.test.images,y_: mnist.test.labels}))\n",
    "        a_ce['test'].append(sess.run(accuracy, feed_dict={x: mnist.train.images,y_: mnist.train.labels}))"
   ]
  },
  {
   "cell_type": "code",
   "execution_count": 14,
   "metadata": {
    "ExecuteTime": {
     "end_time": "2018-04-02T09:32:25.100396Z",
     "start_time": "2018-04-02T09:32:25.086855Z"
    }
   },
   "outputs": [],
   "source": [
    "# 将得到的正确率和交叉熵转换成DataFrame\n",
    "df=pd.DataFrame(data=a_ce,index=[x for x in range(20000) if x%300==0])\n",
    "# 删除前几列的异常点\n",
    "df.drop([0,300,600,900],inplace=True)"
   ]
  },
  {
   "cell_type": "code",
   "execution_count": 15,
   "metadata": {
    "ExecuteTime": {
     "end_time": "2018-04-02T09:32:25.384893Z",
     "start_time": "2018-04-02T09:32:25.103397Z"
    }
   },
   "outputs": [
    {
     "data": {
      "image/png": "[encoded data removed]",
      "text/plain": [
       "<Figure size 432x288 with 2 Axes>"
      ]
     },
     "metadata": {},
     "output_type": "display_data"
    }
   ],
   "source": [
    "# 绘图\n",
    "\n",
    "# 子图一: 正确率\n",
    "ax1 = plt.figure().add_subplot(111)\n",
    "ax1.plot(df['train'], label='train', color='b')\n",
    "ax1.plot(df['test'], label='test', color='g')\n",
    "ax1.plot([1000,20000], [0.98,0.98], label='0.98', color='y')\n",
    "#ax1.set_ylim([0.970, 0.984])\n",
    "ax1.set_ylabel('accuracy')\n",
    "ax1.legend(loc=4)\n",
    "\n",
    "# 子图一: 交叉熵\n",
    "ax2 = ax1.twinx()  \n",
    "ax2.plot(df['c_e'],label='cross_entropy', color='r')\n",
    "#ax2.set_ylim([0.072, 0.100])\n",
    "ax2.set_ylabel('cross_entropy')\n",
    "ax2.legend(loc=8)\n",
    "\n",
    "plt.grid(True, linestyle = \"-\")\n",
    "plt.show()"
   ]
  },
  {
   "cell_type": "code",
   "execution_count": 16,
   "metadata": {
    "ExecuteTime": {
     "end_time": "2018-04-02T09:32:25.420917Z",
     "start_time": "2018-04-02T09:32:25.386894Z"
    }
   },
   "outputs": [
    {
     "data": {
      "text/html": [
       "<div>\n",
       "<style scoped>\n",
       "    .dataframe tbody tr th:only-of-type {\n",
       "        vertical-align: middle;\n",
       "    }\n",
       "\n",
       "    .dataframe tbody tr th {\n",
       "        vertical-align: top;\n",
       "    }\n",
       "\n",
       "    .dataframe thead th {\n",
       "        text-align: right;\n",
       "    }\n",
       "</style>\n",
       "<table border=\"1\" class=\"dataframe\">\n",
       "  <thead>\n",
       "    <tr style=\"text-align: right;\">\n",
       "      <th></th>\n",
       "      <th>1200</th>\n",
       "      <th>1500</th>\n",
       "      <th>1800</th>\n",
       "      <th>2100</th>\n",
       "      <th>2400</th>\n",
       "      <th>2700</th>\n",
       "      <th>3000</th>\n",
       "      <th>3300</th>\n",
       "      <th>3600</th>\n",
       "      <th>3900</th>\n",
       "      <th>...</th>\n",
       "      <th>17100</th>\n",
       "      <th>17400</th>\n",
       "      <th>17700</th>\n",
       "      <th>18000</th>\n",
       "      <th>18300</th>\n",
       "      <th>18600</th>\n",
       "      <th>18900</th>\n",
       "      <th>19200</th>\n",
       "      <th>19500</th>\n",
       "      <th>19800</th>\n",
       "    </tr>\n",
       "  </thead>\n",
       "  <tbody>\n",
       "    <tr>\n",
       "      <th>c_e</th>\n",
       "      <td>0.142343</td>\n",
       "      <td>0.127236</td>\n",
       "      <td>0.118149</td>\n",
       "      <td>0.124339</td>\n",
       "      <td>0.098336</td>\n",
       "      <td>0.097401</td>\n",
       "      <td>0.089293</td>\n",
       "      <td>0.091625</td>\n",
       "      <td>0.096088</td>\n",
       "      <td>0.104920</td>\n",
       "      <td>...</td>\n",
       "      <td>0.121558</td>\n",
       "      <td>0.122817</td>\n",
       "      <td>0.116850</td>\n",
       "      <td>0.118744</td>\n",
       "      <td>0.117128</td>\n",
       "      <td>0.118362</td>\n",
       "      <td>0.119427</td>\n",
       "      <td>0.121076</td>\n",
       "      <td>0.121013</td>\n",
       "      <td>0.121899</td>\n",
       "    </tr>\n",
       "    <tr>\n",
       "      <th>test</th>\n",
       "      <td>0.958073</td>\n",
       "      <td>0.965091</td>\n",
       "      <td>0.969091</td>\n",
       "      <td>0.969182</td>\n",
       "      <td>0.977436</td>\n",
       "      <td>0.976164</td>\n",
       "      <td>0.980891</td>\n",
       "      <td>0.981745</td>\n",
       "      <td>0.980164</td>\n",
       "      <td>0.982327</td>\n",
       "      <td>...</td>\n",
       "      <td>0.997891</td>\n",
       "      <td>0.999200</td>\n",
       "      <td>0.999836</td>\n",
       "      <td>0.999873</td>\n",
       "      <td>0.999927</td>\n",
       "      <td>0.999945</td>\n",
       "      <td>0.999964</td>\n",
       "      <td>1.000000</td>\n",
       "      <td>0.999982</td>\n",
       "      <td>0.999982</td>\n",
       "    </tr>\n",
       "    <tr>\n",
       "      <th>train</th>\n",
       "      <td>0.955300</td>\n",
       "      <td>0.961400</td>\n",
       "      <td>0.962200</td>\n",
       "      <td>0.961900</td>\n",
       "      <td>0.968000</td>\n",
       "      <td>0.968700</td>\n",
       "      <td>0.973100</td>\n",
       "      <td>0.972300</td>\n",
       "      <td>0.970900</td>\n",
       "      <td>0.969700</td>\n",
       "      <td>...</td>\n",
       "      <td>0.977300</td>\n",
       "      <td>0.979400</td>\n",
       "      <td>0.980300</td>\n",
       "      <td>0.980300</td>\n",
       "      <td>0.981400</td>\n",
       "      <td>0.981100</td>\n",
       "      <td>0.980600</td>\n",
       "      <td>0.981000</td>\n",
       "      <td>0.981100</td>\n",
       "      <td>0.980800</td>\n",
       "    </tr>\n",
       "  </tbody>\n",
       "</table>\n",
       "<p>3 rows × 63 columns</p>\n",
       "</div>"
      ],
      "text/plain": [
       "          1200      1500      1800      2100      2400      2700      3000   \\\n",
       "c_e    0.142343  0.127236  0.118149  0.124339  0.098336  0.097401  0.089293   \n",
       "test   0.958073  0.965091  0.969091  0.969182  0.977436  0.976164  0.980891   \n",
       "train  0.955300  0.961400  0.962200  0.961900  0.968000  0.968700  0.973100   \n",
       "\n",
       "          3300      3600      3900     ...        17100     17400     17700  \\\n",
       "c_e    0.091625  0.096088  0.104920    ...     0.121558  0.122817  0.116850   \n",
       "test   0.981745  0.980164  0.982327    ...     0.997891  0.999200  0.999836   \n",
       "train  0.972300  0.970900  0.969700    ...     0.977300  0.979400  0.980300   \n",
       "\n",
       "          18000     18300     18600     18900     19200     19500     19800  \n",
       "c_e    0.118744  0.117128  0.118362  0.119427  0.121076  0.121013  0.121899  \n",
       "test   0.999873  0.999927  0.999945  0.999964  1.000000  0.999982  0.999982  \n",
       "train  0.980300  0.981400  0.981100  0.980600  0.981000  0.981100  0.980800  \n",
       "\n",
       "[3 rows x 63 columns]"
      ]
     },
     "execution_count": 16,
     "metadata": {},
     "output_type": "execute_result"
    }
   ],
   "source": [
    "df.T"
   ]
  },
  {
   "cell_type": "markdown",
   "metadata": {},
   "source": [
    "毫无疑问，这个模型是一个非常简陋，性能也不理想的模型。目前只能达到92%左右的准确率。\n",
    "接下来，希望大家利用现有的知识，将这个模型优化至98%以上的准确率。\n",
    "Hint：\n",
    "- 多隐层\n",
    "- 激活函数\n",
    "- 正则化\n",
    "- 初始化**多层隐层初始化$\\sqrt{\\frac{2}{n_{in}}}$确实比$\\sqrt{\\frac{1}{n_{in}}}$更快达到收敛后97%**\n",
    "- 摸索一下各个超参数\n",
    "  - 隐层神经元数量\n",
    "  - 学习率\n",
    "  - 正则化惩罚因子\n",
    "  - 最好每隔几个step就对loss、accuracy等等进行一次输出，这样才能有根据地进行调整"
   ]
  },
  {
   "cell_type": "markdown",
   "metadata": {},
   "source": [
    "四层隐层之后,改变初始化后,正确率达到97%"
   ]
  },
  {
   "cell_type": "markdown",
   "metadata": {},
   "source": [
    "## 结论"
   ]
  },
  {
   "cell_type": "markdown",
   "metadata": {
    "ExecuteTime": {
     "end_time": "2018-03-23T03:47:53.024407Z",
     "start_time": "2018-03-23T03:47:52.999385Z"
    }
   },
   "source": [
    "适当改变初始化"
   ]
  },
  {
   "cell_type": "code",
   "execution_count": null,
   "metadata": {},
   "outputs": [],
   "source": []
  }
 ],
 "metadata": {
  "kernelspec": {
   "display_name": "Python 3",
   "language": "python",
   "name": "python3"
  },
  "language_info": {
   "codemirror_mode": {
    "name": "ipython",
    "version": 3
   },
   "file_extension": ".py",
   "mimetype": "text/x-python",
   "name": "python",
   "nbconvert_exporter": "python",
   "pygments_lexer": "ipython3",
   "version": "3.6.4"
  },
  "toc": {
   "nav_menu": {},
   "number_sections": true,
   "sideBar": true,
   "skip_h1_title": false,
   "title_cell": "Mnist 多层感知器版更换初始化",
   "title_sidebar": "添加隐层",
   "toc_cell": true,
   "toc_position": {},
   "toc_section_display": true,
   "toc_window_display": false
  }
 },
 "nbformat": 4,
 "nbformat_minor": 2
}
