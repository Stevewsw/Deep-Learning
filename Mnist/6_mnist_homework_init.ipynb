{
 "cells": [
  {
   "cell_type": "markdown",
   "metadata": {
    "toc": true
   },
   "source": [
    "<h1>Mnist 多层感知器版更换初始化<span class=\"tocSkip\"></span></h1>\n",
    "<div class=\"toc\"><ul class=\"toc-item\"><li><span><a href=\"#导入工具包\" data-toc-modified-id=\"导入工具包-1\"><span class=\"toc-item-num\">1&nbsp;&nbsp;</span>导入工具包</a></span></li><li><span><a href=\"#导入数据\" data-toc-modified-id=\"导入数据-2\"><span class=\"toc-item-num\">2&nbsp;&nbsp;</span>导入数据</a></span></li><li><span><a href=\"#初始化模型参数-normal\" data-toc-modified-id=\"初始化模型参数-normal-3\"><span class=\"toc-item-num\">3&nbsp;&nbsp;</span>初始化模型参数-normal</a></span></li><li><span><a href=\"#初始化模型参数-zero\" data-toc-modified-id=\"初始化模型参数-zero-4\"><span class=\"toc-item-num\">4&nbsp;&nbsp;</span>初始化模型参数-zero</a></span></li><li><span><a href=\"#结论\" data-toc-modified-id=\"结论-5\"><span class=\"toc-item-num\">5&nbsp;&nbsp;</span>结论</a></span></li></ul></div>"
   ]
  },
  {
   "cell_type": "markdown",
   "metadata": {},
   "source": [
    "## 导入工具包"
   ]
  },
  {
   "cell_type": "code",
   "execution_count": 1,
   "metadata": {
    "ExecuteTime": {
     "end_time": "2018-04-02T00:26:38.086404Z",
     "start_time": "2018-04-02T00:26:34.875439Z"
    }
   },
   "outputs": [],
   "source": [
    "\"\"\"A very simple MNIST classifier.\n",
    "See extensive documentation at\n",
    "https://www.tensorflow.org/get_started/mnist/beginners\n",
    "\"\"\"\n",
    "#from __future__ import absolute_import\n",
    "#from __future__ import division\n",
    "#from __future__ import print_function\n",
    "\n",
    "import argparse\n",
    "import sys\n",
    "\n",
    "from tensorflow.examples.tutorials.mnist import input_data\n",
    "\n",
    "import tensorflow as tf\n",
    "\n",
    "import matplotlib.pyplot as plt\n",
    "import pandas as pd\n",
    "import numpy as np\n",
    "\n",
    "FLAGS = None\n"
   ]
  },
  {
   "cell_type": "markdown",
   "metadata": {},
   "source": [
    "## 导入数据"
   ]
  },
  {
   "cell_type": "code",
   "execution_count": 2,
   "metadata": {
    "ExecuteTime": {
     "end_time": "2018-04-02T00:26:38.781476Z",
     "start_time": "2018-04-02T00:26:38.088905Z"
    }
   },
   "outputs": [
    {
     "name": "stdout",
     "output_type": "stream",
     "text": [
      "Extracting E:/AI/00/data/Mnist/input_data\\train-images-idx3-ubyte.gz\n",
      "Extracting E:/AI/00/data/Mnist/input_data\\train-labels-idx1-ubyte.gz\n",
      "Extracting E:/AI/00/data/Mnist/input_data\\t10k-images-idx3-ubyte.gz\n",
      "Extracting E:/AI/00/data/Mnist/input_data\\t10k-labels-idx1-ubyte.gz\n"
     ]
    }
   ],
   "source": [
    "# Import data\n",
    "data_dir = 'E:/AI/00/data/Mnist/input_data'\n",
    "mnist = input_data.read_data_sets(data_dir, one_hot=True)"
   ]
  },
  {
   "cell_type": "markdown",
   "metadata": {
    "ExecuteTime": {
     "end_time": "2018-03-23T01:14:41.317119Z",
     "start_time": "2018-03-23T01:14:41.314117Z"
    }
   },
   "source": [
    "## 初始化模型参数-normal"
   ]
  },
  {
   "cell_type": "code",
   "execution_count": 3,
   "metadata": {
    "ExecuteTime": {
     "end_time": "2018-04-02T00:26:41.774767Z",
     "start_time": "2018-04-02T00:26:41.697707Z"
    }
   },
   "outputs": [],
   "source": [
    "# 初始化模型参数\n",
    "x  = tf.placeholder(tf.float32, [None, 784])\n",
    "W1 = tf.Variable(tf.truncated_normal([784,100],mean=0,stddev=0.1,seed=66))\n",
    "b1 = tf.Variable(tf.zeros([100]))\n",
    "W2 = tf.Variable(tf.truncated_normal([100,100],mean=0,stddev=0.1,seed=66))\n",
    "b2 = tf.Variable(tf.zeros([100]))\n",
    "W3 = tf.Variable(tf.truncated_normal([100,100],mean=0,stddev=0.1,seed=66))\n",
    "b3 = tf.Variable(tf.zeros([100]))\n",
    "W4 = tf.Variable(tf.truncated_normal([100,100],mean=0,stddev=0.1,seed=66))\n",
    "b4 = tf.Variable(tf.zeros([100]))\n",
    "W5 = tf.Variable(tf.truncated_normal([100,10],mean=0,stddev=0.1,seed=66))\n",
    "b5 = tf.Variable(tf.zeros([10]))"
   ]
  },
  {
   "cell_type": "code",
   "execution_count": 4,
   "metadata": {
    "ExecuteTime": {
     "end_time": "2018-04-02T00:26:56.713015Z",
     "start_time": "2018-04-02T00:26:56.690000Z"
    }
   },
   "outputs": [],
   "source": [
    "# 添加隐层\n",
    "hidden1 = tf.nn.sigmoid(tf.matmul(x,W1)+b1)\n",
    "hidden2 = tf.nn.tanh(tf.matmul(hidden1,W2)+b2)\n",
    "hidden3 = tf.nn.relu6(tf.matmul(hidden2,W3)+b3)\n",
    "hidden4 = tf.nn.relu(tf.matmul(hidden3,W4)+b4)\n",
    "y = tf.matmul(hidden4, W5) + b5\n",
    "y_ = tf.placeholder(tf.float32, [None, 10])"
   ]
  },
  {
   "cell_type": "code",
   "execution_count": 5,
   "metadata": {
    "ExecuteTime": {
     "end_time": "2018-04-02T00:26:59.793231Z",
     "start_time": "2018-04-02T00:26:59.617772Z"
    }
   },
   "outputs": [],
   "source": [
    "cross_entropy = tf.reduce_mean(\n",
    "    tf.nn.softmax_cross_entropy_with_logits_v2(labels=y_, logits=y))\n",
    "train_step = tf.train.GradientDescentOptimizer(0.5).minimize(cross_entropy)\n",
    "sess = tf.Session()\n",
    "init_op = tf.global_variables_initializer()\n",
    "sess.run(init_op)"
   ]
  },
  {
   "cell_type": "code",
   "execution_count": 6,
   "metadata": {
    "ExecuteTime": {
     "end_time": "2018-04-02T00:28:50.885447Z",
     "start_time": "2018-04-02T00:27:26.754191Z"
    }
   },
   "outputs": [],
   "source": [
    "# 开始训练,Train\n",
    "\n",
    "# 设置正确率计算公式\n",
    "correct_prediction = tf.equal(tf.argmax(y, 1), tf.argmax(y_, 1))\n",
    "accuracy = tf.reduce_mean(tf.cast(correct_prediction, tf.float32))\n",
    "\n",
    "a_ce={'train':[],'test':[],'c_e':[]}#用于存放正确率和交叉熵\n",
    "#{'acc': accuracy, 'c_e': cross_entropy}\n",
    "for _ in range(20000):\n",
    "    # 每次获取小批量的数据\n",
    "    batch_xs, batch_ys = mnist.train.next_batch(100)\n",
    "    # 执行train_step\n",
    "    sess.run(train_step, feed_dict={x: batch_xs, y_: batch_ys})\n",
    "    if _ %300==0:\n",
    "        #将正确率和交叉熵分别添加进各自的list\n",
    "        a_ce['train'].append(sess.run(accuracy, feed_dict={x: mnist.test.images,y_: mnist.test.labels}))\n",
    "        a_ce['c_e'].append(sess.run(cross_entropy, feed_dict={x: mnist.test.images,y_: mnist.test.labels}))\n",
    "        a_ce['test'].append(sess.run(accuracy, feed_dict={x: mnist.train.images,y_: mnist.train.labels}))"
   ]
  },
  {
   "cell_type": "code",
   "execution_count": 7,
   "metadata": {
    "ExecuteTime": {
     "end_time": "2018-04-02T00:28:50.898079Z",
     "start_time": "2018-04-02T00:28:50.885447Z"
    }
   },
   "outputs": [],
   "source": [
    "# 将得到的正确率和交叉熵转换成DataFrame\n",
    "df=pd.DataFrame(data=a_ce,index=[x for x in range(20000) if x%300==0])\n",
    "# 删除前几列的异常点\n",
    "df.drop([0,300,600,900],inplace=True)"
   ]
  },
  {
   "cell_type": "code",
   "execution_count": 8,
   "metadata": {
    "ExecuteTime": {
     "end_time": "2018-04-02T00:28:51.211849Z",
     "start_time": "2018-04-02T00:28:50.901081Z"
    }
   },
   "outputs": [
    {
     "data": {
      "image/png": "[encoded data removed]",
      "text/plain": [
       "<Figure size 432x288 with 2 Axes>"
      ]
     },
     "metadata": {},
     "output_type": "display_data"
    }
   ],
   "source": [
    "# 绘图\n",
    "\n",
    "# 子图一: 正确率\n",
    "ax1 = plt.figure().add_subplot(111)\n",
    "ax1.plot(df['train'], label='train', color='b')\n",
    "ax1.plot(df['test'], label='test', color='g')\n",
    "ax1.plot([1000,20000], [0.98,0.98], label='0.98', color='y')\n",
    "#ax1.set_ylim([0.970, 0.984])\n",
    "ax1.set_ylabel('accuracy')\n",
    "ax1.legend(loc=4)\n",
    "\n",
    "# 子图一: 交叉熵\n",
    "ax2 = ax1.twinx()  \n",
    "ax2.plot(df['c_e'],label='cross_entropy', color='r')\n",
    "#ax2.set_ylim([0.072, 0.100])\n",
    "ax2.set_ylabel('cross_entropy')\n",
    "ax2.legend(loc=8)\n",
    "\n",
    "plt.grid(True, linestyle = \"-\")\n",
    "plt.show()"
   ]
  },
  {
   "cell_type": "code",
   "execution_count": 9,
   "metadata": {
    "ExecuteTime": {
     "end_time": "2018-04-02T00:28:51.248876Z",
     "start_time": "2018-04-02T00:28:51.213848Z"
    }
   },
   "outputs": [
    {
     "data": {
      "text/html": [
       "<div>\n",
       "<style scoped>\n",
       "    .dataframe tbody tr th:only-of-type {\n",
       "        vertical-align: middle;\n",
       "    }\n",
       "\n",
       "    .dataframe tbody tr th {\n",
       "        vertical-align: top;\n",
       "    }\n",
       "\n",
       "    .dataframe thead th {\n",
       "        text-align: right;\n",
       "    }\n",
       "</style>\n",
       "<table border=\"1\" class=\"dataframe\">\n",
       "  <thead>\n",
       "    <tr style=\"text-align: right;\">\n",
       "      <th></th>\n",
       "      <th>1200</th>\n",
       "      <th>1500</th>\n",
       "      <th>1800</th>\n",
       "      <th>2100</th>\n",
       "      <th>2400</th>\n",
       "      <th>2700</th>\n",
       "      <th>3000</th>\n",
       "      <th>3300</th>\n",
       "      <th>3600</th>\n",
       "      <th>3900</th>\n",
       "      <th>...</th>\n",
       "      <th>17100</th>\n",
       "      <th>17400</th>\n",
       "      <th>17700</th>\n",
       "      <th>18000</th>\n",
       "      <th>18300</th>\n",
       "      <th>18600</th>\n",
       "      <th>18900</th>\n",
       "      <th>19200</th>\n",
       "      <th>19500</th>\n",
       "      <th>19800</th>\n",
       "    </tr>\n",
       "  </thead>\n",
       "  <tbody>\n",
       "    <tr>\n",
       "      <th>c_e</th>\n",
       "      <td>0.158536</td>\n",
       "      <td>0.128494</td>\n",
       "      <td>0.126047</td>\n",
       "      <td>0.114378</td>\n",
       "      <td>0.118317</td>\n",
       "      <td>0.119257</td>\n",
       "      <td>0.103324</td>\n",
       "      <td>0.138763</td>\n",
       "      <td>0.091492</td>\n",
       "      <td>0.085489</td>\n",
       "      <td>...</td>\n",
       "      <td>0.109450</td>\n",
       "      <td>0.113990</td>\n",
       "      <td>0.115664</td>\n",
       "      <td>0.117731</td>\n",
       "      <td>0.111200</td>\n",
       "      <td>0.113294</td>\n",
       "      <td>0.111272</td>\n",
       "      <td>0.117037</td>\n",
       "      <td>0.116697</td>\n",
       "      <td>0.117492</td>\n",
       "    </tr>\n",
       "    <tr>\n",
       "      <th>test</th>\n",
       "      <td>0.955873</td>\n",
       "      <td>0.965182</td>\n",
       "      <td>0.966636</td>\n",
       "      <td>0.972345</td>\n",
       "      <td>0.968473</td>\n",
       "      <td>0.970291</td>\n",
       "      <td>0.977455</td>\n",
       "      <td>0.967036</td>\n",
       "      <td>0.984291</td>\n",
       "      <td>0.984836</td>\n",
       "      <td>...</td>\n",
       "      <td>0.999091</td>\n",
       "      <td>0.999127</td>\n",
       "      <td>0.999473</td>\n",
       "      <td>0.999036</td>\n",
       "      <td>0.999818</td>\n",
       "      <td>0.999927</td>\n",
       "      <td>0.999964</td>\n",
       "      <td>0.999945</td>\n",
       "      <td>0.999982</td>\n",
       "      <td>0.999982</td>\n",
       "    </tr>\n",
       "    <tr>\n",
       "      <th>train</th>\n",
       "      <td>0.952000</td>\n",
       "      <td>0.959300</td>\n",
       "      <td>0.961300</td>\n",
       "      <td>0.965700</td>\n",
       "      <td>0.962900</td>\n",
       "      <td>0.962800</td>\n",
       "      <td>0.967500</td>\n",
       "      <td>0.958800</td>\n",
       "      <td>0.972500</td>\n",
       "      <td>0.974500</td>\n",
       "      <td>...</td>\n",
       "      <td>0.977200</td>\n",
       "      <td>0.977100</td>\n",
       "      <td>0.978000</td>\n",
       "      <td>0.978300</td>\n",
       "      <td>0.978000</td>\n",
       "      <td>0.978200</td>\n",
       "      <td>0.979100</td>\n",
       "      <td>0.977800</td>\n",
       "      <td>0.978400</td>\n",
       "      <td>0.978200</td>\n",
       "    </tr>\n",
       "  </tbody>\n",
       "</table>\n",
       "<p>3 rows × 63 columns</p>\n",
       "</div>"
      ],
      "text/plain": [
       "          1200      1500      1800      2100      2400      2700      3000   \\\n",
       "c_e    0.158536  0.128494  0.126047  0.114378  0.118317  0.119257  0.103324   \n",
       "test   0.955873  0.965182  0.966636  0.972345  0.968473  0.970291  0.977455   \n",
       "train  0.952000  0.959300  0.961300  0.965700  0.962900  0.962800  0.967500   \n",
       "\n",
       "          3300      3600      3900     ...        17100     17400     17700  \\\n",
       "c_e    0.138763  0.091492  0.085489    ...     0.109450  0.113990  0.115664   \n",
       "test   0.967036  0.984291  0.984836    ...     0.999091  0.999127  0.999473   \n",
       "train  0.958800  0.972500  0.974500    ...     0.977200  0.977100  0.978000   \n",
       "\n",
       "          18000     18300     18600     18900     19200     19500     19800  \n",
       "c_e    0.117731  0.111200  0.113294  0.111272  0.117037  0.116697  0.117492  \n",
       "test   0.999036  0.999818  0.999927  0.999964  0.999945  0.999982  0.999982  \n",
       "train  0.978300  0.978000  0.978200  0.979100  0.977800  0.978400  0.978200  \n",
       "\n",
       "[3 rows x 63 columns]"
      ]
     },
     "execution_count": 9,
     "metadata": {},
     "output_type": "execute_result"
    }
   ],
   "source": [
    "df.T"
   ]
  },
  {
   "cell_type": "code",
   "execution_count": null,
   "metadata": {},
   "outputs": [],
   "source": []
  },
  {
   "cell_type": "markdown",
   "metadata": {},
   "source": [
    "毫无疑问，这个模型是一个非常简陋，性能也不理想的模型。目前只能达到92%左右的准确率。\n",
    "接下来，希望大家利用现有的知识，将这个模型优化至98%以上的准确率。\n",
    "Hint：\n",
    "- 多隐层\n",
    "- 激活函数\n",
    "- 正则化\n",
    "- 初始化**多层隐层改变初始化后97.7%**\n",
    "- 摸索一下各个超参数\n",
    "  - 隐层神经元数量\n",
    "  - 学习率\n",
    "  - 正则化惩罚因子\n",
    "  - 最好每隔几个step就对loss、accuracy等等进行一次输出，这样才能有根据地进行调整"
   ]
  },
  {
   "cell_type": "markdown",
   "metadata": {
    "ExecuteTime": {
     "end_time": "2018-03-23T01:14:41.317119Z",
     "start_time": "2018-03-23T01:14:41.314117Z"
    }
   },
   "source": [
    "## 初始化模型参数-zero"
   ]
  },
  {
   "cell_type": "code",
   "execution_count": 18,
   "metadata": {
    "ExecuteTime": {
     "end_time": "2018-04-02T00:35:05.096821Z",
     "start_time": "2018-04-02T00:35:05.019264Z"
    }
   },
   "outputs": [],
   "source": [
    "# 初始化模型参数\n",
    "x  = tf.placeholder(tf.float32, [None, 784])\n",
    "W1 = tf.Variable(tf.random_normal([784,200],mean=0,stddev=0.5,seed=66))\n",
    "b1 = tf.Variable(tf.zeros([200]))\n",
    "W2 = tf.Variable(tf.truncated_normal([200,200],mean=0,stddev=0.1,seed=66))\n",
    "b2 = tf.Variable(tf.zeros([200]))\n",
    "W3 = tf.Variable(tf.truncated_normal([200,100],mean=0,stddev=0.1,seed=66))\n",
    "b3 = tf.Variable(tf.zeros([100]))\n",
    "W4 = tf.Variable(tf.truncated_normal([100,100],mean=0,stddev=0.1,seed=66))\n",
    "b4 = tf.Variable(tf.zeros([100]))\n",
    "W5 = tf.Variable(tf.zeros([100,10]))\n",
    "b5 = tf.Variable(tf.zeros([10]))"
   ]
  },
  {
   "cell_type": "code",
   "execution_count": 19,
   "metadata": {
    "ExecuteTime": {
     "end_time": "2018-04-02T00:35:05.312491Z",
     "start_time": "2018-04-02T00:35:05.290475Z"
    }
   },
   "outputs": [],
   "source": [
    "# 添加隐层\n",
    "hidden1 = tf.nn.sigmoid(tf.matmul(x,W1)+b1)\n",
    "hidden2 = tf.nn.tanh(tf.matmul(hidden1,W2)+b2)\n",
    "hidden3 = tf.nn.relu6(tf.matmul(hidden2,W3)+b3)\n",
    "hidden4 = tf.nn.relu(tf.matmul(hidden3,W4)+b4)\n",
    "y = tf.matmul(hidden4, W5) + b5\n",
    "y_ = tf.placeholder(tf.float32, [None, 10])"
   ]
  },
  {
   "cell_type": "code",
   "execution_count": 20,
   "metadata": {
    "ExecuteTime": {
     "end_time": "2018-04-02T00:35:05.731009Z",
     "start_time": "2018-04-02T00:35:05.514353Z"
    }
   },
   "outputs": [],
   "source": [
    "cross_entropy = tf.reduce_mean(\n",
    "    tf.nn.softmax_cross_entropy_with_logits_v2(labels=y_, logits=y))\n",
    "train_step = tf.train.GradientDescentOptimizer(0.5).minimize(cross_entropy)\n",
    "sess = tf.Session()\n",
    "init_op = tf.global_variables_initializer()\n",
    "sess.run(init_op)"
   ]
  },
  {
   "cell_type": "code",
   "execution_count": 21,
   "metadata": {
    "ExecuteTime": {
     "end_time": "2018-04-02T00:36:57.578523Z",
     "start_time": "2018-04-02T00:35:05.733510Z"
    }
   },
   "outputs": [],
   "source": [
    "# 开始训练,Train\n",
    "\n",
    "# 设置正确率计算公式\n",
    "correct_prediction = tf.equal(tf.argmax(y, 1), tf.argmax(y_, 1))\n",
    "accuracy = tf.reduce_mean(tf.cast(correct_prediction, tf.float32))\n",
    "\n",
    "a_ce={'train':[],'test':[],'c_e':[]}#用于存放正确率和交叉熵\n",
    "#{'acc': accuracy, 'c_e': cross_entropy}\n",
    "for _ in range(20000):\n",
    "    # 每次获取小批量的数据\n",
    "    batch_xs, batch_ys = mnist.train.next_batch(100)\n",
    "    # 执行train_step\n",
    "    sess.run(train_step, feed_dict={x: batch_xs, y_: batch_ys})\n",
    "    if _ %300==0:\n",
    "        #将正确率和交叉熵分别添加进各自的list\n",
    "        a_ce['train'].append(sess.run(accuracy, feed_dict={x: mnist.test.images,y_: mnist.test.labels}))\n",
    "        a_ce['c_e'].append(sess.run(cross_entropy, feed_dict={x: mnist.test.images,y_: mnist.test.labels}))\n",
    "        a_ce['test'].append(sess.run(accuracy, feed_dict={x: mnist.train.images,y_: mnist.train.labels}))"
   ]
  },
  {
   "cell_type": "code",
   "execution_count": 22,
   "metadata": {
    "ExecuteTime": {
     "end_time": "2018-04-02T00:36:57.594148Z",
     "start_time": "2018-04-02T00:36:57.578523Z"
    }
   },
   "outputs": [],
   "source": [
    "# 将得到的正确率和交叉熵转换成DataFrame\n",
    "df=pd.DataFrame(data=a_ce,index=[x for x in range(20000) if x%300==0])\n",
    "# 删除前几列的异常点\n",
    "df.drop([0,300,600,900],inplace=True)"
   ]
  },
  {
   "cell_type": "code",
   "execution_count": 23,
   "metadata": {
    "ExecuteTime": {
     "end_time": "2018-04-02T00:36:57.881646Z",
     "start_time": "2018-04-02T00:36:57.597156Z"
    }
   },
   "outputs": [
    {
     "data": {
      "image/png": "[encoded data removed]",
      "text/plain": [
       "<Figure size 432x288 with 2 Axes>"
      ]
     },
     "metadata": {},
     "output_type": "display_data"
    }
   ],
   "source": [
    "# 绘图\n",
    "\n",
    "# 子图一: 正确率\n",
    "ax1 = plt.figure().add_subplot(111)\n",
    "ax1.plot(df['train'], label='train', color='b')\n",
    "ax1.plot(df['test'], label='test', color='g')\n",
    "ax1.plot([1000,20000], [0.98,0.98], label='0.98', color='y')\n",
    "#ax1.set_ylim([0.970, 0.984])\n",
    "ax1.set_ylabel('accuracy')\n",
    "ax1.legend(loc=4)\n",
    "\n",
    "# 子图一: 交叉熵\n",
    "ax2 = ax1.twinx()  \n",
    "ax2.plot(df['c_e'],label='cross_entropy', color='r')\n",
    "#ax2.set_ylim([0.072, 0.100])\n",
    "ax2.set_ylabel('cross_entropy')\n",
    "ax2.legend(loc=8)\n",
    "\n",
    "plt.grid(True, linestyle = \"-\")\n",
    "plt.show()"
   ]
  },
  {
   "cell_type": "code",
   "execution_count": 24,
   "metadata": {
    "ExecuteTime": {
     "end_time": "2018-04-02T00:36:57.922121Z",
     "start_time": "2018-04-02T00:36:57.882730Z"
    }
   },
   "outputs": [
    {
     "data": {
      "text/html": [
       "<div>\n",
       "<style scoped>\n",
       "    .dataframe tbody tr th:only-of-type {\n",
       "        vertical-align: middle;\n",
       "    }\n",
       "\n",
       "    .dataframe tbody tr th {\n",
       "        vertical-align: top;\n",
       "    }\n",
       "\n",
       "    .dataframe thead th {\n",
       "        text-align: right;\n",
       "    }\n",
       "</style>\n",
       "<table border=\"1\" class=\"dataframe\">\n",
       "  <thead>\n",
       "    <tr style=\"text-align: right;\">\n",
       "      <th></th>\n",
       "      <th>1200</th>\n",
       "      <th>1500</th>\n",
       "      <th>1800</th>\n",
       "      <th>2100</th>\n",
       "      <th>2400</th>\n",
       "      <th>2700</th>\n",
       "      <th>3000</th>\n",
       "      <th>3300</th>\n",
       "      <th>3600</th>\n",
       "      <th>3900</th>\n",
       "      <th>...</th>\n",
       "      <th>17100</th>\n",
       "      <th>17400</th>\n",
       "      <th>17700</th>\n",
       "      <th>18000</th>\n",
       "      <th>18300</th>\n",
       "      <th>18600</th>\n",
       "      <th>18900</th>\n",
       "      <th>19200</th>\n",
       "      <th>19500</th>\n",
       "      <th>19800</th>\n",
       "    </tr>\n",
       "  </thead>\n",
       "  <tbody>\n",
       "    <tr>\n",
       "      <th>c_e</th>\n",
       "      <td>0.162403</td>\n",
       "      <td>0.155777</td>\n",
       "      <td>0.143980</td>\n",
       "      <td>0.147904</td>\n",
       "      <td>0.119163</td>\n",
       "      <td>0.131007</td>\n",
       "      <td>0.142806</td>\n",
       "      <td>0.130846</td>\n",
       "      <td>0.124021</td>\n",
       "      <td>0.115962</td>\n",
       "      <td>...</td>\n",
       "      <td>0.159314</td>\n",
       "      <td>0.160004</td>\n",
       "      <td>0.1602</td>\n",
       "      <td>0.160634</td>\n",
       "      <td>0.16144</td>\n",
       "      <td>0.161121</td>\n",
       "      <td>0.162072</td>\n",
       "      <td>0.162242</td>\n",
       "      <td>0.162401</td>\n",
       "      <td>0.163417</td>\n",
       "    </tr>\n",
       "    <tr>\n",
       "      <th>test</th>\n",
       "      <td>0.956745</td>\n",
       "      <td>0.963236</td>\n",
       "      <td>0.967436</td>\n",
       "      <td>0.968273</td>\n",
       "      <td>0.976564</td>\n",
       "      <td>0.978618</td>\n",
       "      <td>0.975564</td>\n",
       "      <td>0.980491</td>\n",
       "      <td>0.980782</td>\n",
       "      <td>0.984473</td>\n",
       "      <td>...</td>\n",
       "      <td>1.000000</td>\n",
       "      <td>1.000000</td>\n",
       "      <td>1.0000</td>\n",
       "      <td>1.000000</td>\n",
       "      <td>1.00000</td>\n",
       "      <td>1.000000</td>\n",
       "      <td>1.000000</td>\n",
       "      <td>1.000000</td>\n",
       "      <td>1.000000</td>\n",
       "      <td>1.000000</td>\n",
       "    </tr>\n",
       "    <tr>\n",
       "      <th>train</th>\n",
       "      <td>0.948200</td>\n",
       "      <td>0.950200</td>\n",
       "      <td>0.958400</td>\n",
       "      <td>0.955300</td>\n",
       "      <td>0.964700</td>\n",
       "      <td>0.964400</td>\n",
       "      <td>0.960100</td>\n",
       "      <td>0.963200</td>\n",
       "      <td>0.964000</td>\n",
       "      <td>0.967000</td>\n",
       "      <td>...</td>\n",
       "      <td>0.976400</td>\n",
       "      <td>0.976000</td>\n",
       "      <td>0.9765</td>\n",
       "      <td>0.976200</td>\n",
       "      <td>0.97610</td>\n",
       "      <td>0.976500</td>\n",
       "      <td>0.976600</td>\n",
       "      <td>0.976400</td>\n",
       "      <td>0.976300</td>\n",
       "      <td>0.975900</td>\n",
       "    </tr>\n",
       "  </tbody>\n",
       "</table>\n",
       "<p>3 rows × 63 columns</p>\n",
       "</div>"
      ],
      "text/plain": [
       "          1200      1500      1800      2100      2400      2700      3000   \\\n",
       "c_e    0.162403  0.155777  0.143980  0.147904  0.119163  0.131007  0.142806   \n",
       "test   0.956745  0.963236  0.967436  0.968273  0.976564  0.978618  0.975564   \n",
       "train  0.948200  0.950200  0.958400  0.955300  0.964700  0.964400  0.960100   \n",
       "\n",
       "          3300      3600      3900     ...        17100     17400   17700  \\\n",
       "c_e    0.130846  0.124021  0.115962    ...     0.159314  0.160004  0.1602   \n",
       "test   0.980491  0.980782  0.984473    ...     1.000000  1.000000  1.0000   \n",
       "train  0.963200  0.964000  0.967000    ...     0.976400  0.976000  0.9765   \n",
       "\n",
       "          18000    18300     18600     18900     19200     19500     19800  \n",
       "c_e    0.160634  0.16144  0.161121  0.162072  0.162242  0.162401  0.163417  \n",
       "test   1.000000  1.00000  1.000000  1.000000  1.000000  1.000000  1.000000  \n",
       "train  0.976200  0.97610  0.976500  0.976600  0.976400  0.976300  0.975900  \n",
       "\n",
       "[3 rows x 63 columns]"
      ]
     },
     "execution_count": 24,
     "metadata": {},
     "output_type": "execute_result"
    }
   ],
   "source": [
    "df.T"
   ]
  },
  {
   "cell_type": "markdown",
   "metadata": {},
   "source": [
    "毫无疑问，这个模型是一个非常简陋，性能也不理想的模型。目前只能达到92%左右的准确率。\n",
    "接下来，希望大家利用现有的知识，将这个模型优化至98%以上的准确率。\n",
    "Hint：\n",
    "- 多隐层\n",
    "- 激活函数\n",
    "- 正则化\n",
    "- 初始化`多层隐层改变初始化后97%`\n",
    "- 摸索一下各个超参数\n",
    "  - 隐层神经元数量\n",
    "  - 学习率\n",
    "  - 正则化惩罚因子\n",
    "  - 最好每隔几个step就对loss、accuracy等等进行一次输出，这样才能有根据地进行调整"
   ]
  },
  {
   "cell_type": "markdown",
   "metadata": {},
   "source": [
    "四层隐层之后,改变初始化后,正确率达到97%"
   ]
  },
  {
   "cell_type": "markdown",
   "metadata": {},
   "source": [
    "## 结论"
   ]
  },
  {
   "cell_type": "markdown",
   "metadata": {
    "ExecuteTime": {
     "end_time": "2018-03-23T03:47:53.024407Z",
     "start_time": "2018-03-23T03:47:52.999385Z"
    }
   },
   "source": [
    "适当改变初始化"
   ]
  },
  {
   "cell_type": "code",
   "execution_count": null,
   "metadata": {},
   "outputs": [],
   "source": []
  }
 ],
 "metadata": {
  "kernelspec": {
   "display_name": "Python 3",
   "language": "python",
   "name": "python3"
  },
  "language_info": {
   "codemirror_mode": {
    "name": "ipython",
    "version": 3
   },
   "file_extension": ".py",
   "mimetype": "text/x-python",
   "name": "python",
   "nbconvert_exporter": "python",
   "pygments_lexer": "ipython3",
   "version": "3.6.4"
  },
  "toc": {
   "nav_menu": {},
   "number_sections": true,
   "sideBar": true,
   "skip_h1_title": false,
   "title_cell": "Mnist 多层感知器版更换初始化",
   "title_sidebar": "添加隐层",
   "toc_cell": true,
   "toc_position": {},
   "toc_section_display": true,
   "toc_window_display": false
  }
 },
 "nbformat": 4,
 "nbformat_minor": 2
}
