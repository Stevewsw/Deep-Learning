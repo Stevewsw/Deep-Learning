{
 "cells": [
  {
   "cell_type": "code",
   "execution_count": 1,
   "metadata": {
    "ExecuteTime": {
     "end_time": "2018-03-22T11:49:37.086674Z",
     "start_time": "2018-03-22T11:49:35.141738Z"
    }
   },
   "outputs": [],
   "source": [
    "import tensorflow as tf\n",
    "import numpy as np"
   ]
  },
  {
   "cell_type": "markdown",
   "metadata": {},
   "source": [
    "# 定值计算与激活"
   ]
  },
  {
   "cell_type": "markdown",
   "metadata": {},
   "source": [
    "placeholder是一个占位符，它通常代表着从外界输入的值。\n",
    "其中None代表着尚不确定的维度。"
   ]
  },
  {
   "cell_type": "markdown",
   "metadata": {},
   "source": [
    "## 感知器"
   ]
  },
  {
   "cell_type": "code",
   "execution_count": 47,
   "metadata": {
    "ExecuteTime": {
     "end_time": "2018-03-22T12:12:31.054731Z",
     "start_time": "2018-03-22T12:12:31.045723Z"
    }
   },
   "outputs": [],
   "source": [
    "#初始化数据及规模\n",
    "x = tf.placeholder(dtype=tf.float32, shape=[None, 3])\n",
    "w = tf.placeholder(dtype=tf.float32, shape=[3, 1])\n",
    "b = tf.placeholder(dtype=tf.float32, shape=[1])"
   ]
  },
  {
   "cell_type": "code",
   "execution_count": 48,
   "metadata": {
    "ExecuteTime": {
     "end_time": "2018-03-22T12:12:31.438845Z",
     "start_time": "2018-03-22T12:12:31.429838Z"
    }
   },
   "outputs": [],
   "source": [
    "#定义计算操作\n",
    "logits = tf.matmul(x, w) + b\n",
    "output = tf.nn.sigmoid(logits)"
   ]
  },
  {
   "cell_type": "code",
   "execution_count": 49,
   "metadata": {
    "ExecuteTime": {
     "end_time": "2018-03-22T12:12:31.915878Z",
     "start_time": "2018-03-22T12:12:31.908874Z"
    }
   },
   "outputs": [],
   "source": [
    "#实际值\n",
    "x_value = np.array([[ -1.0, 3.0, 2.0 ]\n",
    "                    ,[ 2.0, -1.0, 5.0 ]\n",
    "                    ,[ -2.0, 0.0, 3.0 ]\n",
    "                    ,[ 4.0, 1.0, 6.0 ]])\n",
    "w_value = np.array([[4.0, -3.0, 5.0]]).T\n",
    "b_value = np.array([2.0])"
   ]
  },
  {
   "cell_type": "code",
   "execution_count": 50,
   "metadata": {
    "ExecuteTime": {
     "end_time": "2018-03-22T12:12:32.600607Z",
     "start_time": "2018-03-22T12:12:32.587096Z"
    }
   },
   "outputs": [],
   "source": [
    "#实际运算\n",
    "logits_value, output_value = tf.Session().run([logits, output]\n",
    "                                              , feed_dict={x:x_value\n",
    "                                                           , w:w_value\n",
    "                                                           , b:b_value}) "
   ]
  },
  {
   "cell_type": "code",
   "execution_count": 51,
   "metadata": {
    "ExecuteTime": {
     "end_time": "2018-03-22T12:12:33.260523Z",
     "start_time": "2018-03-22T12:12:33.253515Z"
    }
   },
   "outputs": [
    {
     "name": "stdout",
     "output_type": "stream",
     "text": [
      "[[-1.]\n",
      " [38.]\n",
      " [ 9.]\n",
      " [45.]]\n",
      "[[0.26894143]\n",
      " [1.        ]\n",
      " [0.9998766 ]\n",
      " [1.        ]]\n"
     ]
    }
   ],
   "source": [
    "#输出\n",
    "print(logits_value)\n",
    "print(output_value)"
   ]
  },
  {
   "cell_type": "markdown",
   "metadata": {},
   "source": [
    "## 多层感知器"
   ]
  },
  {
   "cell_type": "code",
   "execution_count": 64,
   "metadata": {
    "ExecuteTime": {
     "end_time": "2018-03-22T12:45:33.645687Z",
     "start_time": "2018-03-22T12:45:33.630678Z"
    }
   },
   "outputs": [],
   "source": [
    "#初始化数据及规模\n",
    "x  = tf.placeholder(dtype=tf.float32, shape=[None, 2])\n",
    "w1 = tf.placeholder(dtype=tf.float32, shape=[2, 2])\n",
    "b1 = tf.placeholder(dtype=tf.float32, shape=[1])\n",
    "h1 = tf.placeholder(dtype=tf.float32, shape=[None, 2])\n",
    "w2 = tf.placeholder(dtype=tf.float32, shape=[2, 2])\n",
    "b2 = tf.placeholder(dtype=tf.float32, shape=[1])"
   ]
  },
  {
   "cell_type": "code",
   "execution_count": 65,
   "metadata": {
    "ExecuteTime": {
     "end_time": "2018-03-22T12:45:34.198352Z",
     "start_time": "2018-03-22T12:45:34.187842Z"
    },
    "scrolled": false
   },
   "outputs": [],
   "source": [
    "#定义计算操作\n",
    "logits1 = tf.matmul(x, w1) + b1\n",
    "hidden1 = tf.nn.sigmoid(logits1)\n",
    "logits2 = tf.matmul(hidden1, w2) + b2\n",
    "output  = tf.nn.sigmoid(logits2)"
   ]
  },
  {
   "cell_type": "code",
   "execution_count": 66,
   "metadata": {
    "ExecuteTime": {
     "end_time": "2018-03-22T12:45:43.619841Z",
     "start_time": "2018-03-22T12:45:43.608827Z"
    }
   },
   "outputs": [],
   "source": [
    "#实际值\n",
    "x_value  = np.array([[0.5,1.0]])\n",
    "\n",
    "w1_value = np.array([[0.1,0.2],\n",
    "                    [0.3,0.4]])\n",
    "b1_value = np.array([0.5])\n",
    "\n",
    "w2_value = np.array([[0.6,0.7],\n",
    "                    [0.8,0.9]])\n",
    "b2_value = np.array([1.0])"
   ]
  },
  {
   "cell_type": "code",
   "execution_count": 67,
   "metadata": {
    "ExecuteTime": {
     "end_time": "2018-03-22T12:45:44.421958Z",
     "start_time": "2018-03-22T12:45:44.401946Z"
    }
   },
   "outputs": [],
   "source": [
    "#实际运算\n",
    "hidden1_value, output_value = tf.Session().run([hidden1, output]\n",
    "                                              , feed_dict={x:x_value\n",
    "                                                           , w1:w1_value\n",
    "                                                           , b1:b1_value\n",
    "                                                           , w2:w2_value\n",
    "                                                           , b2:b2_value}) "
   ]
  },
  {
   "cell_type": "code",
   "execution_count": 69,
   "metadata": {
    "ExecuteTime": {
     "end_time": "2018-03-22T12:45:59.766761Z",
     "start_time": "2018-03-22T12:45:59.760756Z"
    }
   },
   "outputs": [
    {
     "name": "stdout",
     "output_type": "stream",
     "text": [
      "[[0.7005672 0.7310586]]\n",
      "[[0.8813406 0.8955144]]\n"
     ]
    }
   ],
   "source": [
    "#输出\n",
    "print(hidden1_value)\n",
    "print(output_value)"
   ]
  },
  {
   "cell_type": "code",
   "execution_count": 73,
   "metadata": {
    "ExecuteTime": {
     "end_time": "2018-03-22T12:58:02.963241Z",
     "start_time": "2018-03-22T12:58:02.957238Z"
    }
   },
   "outputs": [
    {
     "data": {
      "text/plain": [
       "['__call__',\n",
       " '__class__',\n",
       " '__delattr__',\n",
       " '__dir__',\n",
       " '__doc__',\n",
       " '__eq__',\n",
       " '__format__',\n",
       " '__ge__',\n",
       " '__getattribute__',\n",
       " '__gt__',\n",
       " '__hash__',\n",
       " '__init__',\n",
       " '__init_subclass__',\n",
       " '__le__',\n",
       " '__lt__',\n",
       " '__module__',\n",
       " '__name__',\n",
       " '__ne__',\n",
       " '__new__',\n",
       " '__qualname__',\n",
       " '__reduce__',\n",
       " '__reduce_ex__',\n",
       " '__repr__',\n",
       " '__self__',\n",
       " '__setattr__',\n",
       " '__sizeof__',\n",
       " '__str__',\n",
       " '__subclasshook__',\n",
       " '__text_signature__']"
      ]
     },
     "execution_count": 73,
     "metadata": {},
     "output_type": "execute_result"
    }
   ],
   "source": [
    "np.concatenate"
   ]
  },
  {
   "cell_type": "markdown",
   "metadata": {},
   "source": [
    "## 动态计算与更新"
   ]
  },
  {
   "cell_type": "markdown",
   "metadata": {},
   "source": [
    "**placeholder**是一个占位符，它通常代表着从外界输入的值。    \n",
    "其中None代表着尚不确定的维度。   \n",
    "**Variable**是声明一个变量，变量的含义是在后面的优化过程中需要更新的权重、偏置等参数。   \n",
    "目前它的维度需要是确定的。"
   ]
  },
  {
   "cell_type": "code",
   "execution_count": 2,
   "metadata": {
    "ExecuteTime": {
     "end_time": "2018-03-22T02:21:19.692339Z",
     "start_time": "2018-03-22T02:21:19.670319Z"
    }
   },
   "outputs": [],
   "source": [
    "x = tf.placeholder(dtype=tf.float32, shape=[None, 3])\n",
    "y = tf.placeholder(dtype=tf.float32, shape=[None, 1])\n",
    "w = tf.Variable(tf.zeros([3, 1]))\n",
    "b = tf.Variable(tf.zeros([1]))"
   ]
  },
  {
   "cell_type": "markdown",
   "metadata": {},
   "source": [
    "接下来我们进行一系列的计算，得到logits，output和交叉熵。"
   ]
  },
  {
   "cell_type": "code",
   "execution_count": 4,
   "metadata": {
    "ExecuteTime": {
     "end_time": "2018-03-22T02:21:29.716663Z",
     "start_time": "2018-03-22T02:21:29.663620Z"
    }
   },
   "outputs": [],
   "source": [
    "logits = tf.matmul(x, w) + b\n",
    "\n",
    "output = tf.nn.sigmoid(logits)\n",
    "\n",
    "cross_entropy = tf.losses.sigmoid_cross_entropy(multi_class_labels=y, logits=logits)"
   ]
  },
  {
   "cell_type": "raw",
   "metadata": {},
   "source": [
    "这里我们创建了一个GradientDescentOptimizer类，并调用了minimize方法作为一个训练的step。\n",
    "minimize中包含两个操作compute_gradients和apply_gradients。\n",
    "注意我们并不在这里循环。"
   ]
  },
  {
   "cell_type": "code",
   "execution_count": 5,
   "metadata": {
    "ExecuteTime": {
     "end_time": "2018-03-22T02:21:32.648763Z",
     "start_time": "2018-03-22T02:21:32.530036Z"
    }
   },
   "outputs": [],
   "source": [
    "train_step = tf.train.GradientDescentOptimizer(0.3).minimize(cross_entropy)"
   ]
  },
  {
   "cell_type": "markdown",
   "metadata": {},
   "source": [
    "train_step是一个op，并不会产生一个tensor（数值）"
   ]
  },
  {
   "cell_type": "code",
   "execution_count": 6,
   "metadata": {
    "ExecuteTime": {
     "end_time": "2018-03-22T02:21:37.290033Z",
     "start_time": "2018-03-22T02:21:37.282028Z"
    }
   },
   "outputs": [
    {
     "name": "stdout",
     "output_type": "stream",
     "text": [
      "name: \"GradientDescent\"\n",
      "op: \"NoOp\"\n",
      "input: \"^GradientDescent/update_Variable/ApplyGradientDescent\"\n",
      "input: \"^GradientDescent/update_Variable_1/ApplyGradientDescent\"\n",
      "\n"
     ]
    }
   ],
   "source": [
    "print(train_step)"
   ]
  },
  {
   "cell_type": "markdown",
   "metadata": {},
   "source": [
    "这里我们定义输入的x和期望的y（ground truth）"
   ]
  },
  {
   "cell_type": "code",
   "execution_count": 7,
   "metadata": {
    "ExecuteTime": {
     "end_time": "2018-03-22T02:22:03.013100Z",
     "start_time": "2018-03-22T02:22:03.005093Z"
    }
   },
   "outputs": [],
   "source": [
    "x_value = np.array(\n",
    "    [[1,1],\n",
    "     [1,0],\n",
    "     [0,1],\n",
    "     [0,0]])\n",
    "y_value = np.array(\n",
    "    [[1],\n",
    "     [1],\n",
    "     [1],\n",
    "     [0]])"
   ]
  },
  {
   "cell_type": "markdown",
   "metadata": {},
   "source": [
    "我们虽然在w和b的声明中写了是zeros初始化，但是需要再次强调：\n",
    "在声明图的时候，我们其实并没有做任何的内存分配和实际的初始化操作。\n",
    "其实我们的init_op也仍然并没有做这个操作。"
   ]
  },
  {
   "cell_type": "code",
   "execution_count": 8,
   "metadata": {
    "ExecuteTime": {
     "end_time": "2018-03-22T02:22:08.632889Z",
     "start_time": "2018-03-22T02:22:08.628887Z"
    }
   },
   "outputs": [],
   "source": [
    "init_op = tf.global_variables_initializer()"
   ]
  },
  {
   "cell_type": "markdown",
   "metadata": {},
   "source": [
    "创建一个session"
   ]
  },
  {
   "cell_type": "code",
   "execution_count": 9,
   "metadata": {
    "ExecuteTime": {
     "end_time": "2018-03-22T02:22:10.047384Z",
     "start_time": "2018-03-22T02:22:10.039379Z"
    }
   },
   "outputs": [],
   "source": [
    "sess = tf.Session()"
   ]
  },
  {
   "cell_type": "markdown",
   "metadata": {},
   "source": [
    "在这里，我们才真正初始化了相关的Variables。"
   ]
  },
  {
   "cell_type": "code",
   "execution_count": 10,
   "metadata": {
    "ExecuteTime": {
     "end_time": "2018-03-22T02:22:12.687331Z",
     "start_time": "2018-03-22T02:22:12.642304Z"
    }
   },
   "outputs": [],
   "source": [
    "sess.run(init_op)"
   ]
  },
  {
   "cell_type": "markdown",
   "metadata": {},
   "source": [
    "注意我们在这里并没有执行train_step（尽管它也包含在graph中），所以不论执行多少次这个操作，w,b的值都不会改变。\n",
    "当然output和logits也就不会改变。"
   ]
  },
  {
   "cell_type": "code",
   "execution_count": 11,
   "metadata": {
    "ExecuteTime": {
     "end_time": "2018-03-22T02:22:13.540644Z",
     "start_time": "2018-03-22T02:22:13.486377Z"
    }
   },
   "outputs": [],
   "source": [
    "cross_entropy_value, logits_value, output_value = sess.run(\n",
    "    [cross_entropy, logits, output], \n",
    "    feed_dict={x:x_value, \n",
    "               y:y_value} )"
   ]
  },
  {
   "cell_type": "code",
   "execution_count": 12,
   "metadata": {
    "ExecuteTime": {
     "end_time": "2018-03-22T02:22:14.652668Z",
     "start_time": "2018-03-22T02:22:14.646662Z"
    }
   },
   "outputs": [
    {
     "name": "stdout",
     "output_type": "stream",
     "text": [
      "0.6931472\n",
      "[[0.]\n",
      " [0.]\n",
      " [0.]\n",
      " [0.]]\n",
      "[[0.5]\n",
      " [0.5]\n",
      " [0.5]\n",
      " [0.5]]\n"
     ]
    }
   ],
   "source": [
    "print(cross_entropy_value)\n",
    "print(logits_value)\n",
    "print(output_value)"
   ]
  },
  {
   "cell_type": "code",
   "execution_count": 13,
   "metadata": {
    "ExecuteTime": {
     "end_time": "2018-03-22T02:22:16.148672Z",
     "start_time": "2018-03-22T02:22:16.012879Z"
    }
   },
   "outputs": [],
   "source": [
    "for current_step in range(100):\n",
    "    cross_entropy_value, output_value, _ = sess.run(\n",
    "        [cross_entropy, output, train_step], \n",
    "        feed_dict={x:x_value, \n",
    "                   y:y_value} )"
   ]
  },
  {
   "cell_type": "code",
   "execution_count": 14,
   "metadata": {
    "ExecuteTime": {
     "end_time": "2018-03-22T02:22:17.096437Z",
     "start_time": "2018-03-22T02:22:17.077424Z"
    }
   },
   "outputs": [],
   "source": [
    "cross_entropy_value, logits_value, output_value, w_value, b_value = sess.run(\n",
    "    [cross_entropy, logits, output, w, b], \n",
    "    feed_dict={x:x_value, \n",
    "               y:y_value} )"
   ]
  },
  {
   "cell_type": "code",
   "execution_count": 16,
   "metadata": {
    "ExecuteTime": {
     "end_time": "2018-03-22T02:38:38.926964Z",
     "start_time": "2018-03-22T02:38:38.918959Z"
    }
   },
   "outputs": [
    {
     "name": "stdout",
     "output_type": "stream",
     "text": [
      "0.21702276\n",
      "[[ 3.9128602 ]\n",
      " [ 1.7881696 ]\n",
      " [ 1.7881696 ]\n",
      " [-0.33652088]]\n",
      "[[0.9804082 ]\n",
      " [0.85670274]\n",
      " [0.85670274]\n",
      " [0.41665483]]\n",
      "------------------\n",
      "[[2.1246905]\n",
      " [2.1246905]]\n",
      "[-0.33652088]\n"
     ]
    }
   ],
   "source": [
    "print(cross_entropy_value)\n",
    "print(logits_value)\n",
    "print(output_value)\n",
    "print(\"------------------\")\n",
    "print(w_value)\n",
    "print(b_value)"
   ]
  },
  {
   "cell_type": "code",
   "execution_count": null,
   "metadata": {},
   "outputs": [],
   "source": []
  }
 ],
 "metadata": {
  "kernelspec": {
   "display_name": "Python 3",
   "language": "python",
   "name": "python3"
  },
  "language_info": {
   "codemirror_mode": {
    "name": "ipython",
    "version": 3
   },
   "file_extension": ".py",
   "mimetype": "text/x-python",
   "name": "python",
   "nbconvert_exporter": "python",
   "pygments_lexer": "ipython3",
   "version": "3.6.4"
  },
  "toc": {
   "nav_menu": {},
   "number_sections": true,
   "sideBar": true,
   "skip_h1_title": false,
   "title_cell": "Table of Contents",
   "title_sidebar": "Contents",
   "toc_cell": false,
   "toc_position": {},
   "toc_section_display": true,
   "toc_window_display": false
  }
 },
 "nbformat": 4,
 "nbformat_minor": 2
}
