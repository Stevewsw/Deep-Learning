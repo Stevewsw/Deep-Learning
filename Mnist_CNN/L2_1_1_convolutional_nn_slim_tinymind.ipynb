{
 "cells": [
  {
   "cell_type": "markdown",
   "metadata": {},
   "source": [
    "# 在TinyMind上运行代码"
   ]
  },
  {
   "cell_type": "markdown",
   "metadata": {},
   "source": [
    "# 导入工具包"
   ]
  },
  {
   "cell_type": "code",
   "execution_count": 5,
   "metadata": {
    "collapsed": false
   },
   "outputs": [
    {
     "name": "stdout",
     "output_type": "stream",
     "text": [
      "import is over\n"
     ]
    }
   ],
   "source": [
    "# import sys\n",
    "# tensorflow 工具包\n",
    "from tensorflow.examples.tutorials.mnist import input_data\n",
    "import tensorflow as tf\n",
    "# 打印运行时间\n",
    "import time\n",
    "# 导入tinymind环境自带的变量\n",
    "try: \n",
    "    from tinyenv.flags import flags\n",
    "except ImportError:\n",
    "    # 若在本地运行，则自动生成相同的class\n",
    "    class flags(object):\n",
    "        def __init__(self):\n",
    "            self.iterations=20000\n",
    "            self.learning_rate = 0.005\n",
    "            self.batch_size = 64\n",
    "            self.dropout = 0.5\n",
    "            self.decay = 0.95\n",
    "            self.output_dir = './output'\n",
    "            self.data_dir = './tmp/mnist'\n",
    "            self.f1_ck=[6,6]\n",
    "            self.f1_cc=32\n",
    "            self.f2_ck=[6,6]\n",
    "            self.f2_cc=64\n",
    "            self.features=1024\n",
    "            self.l_r_s=4e-3\n",
    "            self.l_r_e = 1e-4            \n",
    "            self.l2_regularizer=7e-5\n",
    "#实例化class\n",
    "FLAGS = flags()\n",
    "\n",
    "print('import is over')\n"
   ]
  },
  {
   "cell_type": "markdown",
   "metadata": {},
   "source": [
    "# 定义主要运行函数"
   ]
  },
  {
   "cell_type": "code",
   "execution_count": 6,
   "metadata": {
    "collapsed": false
   },
   "outputs": [
    {
     "name": "stdout",
     "output_type": "stream",
     "text": [
      "class is over\n"
     ]
    }
   ],
   "source": [
    "\n",
    "class Mnist_CNN(object):\n",
    "    \"\"\"mnist的CNN实现，默认参数test中正确率为99%左右\n",
    "    \n",
    "    第一层: 卷积核为f1_ck=[6,6], 1通道->f1_cc=32通道; (1152)\n",
    "    最大池化, 核为f1_pc=[2,2], 步长为f1_ps=2\n",
    "    第二层: 卷积核为f2_ck=[6,6], 32通道->f2_cc=64通道; (2304)\n",
    "    最大池化, 核为f2_pk=[2,2], 步长为f2_ps=[2,2]\n",
    "    先平均池化, 核为全部数据; \n",
    "    再卷积，核为1, 输出通道为features=1024的向量 (1024)\n",
    "    dropout概率为drop=0.5之后, 卷积为10的向量;(10) 经softmax激活\n",
    "    损失函数为：交叉熵+l2_regularizer=7e-5*L2损失\n",
    "    利用Adam方法, 初始学习率为l_r_s=4e-3, 循环for_=6000次\n",
    "    最终训练结束时学习率为l_r_e=1e-4， 每次batch=64,\n",
    "    未知数共(4490)个\n",
    "    \"\"\"\n",
    "\n",
    "    def __init__(self,f1_ck=[6,6],f1_cc=32,f1_pc=[2,2],f1_ps=2,\n",
    "                 f2_ck=[6,6],f2_cc=64,f2_pk=[2,2],f2_ps=2,\n",
    "                 features=1024, drop=0.5, l2_regularizer=7e-5,\n",
    "                 l_r_s=4e-3, l_r_e = 1e-4, for_=20000,batch=64):\n",
    "        #学习率衰减\n",
    "        l_r_decay = (l_r_s - l_r_e)/for_\n",
    "        lr=l_r_s\n",
    "        # 导入数据\n",
    "        mnist = input_data.read_data_sets(FLAGS.data_dir+'/mnist',  one_hot=True,)\n",
    "        \n",
    "        #创建新的空白运行图\n",
    "        tf.reset_default_graph()\n",
    "        sess = tf.InteractiveSession()\n",
    "        \n",
    "        # 输入数据维度\n",
    "        with tf.name_scope('input'):\n",
    "            x = tf.placeholder(tf.float32, [None, 784])\n",
    "            y_ = tf.placeholder(tf.float32, [None, 10])\n",
    "        \n",
    "        # 将x转为4阶张量\n",
    "        with tf.name_scope('reshape'):\n",
    "            x_image = tf.reshape(x, [-1, 28, 28, 1])\n",
    "        \n",
    "        # 第一层之卷积,卷积核为[6,6]\n",
    "        # [-1, 28, 28, 1] => [-1, 28, 28, 32]\n",
    "        with tf.name_scope('conv1'):\n",
    "            h_conv1 = tf.contrib.slim.conv2d(x_image, f1_cc, f1_ck, \n",
    "                                             padding='SAME', \n",
    "                                             activation_fn=tf.nn.tanh)\n",
    "        #tf.summary.scalar('conv1_l2_regularizer', tf.contrib.layers.l2_regularizer(0.1)(h_conv1))\n",
    "        \n",
    "        # 第一层之最大池化, 核[2,2], 步长2\n",
    "        # [-1, 28, 28, 32] => [-1, 14, 14, 32]\n",
    "        with tf.name_scope('pool1'):\n",
    "            h_pool1 = tf.contrib.slim.max_pool2d(h_conv1, f1_pc, stride=f1_ps, \n",
    "                                                 padding='VALID')  \n",
    "        # 第二层之卷积,卷积核为[6,6]\n",
    "        # [-1, 14, 14, 32] => [-1, 14, 14, 64]\n",
    "        with tf.name_scope('conv2'):\n",
    "            h_conv2 = tf.contrib.slim.conv2d(h_pool1, f2_cc, f2_ck, \n",
    "                                             padding='SAME', \n",
    "                                             activation_fn=tf.nn.relu)\n",
    "        \n",
    "        # 第二层之最大池化, 核[2,2], 步长2\n",
    "        # [-1, 14, 14, 64] => [-1, 7, 7, 64]\n",
    "        with tf.name_scope('pool2'):\n",
    "            h_pool2 = tf.contrib.slim.max_pool2d(h_conv2, f2_pk, stride=f2_ps, \n",
    "                                                 padding='VALID')\n",
    "        \n",
    "        \n",
    "        # 第三层之先池化再卷积,\n",
    "        # 池化核[7,7]，步长1，[-1, 7, 7, 64] => [-1, 1, 1, 64]\n",
    "        # 卷积核[1,1]，[-1, 1, 1, 64] => [-1, 1, 1, 1024]\n",
    "        with tf.name_scope('fc1'):\n",
    "            h_pool2_flat = tf.contrib.slim.avg_pool2d(h_pool2, \n",
    "                                                      h_pool2.shape[1:3], \n",
    "                                                      stride=[1, 1], \n",
    "                                                      padding='VALID')\n",
    "            h_fc1 = tf.contrib.slim.conv2d(h_pool2_flat, features, [1, 1], \n",
    "                                           activation_fn=tf.nn.relu)\n",
    "        \n",
    "        # 避免过拟合，加入Dropout\n",
    "        with tf.name_scope('fc1_dropout'):\n",
    "            keep_prob = tf.placeholder(tf.float32)\n",
    "            h_fc1_drop = tf.nn.dropout(h_fc1, keep_prob)\n",
    "        tf.summary.histogram('fc1_dropout', h_fc1_drop)\n",
    "        tf.summary.scalar('fc1_dropout_l2_regularizer', tf.contrib.layers.l2_regularizer(0.1)(h_fc1_drop))\n",
    "        \n",
    "        # 卷积核[1,1]，[-1, 1, 1, 1024] => [-1, 1, 1, 10]\n",
    "        with tf.name_scope('fc2'):\n",
    "            y = tf.squeeze(tf.contrib.slim.conv2d(h_fc1_drop, 10, [1,1], \n",
    "                                                  activation_fn=None))\n",
    "        # 定义损失函数\n",
    "        with tf.name_scope('loss'):\n",
    "            # 交叉熵损失\n",
    "            cross_entropy = tf.reduce_mean(\n",
    "                tf.nn.softmax_cross_entropy_with_logits(labels=y_, logits=y))\n",
    "            # 所有VARIABLES的l2损失\n",
    "            l2_loss = tf.add_n( [tf.nn.l2_loss(w) for w in tf.get_collection(tf.GraphKeys.TRAINABLE_VARIABLES)] )\n",
    "            total_loss = cross_entropy + l2_regularizer*l2_loss\n",
    "        tf.summary.scalar('cross_entropy', cross_entropy)\n",
    "        tf.summary.scalar('l2_loss', l2_loss)\n",
    "        tf.summary.scalar('total_loss', total_loss)\n",
    "        \n",
    "        # 定义评价函数，正确率\n",
    "        with tf.name_scope('accuracy'):\n",
    "            correct_prediction = tf.equal(tf.argmax(y, 1), tf.argmax(y_, 1))\n",
    "            accuracy = tf.reduce_mean(tf.cast(correct_prediction, tf.float32))\n",
    "        tf.summary.scalar('accuracy', accuracy)\n",
    "            \n",
    "        # 优化方法\n",
    "        with tf.name_scope('train_step'):\n",
    "            #global_step = tf.Variable(0)  \n",
    "            #learning_rate = tf.train.exponential_decay(0.1, global_step, 100, 0.96, staircase=True)  \n",
    "            learning_rate = tf.placeholder(tf.float32)\n",
    "            #train_step = tf.train.GradientDescentOptimizer(learning_rate).minimize(total_loss)\n",
    "            train_step = tf.train.AdamOptimizer(learning_rate).minimize(total_loss)\n",
    "            #train_step = tf.train.MomentumOptimizer(learning_rate).minimize(total_loss)\n",
    "        tf.summary.scalar('learning_rate', learning_rate)\n",
    "        \n",
    "        # 全部变量初始化\n",
    "        init_op = tf.global_variables_initializer()\n",
    "        sess.run(init_op)\n",
    "        \n",
    "        # 构建summary\n",
    "        summary_op = tf.summary.merge_all()\n",
    "        train_summary_writer = tf.summary.FileWriter(FLAGS.output_dir+'/train/', \n",
    "                                                     graph = sess.graph,)\n",
    "                                                     #filename_suffix='train_{}'.format(***))\n",
    "        test_summary_writer = tf.summary.FileWriter(FLAGS.output_dir+'/test/', )\n",
    "                                                    #filename_suffix='test_{}'.format(***))\n",
    "        \n",
    "        print('Session is over')\n",
    "        \n",
    "        # Train\n",
    "        start = time.time()\n",
    "        for step in range(for_):\n",
    "            batch_xs, batch_ys = mnist.train.next_batch(batch)\n",
    "            lr -= l_r_decay\n",
    "            _, total_loss_value = sess.run([train_step, total_loss], \n",
    "                                           feed_dict={x: batch_xs, \n",
    "                                                      y_: batch_ys, \n",
    "                                                      learning_rate:lr, \n",
    "                                                      keep_prob:drop})\n",
    "\n",
    "\n",
    "            if (step+1)%100==0:\n",
    "                summary_test,acc = sess.run([summary_op,accuracy],\n",
    "                                           feed_dict={x: mnist.test.images,\n",
    "                                                      y_: mnist.test.labels,\n",
    "                                                      learning_rate:lr,\n",
    "                                                      keep_prob:1.0})\n",
    "                test_summary_writer.add_summary(summary_test, step+1)\n",
    "                \n",
    "                summary_train,acc_train = sess.run([summary_op,accuracy],\n",
    "                                           feed_dict={x: batch_xs, \n",
    "                                          y_: batch_ys, \n",
    "                                          learning_rate:lr, \n",
    "                                          keep_prob:drop})\n",
    "                train_summary_writer.add_summary(summary_train, step+1)\n",
    "            if (step+1)%500==0:\n",
    "                print('accuracy of test at step {0}:{1}, time is {2}'.format(step+1, \n",
    "                                                    acc, int(time.time()-start)))\n",
    "\n",
    "        sess.close()        \n",
    "        print('teain is over, totle time', int(time.time()-start))\n",
    "\n",
    "print('class is over')\n",
    "\n"
   ]
  },
  {
   "cell_type": "markdown",
   "metadata": {},
   "source": [
    "# 实际运行"
   ]
  },
  {
   "cell_type": "code",
   "execution_count": null,
   "metadata": {
    "ExecuteTime": {
     "end_time": "2018-04-12T12:07:46.249413Z",
     "start_time": "2018-04-12T12:07:37.674520Z"
    },
    "collapsed": true
   },
   "outputs": [],
   "source": [
    "mni = Mnist_CNN(f1_ck=FLAGS.f1_ck, f1_cc=FLAGS.f1_cc, f2_ck=FLAGS.f2_ck, \n",
    "                f2_cc=FLAGS.f2_cc, features=FLAGS.features, drop=FLAGS.dropout, \n",
    "                l2_regularizer= FLAGS.l2_regularizer, l_r_s=FLAGS.l_r_s, l_r_e = FLAGS.l_r_e, \n",
    "                for_=FLAGS.iterations, batch=FLAGS.batch_size)\n"
   ]
  },
  {
   "cell_type": "markdown",
   "metadata": {
    "collapsed": true
   },
   "source": [
    "# 结果分析"
   ]
  },
  {
   "cell_type": "code",
   "execution_count": null,
   "metadata": {
    "collapsed": true
   },
   "outputs": [],
   "source": []
  }
 ],
 "metadata": {
  "anaconda-cloud": {},
  "kernelspec": {
   "display_name": "Python [default]",
   "language": "python",
   "name": "python3"
  },
  "language_info": {
   "codemirror_mode": {
    "name": "ipython",
    "version": 3
   },
   "file_extension": ".py",
   "mimetype": "text/x-python",
   "name": "python",
   "nbconvert_exporter": "python",
   "pygments_lexer": "ipython3",
   "version": "3.5.2"
  },
  "toc": {
   "nav_menu": {},
   "number_sections": true,
   "sideBar": true,
   "skip_h1_title": false,
   "title_cell": "Table of Contents",
   "title_sidebar": "Contents",
   "toc_cell": false,
   "toc_position": {},
   "toc_section_display": true,
   "toc_window_display": false
  }
 },
 "nbformat": 4,
 "nbformat_minor": 2
}
