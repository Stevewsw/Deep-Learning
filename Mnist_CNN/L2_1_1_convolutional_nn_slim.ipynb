{
 "cells": [
  {
   "cell_type": "code",
   "execution_count": 1,
   "metadata": {
    "ExecuteTime": {
     "end_time": "2018-04-09T04:00:09.331390Z",
     "start_time": "2018-04-09T03:59:52.245900Z"
    },
    "collapsed": true
   },
   "outputs": [],
   "source": [
    "\"\"\"A very simple MNIST classifier.\n",
    "See extensive documentation at\n",
    "https://www.tensorflow.org/get_started/mnist/beginners\n",
    "\"\"\"\n",
    "#from __future__ import absolute_import\n",
    "#from __future__ import division\n",
    "#from __future__ import print_function\n",
    "\n",
    "import argparse\n",
    "import sys\n",
    "\n",
    "from tensorflow.examples.tutorials.mnist import input_data\n",
    "\n",
    "import tensorflow as tf"
   ]
  },
  {
   "cell_type": "code",
   "execution_count": 2,
   "metadata": {
    "ExecuteTime": {
     "end_time": "2018-04-09T04:00:10.192436Z",
     "start_time": "2018-04-09T04:00:09.331390Z"
    },
    "collapsed": false
   },
   "outputs": [
    {
     "name": "stdout",
     "output_type": "stream",
     "text": [
      "Extracting E:/AI/00/data/Mnist/input_data\\train-images-idx3-ubyte.gz\n",
      "Extracting E:/AI/00/data/Mnist/input_data\\train-labels-idx1-ubyte.gz\n",
      "Extracting E:/AI/00/data/Mnist/input_data\\t10k-images-idx3-ubyte.gz\n",
      "Extracting E:/AI/00/data/Mnist/input_data\\t10k-labels-idx1-ubyte.gz\n"
     ]
    }
   ],
   "source": [
    "# Import data\n",
    "data_dir = 'E:/AI/00/data/Mnist/input_data'\n",
    "mnist = input_data.read_data_sets(data_dir, one_hot=True)"
   ]
  },
  {
   "cell_type": "code",
   "execution_count": 3,
   "metadata": {
    "ExecuteTime": {
     "end_time": "2018-04-09T04:00:15.613545Z",
     "start_time": "2018-04-09T04:00:15.599536Z"
    },
    "collapsed": true
   },
   "outputs": [],
   "source": [
    "# Define loss and optimizer\n",
    "x = tf.placeholder(tf.float32, [None, 784])\n",
    "y_ = tf.placeholder(tf.float32, [None, 10])\n",
    "learning_rate = tf.placeholder(tf.float32)\n",
    "\n",
    "with tf.name_scope('reshape'):\n",
    "    x_image = tf.reshape(x, [-1, 28, 28, 1])"
   ]
  },
  {
   "cell_type": "code",
   "execution_count": 4,
   "metadata": {
    "ExecuteTime": {
     "end_time": "2018-04-09T04:01:36.568218Z",
     "start_time": "2018-04-09T04:01:36.535196Z"
    },
    "collapsed": true
   },
   "outputs": [],
   "source": [
    "# First convolutional layer - maps one grayscale image to 32 feature maps.\n",
    "# output [-1, 28, 28, 32]\n",
    "with tf.name_scope('conv1'):\n",
    "    # 卷积核为[5,5], 将1通道转为32通道\n",
    "    h_conv1 = tf.contrib.slim.conv2d(x_image, 32, [5,5],   \n",
    "                                     padding='SAME', \n",
    "                                     activation_fn=tf.nn.relu)\n",
    "\n",
    "# Pooling layer - downsamples by 2X.\n",
    "# output [-1, 14, 14, 32]\n",
    "with tf.name_scope('pool1'):\n",
    "    # 最大池化, 核为[2,2], 步长为2\n",
    "    h_pool1 = tf.contrib.slim.max_pool2d(h_conv1, [2,2],    \n",
    "                                         stride=2, \n",
    "                                         padding='VALID')    "
   ]
  },
  {
   "cell_type": "markdown",
   "metadata": {},
   "source": [
    "```\n",
    "# First convolutional layer - maps one grayscale image to 32 feature maps.\n",
    "# output [-1, 28, 28, 32]\n",
    "with tf.name_scope('conv1'):\n",
    "    # 卷积核为[5,5], 将1通道转为32通道\n",
    "    shape = [5, 5, 1, 32]\n",
    "    W_conv1 = tf.Variable(tf.truncated_normal(shape, stddev=0.1),\n",
    "                          collections=[tf.GraphKeys.GLOBAL_VARIABLES,'WEIGHTS'])\n",
    "    shape = [32]\n",
    "    b_conv1 = tf.Variable(tf.constant(0.1, shape=shape))\n",
    "    l_conv1 = tf.nn.conv2d(x_image, W_conv1, strides=[1, 1, 1, 1], # 步长为 1\n",
    "                           padding='SAME') + b_conv1\n",
    "    h_conv1 = tf.nn.relu(l_conv1)\n",
    "# Pooling layer - downsamples by 2X.\n",
    "# output [-1, 14, 14, 32]\n",
    "with tf.name_scope('pool1'):\n",
    "    # 最大池化, 核为[2,2], 步长为2 \n",
    "    h_pool1 = tf.nn.max_pool(h_conv1, ksize=[1, 2, 2, 1],\n",
    "                          strides=[1, 2, 2, 1], padding='VALID')\n",
    "```"
   ]
  },
  {
   "cell_type": "code",
   "execution_count": 5,
   "metadata": {
    "ExecuteTime": {
     "end_time": "2018-04-09T04:01:37.059515Z",
     "start_time": "2018-04-09T04:01:37.030496Z"
    },
    "collapsed": true
   },
   "outputs": [],
   "source": [
    "# Second convolutional layer -- maps 32 feature maps to 64.\n",
    "with tf.name_scope('conv2'):\n",
    "    h_conv2 = tf.contrib.slim.conv2d(h_pool1, 64, [5,5], \n",
    "                                     padding='SAME', \n",
    "                                     activation_fn=tf.nn.relu)\n",
    "\n",
    "# Second pooling layer.\n",
    "with tf.name_scope('pool2'):\n",
    "    h_pool2 = tf.contrib.slim.max_pool2d(h_conv2, [2,2], stride=[2, 2], \n",
    "                                         padding='VALID')"
   ]
  },
  {
   "cell_type": "code",
   "execution_count": 6,
   "metadata": {
    "ExecuteTime": {
     "end_time": "2018-04-09T04:02:41.931736Z",
     "start_time": "2018-04-09T04:02:41.903714Z"
    },
    "collapsed": true
   },
   "outputs": [],
   "source": [
    "# Fully connected layer 1 -- after 2 round of downsampling, our 28x28 image\n",
    "# is down to 7x7x64 feature maps -- maps this to 1024 features.\n",
    "with tf.name_scope('fc1'):\n",
    "    h_pool2_flat = tf.contrib.slim.avg_pool2d(h_pool2, \n",
    "                                              h_pool2.shape[1:3], \n",
    "                                              stride=[1, 1], \n",
    "                                              padding='VALID')\n",
    "    h_fc1 = tf.contrib.slim.conv2d(h_pool2_flat, 1024, [1,1], \n",
    "                                   activation_fn=tf.nn.relu)"
   ]
  },
  {
   "cell_type": "code",
   "execution_count": 7,
   "metadata": {
    "ExecuteTime": {
     "end_time": "2018-04-09T04:02:42.324198Z",
     "start_time": "2018-04-09T04:02:42.309180Z"
    },
    "collapsed": true
   },
   "outputs": [],
   "source": [
    "# Dropout - controls the complexity of the model, prevents co-adaptation of\n",
    "# features.\n",
    "with tf.name_scope('dropout'):\n",
    "    keep_prob = tf.placeholder(tf.float32)\n",
    "    h_fc1_drop = tf.nn.dropout(h_fc1, keep_prob)"
   ]
  },
  {
   "cell_type": "code",
   "execution_count": 8,
   "metadata": {
    "ExecuteTime": {
     "end_time": "2018-04-09T04:02:42.708736Z",
     "start_time": "2018-04-09T04:02:42.684707Z"
    },
    "collapsed": true
   },
   "outputs": [],
   "source": [
    "# Map the 1024 features to 10 classes, one for each digit\n",
    "with tf.name_scope('fc2'):\n",
    "    y = tf.squeeze(tf.contrib.slim.conv2d(h_fc1_drop, 10, [1,1], activation_fn=None))"
   ]
  },
  {
   "cell_type": "code",
   "execution_count": 11,
   "metadata": {
    "ExecuteTime": {
     "end_time": "2018-04-09T04:04:08.368526Z",
     "start_time": "2018-04-09T04:04:08.141354Z"
    },
    "collapsed": true
   },
   "outputs": [],
   "source": [
    "# The raw formulation of cross-entropy,\n",
    "cross_entropy = tf.reduce_mean(\n",
    "    tf.nn.softmax_cross_entropy_with_logits_v2(labels=y_, logits=y))\n",
    "\n",
    "l2_loss = tf.add_n( [tf.nn.l2_loss(w) for w in tf.get_collection(tf.GraphKeys.TRAINABLE_VARIABLES)] )\n",
    "total_loss = cross_entropy + 7e-5*l2_loss\n",
    "\n",
    "# 优化方法,随机梯度下降\n",
    "train_step = tf.train.GradientDescentOptimizer(learning_rate).minimize(total_loss)\n",
    "#train_step = tf.train.AdamOptimizer(learning_rate).minimize(total_loss)\n",
    "#train_step = tf.train.MomentumOptimizer(learning_rate).minimize(total_loss)\n",
    "\n",
    "# 全部变量初始化\n",
    "sess = tf.Session()\n",
    "init_op = tf.global_variables_initializer()\n",
    "sess.run(init_op)"
   ]
  },
  {
   "cell_type": "code",
   "execution_count": 12,
   "metadata": {
    "ExecuteTime": {
     "end_time": "2018-04-09T04:14:16.280118Z",
     "start_time": "2018-04-09T04:04:09.742930Z"
    },
    "collapsed": false
   },
   "outputs": [
    {
     "name": "stdout",
     "output_type": "stream",
     "text": [
      "step 100, entropy loss: 2.300273, l2_loss: 92.467461, total loss: 2.306746\n",
      "0.12\n",
      "step 200, entropy loss: 2.295677, l2_loss: 92.457520, total loss: 2.302149\n",
      "0.14\n",
      "step 300, entropy loss: 2.294123, l2_loss: 92.452492, total loss: 2.300595\n",
      "0.23\n",
      "step 400, entropy loss: 2.301105, l2_loss: 92.455399, total loss: 2.307576\n",
      "0.15\n",
      "step 500, entropy loss: 2.293355, l2_loss: 92.462074, total loss: 2.299827\n",
      "0.19\n",
      "step 600, entropy loss: 2.293309, l2_loss: 92.474342, total loss: 2.299783\n",
      "0.24\n",
      "step 700, entropy loss: 2.286942, l2_loss: 92.492989, total loss: 2.293417\n",
      "0.26\n",
      "step 800, entropy loss: 2.283655, l2_loss: 92.517387, total loss: 2.290131\n",
      "0.19\n",
      "step 900, entropy loss: 2.288879, l2_loss: 92.554214, total loss: 2.295357\n",
      "0.15\n",
      "step 1000, entropy loss: 2.274333, l2_loss: 92.593483, total loss: 2.280814\n",
      "0.19\n",
      "0.1934\n",
      "step 1100, entropy loss: 2.277869, l2_loss: 92.643311, total loss: 2.284354\n",
      "0.2\n",
      "step 1200, entropy loss: 2.282281, l2_loss: 92.701950, total loss: 2.288770\n",
      "0.16\n",
      "step 1300, entropy loss: 2.258392, l2_loss: 92.772728, total loss: 2.264886\n",
      "0.16\n",
      "step 1400, entropy loss: 2.250741, l2_loss: 92.855247, total loss: 2.257241\n",
      "0.21\n",
      "step 1500, entropy loss: 2.251933, l2_loss: 92.928520, total loss: 2.258438\n",
      "0.2\n",
      "step 1600, entropy loss: 2.248971, l2_loss: 93.022812, total loss: 2.255483\n",
      "0.18\n",
      "step 1700, entropy loss: 2.246987, l2_loss: 93.123566, total loss: 2.253506\n",
      "0.25\n",
      "step 1800, entropy loss: 2.211114, l2_loss: 93.235168, total loss: 2.217641\n",
      "0.21\n",
      "step 1900, entropy loss: 2.233102, l2_loss: 93.367676, total loss: 2.239638\n",
      "0.24\n",
      "step 2000, entropy loss: 2.190715, l2_loss: 93.504761, total loss: 2.197260\n",
      "0.24\n",
      "0.2106\n",
      "step 2100, entropy loss: 2.190347, l2_loss: 93.653046, total loss: 2.196903\n",
      "0.18\n",
      "step 2200, entropy loss: 2.188948, l2_loss: 93.828957, total loss: 2.195516\n",
      "0.26\n",
      "step 2300, entropy loss: 2.148426, l2_loss: 94.019722, total loss: 2.155007\n",
      "0.29\n",
      "step 2400, entropy loss: 2.192233, l2_loss: 94.212326, total loss: 2.198828\n",
      "0.18\n",
      "step 2500, entropy loss: 2.161607, l2_loss: 94.447449, total loss: 2.168219\n",
      "0.23\n",
      "step 2600, entropy loss: 2.146320, l2_loss: 94.692551, total loss: 2.152948\n",
      "0.26\n",
      "step 2700, entropy loss: 2.059177, l2_loss: 94.959801, total loss: 2.065824\n",
      "0.37\n",
      "step 2800, entropy loss: 2.133322, l2_loss: 95.263268, total loss: 2.139990\n",
      "0.22\n",
      "step 2900, entropy loss: 2.149939, l2_loss: 95.576141, total loss: 2.156629\n",
      "0.19\n",
      "step 3000, entropy loss: 2.067945, l2_loss: 95.917778, total loss: 2.074660\n",
      "0.22\n",
      "0.2368\n"
     ]
    }
   ],
   "source": [
    "# Train\n",
    "for step in range(3000):\n",
    "    batch_xs, batch_ys = mnist.train.next_batch(100)\n",
    "    lr = 0.01\n",
    "    _, loss, l2_loss_value, total_loss_value = sess.run(\n",
    "               [train_step, cross_entropy, l2_loss, total_loss], \n",
    "               feed_dict={x: batch_xs, \n",
    "                          y_: batch_ys, \n",
    "                          learning_rate:lr, \n",
    "                          keep_prob:0.5})\n",
    "  \n",
    "    if (step+1) % 100 == 0:\n",
    "        print('step %d, entropy loss: %f, l2_loss: %f, total loss: %f' % \n",
    "            (step+1, loss, l2_loss_value, total_loss_value))\n",
    "    # Test trained model\n",
    "        correct_prediction = tf.equal(tf.argmax(y, 1), tf.argmax(y_, 1))\n",
    "        accuracy = tf.reduce_mean(tf.cast(correct_prediction, tf.float32))\n",
    "        print(sess.run(accuracy, feed_dict={x: batch_xs, \n",
    "                                            y_: batch_ys, \n",
    "                                            keep_prob:0.5}))\n",
    "    if (step+1) % 1000 == 0:\n",
    "        print(sess.run(accuracy, feed_dict={x: mnist.test.images,\n",
    "                                            y_: mnist.test.labels, \n",
    "                                            keep_prob:0.5}))"
   ]
  },
  {
   "cell_type": "code",
   "execution_count": null,
   "metadata": {
    "collapsed": true
   },
   "outputs": [],
   "source": []
  }
 ],
 "metadata": {
  "anaconda-cloud": {},
  "kernelspec": {
   "display_name": "Python [default]",
   "language": "python",
   "name": "python3"
  },
  "language_info": {
   "codemirror_mode": {
    "name": "ipython",
    "version": 3
   },
   "file_extension": ".py",
   "mimetype": "text/x-python",
   "name": "python",
   "nbconvert_exporter": "python",
   "pygments_lexer": "ipython3",
   "version": "3.5.2"
  },
  "toc": {
   "nav_menu": {},
   "number_sections": true,
   "sideBar": true,
   "skip_h1_title": false,
   "title_cell": "Table of Contents",
   "title_sidebar": "Contents",
   "toc_cell": false,
   "toc_position": {},
   "toc_section_display": true,
   "toc_window_display": false
  }
 },
 "nbformat": 4,
 "nbformat_minor": 2
}
