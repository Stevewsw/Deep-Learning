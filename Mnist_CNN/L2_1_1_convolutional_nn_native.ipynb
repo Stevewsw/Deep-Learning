{
 "cells": [
  {
   "cell_type": "code",
   "execution_count": 1,
   "metadata": {
    "ExecuteTime": {
     "end_time": "2018-04-09T03:00:51.591004Z",
     "start_time": "2018-04-09T03:00:42.979460Z"
    }
   },
   "outputs": [],
   "source": [
    "\"\"\"A very simple MNIST classifier.\n",
    "See extensive documentation at\n",
    "https://www.tensorflow.org/get_started/mnist/beginners\n",
    "\"\"\"\n",
    "#from __future__ import absolute_import\n",
    "#from __future__ import division\n",
    "#from __future__ import print_function\n",
    "\n",
    "import argparse\n",
    "import sys\n",
    "\n",
    "from tensorflow.examples.tutorials.mnist import input_data\n",
    "\n",
    "import tensorflow as tf\n"
   ]
  },
  {
   "cell_type": "code",
   "execution_count": 2,
   "metadata": {
    "ExecuteTime": {
     "end_time": "2018-04-09T03:01:15.042636Z",
     "start_time": "2018-04-09T03:01:14.097943Z"
    }
   },
   "outputs": [
    {
     "name": "stdout",
     "output_type": "stream",
     "text": [
      "Extracting E:/AI/00/data/Mnist/input_data\\train-images-idx3-ubyte.gz\n",
      "Extracting E:/AI/00/data/Mnist/input_data\\train-labels-idx1-ubyte.gz\n",
      "Extracting E:/AI/00/data/Mnist/input_data\\t10k-images-idx3-ubyte.gz\n",
      "Extracting E:/AI/00/data/Mnist/input_data\\t10k-labels-idx1-ubyte.gz\n"
     ]
    }
   ],
   "source": [
    "# Import data\n",
    "data_dir = 'E:/AI/00/data/Mnist/input_data'\n",
    "mnist = input_data.read_data_sets(data_dir, one_hot=True)"
   ]
  },
  {
   "cell_type": "code",
   "execution_count": 4,
   "metadata": {
    "ExecuteTime": {
     "end_time": "2018-04-09T03:01:43.622752Z",
     "start_time": "2018-04-09T03:01:43.601741Z"
    }
   },
   "outputs": [],
   "source": [
    "# Define loss and optimizer\n",
    "x = tf.placeholder(tf.float32, [None, 784])\n",
    "y_ = tf.placeholder(tf.float32, [None, 10])\n",
    "learning_rate = tf.placeholder(tf.float32)\n",
    "# 把输入转为 4维张量\n",
    "with tf.name_scope('reshape'):\n",
    "    x_image = tf.reshape(x, [-1, 28, 28, 1])"
   ]
  },
  {
   "cell_type": "code",
   "execution_count": 5,
   "metadata": {
    "ExecuteTime": {
     "end_time": "2018-04-09T03:02:13.493630Z",
     "start_time": "2018-04-09T03:02:13.457099Z"
    }
   },
   "outputs": [],
   "source": [
    "# First convolutional layer - maps one grayscale image to 32 feature maps.\n",
    "# output [-1, 28, 28, 32]\n",
    "with tf.name_scope('conv1'):\n",
    "    # 卷积核为[5,5], 将1通道转为32通道\n",
    "    shape = [5, 5, 1, 32]\n",
    "    W_conv1 = tf.Variable(tf.truncated_normal(shape, stddev=0.1),\n",
    "                          collections=[tf.GraphKeys.GLOBAL_VARIABLES,'WEIGHTS'])\n",
    "    shape = [32]\n",
    "    b_conv1 = tf.Variable(tf.constant(0.1, shape=shape))\n",
    "    l_conv1 = tf.nn.conv2d(x_image, W_conv1, strides=[1, 1, 1, 1], # 步长为 1\n",
    "                           padding='SAME') + b_conv1\n",
    "    h_conv1 = tf.nn.relu(l_conv1)"
   ]
  },
  {
   "cell_type": "code",
   "execution_count": 6,
   "metadata": {
    "ExecuteTime": {
     "end_time": "2018-04-09T03:02:36.616462Z",
     "start_time": "2018-04-09T03:02:36.600450Z"
    }
   },
   "outputs": [],
   "source": [
    "# Pooling layer - downsamples by 2X.\n",
    "# output [-1, 14, 14, 32]\n",
    "with tf.name_scope('pool1'):\n",
    "    # 最大池化, 核为[2,2], 步长为2 \n",
    "    h_pool1 = tf.nn.max_pool(h_conv1, ksize=[1, 2, 2, 1],\n",
    "                          strides=[1, 2, 2, 1], padding='VALID')"
   ]
  },
  {
   "cell_type": "code",
   "execution_count": 8,
   "metadata": {
    "ExecuteTime": {
     "end_time": "2018-04-09T03:03:52.196671Z",
     "start_time": "2018-04-09T03:03:52.168151Z"
    }
   },
   "outputs": [],
   "source": [
    "# Second convolutional layer -- maps 32 feature maps to 64.\n",
    "# output [-1, 14, 14, 64]\n",
    "with tf.name_scope('conv2'):\n",
    "    W_conv2 = tf.Variable(tf.truncated_normal([5, 5, 32, 64], stddev=0.1),\n",
    "                          collections=[tf.GraphKeys.GLOBAL_VARIABLES,'WEIGHTS'])\n",
    "    b_conv2 = tf.Variable(tf.constant(0.1, shape=[64]))\n",
    "    l_conv2 = tf.nn.conv2d(h_pool1, W_conv2, strides=[1, 1, 1, 1], \n",
    "                           padding='SAME') + b_conv2\n",
    "    h_conv2 = tf.nn.relu(l_conv2)"
   ]
  },
  {
   "cell_type": "code",
   "execution_count": 9,
   "metadata": {
    "ExecuteTime": {
     "end_time": "2018-04-09T03:03:52.757751Z",
     "start_time": "2018-04-09T03:03:52.750737Z"
    }
   },
   "outputs": [],
   "source": [
    "# Second pooling layer.\n",
    "# output [-1, 7, 7, 64]\n",
    "with tf.name_scope('pool2'):\n",
    "    h_pool2 = tf.nn.max_pool(h_conv2, ksize=[1, 2, 2, 1],\n",
    "                        strides=[1, 2, 2, 1], padding='VALID')"
   ]
  },
  {
   "cell_type": "code",
   "execution_count": 10,
   "metadata": {
    "ExecuteTime": {
     "end_time": "2018-04-09T03:04:17.378304Z",
     "start_time": "2018-04-09T03:04:17.351291Z"
    }
   },
   "outputs": [],
   "source": [
    "# Fully connected layer 1 -- after 2 round of downsampling, our 28x28 image\n",
    "# is down to 7x7x64 feature maps -- maps this to 1024 features.\n",
    "# output [1024]\n",
    "with tf.name_scope('fc1'):\n",
    "    W_fc1 = tf.Variable(tf.truncated_normal([7 * 7 * 64, 1024], stddev=0.1),\n",
    "                        collections=[tf.GraphKeys.GLOBAL_VARIABLES,'WEIGHTS'])\n",
    "    b_fc1 = tf.Variable(tf.constant(0.1, shape=[1024]))\n",
    "\n",
    "    h_pool2_flat = tf.reshape(h_pool2, [-1, 7 * 7 * 64])\n",
    "    h_fc1 = tf.nn.relu(tf.matmul(h_pool2_flat, W_fc1) + b_fc1)"
   ]
  },
  {
   "cell_type": "code",
   "execution_count": 11,
   "metadata": {
    "ExecuteTime": {
     "end_time": "2018-04-09T03:04:31.118457Z",
     "start_time": "2018-04-09T03:04:31.103449Z"
    }
   },
   "outputs": [],
   "source": [
    "# Dropout - controls the complexity of the model, prevents co-adaptation of\n",
    "# features.\n",
    "with tf.name_scope('dropout'):\n",
    "    keep_prob = tf.placeholder(tf.float32)\n",
    "    h_fc1_drop = tf.nn.dropout(h_fc1, keep_prob)"
   ]
  },
  {
   "cell_type": "code",
   "execution_count": 12,
   "metadata": {
    "ExecuteTime": {
     "end_time": "2018-04-09T03:04:42.907047Z",
     "start_time": "2018-04-09T03:04:42.887035Z"
    }
   },
   "outputs": [],
   "source": [
    "# Map the 1024 features to 10 classes, one for each digit\n",
    "# output [10]\n",
    "with tf.name_scope('fc2'):\n",
    "    W_fc2 = tf.Variable(tf.truncated_normal([1024, 10], stddev=0.1),\n",
    "                        collections=[tf.GraphKeys.GLOBAL_VARIABLES,'WEIGHTS'])\n",
    "    b_fc2 = tf.Variable(tf.constant(0.1, shape=[10]))\n",
    "\n",
    "    y = tf.matmul(h_fc1_drop, W_fc2) + b_fc2"
   ]
  },
  {
   "cell_type": "code",
   "execution_count": 15,
   "metadata": {
    "ExecuteTime": {
     "end_time": "2018-04-09T03:42:37.304232Z",
     "start_time": "2018-04-09T03:42:36.965033Z"
    }
   },
   "outputs": [],
   "source": [
    "# The raw formulation of cross-entropy,\n",
    "cross_entropy = tf.reduce_mean(\n",
    "    tf.nn.softmax_cross_entropy_with_logits_v2(labels=y_, logits=y))\n",
    "\n",
    "l2_loss = tf.add_n( [tf.nn.l2_loss(w) for w in tf.get_collection('WEIGHTS')] )\n",
    "total_loss = cross_entropy + 7e-5*l2_loss\n",
    "\n",
    "# 优化方法,随机梯度下降\n",
    "train_step = tf.train.GradientDescentOptimizer(learning_rate).minimize(total_loss)\n",
    "#train_step = tf.train.AdamOptimizer(learning_rate).minimize(total_loss)\n",
    "#train_step = tf.train.MomentumOptimizer(learning_rate).minimize(total_loss)\n",
    "\n",
    "# 全部变量初始化\n",
    "sess = tf.Session()\n",
    "init_op = tf.global_variables_initializer()\n",
    "sess.run(init_op)"
   ]
  },
  {
   "cell_type": "code",
   "execution_count": 14,
   "metadata": {
    "ExecuteTime": {
     "end_time": "2018-04-09T03:17:55.507534Z",
     "start_time": "2018-04-09T03:06:03.241908Z"
    }
   },
   "outputs": [
    {
     "name": "stdout",
     "output_type": "stream",
     "text": [
      "step 100, entropy loss: 0.854040, l2_loss: 12656.458008, total loss: 1.739992\n",
      "0.72\n",
      "step 200, entropy loss: 0.562304, l2_loss: 12654.958984, total loss: 1.448151\n",
      "0.78\n",
      "step 300, entropy loss: 0.402332, l2_loss: 12653.348633, total loss: 1.288067\n",
      "0.92\n",
      "step 400, entropy loss: 0.309610, l2_loss: 12651.752930, total loss: 1.195233\n",
      "0.94\n",
      "step 500, entropy loss: 0.405611, l2_loss: 12650.087891, total loss: 1.291118\n",
      "0.91\n",
      "step 600, entropy loss: 0.215452, l2_loss: 12648.442383, total loss: 1.100843\n",
      "0.93\n",
      "step 700, entropy loss: 0.319619, l2_loss: 12646.762695, total loss: 1.204893\n",
      "0.88\n",
      "step 800, entropy loss: 0.325464, l2_loss: 12645.062500, total loss: 1.210619\n",
      "0.88\n",
      "step 900, entropy loss: 0.222727, l2_loss: 12643.357422, total loss: 1.107762\n",
      "0.95\n",
      "step 1000, entropy loss: 0.079866, l2_loss: 12641.640625, total loss: 0.964781\n",
      "0.97\n",
      "0.9361\n",
      "step 1100, entropy loss: 0.174286, l2_loss: 12639.932617, total loss: 1.059081\n",
      "0.97\n",
      "step 1200, entropy loss: 0.331232, l2_loss: 12638.271484, total loss: 1.215911\n",
      "0.93\n",
      "step 1300, entropy loss: 0.221625, l2_loss: 12636.526367, total loss: 1.106182\n",
      "0.95\n",
      "step 1400, entropy loss: 0.175499, l2_loss: 12634.805664, total loss: 1.059936\n",
      "0.96\n",
      "step 1500, entropy loss: 0.142590, l2_loss: 12633.078125, total loss: 1.026905\n",
      "0.96\n",
      "step 1600, entropy loss: 0.072553, l2_loss: 12631.364258, total loss: 0.956748\n",
      "0.98\n",
      "step 1700, entropy loss: 0.174198, l2_loss: 12629.640625, total loss: 1.058273\n",
      "0.92\n",
      "step 1800, entropy loss: 0.167308, l2_loss: 12627.953125, total loss: 1.051264\n",
      "0.98\n",
      "step 1900, entropy loss: 0.133906, l2_loss: 12626.250977, total loss: 1.017744\n",
      "0.96\n",
      "step 2000, entropy loss: 0.098187, l2_loss: 12624.542969, total loss: 0.981905\n",
      "0.96\n",
      "0.9514\n",
      "step 2100, entropy loss: 0.109470, l2_loss: 12622.847656, total loss: 0.993069\n",
      "0.97\n",
      "step 2200, entropy loss: 0.108877, l2_loss: 12621.133789, total loss: 0.992356\n",
      "0.98\n",
      "step 2300, entropy loss: 0.120990, l2_loss: 12619.416016, total loss: 1.004349\n",
      "0.96\n",
      "step 2400, entropy loss: 0.081534, l2_loss: 12617.709961, total loss: 0.964774\n",
      "0.96\n",
      "step 2500, entropy loss: 0.114667, l2_loss: 12616.005859, total loss: 0.997788\n",
      "0.95\n",
      "step 2600, entropy loss: 0.075239, l2_loss: 12614.268555, total loss: 0.958238\n",
      "0.95\n",
      "step 2700, entropy loss: 0.116476, l2_loss: 12612.541016, total loss: 0.999353\n",
      "0.96\n",
      "step 2800, entropy loss: 0.106915, l2_loss: 12610.837891, total loss: 0.989673\n",
      "0.98\n",
      "step 2900, entropy loss: 0.153422, l2_loss: 12609.122070, total loss: 1.036060\n",
      "0.97\n",
      "step 3000, entropy loss: 0.143263, l2_loss: 12607.409180, total loss: 1.025782\n",
      "0.96\n",
      "0.9632\n"
     ]
    }
   ],
   "source": [
    "# Train\n",
    "for step in range(3000):\n",
    "    batch_xs, batch_ys = mnist.train.next_batch(100)\n",
    "    lr = 0.01\n",
    "    _, loss, l2_loss_value, total_loss_value = sess.run(\n",
    "               [train_step, cross_entropy, l2_loss, total_loss], \n",
    "               feed_dict={x: batch_xs, y_: batch_ys, learning_rate:lr, keep_prob:0.5})\n",
    "  \n",
    "    if (step+1) % 100 == 0:\n",
    "        print('step %d, entropy loss: %f, l2_loss: %f, total loss: %f' % \n",
    "              (step+1, loss, l2_loss_value, total_loss_value))\n",
    "      # Test trained model\n",
    "        correct_prediction = tf.equal(tf.argmax(y, 1), tf.argmax(y_, 1))\n",
    "        accuracy = tf.reduce_mean(tf.cast(correct_prediction, tf.float32))\n",
    "        print(sess.run(accuracy, feed_dict={x: batch_xs, \n",
    "                                            y_: batch_ys, \n",
    "                                            keep_prob:0.5}))\n",
    "    if (step+1) % 1000 == 0:\n",
    "        print(sess.run(accuracy, feed_dict={x: mnist.test.images,\n",
    "                                            y_: mnist.test.labels, \n",
    "                                            keep_prob:0.5}))"
   ]
  },
  {
   "cell_type": "code",
   "execution_count": null,
   "metadata": {},
   "outputs": [],
   "source": []
  }
 ],
 "metadata": {
  "kernelspec": {
   "display_name": "Python 3",
   "language": "python",
   "name": "python3"
  },
  "language_info": {
   "codemirror_mode": {
    "name": "ipython",
    "version": 3
   },
   "file_extension": ".py",
   "mimetype": "text/x-python",
   "name": "python",
   "nbconvert_exporter": "python",
   "pygments_lexer": "ipython3",
   "version": "3.6.4"
  },
  "toc": {
   "nav_menu": {},
   "number_sections": true,
   "sideBar": true,
   "skip_h1_title": false,
   "title_cell": "Table of Contents",
   "title_sidebar": "Contents",
   "toc_cell": false,
   "toc_position": {},
   "toc_section_display": true,
   "toc_window_display": false
  }
 },
 "nbformat": 4,
 "nbformat_minor": 2
}
