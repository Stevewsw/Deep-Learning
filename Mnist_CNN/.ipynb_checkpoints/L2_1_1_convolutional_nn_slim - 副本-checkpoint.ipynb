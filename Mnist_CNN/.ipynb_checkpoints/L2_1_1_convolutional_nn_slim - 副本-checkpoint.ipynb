{
 "cells": [
  {
   "cell_type": "code",
   "execution_count": 1,
   "metadata": {
    "ExecuteTime": {
     "end_time": "2018-04-09T07:17:19.652333Z",
     "start_time": "2018-04-09T07:17:18.381319Z"
    },
    "collapsed": true
   },
   "outputs": [],
   "source": [
    "\"\"\"A very simple MNIST classifier.\n",
    "See extensive documentation at\n",
    "https://www.tensorflow.org/get_started/mnist/beginners\n",
    "\"\"\"\n",
    "#from __future__ import absolute_import\n",
    "#from __future__ import division\n",
    "#from __future__ import print_function\n",
    "\n",
    "import argparse\n",
    "import sys\n",
    "\n",
    "from tensorflow.examples.tutorials.mnist import input_data\n",
    "\n",
    "import tensorflow as tf\n",
    "\n",
    "import matplotlib.pyplot as plt\n",
    "import pandas as pd\n",
    "import numpy as np\n",
    "\n",
    "%matplotlib inline"
   ]
  },
  {
   "cell_type": "code",
   "execution_count": 2,
   "metadata": {
    "ExecuteTime": {
     "end_time": "2018-04-09T04:56:40.570699Z",
     "start_time": "2018-04-09T04:56:39.701538Z"
    },
    "collapsed": false
   },
   "outputs": [
    {
     "name": "stdout",
     "output_type": "stream",
     "text": [
      "Extracting ./input_data/train-images-idx3-ubyte.gz\n",
      "Extracting ./input_data/train-labels-idx1-ubyte.gz\n",
      "Extracting ./input_data/t10k-images-idx3-ubyte.gz\n",
      "Extracting ./input_data/t10k-labels-idx1-ubyte.gz\n"
     ]
    }
   ],
   "source": [
    "# Import data\n",
    "data_dir = './input_data'\n",
    "mnist = input_data.read_data_sets(data_dir, one_hot=True)"
   ]
  },
  {
   "cell_type": "code",
   "execution_count": 3,
   "metadata": {
    "ExecuteTime": {
     "end_time": "2018-04-09T04:56:40.589053Z",
     "start_time": "2018-04-09T04:56:40.570699Z"
    },
    "collapsed": true
   },
   "outputs": [],
   "source": [
    "# Define loss and optimizer\n",
    "x = tf.placeholder(tf.float32, [None, 784])\n",
    "y_ = tf.placeholder(tf.float32, [None, 10])\n",
    "learning_rate = tf.placeholder(tf.float32)\n",
    "\n",
    "with tf.name_scope('reshape'):\n",
    "    x_image = tf.reshape(x, [-1, 28, 28, 1])"
   ]
  },
  {
   "cell_type": "code",
   "execution_count": 4,
   "metadata": {
    "ExecuteTime": {
     "end_time": "2018-04-09T04:57:14.691367Z",
     "start_time": "2018-04-09T04:57:14.646845Z"
    },
    "collapsed": true
   },
   "outputs": [],
   "source": [
    "# First convolutional layer - maps one grayscale image to 32 feature maps.\n",
    "# output [-1, 28, 28, 32]\n",
    "with tf.name_scope('conv1'):\n",
    "    # 卷积核为[5,5], 将1通道转为32通道\n",
    "    h_conv1 = tf.contrib.slim.conv2d(x_image, 32, [5,5],   \n",
    "                                     padding='SAME', \n",
    "                                     activation_fn=tf.nn.relu)\n",
    "\n",
    "# Pooling layer - downsamples by 2X.\n",
    "# output [-1, 14, 14, 32]\n",
    "with tf.name_scope('pool1'):\n",
    "    # 最大池化, 核为[2,2], 步长为2\n",
    "    h_pool1 = tf.contrib.slim.max_pool2d(h_conv1, [2,2],    \n",
    "                                         stride=2, \n",
    "                                         padding='VALID')    "
   ]
  },
  {
   "cell_type": "markdown",
   "metadata": {},
   "source": [
    "```\n",
    "# First convolutional layer - maps one grayscale image to 32 feature maps.\n",
    "# output [-1, 28, 28, 32]\n",
    "with tf.name_scope('conv1'):\n",
    "    # 卷积核为[5,5], 将1通道转为32通道\n",
    "    shape = [5, 5, 1, 32]\n",
    "    W_conv1 = tf.Variable(tf.truncated_normal(shape, stddev=0.1),\n",
    "                          collections=[tf.GraphKeys.GLOBAL_VARIABLES,'WEIGHTS'])\n",
    "    shape = [32]\n",
    "    b_conv1 = tf.Variable(tf.constant(0.1, shape=shape))\n",
    "    l_conv1 = tf.nn.conv2d(x_image, W_conv1, strides=[1, 1, 1, 1], # 步长为 1\n",
    "                           padding='SAME') + b_conv1\n",
    "    h_conv1 = tf.nn.relu(l_conv1)\n",
    "# Pooling layer - downsamples by 2X.\n",
    "# output [-1, 14, 14, 32]\n",
    "with tf.name_scope('pool1'):\n",
    "    # 最大池化, 核为[2,2], 步长为2 \n",
    "    h_pool1 = tf.nn.max_pool(h_conv1, ksize=[1, 2, 2, 1],\n",
    "                          strides=[1, 2, 2, 1], padding='VALID')\n",
    "```"
   ]
  },
  {
   "cell_type": "code",
   "execution_count": 5,
   "metadata": {
    "ExecuteTime": {
     "end_time": "2018-04-09T05:03:31.803422Z",
     "start_time": "2018-04-09T05:03:31.770890Z"
    },
    "collapsed": true
   },
   "outputs": [],
   "source": [
    "# Second convolutional layer -- maps 32 feature maps to 64.\n",
    "with tf.name_scope('conv2'):\n",
    "    h_conv2 = tf.contrib.slim.conv2d(h_pool1, 64, [5,5], \n",
    "                                     padding='SAME', \n",
    "                                     activation_fn=tf.nn.relu)\n",
    "\n",
    "# Second pooling layer.\n",
    "with tf.name_scope('pool2'):\n",
    "    h_pool2 = tf.contrib.slim.max_pool2d(h_conv2, [2,2], stride=[2, 2], \n",
    "                                         padding='VALID')"
   ]
  },
  {
   "cell_type": "code",
   "execution_count": 6,
   "metadata": {
    "ExecuteTime": {
     "end_time": "2018-04-09T05:03:32.862069Z",
     "start_time": "2018-04-09T05:03:32.834052Z"
    },
    "collapsed": true
   },
   "outputs": [],
   "source": [
    "# Fully connected layer 1 -- after 2 round of downsampling, our 28x28 image\n",
    "# is down to 7x7x64 feature maps -- maps this to 1024 features.\n",
    "with tf.name_scope('fc1'):\n",
    "    h_pool2_flat = tf.contrib.slim.avg_pool2d(h_pool2, \n",
    "                                              h_pool2.shape[1:3], \n",
    "                                              stride=[1, 1], \n",
    "                                              padding='VALID')\n",
    "    h_fc1 = tf.contrib.slim.conv2d(h_pool2_flat, 1024, [1, 1], \n",
    "                                   activation_fn=tf.nn.relu)"
   ]
  },
  {
   "cell_type": "code",
   "execution_count": 7,
   "metadata": {
    "ExecuteTime": {
     "end_time": "2018-04-09T05:03:33.553949Z",
     "start_time": "2018-04-09T05:03:33.537938Z"
    },
    "collapsed": true
   },
   "outputs": [],
   "source": [
    "# Dropout - controls the complexity of the model, prevents co-adaptation of\n",
    "# features.\n",
    "with tf.name_scope('dropout'):\n",
    "    keep_prob = tf.placeholder(tf.float32)\n",
    "    h_fc1_drop = tf.nn.dropout(h_fc1, keep_prob)"
   ]
  },
  {
   "cell_type": "code",
   "execution_count": 8,
   "metadata": {
    "ExecuteTime": {
     "end_time": "2018-04-09T05:03:33.884992Z",
     "start_time": "2018-04-09T05:03:33.859975Z"
    },
    "collapsed": true
   },
   "outputs": [],
   "source": [
    "# Map the 1024 features to 10 classes, one for each digit\n",
    "with tf.name_scope('fc2'):\n",
    "    y = tf.squeeze(tf.contrib.slim.conv2d(h_fc1_drop, 10, [1,1], activation_fn=None))"
   ]
  },
  {
   "cell_type": "code",
   "execution_count": 9,
   "metadata": {
    "ExecuteTime": {
     "end_time": "2018-04-09T05:03:34.773037Z",
     "start_time": "2018-04-09T05:03:34.490412Z"
    },
    "collapsed": true
   },
   "outputs": [],
   "source": [
    "# The raw formulation of cross-entropy,\n",
    "cross_entropy = tf.reduce_mean(\n",
    "    tf.nn.softmax_cross_entropy_with_logits_v2(labels=y_, logits=y))\n",
    "\n",
    "l2_loss = tf.add_n( [tf.nn.l2_loss(w) for w in tf.get_collection(tf.GraphKeys.TRAINABLE_VARIABLES)] )\n",
    "total_loss = cross_entropy + 7e-5*l2_loss\n",
    "\n",
    "# 优化方法,随机梯度下降\n",
    "train_step = tf.train.GradientDescentOptimizer(learning_rate).minimize(total_loss)\n",
    "#train_step = tf.train.AdamOptimizer(learning_rate).minimize(total_loss)\n",
    "#train_step = tf.train.MomentumOptimizer(learning_rate).minimize(total_loss)\n",
    "\n",
    "# 全部变量初始化\n",
    "sess = tf.Session()\n",
    "init_op = tf.global_variables_initializer()\n",
    "sess.run(init_op)"
   ]
  },
  {
   "cell_type": "code",
   "execution_count": 10,
   "metadata": {
    "ExecuteTime": {
     "end_time": "2018-04-09T05:29:11.522020Z",
     "start_time": "2018-04-09T05:19:04.064477Z"
    },
    "collapsed": false
   },
   "outputs": [
    {
     "name": "stdout",
     "output_type": "stream",
     "text": [
      "[200, 0.12, 0.1458, 2.2995288, 92.60305, 2.306011]\n",
      "[400, 0.19, 0.1512, 2.2936945, 92.59289, 2.300176]\n",
      "[600, 0.1, 0.1723, 2.3000224, 92.59515, 2.306504]\n",
      "[800, 0.18, 0.1849, 2.3002098, 92.61591, 2.3066928]\n",
      "[1000, 0.13, 0.2042, 2.2934177, 92.668205, 2.2999046]\n",
      "[1200, 0.22, 0.1979, 2.2707932, 92.75008, 2.2772858]\n",
      "[1400, 0.21, 0.1956, 2.2733727, 92.86736, 2.2798734]\n",
      "[1600, 0.23, 0.1948, 2.260557, 93.024414, 2.2670686]\n",
      "[1800, 0.22, 0.1884, 2.2241602, 93.22052, 2.2306857]\n",
      "[2000, 0.24, 0.208, 2.2379384, 93.45132, 2.24448]\n",
      "[2200, 0.2, 0.2185, 2.2175105, 93.73484, 2.224072]\n",
      "[2400, 0.19, 0.2196, 2.211755, 94.07974, 2.2183406]\n",
      "[2600, 0.22, 0.2276, 2.1704774, 94.50223, 2.1770926]\n",
      "[2800, 0.17, 0.2277, 2.1832352, 95.01794, 2.1898863]\n",
      "[3000, 0.25, 0.2405, 2.1271818, 95.627815, 2.1338756]\n"
     ]
    }
   ],
   "source": [
    "#a_ce={'train':[],'test':[],'c_e':[],'l2':[],'totle':[]}#用于存放正确率和交叉熵\n",
    "a_ce=dict()\n",
    "# Train\n",
    "for step in range(3000):\n",
    "    batch_xs, batch_ys = mnist.train.next_batch(100)\n",
    "    lr=0.01\n",
    "    _, loss, l2_loss_value, total_loss_value = sess.run(\n",
    "                       [train_step, cross_entropy, l2_loss, total_loss], \n",
    "                       feed_dict={x: batch_xs, \n",
    "                                  y_: batch_ys, \n",
    "                                  learning_rate:lr, \n",
    "                                  keep_prob:0.5})\n",
    "\n",
    "\n",
    "    if (step+1)%200==0:\n",
    "        correct_prediction = tf.equal(tf.argmax(y, 1), tf.argmax(y_, 1))\n",
    "        accuracy = tf.reduce_mean(tf.cast(correct_prediction, tf.float32))\n",
    "        a_ce[step+1]=[step+1,sess.run(accuracy, feed_dict={x: batch_xs, y_: batch_ys, keep_prob:0.5}),\n",
    "                          sess.run(accuracy, feed_dict={x: mnist.test.images,y_: mnist.test.labels,keep_prob:0.5}),\n",
    "                          loss, l2_loss_value, total_loss_value]\n",
    "        print(a_ce[step+1])"
   ]
  },
  {
   "cell_type": "code",
   "execution_count": 11,
   "metadata": {
    "ExecuteTime": {
     "end_time": "2018-04-09T05:29:11.522020Z",
     "start_time": "2018-04-09T05:19:04.064477Z"
    },
    "collapsed": false
   },
   "outputs": [
    {
     "name": "stdout",
     "output_type": "stream",
     "text": [
      "[3200, 0.2, 0.2455, 2.1111088, 96.33194, 2.117852]\n",
      "[3400, 0.28, 0.2586, 2.022907, 97.17031, 2.0297089]\n",
      "[3600, 0.26, 0.2719, 1.9827658, 98.10447, 1.9896331]\n",
      "[3800, 0.29, 0.2967, 1.9096999, 99.11715, 1.9166381]\n",
      "[4000, 0.34, 0.306, 1.8774801, 100.18228, 1.8844929]\n",
      "[4200, 0.32, 0.3368, 1.8209664, 101.40824, 1.8280649]\n",
      "[4400, 0.28, 0.3619, 1.7898512, 102.78083, 1.7970458]\n",
      "[4600, 0.38, 0.3818, 1.6383951, 104.27012, 1.645694]\n",
      "[4800, 0.41, 0.4116, 1.5533963, 105.80113, 1.5608025]\n",
      "[5000, 0.47, 0.4439, 1.375382, 107.33603, 1.3828955]\n",
      "[5200, 0.42, 0.4687, 1.6172847, 108.90412, 1.624908]\n",
      "[5400, 0.54, 0.5076, 1.4743822, 110.49355, 1.4821167]\n",
      "[5600, 0.51, 0.5533, 1.2811185, 112.28416, 1.2889785]\n",
      "[5800, 0.59, 0.5983, 1.234961, 114.33895, 1.2429647]\n",
      "[6000, 0.68, 0.6414, 1.0554132, 116.5974, 1.063575]\n"
     ]
    }
   ],
   "source": [
    "for step in range(3000):\n",
    "    batch_xs, batch_ys = mnist.train.next_batch(100)\n",
    "    lr=0.01\n",
    "    _, loss, l2_loss_value, total_loss_value = sess.run(\n",
    "                       [train_step, cross_entropy, l2_loss, total_loss], \n",
    "                       feed_dict={x: batch_xs, \n",
    "                                  y_: batch_ys, \n",
    "                                  learning_rate:lr, \n",
    "                                  keep_prob:0.5})\n",
    "\n",
    "\n",
    "    if (step+1)%200==0:\n",
    "        correct_prediction = tf.equal(tf.argmax(y, 1), tf.argmax(y_, 1))\n",
    "        accuracy = tf.reduce_mean(tf.cast(correct_prediction, tf.float32))\n",
    "        a_ce[step+1+3000]=[step+1+3000,sess.run(accuracy, feed_dict={x: batch_xs, y_: batch_ys, keep_prob:0.5}),\n",
    "                          sess.run(accuracy, feed_dict={x: mnist.test.images,y_: mnist.test.labels,keep_prob:0.5}),\n",
    "                          loss, l2_loss_value, total_loss_value]\n",
    "        print(a_ce[step+1+3000])"
   ]
  },
  {
   "cell_type": "code",
   "execution_count": 12,
   "metadata": {
    "ExecuteTime": {
     "end_time": "2018-04-09T05:29:11.522020Z",
     "start_time": "2018-04-09T05:19:04.064477Z"
    },
    "collapsed": false
   },
   "outputs": [
    {
     "name": "stdout",
     "output_type": "stream",
     "text": [
      "[6200, 0.7, 0.6828, 0.9936009, 118.99569, 1.0019306]\n",
      "[6400, 0.74, 0.7005, 0.95804924, 121.337395, 0.96654284]\n",
      "[6600, 0.68, 0.7262, 0.9189176, 123.66224, 0.927574]\n",
      "[6800, 0.68, 0.7456, 0.8956582, 125.872986, 0.9044693]\n",
      "[7000, 0.72, 0.7542, 0.8609118, 127.94752, 0.8698681]\n",
      "[7200, 0.84, 0.7828, 0.7225374, 129.90538, 0.7316308]\n",
      "[7400, 0.83, 0.7908, 0.6395662, 131.70294, 0.6487854]\n",
      "[7600, 0.83, 0.8025, 0.64982533, 133.4686, 0.6591681]\n",
      "[7800, 0.87, 0.8224, 0.5079142, 135.08748, 0.5173703]\n",
      "[8000, 0.8, 0.8105, 0.692806, 136.6425, 0.702371]\n",
      "[8200, 0.86, 0.8373, 0.46395987, 138.09024, 0.4736262]\n",
      "[8400, 0.85, 0.8431, 0.59707713, 139.49318, 0.6068417]\n",
      "[8600, 0.86, 0.8368, 0.6176708, 140.84103, 0.6275296]\n",
      "[8800, 0.84, 0.8522, 0.538097, 142.18384, 0.54804987]\n",
      "[9000, 0.81, 0.8388, 0.6879877, 143.46216, 0.69803005]\n"
     ]
    }
   ],
   "source": [
    "for step in range(3000):\n",
    "    batch_xs, batch_ys = mnist.train.next_batch(100)\n",
    "    lr=0.01\n",
    "    _, loss, l2_loss_value, total_loss_value = sess.run(\n",
    "                       [train_step, cross_entropy, l2_loss, total_loss], \n",
    "                       feed_dict={x: batch_xs, \n",
    "                                  y_: batch_ys, \n",
    "                                  learning_rate:lr, \n",
    "                                  keep_prob:0.5})\n",
    "\n",
    "\n",
    "    if (step+1)%200==0:\n",
    "        correct_prediction = tf.equal(tf.argmax(y, 1), tf.argmax(y_, 1))\n",
    "        accuracy = tf.reduce_mean(tf.cast(correct_prediction, tf.float32))\n",
    "        a_ce[step+1+6000]=[step+1+6000,sess.run(accuracy, feed_dict={x: batch_xs, y_: batch_ys, keep_prob:0.5}),\n",
    "                          sess.run(accuracy, feed_dict={x: mnist.test.images,y_: mnist.test.labels,keep_prob:0.5}),\n",
    "                          loss, l2_loss_value, total_loss_value]\n",
    "        print(a_ce[step+1+6000])"
   ]
  },
  {
   "cell_type": "code",
   "execution_count": 15,
   "metadata": {
    "ExecuteTime": {
     "end_time": "2018-04-09T05:29:11.522020Z",
     "start_time": "2018-04-09T05:19:04.064477Z"
    },
    "collapsed": false
   },
   "outputs": [
    {
     "name": "stdout",
     "output_type": "stream",
     "text": [
      "[9200, 0.91, 0.8732, 0.3430343, 144.69142, 0.3531627]\n",
      "[9400, 0.9, 0.8777, 0.45143035, 145.85121, 0.46163994]\n",
      "[9600, 0.82, 0.8836, 0.40848434, 147.00954, 0.41877502]\n",
      "[9800, 0.84, 0.8798, 0.4675238, 148.07022, 0.47788873]\n",
      "[10000, 0.86, 0.8741, 0.4438791, 149.18756, 0.45432222]\n",
      "[10200, 0.9, 0.8862, 0.3629686, 150.21324, 0.3734835]\n",
      "[10400, 0.93, 0.901, 0.27911663, 151.19145, 0.28970003]\n",
      "[10600, 0.89, 0.8994, 0.35583794, 152.15346, 0.3664887]\n",
      "[10800, 0.91, 0.9009, 0.36839768, 153.13298, 0.37911698]\n",
      "[11000, 0.91, 0.9069, 0.27149945, 154.0622, 0.2822838]\n",
      "[11200, 0.88, 0.909, 0.5396021, 154.93793, 0.55044776]\n",
      "[11400, 0.86, 0.9102, 0.3402775, 155.82039, 0.35118493]\n",
      "[11600, 0.9, 0.9045, 0.5435961, 156.66696, 0.55456275]\n",
      "[11800, 0.94, 0.9079, 0.32150668, 157.49734, 0.33253148]\n",
      "[12000, 0.9, 0.914, 0.38065565, 158.28725, 0.39173576]\n"
     ]
    }
   ],
   "source": [
    "for step in range(3000):\n",
    "    batch_xs, batch_ys = mnist.train.next_batch(100)\n",
    "    lr=0.01\n",
    "    _, loss, l2_loss_value, total_loss_value = sess.run(\n",
    "                       [train_step, cross_entropy, l2_loss, total_loss], \n",
    "                       feed_dict={x: batch_xs, \n",
    "                                  y_: batch_ys, \n",
    "                                  learning_rate:lr, \n",
    "                                  keep_prob:0.5})\n",
    "\n",
    "\n",
    "    if (step+1)%200==0:\n",
    "        correct_prediction = tf.equal(tf.argmax(y, 1), tf.argmax(y_, 1))\n",
    "        accuracy = tf.reduce_mean(tf.cast(correct_prediction, tf.float32))\n",
    "        a_ce[step+1+9000]=[step+1+9000,sess.run(accuracy, feed_dict={x: batch_xs, y_: batch_ys, keep_prob:0.5}),\n",
    "                          sess.run(accuracy, feed_dict={x: mnist.test.images,y_: mnist.test.labels,keep_prob:0.5}),\n",
    "                          loss, l2_loss_value, total_loss_value]\n",
    "        print(a_ce[step+1+9000])"
   ]
  },
  {
   "cell_type": "code",
   "execution_count": 16,
   "metadata": {
    "ExecuteTime": {
     "end_time": "2018-04-09T05:29:11.522020Z",
     "start_time": "2018-04-09T05:19:04.064477Z"
    },
    "collapsed": false
   },
   "outputs": [
    {
     "name": "stdout",
     "output_type": "stream",
     "text": [
      "[12200, 0.9, 0.9152, 0.33744988, 159.04881, 0.34858328]\n",
      "[12400, 0.91, 0.9179, 0.26675376, 159.80974, 0.27794045]\n",
      "[12600, 0.93, 0.9104, 0.33296582, 160.55058, 0.34420437]\n",
      "[12800, 0.95, 0.9199, 0.24530376, 161.28667, 0.25659382]\n",
      "[13000, 0.92, 0.9144, 0.3258818, 161.97403, 0.33721998]\n",
      "[13200, 0.9, 0.9227, 0.30825505, 162.70372, 0.3196443]\n",
      "[13400, 0.93, 0.929, 0.23056315, 163.39561, 0.24200085]\n",
      "[13600, 0.96, 0.9127, 0.25077242, 164.08861, 0.26225862]\n",
      "[13800, 0.88, 0.9301, 0.49392045, 164.71284, 0.50545037]\n",
      "[14000, 0.93, 0.9287, 0.21997339, 165.32166, 0.2315459]\n",
      "[14200, 0.91, 0.9324, 0.37408257, 165.99709, 0.38570237]\n",
      "[14400, 0.94, 0.9304, 0.21651982, 166.61592, 0.22818293]\n",
      "[14600, 0.92, 0.9345, 0.3186464, 167.23647, 0.33035296]\n",
      "[14800, 0.96, 0.9261, 0.30921802, 167.81552, 0.3209651]\n",
      "[15000, 0.95, 0.9328, 0.21076484, 168.42097, 0.22255431]\n"
     ]
    }
   ],
   "source": [
    "for step in range(3000):\n",
    "    batch_xs, batch_ys = mnist.train.next_batch(100)\n",
    "    lr=0.01\n",
    "    _, loss, l2_loss_value, total_loss_value = sess.run(\n",
    "                       [train_step, cross_entropy, l2_loss, total_loss], \n",
    "                       feed_dict={x: batch_xs, \n",
    "                                  y_: batch_ys, \n",
    "                                  learning_rate:lr, \n",
    "                                  keep_prob:0.5})\n",
    "\n",
    "\n",
    "    if (step+1)%200==0:\n",
    "        correct_prediction = tf.equal(tf.argmax(y, 1), tf.argmax(y_, 1))\n",
    "        accuracy = tf.reduce_mean(tf.cast(correct_prediction, tf.float32))\n",
    "        a_ce[step+1+12000]=[step+1+12000,sess.run(accuracy, feed_dict={x: batch_xs, y_: batch_ys, keep_prob:0.5}),\n",
    "                          sess.run(accuracy, feed_dict={x: mnist.test.images,y_: mnist.test.labels,keep_prob:0.5}),\n",
    "                          loss, l2_loss_value, total_loss_value]\n",
    "        print(a_ce[step+1+12000])"
   ]
  },
  {
   "cell_type": "code",
   "execution_count": 17,
   "metadata": {
    "ExecuteTime": {
     "end_time": "2018-04-09T05:29:11.522020Z",
     "start_time": "2018-04-09T05:19:04.064477Z"
    },
    "collapsed": false
   },
   "outputs": [
    {
     "name": "stdout",
     "output_type": "stream",
     "text": [
      "[15200, 0.94, 0.9333, 0.20775692, 169.00783, 0.21958748]\n",
      "[15400, 0.91, 0.9305, 0.34009448, 169.59134, 0.35196587]\n",
      "[15600, 0.93, 0.9373, 0.23447996, 170.12337, 0.2463886]\n",
      "[15800, 0.94, 0.9326, 0.29550657, 170.66489, 0.3074531]\n",
      "[16000, 0.93, 0.928, 0.21182641, 171.2001, 0.22381042]\n",
      "[16200, 0.94, 0.9361, 0.24141292, 171.7195, 0.2534333]\n",
      "[16400, 0.97, 0.942, 0.12122777, 172.25897, 0.1332859]\n",
      "[16600, 0.94, 0.9362, 0.26175535, 172.78557, 0.27385035]\n",
      "[16800, 0.95, 0.9416, 0.28343865, 173.32547, 0.29557145]\n",
      "[17000, 0.98, 0.9391, 0.11801102, 173.82939, 0.13017908]\n",
      "[17200, 0.97, 0.9389, 0.22935477, 174.30783, 0.24155632]\n",
      "[17400, 0.92, 0.9384, 0.20011547, 174.84198, 0.2123544]\n",
      "[17600, 0.96, 0.9386, 0.25756988, 175.34755, 0.2698442]\n",
      "[17800, 0.97, 0.9428, 0.14270774, 175.82338, 0.15501538]\n",
      "[18000, 0.94, 0.9436, 0.22630107, 176.31822, 0.23864335]\n"
     ]
    }
   ],
   "source": [
    "for step in range(3000):\n",
    "    batch_xs, batch_ys = mnist.train.next_batch(100)\n",
    "    lr=0.01\n",
    "    _, loss, l2_loss_value, total_loss_value = sess.run(\n",
    "                       [train_step, cross_entropy, l2_loss, total_loss], \n",
    "                       feed_dict={x: batch_xs, \n",
    "                                  y_: batch_ys, \n",
    "                                  learning_rate:lr, \n",
    "                                  keep_prob:0.5})\n",
    "\n",
    "\n",
    "    if (step+1)%200==0:\n",
    "        correct_prediction = tf.equal(tf.argmax(y, 1), tf.argmax(y_, 1))\n",
    "        accuracy = tf.reduce_mean(tf.cast(correct_prediction, tf.float32))\n",
    "        a_ce[step+1+15000]=[step+1+15000,sess.run(accuracy, feed_dict={x: batch_xs, y_: batch_ys, keep_prob:0.5}),\n",
    "                          sess.run(accuracy, feed_dict={x: mnist.test.images,y_: mnist.test.labels,keep_prob:0.5}),\n",
    "                          loss, l2_loss_value, total_loss_value]\n",
    "        print(a_ce[step+1+15000])"
   ]
  },
  {
   "cell_type": "code",
   "execution_count": 18,
   "metadata": {
    "ExecuteTime": {
     "end_time": "2018-04-09T05:29:11.522020Z",
     "start_time": "2018-04-09T05:19:04.064477Z"
    },
    "collapsed": false
   },
   "outputs": [
    {
     "name": "stdout",
     "output_type": "stream",
     "text": [
      "[18200, 0.91, 0.9432, 0.26184237, 176.7802, 0.27421698]\n",
      "[18400, 0.95, 0.9476, 0.18692018, 177.28326, 0.19933]\n",
      "[18600, 0.96, 0.9415, 0.13472483, 177.71468, 0.14716485]\n",
      "[18800, 0.95, 0.9413, 0.14346866, 178.18646, 0.15594171]\n",
      "[19000, 0.92, 0.9426, 0.18072708, 178.6459, 0.1932323]\n",
      "[19200, 0.97, 0.9401, 0.22682886, 179.06035, 0.23936309]\n",
      "[19400, 0.94, 0.9462, 0.2690773, 179.512, 0.28164315]\n",
      "[19600, 0.96, 0.9407, 0.18258986, 179.96625, 0.1951875]\n",
      "[19800, 0.95, 0.9482, 0.17330158, 180.37155, 0.18592758]\n",
      "[20000, 0.95, 0.9423, 0.23716477, 180.78929, 0.24982002]\n",
      "[20200, 0.97, 0.9467, 0.14667657, 181.20467, 0.1593609]\n",
      "[20400, 0.95, 0.9437, 0.23074687, 181.6346, 0.24346128]\n",
      "[20600, 0.95, 0.9434, 0.14466663, 182.06311, 0.15741104]\n",
      "[20800, 0.96, 0.9451, 0.22752735, 182.47408, 0.24030054]\n",
      "[21000, 0.97, 0.9248, 0.27275565, 182.88667, 0.28555772]\n"
     ]
    }
   ],
   "source": [
    "for step in range(3000):\n",
    "    batch_xs, batch_ys = mnist.train.next_batch(100)\n",
    "    lr=0.01\n",
    "    _, loss, l2_loss_value, total_loss_value = sess.run(\n",
    "                       [train_step, cross_entropy, l2_loss, total_loss], \n",
    "                       feed_dict={x: batch_xs, \n",
    "                                  y_: batch_ys, \n",
    "                                  learning_rate:lr, \n",
    "                                  keep_prob:0.5})\n",
    "\n",
    "\n",
    "    if (step+1)%200==0:\n",
    "        correct_prediction = tf.equal(tf.argmax(y, 1), tf.argmax(y_, 1))\n",
    "        accuracy = tf.reduce_mean(tf.cast(correct_prediction, tf.float32))\n",
    "        a_ce[step+1+18000]=[step+1+18000,sess.run(accuracy, feed_dict={x: batch_xs, y_: batch_ys, keep_prob:0.5}),\n",
    "                          sess.run(accuracy, feed_dict={x: mnist.test.images,y_: mnist.test.labels,keep_prob:0.5}),\n",
    "                          loss, l2_loss_value, total_loss_value]\n",
    "        print(a_ce[step+1+18000])"
   ]
  },
  {
   "cell_type": "code",
   "execution_count": 19,
   "metadata": {
    "collapsed": false
   },
   "outputs": [
    {
     "name": "stderr",
     "output_type": "stream",
     "text": [
      "/home/zhou/anaconda3/lib/python3.5/site-packages/ipykernel/__main__.py:10: FutureWarning: sort(....) is deprecated, use sort_index(.....)\n"
     ]
    },
    {
     "data": {
      "image/png": "[encoded data removed]",
      "text/plain": [
       "<matplotlib.figure.Figure at 0x7f19c26908d0>"
      ]
     },
     "metadata": {},
     "output_type": "display_data"
    }
   ],
   "source": [
    "ace={'index':[a_ce[x][0] for x in a_ce],\n",
    "     'train':[a_ce[x][1] for x in a_ce],\n",
    "    'test':[a_ce[x][2] for x in a_ce],\n",
    "    'c_e':[a_ce[x][3] for x in a_ce],\n",
    "    'l2':[a_ce[x][4] for x in a_ce],\n",
    "    'totle':[a_ce[x][5] for x in a_ce]}\n",
    "\n",
    "# 将得到的正确率和交叉熵转换成DataFrame\n",
    "df=pd.DataFrame(data=ace,index=ace['index'])\n",
    "df.sort(inplace=True)\n",
    "# 删除前几行的异常样本\n",
    "df.drop(df['index'][:df.shape[0]//2],inplace=True)\n",
    "\n",
    "# 绘图\n",
    "# 子图一: 正确率\n",
    "ax1 = plt.figure(figsize=(8,6)).add_subplot(111)\n",
    "ax1.plot(df['train'], label='train', color='b')\n",
    "ax1.plot(df['test'], label='test', color='g')\n",
    "ax1.plot([df['index'].iloc[0],df['index'].iloc[-1]], [0.98,0.98], label='0.98', color='y')\n",
    "#ax1.set_ylim([0.970, 0.984])\n",
    "ax1.set_ylabel('accuracy')\n",
    "ax1.legend(loc=3)\n",
    "\n",
    "# 子图二: 交叉熵\n",
    "ax2 = ax1.twinx()  \n",
    "ax2.plot(df['c_e'],label='cross_entropy', color='r')\n",
    "#ax2.set_ylim([0.072, 0.100])\n",
    "ax2.set_ylabel('cross_entropy')\n",
    "ax2.legend(loc=4)\n",
    "plt.grid(True, linestyle = \"-\")\n",
    "plt.show()"
   ]
  },
  {
   "cell_type": "code",
   "execution_count": 20,
   "metadata": {
    "collapsed": false
   },
   "outputs": [
    {
     "name": "stdout",
     "output_type": "stream",
     "text": [
      "Successfully downloaded train-images-idx3-ubyte.gz 9912422 bytes.\n",
      "Extracting /tmp/mnist/train-images-idx3-ubyte.gz\n",
      "Successfully downloaded train-labels-idx1-ubyte.gz 28881 bytes.\n",
      "Extracting /tmp/mnist/train-labels-idx1-ubyte.gz\n",
      "Successfully downloaded t10k-images-idx3-ubyte.gz 1648877 bytes.\n",
      "Extracting /tmp/mnist/t10k-images-idx3-ubyte.gz\n",
      "Successfully downloaded t10k-labels-idx1-ubyte.gz 4542 bytes.\n",
      "Extracting /tmp/mnist/t10k-labels-idx1-ubyte.gz\n",
      "WARNING:tensorflow:From <ipython-input-20-d56734f2663e>:86: softmax_cross_entropy_with_logits (from tensorflow.python.ops.nn_ops) is deprecated and will be removed in a future version.\n",
      "Instructions for updating:\n",
      "\n",
      "Future major versions of TensorFlow will allow gradients to flow\n",
      "into the labels input on backprop by default.\n",
      "\n",
      "See tf.nn.softmax_cross_entropy_with_logits_v2.\n",
      "\n",
      "[200, 0.16, 0.1135, 2.2920609, 274590.9, 21.513424]\n",
      "[400, 0.13, 0.0892, 2.311185, 249533.8, 19.778553]\n",
      "[600, 0.12, 0.1028, 2.3271294, 233780.48, 18.691763]\n",
      "[800, 0.12, 0.0958, 2.3207817, 221992.34, 17.860247]\n",
      "[1000, 0.11, 0.1032, 3.1475332, 211149.28, 17.927982]\n",
      "[1200, 0.06, 0.1135, 2.410842, 204197.31, 16.704655]\n",
      "[1400, 0.08, 0.1032, 2.2973652, 196364.66, 16.042892]\n",
      "[1600, 0.11, 0.1028, 2.3698683, 187693.78, 15.508433]\n",
      "[1800, 0.08, 0.0974, 2.307035, 189880.86, 15.598696]\n",
      "[2000, 0.09, 0.0974, 2.3297288, 181002.31, 14.999891]\n",
      "time is 237 in step 2000\n",
      "totle time 248\n",
      "{400: [400, 0.13, 0.0892, 2.311185, 249533.8, 19.778553], 1000: [1000, 0.11, 0.1032, 3.1475332, 211149.28, 17.927982], 2000: [2000, 0.09, 0.0974, 2.3297288, 181002.31, 14.999891], 1400: [1400, 0.08, 0.1032, 2.2973652, 196364.66, 16.042892], 200: [200, 0.16, 0.1135, 2.2920609, 274590.9, 21.513424], 600: [600, 0.12, 0.1028, 2.3271294, 233780.48, 18.691763], 1600: [1600, 0.11, 0.1028, 2.3698683, 187693.78, 15.508433], 1200: [1200, 0.06, 0.1135, 2.410842, 204197.31, 16.704655], 1800: [1800, 0.08, 0.0974, 2.307035, 189880.86, 15.598696], 800: [800, 0.12, 0.0958, 2.3207817, 221992.34, 17.860247]}\n"
     ]
    }
   ],
   "source": [
    "import sys\n",
    "\n",
    "from tensorflow.examples.tutorials.mnist import input_data\n",
    "\n",
    "import tensorflow as tf\n",
    "\n",
    "import time\n",
    "\n",
    "\n",
    "class Mnist_CNN(object):\n",
    "    \"\"\"\n",
    "    test\n",
    "    \n",
    "    \n",
    "    第一层: 卷积核为[5,5], 1通道->32通道; 最大池化, 核为[2,2], 步长为2\n",
    "    第二层: 卷积核为[5,5], 32通道->64通道; 最大池化, 核为[2,2], 步长为2\n",
    "    3: 平均池化, 核为二层输出层, 步长为1; 二层全部数据, relu激活为1024的向量\n",
    "    4: dropout之后, 卷积为10的向量; 经softmax激活\n",
    "    5: 利用Adam方法, 学习率为0.5, 最小化(交叉熵+L2损失)\n",
    "    6: batch为100, 循环10000次, 每300step将计算结果添加进a_ce\n",
    "        self.a_ce={'train':[正确率],'test':[正确率],'c_e':[交叉熵]}\n",
    "        默认参数test中正确率为98.3%左右    \n",
    "    \"\"\"\n",
    "\n",
    "    def __init__(self,f1_ck=[3,3],f1_cc=32,f1_pc=[2,2],f1_ps=2,\n",
    "                 f2_ck=[3,3],f2_cc=128,f2_pk=[2,2],f2_ps=[2,2],\n",
    "                 features=1024,l_r=0.5,for_=2100,batch=100):\n",
    "        \n",
    "        mnist = input_data.read_data_sets('/tmp/mnist',  one_hot=True,)\n",
    "        \n",
    "        # Define loss and optimizer\n",
    "        x = tf.placeholder(tf.float32, [None, 784])\n",
    "        y_ = tf.placeholder(tf.float32, [None, 10])\n",
    "        learning_rate = tf.placeholder(tf.float32)\n",
    "\n",
    "        with tf.name_scope('reshape'):\n",
    "            x_image = tf.reshape(x, [-1, 28, 28, 1])\n",
    "        \n",
    "        # First convolutional layer - maps one grayscale image to 32 feature maps.\n",
    "        # output [-1, 28, 28, 32]\n",
    "        with tf.name_scope('conv1'):\n",
    "            # 卷积核为[5,5], 将1通道转为32通道\n",
    "            h_conv1 = tf.contrib.slim.conv2d(x_image, f1_cc, f1_ck, \n",
    "                                             padding='SAME', \n",
    "                                             activation_fn=tf.nn.relu)\n",
    "\n",
    "        # Pooling layer - downsamples by 2X.\n",
    "        # output [-1, 14, 14, 32]\n",
    "        with tf.name_scope('pool1'):\n",
    "            # 最大池化, 核为[2,2], 步长为2\n",
    "            h_pool1 = tf.contrib.slim.max_pool2d(h_conv1, f1_pc, stride=f1_ps, \n",
    "                                                 padding='VALID')  \n",
    "        # Second convolutional layer -- maps 32 feature maps to 64.\n",
    "        with tf.name_scope('conv2'):\n",
    "            h_conv2 = tf.contrib.slim.conv2d(h_pool1, f2_cc, f2_ck, \n",
    "                                             padding='SAME', \n",
    "                                             activation_fn=tf.nn.relu)\n",
    "\n",
    "        # Second pooling layer.\n",
    "        with tf.name_scope('pool2'):\n",
    "            h_pool2 = tf.contrib.slim.max_pool2d(h_conv2, f2_pk, stride=f2_ps, \n",
    "                                                 padding='VALID')\n",
    "        \n",
    "        # Fully connected layer 1 -- after 2 round of downsampling, our 28x28 image\n",
    "        # is down to 7x7x64 feature maps -- maps this to 1024 features.\n",
    "        with tf.name_scope('fc1'):\n",
    "            h_pool2_flat = tf.contrib.slim.avg_pool2d(h_pool2, \n",
    "                                                      h_pool2.shape[1:3], \n",
    "                                                      stride=[1, 1], \n",
    "                                                      padding='VALID')\n",
    "            h_fc1 = tf.contrib.slim.conv2d(h_pool2_flat, features, [1, 1], \n",
    "                                           activation_fn=tf.nn.relu)\n",
    "        \n",
    "        # Dropout - controls the complexity of the model, prevents co-adaptation of\n",
    "        # features.\n",
    "        with tf.name_scope('dropout'):\n",
    "            keep_prob = tf.placeholder(tf.float32)\n",
    "            h_fc1_drop = tf.nn.dropout(h_fc1, keep_prob)\n",
    "        \n",
    "        # Map the 1024 features to 10 classes, one for each digit\n",
    "        with tf.name_scope('fc2'):\n",
    "            y = tf.squeeze(tf.contrib.slim.conv2d(h_fc1_drop, 10, [1,1], activation_fn=None))\n",
    "            \n",
    "        # The raw formulation of cross-entropy,\n",
    "        cross_entropy = tf.reduce_mean(\n",
    "            tf.nn.softmax_cross_entropy_with_logits(labels=y_, logits=y))\n",
    "\n",
    "        l2_loss = tf.add_n( [tf.nn.l2_loss(w) for w in tf.get_collection(tf.GraphKeys.TRAINABLE_VARIABLES)] )\n",
    "        total_loss = cross_entropy + 7e-5*l2_loss\n",
    "\n",
    "        # 优化方法,随机梯度下降\n",
    "        #train_step = tf.train.GradientDescentOptimizer(learning_rate).minimize(total_loss)\n",
    "        train_step = tf.train.AdamOptimizer(learning_rate).minimize(total_loss)\n",
    "        #train_step = tf.train.MomentumOptimizer(learning_rate).minimize(total_loss)\n",
    "\n",
    "        # 全部变量初始化\n",
    "        sess = tf.Session()\n",
    "        init_op = tf.global_variables_initializer()\n",
    "        sess.run(init_op)\n",
    "        \n",
    "        start = time.time()\n",
    "        #a_ce={'train':[],'test':[],'c_e':[],'l2':[],'totle':[]}#用于存放正确率和交叉熵\n",
    "        a_ce=dict()\n",
    "        # Train\n",
    "        for step in range(for_):\n",
    "            batch_xs, batch_ys = mnist.train.next_batch(batch)\n",
    "            lr=l_r\n",
    "            _, loss, l2_loss_value, total_loss_value = sess.run(\n",
    "                               [train_step, cross_entropy, l2_loss, total_loss], \n",
    "                               feed_dict={x: batch_xs, \n",
    "                                          y_: batch_ys, \n",
    "                                          learning_rate:lr, \n",
    "                                          keep_prob:0.5})\n",
    "\n",
    "\n",
    "            if (step+1)%200==0:\n",
    "                correct_prediction = tf.equal(tf.argmax(y, 1), tf.argmax(y_, 1))\n",
    "                accuracy = tf.reduce_mean(tf.cast(correct_prediction, tf.float32))\n",
    "                a_ce[step+1]=[step+1,sess.run(accuracy, feed_dict={x: batch_xs, y_: batch_ys, keep_prob:0.5}),\n",
    "                                  sess.run(accuracy, feed_dict={x: mnist.test.images,y_: mnist.test.labels,keep_prob:0.5}),\n",
    "                                  loss, l2_loss_value, total_loss_value]\n",
    "                print(a_ce[step+1])\n",
    "                          \n",
    "            if (step+1) % 2000 == 0:\n",
    "                print('time is {0} in step {1}'.format(int(time.time()-start), step+1))\n",
    "                \n",
    "        self.a_ce = a_ce\n",
    "        print('totle time', int(time.time()-start))\n",
    "\n",
    "\n",
    "\n",
    "mni = Mnist_CNN()\n",
    "\n",
    "print(mni.a_ce)"
   ]
  },
  {
   "cell_type": "code",
   "execution_count": 21,
   "metadata": {
    "collapsed": false
   },
   "outputs": [
    {
     "name": "stdout",
     "output_type": "stream",
     "text": [
      " ,\n",
      " ,\n",
      " ,\n"
     ]
    }
   ],
   "source": [
    "print(' ', end=',\\n')\n",
    "print(' ', end=',\\n')\n",
    "print(' ', end=',\\n')"
   ]
  },
  {
   "cell_type": "code",
   "execution_count": null,
   "metadata": {
    "collapsed": true
   },
   "outputs": [],
   "source": []
  }
 ],
 "metadata": {
  "kernelspec": {
   "display_name": "Python [default]",
   "language": "python",
   "name": "python3"
  },
  "language_info": {
   "codemirror_mode": {
    "name": "ipython",
    "version": 3
   },
   "file_extension": ".py",
   "mimetype": "text/x-python",
   "name": "python",
   "nbconvert_exporter": "python",
   "pygments_lexer": "ipython3",
   "version": "3.5.2"
  },
  "toc": {
   "nav_menu": {},
   "number_sections": true,
   "sideBar": true,
   "skip_h1_title": false,
   "title_cell": "Table of Contents",
   "title_sidebar": "Contents",
   "toc_cell": false,
   "toc_position": {},
   "toc_section_display": true,
   "toc_window_display": false
  }
 },
 "nbformat": 4,
 "nbformat_minor": 2
}
