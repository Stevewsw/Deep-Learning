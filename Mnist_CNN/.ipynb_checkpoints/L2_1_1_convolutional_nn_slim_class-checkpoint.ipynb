{
 "cells": [
  {
   "cell_type": "code",
   "execution_count": 1,
   "metadata": {
    "ExecuteTime": {
     "end_time": "2018-04-10T05:30:11.200255Z",
     "start_time": "2018-04-10T05:29:50.880581Z"
    },
    "collapsed": true
   },
   "outputs": [],
   "source": [
    "\"\"\"A very simple MNIST classifier.\n",
    "See extensive documentation at\n",
    "https://www.tensorflow.org/get_started/mnist/beginners\n",
    "\"\"\"\n",
    "#from __future__ import absolute_import\n",
    "#from __future__ import division\n",
    "#from __future__ import print_function\n",
    "\n",
    "import argparse\n",
    "import sys\n",
    "\n",
    "from tensorflow.examples.tutorials.mnist import input_data\n",
    "\n",
    "import tensorflow as tf\n",
    "\n",
    "import matplotlib.pyplot as plt\n",
    "import pandas as pd\n",
    "import numpy as np\n",
    "import time\n",
    "\n",
    "%matplotlib inline"
   ]
  },
  {
   "cell_type": "code",
   "execution_count": 1,
   "metadata": {
    "ExecuteTime": {
     "end_time": "2018-04-10T05:41:32.427484Z",
     "start_time": "2018-04-10T05:41:31.553888Z"
    },
    "collapsed": false
   },
   "outputs": [],
   "source": [
    "class Mnist_CNN(object):\n",
    "    \"\"\"\n",
    "    test\n",
    "    \n",
    "    \n",
    "    第一层: 卷积核为[5,5], 1通道->32通道; 最大池化, 核为[2,2], 步长为2\n",
    "    第二层: 卷积核为[5,5], 32通道->64通道; 最大池化, 核为[2,2], 步长为2\n",
    "    3: 平均池化, 核为二层输出层, 步长为1; 二层全部数据, relu激活为1024的向量\n",
    "    4: dropout之后, 卷积为10的向量; 经softmax激活\n",
    "    5: 利用Adam方法, 学习率为0.5, 最小化(交叉熵+L2损失)\n",
    "    6: batch为100, 循环10000次, 每300step将计算结果添加进a_ce\n",
    "        self.a_ce={'train':[正确率],'test':[正确率],'c_e':[交叉熵]}\n",
    "        默认参数test中正确率为98.3%左右    \n",
    "    \"\"\"\n",
    "\n",
    "    def __init__(self,f1_ck=[3,3],f1_cc=32,f1_pc=[2,2],f1_ps=2,\n",
    "                 f2_ck=[3,3],f2_cc=128,f2_pk=[2,2],f2_ps=[2,2],\n",
    "                 features=1024,l_r=0.5,for_=2100,batch=100):\n",
    "        \n",
    "        mnist = input_data.read_data_sets('/tmp/mnist',  one_hot=True,)\n",
    "        \n",
    "        # Define loss and optimizer\n",
    "        x = tf.placeholder(tf.float32, [None, 784])\n",
    "        y_ = tf.placeholder(tf.float32, [None, 10])\n",
    "        learning_rate = tf.placeholder(tf.float32)\n",
    "\n",
    "        with tf.name_scope('reshape'):\n",
    "            x_image = tf.reshape(x, [-1, 28, 28, 1])\n",
    "        \n",
    "        # First convolutional layer - maps one grayscale image to 32 feature maps.\n",
    "        # output [-1, 28, 28, 32]\n",
    "        with tf.name_scope('conv1'):\n",
    "            # 卷积核为[5,5], 将1通道转为32通道\n",
    "            h_conv1 = tf.contrib.slim.conv2d(x_image, f1_cc, f1_ck, \n",
    "                                             padding='SAME', \n",
    "                                             activation_fn=tf.nn.relu)\n",
    "\n",
    "        # Pooling layer - downsamples by 2X.\n",
    "        # output [-1, 14, 14, 32]\n",
    "        with tf.name_scope('pool1'):\n",
    "            # 最大池化, 核为[2,2], 步长为2\n",
    "            h_pool1 = tf.contrib.slim.max_pool2d(h_conv1, f1_pc, stride=f1_ps, \n",
    "                                                 padding='VALID')  \n",
    "        # Second convolutional layer -- maps 32 feature maps to 64.\n",
    "        with tf.name_scope('conv2'):\n",
    "            h_conv2 = tf.contrib.slim.conv2d(h_pool1, f2_cc, f2_ck, \n",
    "                                             padding='SAME', \n",
    "                                             activation_fn=tf.nn.relu)\n",
    "\n",
    "        # Second pooling layer.\n",
    "        with tf.name_scope('pool2'):\n",
    "            h_pool2 = tf.contrib.slim.max_pool2d(h_conv2, f2_pk, stride=f2_ps, \n",
    "                                                 padding='VALID')\n",
    "        \n",
    "        # Fully connected layer 1 -- after 2 round of downsampling, our 28x28 image\n",
    "        # is down to 7x7x64 feature maps -- maps this to 1024 features.\n",
    "        with tf.name_scope('fc1'):\n",
    "            h_pool2_flat = tf.contrib.slim.avg_pool2d(h_pool2, \n",
    "                                                      h_pool2.shape[1:3], \n",
    "                                                      stride=[1, 1], \n",
    "                                                      padding='VALID')\n",
    "            h_fc1 = tf.contrib.slim.conv2d(h_pool2_flat, features, [1, 1], \n",
    "                                           activation_fn=tf.nn.relu)\n",
    "        \n",
    "        # Dropout - controls the complexity of the model, prevents co-adaptation of\n",
    "        # features.\n",
    "        with tf.name_scope('dropout'):\n",
    "            keep_prob = tf.placeholder(tf.float32)\n",
    "            h_fc1_drop = tf.nn.dropout(h_fc1, keep_prob)\n",
    "        \n",
    "        # Map the 1024 features to 10 classes, one for each digit\n",
    "        with tf.name_scope('fc2'):\n",
    "            y = tf.squeeze(tf.contrib.slim.conv2d(h_fc1_drop, 10, [1,1], activation_fn=None))\n",
    "            \n",
    "        # The raw formulation of cross-entropy,\n",
    "        cross_entropy = tf.reduce_mean(\n",
    "            tf.nn.softmax_cross_entropy_with_logits(labels=y_, logits=y))\n",
    "\n",
    "        l2_loss = tf.add_n( [tf.nn.l2_loss(w) for w in tf.get_collection(tf.GraphKeys.TRAINABLE_VARIABLES)] )\n",
    "        total_loss = cross_entropy + 7e-5*l2_loss\n",
    "\n",
    "        # 优化方法,随机梯度下降\n",
    "        #train_step = tf.train.GradientDescentOptimizer(learning_rate).minimize(total_loss)\n",
    "        train_step = tf.train.AdamOptimizer(learning_rate).minimize(total_loss)\n",
    "        #train_step = tf.train.MomentumOptimizer(learning_rate).minimize(total_loss)\n",
    "\n",
    "        # 全部变量初始化\n",
    "        sess = tf.Session()\n",
    "        init_op = tf.global_variables_initializer()\n",
    "        sess.run(init_op)\n",
    "        \n",
    "        start = time.time()\n",
    "        #a_ce={'train':[],'test':[],'c_e':[],'l2':[],'totle':[]}#用于存放正确率和交叉熵\n",
    "        a_ce=dict()\n",
    "        # Train\n",
    "        for step in range(for_):\n",
    "            batch_xs, batch_ys = mnist.train.next_batch(batch)\n",
    "            lr=l_r\n",
    "            _, loss, l2_loss_value, total_loss_value = sess.run(\n",
    "                               [train_step, cross_entropy, l2_loss, total_loss], \n",
    "                               feed_dict={x: batch_xs, \n",
    "                                          y_: batch_ys, \n",
    "                                          learning_rate:lr, \n",
    "                                          keep_prob:0.5})\n",
    "\n",
    "\n",
    "            if (step+1)%200==0:\n",
    "                correct_prediction = tf.equal(tf.argmax(y, 1), tf.argmax(y_, 1))\n",
    "                accuracy = tf.reduce_mean(tf.cast(correct_prediction, tf.float32))\n",
    "                a_ce[step+1]=[step+1,sess.run(accuracy, feed_dict={x: batch_xs, y_: batch_ys, keep_prob:0.5}),\n",
    "                                  sess.run(accuracy, feed_dict={x: mnist.test.images,y_: mnist.test.labels,keep_prob:0.5}),\n",
    "                                  loss, l2_loss_value, total_loss_value]\n",
    "                print(a_ce[step+1])\n",
    "                          \n",
    "            if (step+1) % 2000 == 0:\n",
    "                print('time is {0} in step {1}'.format(int(time.time()-start), step+1))\n",
    "                \n",
    "        self.a_ce = a_ce\n",
    "        print('totle time', int(time.time()-start))\n",
    "\n",
    "\n",
    "\n",
    "\n",
    "    def plot(self):\n",
    "        ace={'index':[self.a_ce[x][0] for x in self.a_ce],\n",
    "             'train':[self.a_ce[x][1] for x in self.a_ce],\n",
    "              'test':[self.a_ce[x][2] for x in self.a_ce],\n",
    "              'c_e':[self.a_ce[x][3] for x in self.a_ce],\n",
    "              'l2':[self.a_ce[x][4] for x in self.a_ce],\n",
    "              'totle':[self.a_ce[x][5] for x in self.a_ce]}\n",
    "        # 将得到的正确率和交叉熵转换成DataFrame\n",
    "        df=pd.DataFrame(data=ace,index=ace['index'])\n",
    "        df.sort(inplace=True)\n",
    "        # 删除前几行的异常样本\n",
    "        df.drop(df['index'][:df.shape[0]//2],inplace=True)\n",
    "\n",
    "        # 绘图\n",
    "        # 子图一: 正确率\n",
    "        ax1 = plt.figure(figsize=(8,6)).add_subplot(111)\n",
    "        ax1.plot(df['train'], label='train', color='b')\n",
    "        ax1.plot(df['test'], label='test', color='g')\n",
    "        ax1.plot([df['index'].iloc[0],df['index'].iloc[-1]], [0.98,0.98], label='0.98', color='y')\n",
    "        #ax1.set_ylim([0.970, 0.984])\n",
    "        ax1.set_ylabel('accuracy')\n",
    "        ax1.legend(loc=3)\n",
    "\n",
    "        # 子图二: 交叉熵\n",
    "        ax2 = ax1.twinx()  \n",
    "        ax2.plot(df['totle'],label='loss', color='r')\n",
    "        #ax2.set_ylim([0.072, 0.100])\n",
    "        ax2.set_ylabel('loss')\n",
    "        ax2.legend(loc=4)\n",
    "        plt.grid(True, linestyle = \"-\")\n",
    "        plt.show()"
   ]
  },
  {
   "cell_type": "code",
   "execution_count": 2,
   "metadata": {
    "ExecuteTime": {
     "end_time": "2018-04-10T06:10:47.889199Z",
     "start_time": "2018-04-10T05:41:36.256744Z"
    },
    "collapsed": false
   },
   "outputs": [
    {
     "name": "stdout",
     "output_type": "stream",
     "text": [
      "Extracting /tmp/mnist/train-images-idx3-ubyte.gz\n",
      "Extracting /tmp/mnist/train-labels-idx1-ubyte.gz\n",
      "Extracting /tmp/mnist/t10k-images-idx3-ubyte.gz\n",
      "Extracting /tmp/mnist/t10k-labels-idx1-ubyte.gz\n",
      "WARNING:tensorflow:From <ipython-input-1-5194c15f557f>:86: softmax_cross_entropy_with_logits (from tensorflow.python.ops.nn_ops) is deprecated and will be removed in a future version.\n",
      "Instructions for updating:\n",
      "\n",
      "Future major versions of TensorFlow will allow gradients to flow\n",
      "into the labels input on backprop by default.\n",
      "\n",
      "See tf.nn.softmax_cross_entropy_with_logits_v2.\n",
      "\n",
      "[200, 0.04, 0.1032, 2.3283083, 259951.45, 20.52491]\n",
      "[400, 0.07, 0.101, 2.3428218, 244272.6, 19.441904]\n",
      "[600, 0.12, 0.1135, 2.3450968, 233764.42, 18.708607]\n",
      "[800, 0.08, 0.0982, 2.4028199, 228214.97, 18.377869]\n",
      "[1000, 0.07, 0.1028, 2.3252578, 219943.1, 17.721275]\n",
      "[1200, 0.11, 0.1135, 2.3017778, 217012.25, 17.492636]\n",
      "[1400, 0.1, 0.1135, 2.3062716, 209507.4, 16.97179]\n",
      "[1600, 0.11, 0.1032, 2.3197782, 202128.89, 16.468801]\n",
      "[1800, 0.07, 0.101, 2.3437762, 197663.22, 16.180202]\n",
      "[2000, 0.11, 0.101, 2.3712597, 193165.44, 15.89284]\n",
      "time is 232 in step 2000\n",
      "totle time 243\n"
     ]
    }
   ],
   "source": [
    "mni = Mnist_CNN()"
   ]
  },
  {
   "cell_type": "code",
   "execution_count": 3,
   "metadata": {
    "ExecuteTime": {
     "end_time": "2018-04-10T06:10:48.029533Z",
     "start_time": "2018-04-10T06:10:47.924237Z"
    },
    "collapsed": false,
    "scrolled": false
   },
   "outputs": [
    {
     "data": {
      "text/plain": [
       "{200: [200, 0.04, 0.1032, 2.3283083, 259951.45, 20.52491],\n",
       " 400: [400, 0.07, 0.101, 2.3428218, 244272.6, 19.441904],\n",
       " 600: [600, 0.12, 0.1135, 2.3450968, 233764.42, 18.708607],\n",
       " 800: [800, 0.08, 0.0982, 2.4028199, 228214.97, 18.377869],\n",
       " 1000: [1000, 0.07, 0.1028, 2.3252578, 219943.1, 17.721275],\n",
       " 1200: [1200, 0.11, 0.1135, 2.3017778, 217012.25, 17.492636],\n",
       " 1400: [1400, 0.1, 0.1135, 2.3062716, 209507.4, 16.97179],\n",
       " 1600: [1600, 0.11, 0.1032, 2.3197782, 202128.89, 16.468801],\n",
       " 1800: [1800, 0.07, 0.101, 2.3437762, 197663.22, 16.180202],\n",
       " 2000: [2000, 0.11, 0.101, 2.3712597, 193165.44, 15.89284]}"
      ]
     },
     "execution_count": 3,
     "metadata": {},
     "output_type": "execute_result"
    }
   ],
   "source": [
    "mni.a_ce"
   ]
  },
  {
   "cell_type": "code",
   "execution_count": 7,
   "metadata": {
    "collapsed": true
   },
   "outputs": [],
   "source": []
  },
  {
   "cell_type": "code",
   "execution_count": 8,
   "metadata": {
    "ExecuteTime": {
     "end_time": "2018-04-10T06:18:59.323493Z",
     "start_time": "2018-04-10T06:18:59.293473Z"
    },
    "collapsed": false,
    "scrolled": true
   },
   "outputs": [
    {
     "name": "stderr",
     "output_type": "stream",
     "text": [
      "/home/zhou/anaconda3/lib/python3.5/site-packages/ipykernel/__main__.py:142: FutureWarning: sort(....) is deprecated, use sort_index(.....)\n"
     ]
    },
    {
     "data": {
      "image/png": "[encoded data removed]",
      "text/plain": [
       "<matplotlib.figure.Figure at 0x7fc4e9671cc0>"
      ]
     },
     "metadata": {},
     "output_type": "display_data"
    }
   ],
   "source": [
    "mni.plot()"
   ]
  },
  {
   "cell_type": "code",
   "execution_count": null,
   "metadata": {
    "collapsed": true
   },
   "outputs": [],
   "source": []
  }
 ],
 "metadata": {
  "anaconda-cloud": {},
  "kernelspec": {
   "display_name": "Python [default]",
   "language": "python",
   "name": "python3"
  },
  "language_info": {
   "codemirror_mode": {
    "name": "ipython",
    "version": 3
   },
   "file_extension": ".py",
   "mimetype": "text/x-python",
   "name": "python",
   "nbconvert_exporter": "python",
   "pygments_lexer": "ipython3",
   "version": "3.5.2"
  },
  "toc": {
   "nav_menu": {},
   "number_sections": true,
   "sideBar": true,
   "skip_h1_title": false,
   "title_cell": "Table of Contents",
   "title_sidebar": "Contents",
   "toc_cell": false,
   "toc_position": {},
   "toc_section_display": true,
   "toc_window_display": false
  }
 },
 "nbformat": 4,
 "nbformat_minor": 2
}
