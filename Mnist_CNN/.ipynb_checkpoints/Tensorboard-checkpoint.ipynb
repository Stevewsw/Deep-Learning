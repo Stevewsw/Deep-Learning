{
 "cells": [
  {
   "cell_type": "markdown",
   "metadata": {
    "toc": true
   },
   "source": [
    "<h1>Tensorboard<span class=\"tocSkip\"></span></h1>\n",
    "<div class=\"toc\"><ul class=\"toc-item\"><li><span><a href=\"#导入包，定义超参数，载入数据\" data-toc-modified-id=\"导入包，定义超参数，载入数据-1\"><span class=\"toc-item-num\">1&nbsp;&nbsp;</span>导入包，定义超参数，载入数据</a></span></li></ul></div>"
   ]
  },
  {
   "cell_type": "code",
   "execution_count": null,
   "metadata": {
    "collapsed": true
   },
   "outputs": [],
   "source": []
  },
  {
   "cell_type": "markdown",
   "metadata": {},
   "source": [
    "https://github.com/tensorflow/tensorflow/blob/master/tensorflow/examples/tutorials/mnist/mnist_with_summaries.py"
   ]
  },
  {
   "cell_type": "markdown",
   "metadata": {},
   "source": []
  },
  {
   "cell_type": "markdown",
   "metadata": {
    "cell_style": "center"
   },
   "source": [
    "# 导入包，定义超参数，载入数据"
   ]
  },
  {
   "cell_type": "code",
   "execution_count": null,
   "metadata": {
    "collapsed": true
   },
   "outputs": [],
   "source": [
    "# Copyright 2015 The TensorFlow Authors. All Rights Reserved.\n",
    "#\n",
    "# Licensed under the Apache License, Version 2.0 (the 'License');\n",
    "# you may not use this file except in compliance with the License.\n",
    "# You may obtain a copy of the License at\n",
    "#\n",
    "#     http://www.apache.org/licenses/LICENSE-2.0\n",
    "#\n",
    "# Unless required by applicable law or agreed to in writing, software\n",
    "# distributed under the License is distributed on an 'AS IS' BASIS,\n",
    "# WITHOUT WARRANTIES OR CONDITIONS OF ANY KIND, either express or implied.\n",
    "# See the License for the specific language governing permissions and\n",
    "# limitations under the License.\n",
    "# ==============================================================================\n",
    "\"\"\"A simple MNIST classifier which displays summaries in TensorBoard.\n",
    "This is an unimpressive MNIST model, but it is a good example of using\n",
    "tf.name_scope to make a graph legible in the TensorBoard graph explorer, and of\n",
    "naming summary tags so that they are grouped meaningfully in TensorBoard.\n",
    "It demonstrates the functionality of every TensorBoard dashboard.\n",
    "\"\"\"\n",
    "from __future__ import absolute_import\n",
    "from __future__ import division\n",
    "from __future__ import print_function\n",
    "\n",
    "import argparse\n",
    "import os\n",
    "import sys\n",
    "\n",
    "import tensorflow as tf\n",
    "\n",
    "from tensorflow.examples.tutorials.mnist import input_data\n",
    "\n",
    "FLAGS = None"
   ]
  },
  {
   "cell_type": "code",
   "execution_count": null,
   "metadata": {
    "collapsed": true
   },
   "outputs": [],
   "source": [
    "\n",
    "\n",
    "\n",
    "def train():\n",
    "  # Import data\n",
    "  mnist = input_data.read_data_sets(FLAGS.data_dir,\n",
    "                                    fake_data=FLAGS.fake_data)\n",
    "\n",
    "  sess = tf.InteractiveSession()\n",
    "  # Create a multilayer model.\n",
    "\n",
    "  # Input placeholders\n",
    "  with tf.name_scope('input'):\n",
    "    x = tf.placeholder(tf.float32, [None, 784], name='x-input')\n",
    "    y_ = tf.placeholder(tf.int64, [None], name='y-input')\n",
    "\n",
    "  with tf.name_scope('input_reshape'):\n",
    "    image_shaped_input = tf.reshape(x, [-1, 28, 28, 1])\n",
    "    tf.summary.image('input', image_shaped_input, 10)\n",
    "    #导入10张图片\n",
    "\n",
    "  # We can't initialize these variables to 0 - the network will get stuck.\n",
    "  def weight_variable(shape):\n",
    "    \"\"\"Create a weight variable with appropriate initialization.\"\"\"\n",
    "    initial = tf.truncated_normal(shape, stddev=0.1)\n",
    "    return tf.Variable(initial)\n",
    "\n",
    "  def bias_variable(shape):\n",
    "    \"\"\"Create a bias variable with appropriate initialization.\"\"\"\n",
    "    initial = tf.constant(0.1, shape=shape)\n",
    "    return tf.Variable(initial)\n",
    "\n",
    "  def variable_summaries(var):\n",
    "    \"\"\"Attach a lot of summaries to a Tensor (for TensorBoard visualization).\"\"\"\n",
    "    with tf.name_scope('summaries'):\n",
    "      mean = tf.reduce_mean(var)\n",
    "      tf.summary.scalar('mean', mean)\n",
    "      with tf.name_scope('stddev'):\n",
    "        stddev = tf.sqrt(tf.reduce_mean(tf.square(var - mean)))\n",
    "      tf.summary.scalar('stddev', stddev)\n",
    "      tf.summary.scalar('max', tf.reduce_max(var))\n",
    "      tf.summary.scalar('min', tf.reduce_min(var))\n",
    "      tf.summary.histogram('histogram', var)\n",
    "\n",
    "  def nn_layer(input_tensor, input_dim, output_dim, layer_name, act=tf.nn.relu):\n",
    "    \"\"\"Reusable code for making a simple neural net layer.\n",
    "    It does a matrix multiply, bias add, and then uses ReLU to nonlinearize.\n",
    "    It also sets up name scoping so that the resultant graph is easy to read,\n",
    "    and adds a number of summary ops.\n",
    "    \"\"\"\n",
    "    # Adding a name scope ensures logical grouping of the layers in the graph.\n",
    "    with tf.name_scope(layer_name):\n",
    "      # This Variable will hold the state of the weights for the layer\n",
    "      with tf.name_scope('weights'):\n",
    "        weights = weight_variable([input_dim, output_dim])\n",
    "        variable_summaries(weights)\n",
    "      with tf.name_scope('biases'):\n",
    "        biases = bias_variable([output_dim])\n",
    "        variable_summaries(biases)\n",
    "      with tf.name_scope('Wx_plus_b'):\n",
    "        preactivate = tf.matmul(input_tensor, weights) + biases\n",
    "        tf.summary.histogram('pre_activations', preactivate)\n",
    "      activations = act(preactivate, name='activation')\n",
    "      tf.summary.histogram('activations', activations)\n",
    "      return activations\n",
    "\n",
    "  hidden1 = nn_layer(x, 784, 500, 'layer1')\n",
    "\n",
    "  with tf.name_scope('dropout'):\n",
    "    keep_prob = tf.placeholder(tf.float32)\n",
    "    tf.summary.scalar('dropout_keep_probability', keep_prob)\n",
    "    dropped = tf.nn.dropout(hidden1, keep_prob)\n",
    "\n",
    "  # Do not apply softmax activation yet, see below.\n",
    "  y = nn_layer(dropped, 500, 10, 'layer2', act=tf.identity)\n",
    "\n",
    "  with tf.name_scope('cross_entropy'):\n",
    "    # The raw formulation of cross-entropy,\n",
    "    #\n",
    "    # tf.reduce_mean(-tf.reduce_sum(y_ * tf.log(tf.softmax(y)),\n",
    "    #                               reduction_indices=[1]))\n",
    "    #\n",
    "    # can be numerically unstable.\n",
    "    #\n",
    "    # So here we use tf.losses.sparse_softmax_cross_entropy on the\n",
    "    # raw logit outputs of the nn_layer above, and then average across\n",
    "    # the batch.\n",
    "    with tf.name_scope('total'):\n",
    "      cross_entropy = tf.losses.sparse_softmax_cross_entropy(\n",
    "          labels=y_, logits=y)\n",
    "  tf.summary.scalar('cross_entropy', cross_entropy)\n",
    "\n",
    "  with tf.name_scope('train'):\n",
    "    train_step = tf.train.AdamOptimizer(FLAGS.learning_rate).minimize(\n",
    "        cross_entropy)\n",
    "\n",
    "  with tf.name_scope('accuracy'):\n",
    "    with tf.name_scope('correct_prediction'):\n",
    "      correct_prediction = tf.equal(tf.argmax(y, 1), y_)\n",
    "    with tf.name_scope('accuracy'):\n",
    "      accuracy = tf.reduce_mean(tf.cast(correct_prediction, tf.float32))\n",
    "  tf.summary.scalar('accuracy', accuracy)\n",
    "\n",
    "  # Merge all the summaries and write them out to\n",
    "  # /tmp/tensorflow/mnist/logs/mnist_with_summaries (by default)\n",
    "  merged = tf.summary.merge_all()\n",
    "  train_writer = tf.summary.FileWriter(FLAGS.log_dir + '/train', sess.graph)\n",
    "  test_writer = tf.summary.FileWriter(FLAGS.log_dir + '/test')\n",
    "  tf.global_variables_initializer().run()\n",
    "\n",
    "  # Train the model, and also write summaries.\n",
    "  # Every 10th step, measure test-set accuracy, and write test summaries\n",
    "  # All other steps, run train_step on training data, & add training summaries\n",
    "\n",
    "  def feed_dict(train):\n",
    "    \"\"\"Make a TensorFlow feed_dict: maps data onto Tensor placeholders.\"\"\"\n",
    "    if train or FLAGS.fake_data:\n",
    "      xs, ys = mnist.train.next_batch(100, fake_data=FLAGS.fake_data)\n",
    "      k = FLAGS.dropout\n",
    "    else:\n",
    "      xs, ys = mnist.test.images, mnist.test.labels\n",
    "      k = 1.0\n",
    "    return {x: xs, y_: ys, keep_prob: k}\n",
    "\n",
    "  for i in range(FLAGS.max_steps):\n",
    "    if i % 10 == 0:  # Record summaries and test-set accuracy\n",
    "      summary, acc = sess.run([merged, accuracy], feed_dict=feed_dict(False))\n",
    "      test_writer.add_summary(summary, i)\n",
    "      print('Accuracy at step %s: %s' % (i, acc))\n",
    "    else:  # Record train set summaries, and train\n",
    "      if i % 100 == 99:  # Record execution stats\n",
    "        run_options = tf.RunOptions(trace_level=tf.RunOptions.FULL_TRACE)\n",
    "        run_metadata = tf.RunMetadata()\n",
    "        summary, _ = sess.run([merged, train_step],\n",
    "                              feed_dict=feed_dict(True),\n",
    "                              options=run_options,\n",
    "                              run_metadata=run_metadata)\n",
    "        train_writer.add_run_metadata(run_metadata, 'step%03d' % i)\n",
    "        train_writer.add_summary(summary, i)\n",
    "        print('Adding run metadata for', i)\n",
    "      else:  # Record a summary\n",
    "        summary, _ = sess.run([merged, train_step], feed_dict=feed_dict(True))\n",
    "        train_writer.add_summary(summary, i)\n",
    "  train_writer.close()\n",
    "  test_writer.close()\n",
    "\n",
    "\n",
    "def main(_):\n",
    "  if tf.gfile.Exists(FLAGS.log_dir):\n",
    "    tf.gfile.DeleteRecursively(FLAGS.log_dir)\n",
    "  tf.gfile.MakeDirs(FLAGS.log_dir)\n",
    "  train()\n",
    "\n",
    "\n",
    "if __name__ == '__main__':\n",
    "  parser = argparse.ArgumentParser()\n",
    "  parser.add_argument('--fake_data', nargs='?', const=True, type=bool,\n",
    "                      default=False,\n",
    "                      help='If true, uses fake data for unit testing.')\n",
    "  parser.add_argument('--max_steps', type=int, default=1000,\n",
    "                      help='Number of steps to run trainer.')\n",
    "  parser.add_argument('--learning_rate', type=float, default=0.001,\n",
    "                      help='Initial learning rate')\n",
    "  parser.add_argument('--dropout', type=float, default=0.9,\n",
    "                      help='Keep probability for training dropout.')\n",
    "  parser.add_argument(\n",
    "      '--data_dir',\n",
    "      type=str,\n",
    "      default=os.path.join(os.getenv('TEST_TMPDIR', '/tmp'),\n",
    "                           'tensorflow/mnist/input_data'),\n",
    "      help='Directory for storing input data')\n",
    "  parser.add_argument(\n",
    "      '--log_dir',\n",
    "      type=str,\n",
    "      default=os.path.join(os.getenv('TEST_TMPDIR', '/tmp'),\n",
    "                           'tensorflow/mnist/logs/mnist_with_summaries'),\n",
    "      help='Summaries log directory')\n",
    "  FLAGS, unparsed = parser.parse_known_args()\n",
    "  tf.app.run(main=main, argv=[sys.argv[0]] + unparsed)"
   ]
  },
  {
   "cell_type": "code",
   "execution_count": 1,
   "metadata": {
    "ExecuteTime": {
     "end_time": "2018-04-10T22:12:00.806529Z",
     "start_time": "2018-04-10T22:11:42.614245Z"
    },
    "collapsed": true
   },
   "outputs": [],
   "source": [
    "import argparse\n",
    "import sys\n",
    "\n",
    "import tensorflow as tf\n",
    "\n",
    "from tensorflow.examples.tutorials.mnist import input_data"
   ]
  },
  {
   "cell_type": "code",
   "execution_count": 2,
   "metadata": {
    "ExecuteTime": {
     "end_time": "2018-04-10T22:12:00.818514Z",
     "start_time": "2018-04-10T22:12:00.809038Z"
    },
    "collapsed": true
   },
   "outputs": [],
   "source": [
    "max_step = 1000  # 最大迭代次数\n",
    "learning_rate = 0.001   # 学习率\n",
    "dropout = 0.9   # dropout时随机保留神经元的比例\n",
    "\n",
    "data_dir = './input_data'   # 样本数据存储的路径\n",
    "log_dir = './out_data'    # 输出日志保存的路径"
   ]
  },
  {
   "cell_type": "code",
   "execution_count": 3,
   "metadata": {
    "ExecuteTime": {
     "end_time": "2018-04-10T22:12:02.004366Z",
     "start_time": "2018-04-10T22:12:00.820517Z"
    },
    "collapsed": false
   },
   "outputs": [
    {
     "name": "stdout",
     "output_type": "stream",
     "text": [
      "Extracting ./input_data\\train-images-idx3-ubyte.gz\n",
      "Extracting ./input_data\\train-labels-idx1-ubyte.gz\n",
      "Extracting ./input_data\\t10k-images-idx3-ubyte.gz\n",
      "Extracting ./input_data\\t10k-labels-idx1-ubyte.gz\n"
     ]
    }
   ],
   "source": [
    "mnist = input_data.read_data_sets(data_dir,one_hot=True)"
   ]
  },
  {
   "cell_type": "code",
   "execution_count": 4,
   "metadata": {
    "ExecuteTime": {
     "end_time": "2018-04-10T22:12:02.032884Z",
     "start_time": "2018-04-10T22:12:02.006867Z"
    },
    "collapsed": true
   },
   "outputs": [],
   "source": [
    "sess = tf.InteractiveSession()"
   ]
  },
  {
   "cell_type": "code",
   "execution_count": 5,
   "metadata": {
    "ExecuteTime": {
     "end_time": "2018-04-10T22:25:36.599993Z",
     "start_time": "2018-04-10T22:25:36.564960Z"
    },
    "collapsed": true
   },
   "outputs": [],
   "source": [
    "with tf.name_scope('input'):\n",
    "    x = tf.placeholder(tf.float32, [None, 784], name='x-input')\n",
    "    y_ = tf.placeholder(tf.float32, [None, 10], name='y-input')"
   ]
  },
  {
   "cell_type": "code",
   "execution_count": 6,
   "metadata": {
    "ExecuteTime": {
     "end_time": "2018-04-10T22:25:37.967581Z",
     "start_time": "2018-04-10T22:25:37.841158Z"
    },
    "collapsed": true
   },
   "outputs": [],
   "source": [
    "with tf.name_scope('input_reshape'):\n",
    "    image_shaped_input = tf.reshape(x, [-1, 28, 28, 1])\n",
    "    tf.summary.image('input', image_shaped_input, 10)"
   ]
  },
  {
   "cell_type": "code",
   "execution_count": 7,
   "metadata": {
    "ExecuteTime": {
     "end_time": "2018-04-10T22:25:39.267495Z",
     "start_time": "2018-04-10T22:25:39.260990Z"
    },
    "collapsed": true
   },
   "outputs": [],
   "source": [
    "def weight_variable(shape):\n",
    "    \"\"\"Create a weight variable with appropriate initialization.\"\"\"\n",
    "    initial = tf.truncated_normal(shape, stddev=0.1)\n",
    "    return tf.Variable(initial)"
   ]
  },
  {
   "cell_type": "code",
   "execution_count": 8,
   "metadata": {
    "ExecuteTime": {
     "end_time": "2018-04-10T22:25:40.886521Z",
     "start_time": "2018-04-10T22:25:40.881517Z"
    },
    "collapsed": true
   },
   "outputs": [],
   "source": [
    "def bias_variable(shape):\n",
    "    \"\"\"Create a bias variable with appropriate initialization.\"\"\"\n",
    "    initial = tf.constant(0.1, shape=shape)\n",
    "    return tf.Variable(initial)"
   ]
  },
  {
   "cell_type": "code",
   "execution_count": 9,
   "metadata": {
    "ExecuteTime": {
     "end_time": "2018-04-10T22:25:42.801268Z",
     "start_time": "2018-04-10T22:25:42.778251Z"
    },
    "collapsed": true
   },
   "outputs": [],
   "source": [
    "def variable_summaries(var):\n",
    "    \"\"\"Attach a lot of summaries to a Tensor (for TensorBoard visualization).\"\"\"\n",
    "    with tf.name_scope('summaries'):\n",
    "      # 计算参数的均值，并使用tf.summary.scaler记录\n",
    "      mean = tf.reduce_mean(var)\n",
    "      tf.summary.scalar('mean', mean)\n",
    "\n",
    "      # 计算参数的标准差\n",
    "      with tf.name_scope('stddev'):\n",
    "        stddev = tf.sqrt(tf.reduce_mean(tf.square(var - mean)))\n",
    "      # 使用tf.summary.scaler记录记录下标准差，最大值，最小值\n",
    "      tf.summary.scalar('stddev', stddev)\n",
    "      tf.summary.scalar('max', tf.reduce_max(var))\n",
    "      tf.summary.scalar('min', tf.reduce_min(var))\n",
    "      # 用直方图记录参数的分布\n",
    "      tf.summary.histogram('histogram', var)"
   ]
  },
  {
   "cell_type": "code",
   "execution_count": null,
   "metadata": {
    "collapsed": true
   },
   "outputs": [],
   "source": [
    "tf.nn.tanh"
   ]
  },
  {
   "cell_type": "code",
   "execution_count": 10,
   "metadata": {
    "ExecuteTime": {
     "end_time": "2018-04-10T22:26:18.383769Z",
     "start_time": "2018-04-10T22:26:18.335231Z"
    },
    "collapsed": true
   },
   "outputs": [],
   "source": [
    "def nn_layer(input_tensor, input_dim, output_dim, layer_name, act=tf.nn.relu):\n",
    "    \"\"\"Reusable code for making a simple neural net layer.\n",
    "    It does a matrix multiply, bias add, and then uses relu to nonlinearize.\n",
    "    It also sets up name scoping so that the resultant graph is easy to read,\n",
    "    and adds a number of summary ops.\n",
    "    \"\"\"\n",
    "    # 设置命名空间\n",
    "    with tf.name_scope(layer_name):\n",
    "      # 调用之前的方法初始化权重w，并且调用参数信息的记录方法，记录w的信息\n",
    "      with tf.name_scope('weights'):\n",
    "        weights = weight_variable([input_dim, output_dim])\n",
    "        variable_summaries(weights)\n",
    "      # 调用之前的方法初始化权重b，并且调用参数信息的记录方法，记录b的信息\n",
    "      with tf.name_scope('biases'):\n",
    "        biases = bias_variable([output_dim])\n",
    "        variable_summaries(biases)\n",
    "      # 执行wx+b的线性计算，并且用直方图记录下来\n",
    "      with tf.name_scope('linear_compute'):\n",
    "        preactivate = tf.matmul(input_tensor, weights) + biases\n",
    "        tf.summary.histogram('linear', preactivate)\n",
    "      # 将线性输出经过激励函数，并将输出也用直方图记录下来\n",
    "      activations = act(preactivate, name='activation')\n",
    "      tf.summary.histogram('activations', activations)\n",
    "\n",
    "      # 返回激励层的最终输出\n",
    "      return activations"
   ]
  },
  {
   "cell_type": "code",
   "execution_count": 11,
   "metadata": {
    "ExecuteTime": {
     "end_time": "2018-04-10T22:26:37.545043Z",
     "start_time": "2018-04-10T22:26:37.478989Z"
    },
    "collapsed": true
   },
   "outputs": [],
   "source": [
    "hidden1 = nn_layer(x, 784, 500, 'layer1')"
   ]
  },
  {
   "cell_type": "code",
   "execution_count": 12,
   "metadata": {
    "ExecuteTime": {
     "end_time": "2018-04-10T22:26:38.327460Z",
     "start_time": "2018-04-10T22:26:38.311446Z"
    },
    "collapsed": true
   },
   "outputs": [],
   "source": [
    "with tf.name_scope('dropout'):\n",
    "    keep_prob = tf.placeholder(tf.float32)\n",
    "    tf.summary.scalar('dropout_keep_probability', keep_prob)\n",
    "    dropped = tf.nn.dropout(hidden1, keep_prob)"
   ]
  },
  {
   "cell_type": "code",
   "execution_count": 13,
   "metadata": {
    "ExecuteTime": {
     "end_time": "2018-04-10T22:26:44.290209Z",
     "start_time": "2018-04-10T22:26:44.209648Z"
    },
    "collapsed": true
   },
   "outputs": [],
   "source": [
    "y = nn_layer(dropped, 500, 10, 'layer2', act=tf.identity)"
   ]
  },
  {
   "cell_type": "code",
   "execution_count": 14,
   "metadata": {
    "ExecuteTime": {
     "end_time": "2018-04-10T22:26:57.952458Z",
     "start_time": "2018-04-10T22:26:57.900920Z"
    },
    "collapsed": false
   },
   "outputs": [
    {
     "data": {
      "text/plain": [
       "<tf.Tensor 'loss_1:0' shape=() dtype=string>"
      ]
     },
     "execution_count": 14,
     "metadata": {},
     "output_type": "execute_result"
    }
   ],
   "source": [
    "with tf.name_scope('loss'):\n",
    "    # 计算交叉熵损失（每个样本都会有一个损失）\n",
    "    diff = tf.nn.softmax_cross_entropy_with_logits_v2(labels=y_, logits=y)\n",
    "    with tf.name_scope('total'):\n",
    "      # 计算所有样本交叉熵损失的均值\n",
    "      cross_entropy = tf.reduce_mean(diff)\n",
    "\n",
    "tf.summary.scalar('loss', cross_entropy)"
   ]
  },
  {
   "cell_type": "code",
   "execution_count": 15,
   "metadata": {
    "ExecuteTime": {
     "end_time": "2018-04-10T22:27:08.707574Z",
     "start_time": "2018-04-10T22:27:08.473356Z"
    },
    "collapsed": true
   },
   "outputs": [],
   "source": [
    "with tf.name_scope('train'):\n",
    "    train_step = tf.train.AdamOptimizer(learning_rate).minimize(\n",
    "        cross_entropy)"
   ]
  },
  {
   "cell_type": "code",
   "execution_count": 16,
   "metadata": {
    "ExecuteTime": {
     "end_time": "2018-04-10T22:27:18.259551Z",
     "start_time": "2018-04-10T22:27:18.230029Z"
    },
    "collapsed": false
   },
   "outputs": [
    {
     "data": {
      "text/plain": [
       "<tf.Tensor 'accuracy_1:0' shape=() dtype=string>"
      ]
     },
     "execution_count": 16,
     "metadata": {},
     "output_type": "execute_result"
    }
   ],
   "source": [
    "with tf.name_scope('accuracy'):\n",
    "    with tf.name_scope('correct_prediction'):\n",
    "      # 分别将预测和真实的标签中取出最大值的索引，弱相同则返回1(true),不同则返回0(false)\n",
    "      correct_prediction = tf.equal(tf.argmax(y, 1), tf.argmax(y_, 1))\n",
    "    with tf.name_scope('accuracy'):\n",
    "      # 求均值即为准确率\n",
    "      accuracy = tf.reduce_mean(tf.cast(correct_prediction, tf.float32))\n",
    "tf.summary.scalar('accuracy', accuracy)"
   ]
  },
  {
   "cell_type": "code",
   "execution_count": 17,
   "metadata": {
    "ExecuteTime": {
     "end_time": "2018-04-10T22:28:11.149460Z",
     "start_time": "2018-04-10T22:28:10.576880Z"
    },
    "collapsed": true
   },
   "outputs": [],
   "source": [
    "# summaries合并\n",
    "merged = tf.summary.merge_all()\n",
    "# 写到指定的磁盘路径中\n",
    "train_writer = tf.summary.FileWriter(log_dir + '/train', sess.graph)\n",
    "test_writer = tf.summary.FileWriter(log_dir + '/test')\n",
    "\n",
    "# 运行初始化所有变量\n",
    "tf.global_variables_initializer().run()"
   ]
  },
  {
   "cell_type": "code",
   "execution_count": 18,
   "metadata": {
    "ExecuteTime": {
     "end_time": "2018-04-10T22:28:26.805807Z",
     "start_time": "2018-04-10T22:28:26.793294Z"
    },
    "collapsed": true
   },
   "outputs": [],
   "source": [
    "def feed_dict(train):\n",
    "    \"\"\"Make a TensorFlow feed_dict: maps data onto Tensor placeholders.\"\"\"\n",
    "    if train:\n",
    "        xs, ys = mnist.train.next_batch(100)\n",
    "        k = dropout\n",
    "    else:\n",
    "        xs, ys = mnist.test.images, mnist.test.labels\n",
    "        k = 1.0\n",
    "    return {x: xs, y_: ys, keep_prob: k}"
   ]
  },
  {
   "cell_type": "code",
   "execution_count": 19,
   "metadata": {
    "ExecuteTime": {
     "end_time": "2018-04-10T22:33:00.556084Z",
     "start_time": "2018-04-10T22:30:06.352651Z"
    },
    "collapsed": false
   },
   "outputs": [
    {
     "name": "stdout",
     "output_type": "stream",
     "text": [
      "Accuracy at step 0: 0.1345\n",
      "Accuracy at step 10: 0.7021\n",
      "Accuracy at step 20: 0.8208\n",
      "Accuracy at step 30: 0.8581\n",
      "Accuracy at step 40: 0.8851\n",
      "Accuracy at step 50: 0.8939\n",
      "Accuracy at step 60: 0.8987\n",
      "Accuracy at step 70: 0.903\n",
      "Accuracy at step 80: 0.9082\n",
      "Accuracy at step 90: 0.9134\n",
      "Adding run metadata for 99\n",
      "Accuracy at step 100: 0.9192\n",
      "Accuracy at step 110: 0.9208\n",
      "Accuracy at step 120: 0.9254\n",
      "Accuracy at step 130: 0.9277\n",
      "Accuracy at step 140: 0.9265\n",
      "Accuracy at step 150: 0.9291\n",
      "Accuracy at step 160: 0.9255\n",
      "Accuracy at step 170: 0.9299\n",
      "Accuracy at step 180: 0.9333\n",
      "Accuracy at step 190: 0.9326\n",
      "Adding run metadata for 199\n",
      "Accuracy at step 200: 0.932\n",
      "Accuracy at step 210: 0.9336\n",
      "Accuracy at step 220: 0.9372\n",
      "Accuracy at step 230: 0.9385\n",
      "Accuracy at step 240: 0.9399\n",
      "Accuracy at step 250: 0.9392\n",
      "Accuracy at step 260: 0.9391\n",
      "Accuracy at step 270: 0.938\n",
      "Accuracy at step 280: 0.942\n",
      "Accuracy at step 290: 0.942\n",
      "Adding run metadata for 299\n",
      "Accuracy at step 300: 0.9452\n",
      "Accuracy at step 310: 0.9469\n",
      "Accuracy at step 320: 0.9489\n",
      "Accuracy at step 330: 0.9471\n",
      "Accuracy at step 340: 0.9489\n",
      "Accuracy at step 350: 0.9484\n",
      "Accuracy at step 360: 0.9467\n",
      "Accuracy at step 370: 0.9437\n",
      "Accuracy at step 380: 0.9504\n",
      "Accuracy at step 390: 0.9511\n",
      "Adding run metadata for 399\n",
      "Accuracy at step 400: 0.9491\n",
      "Accuracy at step 410: 0.9501\n",
      "Accuracy at step 420: 0.9527\n",
      "Accuracy at step 430: 0.9554\n",
      "Accuracy at step 440: 0.9572\n",
      "Accuracy at step 450: 0.9555\n",
      "Accuracy at step 460: 0.955\n",
      "Accuracy at step 470: 0.9547\n",
      "Accuracy at step 480: 0.9548\n",
      "Accuracy at step 490: 0.9528\n",
      "Adding run metadata for 499\n",
      "Accuracy at step 500: 0.9554\n",
      "Accuracy at step 510: 0.9584\n",
      "Accuracy at step 520: 0.9598\n",
      "Accuracy at step 530: 0.9555\n",
      "Accuracy at step 540: 0.9568\n",
      "Accuracy at step 550: 0.9566\n",
      "Accuracy at step 560: 0.9534\n",
      "Accuracy at step 570: 0.962\n",
      "Accuracy at step 580: 0.9604\n",
      "Accuracy at step 590: 0.9617\n",
      "Adding run metadata for 599\n",
      "Accuracy at step 600: 0.9612\n",
      "Accuracy at step 610: 0.9607\n",
      "Accuracy at step 620: 0.9628\n",
      "Accuracy at step 630: 0.9623\n",
      "Accuracy at step 640: 0.9657\n",
      "Accuracy at step 650: 0.964\n",
      "Accuracy at step 660: 0.9644\n",
      "Accuracy at step 670: 0.9642\n",
      "Accuracy at step 680: 0.9643\n",
      "Accuracy at step 690: 0.9656\n",
      "Adding run metadata for 699\n",
      "Accuracy at step 700: 0.9651\n",
      "Accuracy at step 710: 0.9624\n",
      "Accuracy at step 720: 0.9655\n",
      "Accuracy at step 730: 0.9655\n",
      "Accuracy at step 740: 0.965\n",
      "Accuracy at step 750: 0.9649\n",
      "Accuracy at step 760: 0.9638\n",
      "Accuracy at step 770: 0.9643\n",
      "Accuracy at step 780: 0.9639\n",
      "Accuracy at step 790: 0.9673\n",
      "Adding run metadata for 799\n",
      "Accuracy at step 800: 0.9666\n",
      "Accuracy at step 810: 0.9665\n",
      "Accuracy at step 820: 0.9643\n",
      "Accuracy at step 830: 0.9649\n",
      "Accuracy at step 840: 0.966\n",
      "Accuracy at step 850: 0.9659\n",
      "Accuracy at step 860: 0.9675\n",
      "Accuracy at step 870: 0.968\n",
      "Accuracy at step 880: 0.9702\n",
      "Accuracy at step 890: 0.9693\n",
      "Adding run metadata for 899\n",
      "Accuracy at step 900: 0.9647\n",
      "Accuracy at step 910: 0.9675\n",
      "Accuracy at step 920: 0.967\n",
      "Accuracy at step 930: 0.9703\n",
      "Accuracy at step 940: 0.9696\n",
      "Accuracy at step 950: 0.97\n",
      "Accuracy at step 960: 0.9703\n",
      "Accuracy at step 970: 0.9706\n",
      "Accuracy at step 980: 0.9703\n",
      "Accuracy at step 990: 0.9696\n",
      "Adding run metadata for 999\n",
      "Accuracy at step 1000: 0.9674\n",
      "Accuracy at step 1010: 0.9685\n",
      "Accuracy at step 1020: 0.9697\n",
      "Accuracy at step 1030: 0.9691\n",
      "Accuracy at step 1040: 0.9692\n",
      "Accuracy at step 1050: 0.9678\n",
      "Accuracy at step 1060: 0.9696\n",
      "Accuracy at step 1070: 0.9719\n",
      "Accuracy at step 1080: 0.9706\n",
      "Accuracy at step 1090: 0.9708\n",
      "Adding run metadata for 1099\n",
      "Accuracy at step 1100: 0.9703\n",
      "Accuracy at step 1110: 0.9701\n",
      "Accuracy at step 1120: 0.9724\n",
      "Accuracy at step 1130: 0.9704\n",
      "Accuracy at step 1140: 0.974\n",
      "Accuracy at step 1150: 0.9734\n",
      "Accuracy at step 1160: 0.9742\n",
      "Accuracy at step 1170: 0.9728\n",
      "Accuracy at step 1180: 0.9728\n",
      "Accuracy at step 1190: 0.9711\n",
      "Adding run metadata for 1199\n",
      "Accuracy at step 1200: 0.9696\n",
      "Accuracy at step 1210: 0.9706\n",
      "Accuracy at step 1220: 0.9707\n",
      "Accuracy at step 1230: 0.9706\n",
      "Accuracy at step 1240: 0.9732\n",
      "Accuracy at step 1250: 0.9736\n",
      "Accuracy at step 1260: 0.9728\n",
      "Accuracy at step 1270: 0.9714\n",
      "Accuracy at step 1280: 0.9734\n",
      "Accuracy at step 1290: 0.9731\n",
      "Adding run metadata for 1299\n",
      "Accuracy at step 1300: 0.9736\n",
      "Accuracy at step 1310: 0.9722\n",
      "Accuracy at step 1320: 0.9737\n",
      "Accuracy at step 1330: 0.9732\n",
      "Accuracy at step 1340: 0.9732\n",
      "Accuracy at step 1350: 0.9736\n",
      "Accuracy at step 1360: 0.9734\n",
      "Accuracy at step 1370: 0.972\n",
      "Accuracy at step 1380: 0.9729\n",
      "Accuracy at step 1390: 0.9725\n",
      "Adding run metadata for 1399\n",
      "Accuracy at step 1400: 0.9726\n",
      "Accuracy at step 1410: 0.972\n",
      "Accuracy at step 1420: 0.9726\n",
      "Accuracy at step 1430: 0.9733\n",
      "Accuracy at step 1440: 0.9727\n",
      "Accuracy at step 1450: 0.9699\n",
      "Accuracy at step 1460: 0.9733\n",
      "Accuracy at step 1470: 0.9709\n",
      "Accuracy at step 1480: 0.9736\n",
      "Accuracy at step 1490: 0.9733\n",
      "Adding run metadata for 1499\n",
      "Accuracy at step 1500: 0.9742\n",
      "Accuracy at step 1510: 0.972\n",
      "Accuracy at step 1520: 0.9736\n",
      "Accuracy at step 1530: 0.9765\n",
      "Accuracy at step 1540: 0.9737\n",
      "Accuracy at step 1550: 0.9761\n",
      "Accuracy at step 1560: 0.9747\n",
      "Accuracy at step 1570: 0.9739\n",
      "Accuracy at step 1580: 0.9761\n",
      "Accuracy at step 1590: 0.9756\n",
      "Adding run metadata for 1599\n",
      "Accuracy at step 1600: 0.974\n",
      "Accuracy at step 1610: 0.9757\n",
      "Accuracy at step 1620: 0.9758\n",
      "Accuracy at step 1630: 0.9762\n",
      "Accuracy at step 1640: 0.9763\n",
      "Accuracy at step 1650: 0.9745\n",
      "Accuracy at step 1660: 0.9743\n",
      "Accuracy at step 1670: 0.9756\n",
      "Accuracy at step 1680: 0.9762\n",
      "Accuracy at step 1690: 0.9769\n",
      "Adding run metadata for 1699\n",
      "Accuracy at step 1700: 0.9759\n",
      "Accuracy at step 1710: 0.9764\n",
      "Accuracy at step 1720: 0.9762\n",
      "Accuracy at step 1730: 0.9777\n",
      "Accuracy at step 1740: 0.9751\n",
      "Accuracy at step 1750: 0.9757\n",
      "Accuracy at step 1760: 0.9759\n",
      "Accuracy at step 1770: 0.976\n",
      "Accuracy at step 1780: 0.9756\n",
      "Accuracy at step 1790: 0.9754\n",
      "Adding run metadata for 1799\n",
      "Accuracy at step 1800: 0.9754\n",
      "Accuracy at step 1810: 0.9757\n",
      "Accuracy at step 1820: 0.9753\n",
      "Accuracy at step 1830: 0.9749\n",
      "Accuracy at step 1840: 0.9749\n",
      "Accuracy at step 1850: 0.9742\n",
      "Accuracy at step 1860: 0.9736\n",
      "Accuracy at step 1870: 0.9736\n",
      "Accuracy at step 1880: 0.9772\n",
      "Accuracy at step 1890: 0.9777\n",
      "Adding run metadata for 1899\n",
      "Accuracy at step 1900: 0.9741\n",
      "Accuracy at step 1910: 0.978\n",
      "Accuracy at step 1920: 0.9748\n",
      "Accuracy at step 1930: 0.9771\n",
      "Accuracy at step 1940: 0.9762\n",
      "Accuracy at step 1950: 0.9773\n",
      "Accuracy at step 1960: 0.978\n",
      "Accuracy at step 1970: 0.9789\n",
      "Accuracy at step 1980: 0.9781\n",
      "Accuracy at step 1990: 0.977\n",
      "Adding run metadata for 1999\n"
     ]
    }
   ],
   "source": [
    "for i in range(2000):\n",
    "    if i % 10 == 0:  # 记录测试集的summary与accuracy\n",
    "        summary, acc = sess.run([merged, accuracy], feed_dict=feed_dict(False))\n",
    "        test_writer.add_summary(summary, i)\n",
    "        print('Accuracy at step %s: %s' % (i, acc))\n",
    "    else:  # 记录训练集的summary\n",
    "        if i % 100 == 99:  # Record execution stats\n",
    "            run_options = tf.RunOptions(trace_level=tf.RunOptions.FULL_TRACE)\n",
    "            run_metadata = tf.RunMetadata()\n",
    "            summary, _ = sess.run([merged, train_step],\n",
    "                                  feed_dict=feed_dict(True),\n",
    "                                  options=run_options,\n",
    "                                  run_metadata=run_metadata)\n",
    "            train_writer.add_run_metadata(run_metadata, 'step%03d' % i)\n",
    "            train_writer.add_summary(summary, i)\n",
    "            print('Adding run metadata for', i)\n",
    "        else:  # Record a summary\n",
    "            summary, _ = sess.run([merged, train_step], feed_dict=feed_dict(True))\n",
    "            train_writer.add_summary(summary, i)\n",
    "    train_writer.close()\n",
    "    test_writer.close()"
   ]
  },
  {
   "cell_type": "code",
   "execution_count": 26,
   "metadata": {
    "ExecuteTime": {
     "end_time": "2018-04-10T14:33:44.919323Z",
     "start_time": "2018-04-10T14:33:44.914321Z"
    },
    "collapsed": false
   },
   "outputs": [
    {
     "ename": "SyntaxError",
     "evalue": "can't assign to operator (<ipython-input-26-e8d11ed8af6a>, line 1)",
     "output_type": "error",
     "traceback": [
      "\u001b[1;36m  File \u001b[1;32m\"<ipython-input-26-e8d11ed8af6a>\"\u001b[1;36m, line \u001b[1;32m1\u001b[0m\n\u001b[1;33m    tensorboard --logdir='E:\\AI\\00\\Deep-Learning\\Mnist_CNN\\out_data'\u001b[0m\n\u001b[1;37m                                                                    ^\u001b[0m\n\u001b[1;31mSyntaxError\u001b[0m\u001b[1;31m:\u001b[0m can't assign to operator\n"
     ]
    }
   ],
   "source": [
    "tensorboard --logdir=E:\\AI\\00\\Deep-Learning\\Mnist_CNN\\out_data"
   ]
  },
  {
   "cell_type": "code",
   "execution_count": null,
   "metadata": {
    "collapsed": true
   },
   "outputs": [],
   "source": []
  }
 ],
 "metadata": {
  "anaconda-cloud": {},
  "kernelspec": {
   "display_name": "Python [default]",
   "language": "python",
   "name": "python3"
  },
  "language_info": {
   "codemirror_mode": {
    "name": "ipython",
    "version": 3
   },
   "file_extension": ".py",
   "mimetype": "text/x-python",
   "name": "python",
   "nbconvert_exporter": "python",
   "pygments_lexer": "ipython3",
   "version": "3.5.2"
  },
  "toc": {
   "nav_menu": {},
   "number_sections": true,
   "sideBar": true,
   "skip_h1_title": false,
   "title_cell": "Tensorboard",
   "title_sidebar": "Contents",
   "toc_cell": true,
   "toc_position": {},
   "toc_section_display": true,
   "toc_window_display": false
  }
 },
 "nbformat": 4,
 "nbformat_minor": 2
}
