{
 "cells": [
  {
   "cell_type": "markdown",
   "metadata": {
    "toc": true
   },
   "source": [
    "<h1>w9_周志齐_993735197<span class=\"tocSkip\"></span></h1>\n",
    "<div class=\"toc\"><ul class=\"toc-item\"><li><span><a href=\"#第九周作业\" data-toc-modified-id=\"第九周作业-1\"><span class=\"toc-item-num\">1&nbsp;&nbsp;</span>第九周作业</a></span><ul class=\"toc-item\"><li><span><a href=\"#数据准备\" data-toc-modified-id=\"数据准备-1.1\"><span class=\"toc-item-num\">1.1&nbsp;&nbsp;</span>数据准备</a></span></li><li><span><a href=\"#模型正常运行\" data-toc-modified-id=\"模型正常运行-1.2\"><span class=\"toc-item-num\">1.2&nbsp;&nbsp;</span>模型正常运行</a></span></li><li><span><a href=\"#输出结果\" data-toc-modified-id=\"输出结果-1.3\"><span class=\"toc-item-num\">1.3&nbsp;&nbsp;</span>输出结果</a></span></li></ul></li><li><span><a href=\"#填坑日记\" data-toc-modified-id=\"填坑日记-2\"><span class=\"toc-item-num\">2&nbsp;&nbsp;</span>填坑日记</a></span><ul class=\"toc-item\"><li><span><a href=\"#指定目录\" data-toc-modified-id=\"指定目录-2.1\"><span class=\"toc-item-num\">2.1&nbsp;&nbsp;</span>指定目录</a></span></li><li><span><a href=\"#protocbuf安装\" data-toc-modified-id=\"protocbuf安装-2.2\"><span class=\"toc-item-num\">2.2&nbsp;&nbsp;</span>protocbuf安装</a></span></li><li><span><a href=\"#导入自定义模块\" data-toc-modified-id=\"导入自定义模块-2.3\"><span class=\"toc-item-num\">2.3&nbsp;&nbsp;</span>导入自定义模块</a></span></li><li><span><a href=\"#A-pycocotools安装\" data-toc-modified-id=\"A-pycocotools安装-2.4\"><span class=\"toc-item-num\">2.4&nbsp;&nbsp;</span>A-pycocotools安装</a></span></li><li><span><a href=\"#B\" data-toc-modified-id=\"B-2.5\"><span class=\"toc-item-num\">2.5&nbsp;&nbsp;</span>B</a></span></li><li><span><a href=\"#C\" data-toc-modified-id=\"C-2.6\"><span class=\"toc-item-num\">2.6&nbsp;&nbsp;</span>C</a></span></li><li><span><a href=\"#D\" data-toc-modified-id=\"D-2.7\"><span class=\"toc-item-num\">2.7&nbsp;&nbsp;</span>D</a></span></li></ul></li></ul></div>"
   ]
  },
  {
   "cell_type": "markdown",
   "metadata": {
    "ExecuteTime": {
     "end_time": "2018-05-01T16:48:07.709859Z",
     "start_time": "2018-05-01T16:48:07.703857Z"
    }
   },
   "source": [
    "# 第九周作业"
   ]
  },
  {
   "cell_type": "markdown",
   "metadata": {},
   "source": [
    "## 数据准备\n",
    "\n",
    "Tinymind上数据集地址为: https://www.tinymind.com/zhouzhiqi/datasets/quiz-w8-data"
   ]
  },
  {
   "cell_type": "markdown",
   "metadata": {},
   "source": [
    "![dataset.png](https://raw.githubusercontent.com/zhouzhiqi/Deep-Learning/master/HomeWork/tmp/dataset.png)"
   ]
  },
  {
   "cell_type": "markdown",
   "metadata": {},
   "source": [
    "## 模型正常运行\n",
    "\n",
    "Tinymind上模型运行结果为: https://www.tinymind.com/executions/p3znbsqj\n",
    "随机截取部分输出日志:\n",
    "\n",
    "```\n",
    "INFO:tensorflow:global step 491: loss = 2.4809 (0.306 sec/step)\n",
    "INFO:tensorflow:global step 492: loss = 2.8503 (0.315 sec/step)\n",
    "INFO:tensorflow:global step 493: loss = 2.6786 (0.357 sec/step)\n",
    "INFO:tensorflow:global step 494: loss = 3.0032 (0.353 sec/step)\n",
    "INFO:tensorflow:global step 495: loss = 2.9489 (0.295 sec/step)\n",
    "INFO:tensorflow:global step 496: loss = 2.8251 (0.348 sec/step)\n",
    "INFO:tensorflow:global step 497: loss = 2.8868 (0.342 sec/step)\n",
    "INFO:tensorflow:global step 498: loss = 2.8214 (0.300 sec/step)\n",
    "INFO:tensorflow:global step 499: loss = 2.9244 (0.354 sec/step)\n",
    "INFO:tensorflow:global step 500: loss = 2.5837 (0.301 sec/step)\n",
    "INFO:tensorflow:Stopping Training.\n",
    "INFO:tensorflow:Finished training! Saving model to disk.\n",
    "```"
   ]
  },
  {
   "cell_type": "markdown",
   "metadata": {},
   "source": [
    "## 输出结果\n",
    "Tinymind上运行的output地址为: https://www.tinymind.com/executions/p3znbsqj/output\n",
    "\n",
    "output.png为: "
   ]
  },
  {
   "cell_type": "markdown",
   "metadata": {},
   "source": [
    "![output.png](https://raw.githubusercontent.com/zhouzhiqi/Deep-Learning/master/HomeWork/tmp/output.png)"
   ]
  },
  {
   "cell_type": "markdown",
   "metadata": {},
   "source": [
    "# 填坑日记"
   ]
  },
  {
   "cell_type": "markdown",
   "metadata": {},
   "source": [
    "## 指定目录\n",
    "\n",
    "代码: `python ./object_detection/train.py --train_dir=data/zhouzhiqi/quiz-w8-data/train --pipeline_config_path=ssd_mobilenet_v1_pets.config `\n",
    "\n",
    "解决方法: \n",
    "当前文件夹下\n",
    "正确: `--dataset_dir=data/quiz-w8-data`\n",
    "错误: `--dataset_dir=/data/quiz-w8-data`"
   ]
  },
  {
   "cell_type": "markdown",
   "metadata": {},
   "source": [
    "## protocbuf安装\n",
    "\n",
    "linux 安装protobuf,以及python版\n",
    "\n",
    "1. 下载安装包\n",
    "portobuf的官网下载地址是点击打开链接: https://github.com/google/protobuf/releases   \n",
    "选择的版本是protobuf-all-3.5.0.tar.gz\n",
    "\n",
    "2. 解压、编译、安装\n",
    "\n",
    "```\n",
    "tar -xf  protobuf-all-3.5.0.tar.gz\n",
    "cd protobuf-3.5.0\n",
    "./configure\n",
    "make \n",
    "make check\n",
    "make install\n",
    "```\n",
    "\n",
    "3. 继续安装protobuf的python模块（不需要python的，不需要安装）\n",
    "```\n",
    "cd ./python \n",
    "python setup.py build \n",
    "python setup.py test \n",
    "python setup.py install \n",
    "```\n",
    "\n",
    "4. 验证是否安装成功（查看安装的protobuf版本号）\n",
    "```\n",
    "protoc --version \n",
    "```\n",
    "\n",
    "5. 验证python模块有没有被正确安装\n",
    "```\n",
    "#python   \n",
    ">>>import google.protobuf \n",
    "```\n",
    "\n",
    "如果没有报错，说明安装正常"
   ]
  },
  {
   "cell_type": "markdown",
   "metadata": {},
   "source": [
    "## 导入自定义模块\n",
    "\n",
    "直接将模块放入: 安装位置/anaconda3/lib/python3.5/site-packages目录下\n",
    "\n",
    "或者直接在train.py中加入添加路径的代码:\n",
    "\n",
    "```python\n",
    "import sys\n",
    "print(os.getcwd())\n",
    "path = os.path.join(os.getcwd(), 'slim')\n",
    "sys.path.append(os.getcwd())\n",
    "sys.path.append(path)\n",
    "```"
   ]
  },
  {
   "cell_type": "markdown",
   "metadata": {},
   "source": [
    "## A-pycocotools安装\n",
    "\n",
    "- 代码: python ./object_detection/eval.py\n",
    "- 异常: ImportError: No module named 'pycocotools' \n",
    "- 解决方法:  \n",
    "Microsoft COCO 是 一个标注过的图片数据集，可用以目标检测、分割和描述生成等.    \n",
    "Pycocotools 是 python api tools of coco...\n",
    "\n",
    "1. 获取源码\n",
    "```\n",
    "git clone https://github.com/pdollar/coco.git\n",
    "```\n",
    "1. 编译\n",
    "```\n",
    "cd coco/PythonAPI\n",
    "install pycocotools locally\n",
    "python setup.py build_ext --inplace\n",
    "install pycocotools to the Python site-packages\n",
    "python setup.py build_ext install\n",
    "```"
   ]
  },
  {
   "cell_type": "markdown",
   "metadata": {},
   "source": [
    "## B\n",
    "\n",
    "- 代码: python ./object_detection/train.py\n",
    "- 异常: TypeError: `pred` must be a Tensor, a Variable, or a Python bool.\n",
    "- 解决方法:\n",
    "> 搜素并打开 `ssd_mobilenet_v1_feature_extractor.py`     \n",
    "> 定位到 107到109行, 把 `is_training=None`改成 `is_training=True`即可 ，如下    \n",
    "> ```with slim.arg_scope(\n",
    "> mobilenet_v1.mobilenet_v1_arg_scope(\n",
    "> is_training=True, regularize_depthwise=True)):```   \n",
    "> tf1.4对None的支持不友好"
   ]
  },
  {
   "cell_type": "markdown",
   "metadata": {},
   "source": [
    "## C\n",
    "\n",
    "- 代码:  python ./object_detection/train.py\n",
    "- 异常: 'tensorflow.contrib.data' has no attribute 'parallel_interleave'\n",
    "- 解决方法:\n",
    "> 搜素并打开 `dataset_util.py `  \n",
    "> 定位到 132到135行, 把t`f.contrib.data.parallel_interleave`   \n",
    "> 改为`tf.contrib.data.sloppy_interleave`, 并删除`sloppy=True`, 如下\n",
    "> ```tf.contrib.data.sloppy_interleave(\n",
    "> file_read_func, \n",
    "> cycle_length=config.num_readers,\n",
    "> block_length=config.read_block_length,))# sloppy=True))```"
   ]
  },
  {
   "cell_type": "markdown",
   "metadata": {},
   "source": [
    "\n",
    "\n",
    "\n",
    "\n",
    "\n",
    "## D\n",
    "\n",
    "- 代码: python ./object_detection/train.py    \n",
    "- 异常: ValueError: axis = 0 not in [0, 0)\n",
    "\n",
    "- 解决方法:\n",
    "\n",
    "> ```python\n",
    "loss {\n",
    "classification_loss {\n",
    "weighted_sigmoid {\n",
    "}\n",
    "}\n",
    "localization_loss {\n",
    "weighted_smooth_l1 {\n",
    "}\n",
    "}\n",
    "hard_example_miner {\n",
    "num_hard_examples: 3000\n",
    "iou_threshold: 0.99\n",
    "loss_type: CLASSIFICATION\n",
    "max_negatives_per_positive: 3\n",
    "min_negatives_per_image: 0\n",
    "}\n",
    "classification_weight: 1.0\n",
    "localization_weight: 1.0\n",
    "}\n",
    "to\n",
    "\n",
    ">loss {\n",
    "classification_loss {\n",
    "weighted_sigmoid {\n",
    "anchorwise_output: true #add this\n",
    "}\n",
    "}\n",
    "localization_loss {\n",
    "weighted_smooth_l1 {\n",
    "anchorwise_output: true #add this\n",
    "}\n",
    "}\n",
    "hard_example_miner {\n",
    "num_hard_examples: 3000\n",
    "iou_threshold: 0.99\n",
    "loss_type: CLASSIFICATION\n",
    "max_negatives_per_positive: 3\n",
    "min_negatives_per_image: 0\n",
    "}\n",
    "classification_weight: 1.0\n",
    "localization_weight: 1.0\n",
    "}\n",
    "```"
   ]
  },
  {
   "cell_type": "code",
   "execution_count": null,
   "metadata": {},
   "outputs": [],
   "source": []
  }
 ],
 "metadata": {
  "kernelspec": {
   "display_name": "Python 3",
   "language": "python",
   "name": "python3"
  },
  "language_info": {
   "codemirror_mode": {
    "name": "ipython",
    "version": 3
   },
   "file_extension": ".py",
   "mimetype": "text/x-python",
   "name": "python",
   "nbconvert_exporter": "python",
   "pygments_lexer": "ipython3",
   "version": "3.6.4"
  },
  "toc": {
   "nav_menu": {},
   "number_sections": true,
   "sideBar": true,
   "skip_h1_title": false,
   "title_cell": "w9_周志齐_993735197",
   "title_sidebar": "Contents",
   "toc_cell": true,
   "toc_position": {},
   "toc_section_display": true,
   "toc_window_display": false
  }
 },
 "nbformat": 4,
 "nbformat_minor": 2
}
