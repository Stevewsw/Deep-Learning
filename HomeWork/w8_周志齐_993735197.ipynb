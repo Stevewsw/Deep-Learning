{
 "cells": [
  {
   "cell_type": "markdown",
   "metadata": {
    "toc": true
   },
   "source": [
    "<h1>第八周作业<span class=\"tocSkip\"></span></h1>\n",
    "<div class=\"toc\"><ul class=\"toc-item\"><li><span><a href=\"#第八周作业运行结果\" data-toc-modified-id=\"第八周作业运行结果-1\"><span class=\"toc-item-num\">1&nbsp;&nbsp;</span>第八周作业运行结果</a></span><ul class=\"toc-item\"><li><span><a href=\"#densenet实现\" data-toc-modified-id=\"densenet实现-1.1\"><span class=\"toc-item-num\">1.1&nbsp;&nbsp;</span>densenet实现</a></span></li><li><span><a href=\"#运行\" data-toc-modified-id=\"运行-1.2\"><span class=\"toc-item-num\">1.2&nbsp;&nbsp;</span>运行</a></span><ul class=\"toc-item\"><li><span><a href=\"#在quiz数据集上\" data-toc-modified-id=\"在quiz数据集上-1.2.1\"><span class=\"toc-item-num\">1.2.1&nbsp;&nbsp;</span>在quiz数据集上</a></span></li><li><span><a href=\"#在cifar10数据集上\" data-toc-modified-id=\"在cifar10数据集上-1.2.2\"><span class=\"toc-item-num\">1.2.2&nbsp;&nbsp;</span>在cifar10数据集上</a></span></li></ul></li></ul></li></ul></div>"
   ]
  },
  {
   "cell_type": "markdown",
   "metadata": {},
   "source": [
    "# 第八周作业运行结果"
   ]
  },
  {
   "cell_type": "markdown",
   "metadata": {},
   "source": [
    "## densenet实现"
   ]
  },
  {
   "cell_type": "code",
   "execution_count": 1,
   "metadata": {
    "ExecuteTime": {
     "end_time": "2018-04-21T10:13:37.694164Z",
     "start_time": "2018-04-21T10:13:37.566069Z"
    }
   },
   "outputs": [],
   "source": [
    "def densenet(images, num_classes=1001, is_training=False,\n",
    "             dropout_keep_prob=0.8,\n",
    "             scope='densenet'):\n",
    "    \"\"\"Creates a variant of the densenet model.\n",
    "\n",
    "      images: A batch of `Tensors` of size [batch_size, height, width, channels].\n",
    "      num_classes: the number of classes in the dataset.\n",
    "      is_training: specifies whether or not we're currently training the model.\n",
    "        This variable will determine the behaviour of the dropout layer.\n",
    "      dropout_keep_prob: the percentage of activation values that are retained.\n",
    "      prediction_fn: a function to get predictions out of logits.\n",
    "      scope: Optional variable_scope.\n",
    "\n",
    "    Returns:\n",
    "      logits: the pre-softmax activations, a tensor of size\n",
    "        [batch_size, `num_classes`]\n",
    "      end_points: a dictionary from components of the network to the corresponding\n",
    "        activation.\n",
    "    \"\"\"\n",
    "    growth = 24\n",
    "    compression_rate = 0.5\n",
    "    \n",
    "    def reduce_dim(input_feature):  #压缩, 增加模型紧凑性\n",
    "        return int(int(input_feature.shape[-1]) * compression_rate)\n",
    "\n",
    "    end_points = {}\n",
    "\n",
    "    with tf.variable_scope(scope, 'DenseNet', [images, num_classes]):\n",
    "        with slim.arg_scope(bn_drp_scope(is_training=is_training,\n",
    "                                         keep_prob=dropout_keep_prob)) as ssc:\n",
    "            pass\n",
    "            ##########################\n",
    "            # 244 x 244 x 3\n",
    "            end_point = 'Conv_0'\n",
    "            net = slim.conv2d(images, 2*growth, [7,7], stride=2, padding='SAME', scope=end_point)\n",
    "            end_point = 'Pool_0'\n",
    "            # 112 x 112 x 48\n",
    "            net = slim.max_pool2d(net, [3,3], stride=2, padding='SAME', scope=end_point)\n",
    "            end_points[end_point] = net\n",
    "            # 56 x 56 x 48\n",
    "            for i in range(4):\n",
    "                end_point = 'dense_{}'.format(i+1)\n",
    "                net = block(net, 6, reduce_dim(net), scope=end_point) #拼接\n",
    "                net = bn_act_conv_drp(net, (i+1)*8, [1,1], scope=end_point)  #非线性变换\n",
    "                end_points[end_point] = net\n",
    "                \n",
    "            # 56 x 56 x 16\n",
    "            end_point = 'logits'\n",
    "            net_shape = net.get_shape().as_list()\n",
    "            # global_avg_pool2d\n",
    "            net = slim.avg_pool2d(net, net_shape[1:3], scope=end_point)\n",
    "            # => [batch_size, 1, 1, num_classes]\n",
    "            net = slim.conv2d(net, num_classes, [1, 1], activation_fn=None,\n",
    "                             normalizer_fn=None, scope=end_point)\n",
    "            # => [batch_size, `num_classes`]\n",
    "            logits = tf.squeeze(net, [1, 2], name=end_point)\n",
    "            end_points[end_point] = logits\n",
    "            \n",
    "            ##########################\n",
    "\n",
    "    return logits, end_points"
   ]
  },
  {
   "cell_type": "markdown",
   "metadata": {},
   "source": [
    "## 运行"
   ]
  },
  {
   "cell_type": "markdown",
   "metadata": {},
   "source": [
    "### 在quiz数据集上"
   ]
  },
  {
   "cell_type": "markdown",
   "metadata": {},
   "source": [
    "tinymin地址:https://www.tinymind.com/executions/4p6vaurk (运行4000step后killed)\n",
    "\n",
    "正确率的计算: https://www.tinymind.com/executions/jb70ace6"
   ]
  },
  {
   "cell_type": "markdown",
   "metadata": {},
   "source": [
    "```\n",
    "运行结果:\n",
    "2018-04-20 09:42:58.665508: I tensorflow/core/kernels/logging_ops.cc:79]eval/Accuracy[0.015625]     \n",
    "2018-04-20 09:42:58.665549: I tensorflow/core/kernels/logging_ops.cc:79]eval/Recall_5[0.046875]     \n",
    "INFO:tensorflow:Finished evaluation at 2018-04-20-09:42:58\n",
    "```"
   ]
  },
  {
   "cell_type": "markdown",
   "metadata": {},
   "source": [
    "### 在cifar10数据集上"
   ]
  },
  {
   "cell_type": "markdown",
   "metadata": {},
   "source": [
    "tinymin地址: https://www.tinymind.com/executions/wksh6vxy (运行10个epoch)\n",
    "\n",
    "正确率的计算: https://www.tinymind.com/executions/c8vtg4bb"
   ]
  },
  {
   "cell_type": "markdown",
   "metadata": {},
   "source": [
    "```\n",
    "运行结果:\n",
    "2018-04-21 08:58:19.495556: I tensorflow/core/kernels/logging_ops.cc:79] eval/Accuracy[0.2193]\n",
    "2018-04-21 08:58:19.495556: I tensorflow/core/kernels/logging_ops.cc:79] eval/Recall_5[0.7116]\n",
    "INFO:tensorflow:Finished evaluation at 2018-04-21-08:58:19\n",
    "```"
   ]
  },
  {
   "cell_type": "code",
   "execution_count": null,
   "metadata": {},
   "outputs": [],
   "source": []
  }
 ],
 "metadata": {
  "kernelspec": {
   "display_name": "Python 3",
   "language": "python",
   "name": "python3"
  },
  "language_info": {
   "codemirror_mode": {
    "name": "ipython",
    "version": 3
   },
   "file_extension": ".py",
   "mimetype": "text/x-python",
   "name": "python",
   "nbconvert_exporter": "python",
   "pygments_lexer": "ipython3",
   "version": "3.6.4"
  },
  "toc": {
   "nav_menu": {},
   "number_sections": true,
   "sideBar": true,
   "skip_h1_title": false,
   "title_cell": "第八周作业",
   "title_sidebar": "Contents",
   "toc_cell": true,
   "toc_position": {},
   "toc_section_display": true,
   "toc_window_display": false
  }
 },
 "nbformat": 4,
 "nbformat_minor": 2
}
