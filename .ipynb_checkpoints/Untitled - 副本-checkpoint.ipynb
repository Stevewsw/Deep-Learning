{
 "cells": [
  {
   "cell_type": "code",
   "execution_count": 1,
   "metadata": {
    "ExecuteTime": {
     "end_time": "2018-04-07T17:08:04.886107Z",
     "start_time": "2018-04-07T17:07:45.908275Z"
    }
   },
   "outputs": [],
   "source": [
    "import argparse\n",
    "import sys\n",
    "\n",
    "from tensorflow.examples.tutorials.mnist import input_data\n",
    "\n",
    "import tensorflow as tf\n",
    "\n",
    "import matplotlib.pyplot as plt\n",
    "import pandas as pd\n",
    "import numpy as np\n",
    "\n"
   ]
  },
  {
   "cell_type": "code",
   "execution_count": 2,
   "metadata": {
    "ExecuteTime": {
     "end_time": "2018-04-07T17:08:08.011935Z",
     "start_time": "2018-04-07T17:08:04.886107Z"
    }
   },
   "outputs": [
    {
     "name": "stdout",
     "output_type": "stream",
     "text": [
      "alabaster (0.7.10)\n",
      "anaconda-client (1.6.5)\n",
      "anaconda-navigator (1.7.0)\n",
      "anaconda-project (0.8.0)\n",
      "asn1crypto (0.22.0)\n",
      "astroid (1.5.3)\n",
      "astropy (2.0.2)\n",
      "babel (2.5.0)\n",
      "backports.shutil-get-terminal-size (1.0.0)\n",
      "beautifulsoup4 (4.6.0)\n",
      "bitarray (0.8.1)\n",
      "bkcharts (0.2)\n",
      "blaze (0.11.3)\n",
      "bleach (2.0.0)\n",
      "bokeh (0.12.10)\n",
      "boto (2.48.0)\n",
      "Bottleneck (1.2.1)\n",
      "CacheControl (0.12.3)\n",
      "certifi (2018.1.18)\n",
      "cffi (1.10.0)\n",
      "chardet (3.0.4)\n",
      "click (6.7)\n",
      "cloudpickle (0.4.0)\n",
      "clyent (1.2.2)\n",
      "colorama (0.3.9)\n",
      "comtypes (1.1.2)\n",
      "conda (4.4.10)\n",
      "conda-build (3.0.27)\n",
      "conda-verify (2.0.0)\n",
      "contextlib2 (0.5.5)\n",
      "cryptography (2.0.3)\n",
      "cycler (0.10.0)\n",
      "Cython (0.26.1)\n",
      "cytoolz (0.8.2)\n",
      "dask (0.15.3)\n",
      "datashape (0.5.4)\n",
      "decorator (4.1.2)\n",
      "distlib (0.2.5)\n",
      "distributed (1.19.1)\n",
      "docutils (0.14)\n",
      "entrypoints (0.2.3)\n",
      "et-xmlfile (1.0.1)\n",
      "fastcache (1.0.2)\n",
      "filelock (2.0.12)\n",
      "Flask (0.12.2)\n",
      "Flask-Cors (3.0.3)\n",
      "gevent (1.2.2)\n",
      "glob2 (0.5)\n",
      "greenlet (0.4.12)\n",
      "h5py (2.7.0)\n",
      "heapdict (1.0.0)\n",
      "html5lib (0.999999999)\n",
      "idna (2.6)\n",
      "imageio (2.2.0)\n",
      "imagesize (0.7.1)\n",
      "ipykernel (4.6.1)\n",
      "ipython (6.1.0)\n",
      "ipython-genutils (0.2.0)\n",
      "ipywidgets (7.0.0)\n",
      "isort (4.2.15)\n",
      "itsdangerous (0.24)\n",
      "jdcal (1.3)\n",
      "jedi (0.10.2)\n",
      "Jinja2 (2.9.6)\n",
      "jsonschema (2.6.0)\n",
      "jupyter-client (5.2.2)\n",
      "jupyter-console (5.2.0)\n",
      "jupyter-contrib-core (0.3.3)\n",
      "jupyter-contrib-nbextensions (0.4.0)\n",
      "jupyter-core (4.4.0)\n",
      "jupyter-highlight-selected-word (0.1.0)\n",
      "jupyter-latex-envs (1.4.1)\n",
      "jupyter-nbextensions-configurator (0.4.0)\n",
      "jupyterlab (0.31.8)\n",
      "jupyterlab-launcher (0.10.2)\n",
      "lazy-object-proxy (1.3.1)\n",
      "lightgbm (2.1.0)\n",
      "llvmlite (0.20.0)\n",
      "locket (0.2.0)\n",
      "lockfile (0.12.2)\n",
      "lxml (4.1.0)\n",
      "MarkupSafe (1.0)\n",
      "matplotlib (2.1.0)\n",
      "mccabe (0.6.1)\n",
      "menuinst (1.4.10)\n",
      "mistune (0.7.4)\n",
      "mpmath (0.19)\n",
      "msgpack-python (0.4.8)\n",
      "multipledispatch (0.4.9)\n",
      "navigator-updater (0.1.0)\n",
      "nbconvert (5.3.1)\n",
      "nbformat (4.4.0)\n",
      "networkx (2.0)\n",
      "nltk (3.2.4)\n",
      "nose (1.3.7)\n",
      "notebook (5.4.0)\n",
      "numba (0.35.0+10.g143f70e)\n",
      "numexpr (2.6.2)\n",
      "numpy (1.13.3)\n",
      "numpydoc (0.7.0)\n",
      "odo (0.5.1)\n",
      "olefile (0.44)\n",
      "openpyxl (2.4.8)\n",
      "packaging (16.8)\n",
      "pandas (0.20.3)\n",
      "pandocfilters (1.4.2)\n",
      "partd (0.3.8)\n",
      "path.py (10.3.1)\n",
      "pathlib2 (2.3.0)\n",
      "patsy (0.4.1)\n",
      "pep8 (1.7.0)\n",
      "pickleshare (0.7.4)\n",
      "Pillow (4.2.1)\n",
      "pip (9.0.3)\n",
      "pkginfo (1.4.1)\n",
      "ply (3.10)\n",
      "progress (1.3)\n",
      "prompt-toolkit (1.0.15)\n",
      "psutil (5.4.0)\n",
      "py (1.4.34)\n",
      "pycodestyle (2.3.1)\n",
      "pycosat (0.6.3)\n",
      "pycountry (18.2.23)\n",
      "pycparser (2.18)\n",
      "pycrypto (2.6.1)\n",
      "pycurl (7.43.0)\n",
      "pyflakes (1.6.0)\n",
      "Pygments (2.2.0)\n",
      "pylint (1.7.4)\n",
      "pyodbc (4.0.17)\n",
      "pyOpenSSL (17.2.0)\n",
      "pyparsing (2.2.0)\n",
      "PySocks (1.6.7)\n",
      "pytest (3.2.1)\n",
      "python-dateutil (2.6.1)\n",
      "pytz (2017.2)\n",
      "PyWavelets (0.5.2)\n",
      "pywin32 (221)\n",
      "pywinpty (0.5)\n",
      "PyYAML (3.12)\n",
      "pyzmq (16.0.2)\n",
      "QtAwesome (0.4.4)\n",
      "qtconsole (4.3.1)\n",
      "QtPy (1.3.1)\n",
      "requests (2.18.4)\n",
      "rope (0.10.5)\n",
      "ruamel-yaml (0.11.14)\n",
      "scikit-image (0.13.0)\n",
      "scikit-learn (0.19.1)\n",
      "scipy (0.19.1)\n",
      "seaborn (0.8)\n",
      "Send2Trash (1.4.2)\n",
      "setuptools (36.5.0.post20170921)\n",
      "simplegeneric (0.8.1)\n",
      "singledispatch (3.4.0.3)\n",
      "six (1.11.0)\n",
      "snowballstemmer (1.2.1)\n",
      "sortedcollections (0.5.3)\n",
      "sortedcontainers (1.5.7)\n",
      "Sphinx (1.6.3)\n",
      "sphinxcontrib-websupport (1.0.1)\n",
      "spyder (3.2.6)\n",
      "SQLAlchemy (1.1.13)\n",
      "statsmodels (0.8.0)\n",
      "sympy (1.1.1)\n",
      "tables (3.4.2)\n",
      "tblib (1.3.2)\n",
      "terminado (0.8.1)\n",
      "testpath (0.3.1)\n",
      "texttable (1.2.1)\n",
      "toolz (0.8.2)\n",
      "tornado (4.5.2)\n",
      "traitlets (4.3.2)\n",
      "typing (3.6.2)\n",
      "unicodecsv (0.14.1)\n",
      "urllib3 (1.22)\n",
      "utils (0.9.0)\n",
      "wcwidth (0.1.7)\n",
      "webencodings (0.5.1)\n",
      "Werkzeug (0.12.2)\n",
      "wheel (0.29.0)\n",
      "widgetsnbextension (3.0.2)\n",
      "win-inet-pton (1.0.1)\n",
      "win-unicode-console (0.5)\n",
      "wincertstore (0.2)\n",
      "wordcloud (1.3.3)\n",
      "wrapt (1.10.11)\n",
      "xgboost (0.7)\n",
      "xlrd (1.1.0)\n",
      "XlsxWriter (1.0.2)\n",
      "xlwings (0.11.4)\n",
      "xlwt (1.3.0)\n",
      "zict (0.1.3)\n"
     ]
    },
    {
     "name": "stderr",
     "output_type": "stream",
     "text": [
      "DEPRECATION: The default format will switch to columns in the future. You can use --format=(legacy|columns) (or define a format=(legacy|columns) in your pip.conf under the [list] section) to disable this warning.\n"
     ]
    }
   ],
   "source": [
    "!pip list"
   ]
  },
  {
   "cell_type": "code",
   "execution_count": 3,
   "metadata": {
    "ExecuteTime": {
     "end_time": "2018-04-07T17:08:08.887059Z",
     "start_time": "2018-04-07T17:08:08.014936Z"
    }
   },
   "outputs": [
    {
     "name": "stdout",
     "output_type": "stream",
     "text": [
      "Extracting E:/AI/00/data/Mnist/input_data\\train-images-idx3-ubyte.gz\n",
      "Extracting E:/AI/00/data/Mnist/input_data\\train-labels-idx1-ubyte.gz\n",
      "Extracting E:/AI/00/data/Mnist/input_data\\t10k-images-idx3-ubyte.gz\n",
      "Extracting E:/AI/00/data/Mnist/input_data\\t10k-labels-idx1-ubyte.gz\n"
     ]
    }
   ],
   "source": [
    "# Import data\n",
    "data_dir = 'E:/AI/00/data/Mnist/input_data'\n",
    "mnist = input_data.read_data_sets(data_dir, one_hot=True)"
   ]
  },
  {
   "cell_type": "code",
   "execution_count": 4,
   "metadata": {
    "ExecuteTime": {
     "end_time": "2018-04-07T17:08:08.918235Z",
     "start_time": "2018-04-07T17:08:08.889215Z"
    }
   },
   "outputs": [],
   "source": [
    "import tensorflow as tf\n",
    "sess = tf.InteractiveSession()"
   ]
  },
  {
   "cell_type": "code",
   "execution_count": 5,
   "metadata": {
    "ExecuteTime": {
     "end_time": "2018-04-07T17:08:08.954260Z",
     "start_time": "2018-04-07T17:08:08.921236Z"
    }
   },
   "outputs": [],
   "source": [
    "x = tf.placeholder(\"float\", shape=[None, 784])\n",
    "y_ = tf.placeholder(\"float\", shape=[None, 10])\n",
    "W = tf.Variable(tf.zeros([784,10]))\n",
    "b = tf.Variable(tf.zeros([10]))"
   ]
  },
  {
   "cell_type": "code",
   "execution_count": 6,
   "metadata": {
    "ExecuteTime": {
     "end_time": "2018-04-07T17:08:08.998530Z",
     "start_time": "2018-04-07T17:08:08.956262Z"
    }
   },
   "outputs": [],
   "source": [
    "sess.run(tf.global_variables_initializer())"
   ]
  },
  {
   "cell_type": "code",
   "execution_count": 7,
   "metadata": {
    "ExecuteTime": {
     "end_time": "2018-04-07T17:08:09.007540Z",
     "start_time": "2018-04-07T17:08:09.001532Z"
    }
   },
   "outputs": [],
   "source": [
    "y = tf.nn.softmax(tf.matmul(x,W) + b)"
   ]
  },
  {
   "cell_type": "code",
   "execution_count": 8,
   "metadata": {
    "ExecuteTime": {
     "end_time": "2018-04-07T17:08:09.023564Z",
     "start_time": "2018-04-07T17:08:09.010538Z"
    }
   },
   "outputs": [],
   "source": [
    "cross_entropy = -tf.reduce_sum(y_*tf.log(y))"
   ]
  },
  {
   "cell_type": "code",
   "execution_count": 9,
   "metadata": {
    "ExecuteTime": {
     "end_time": "2018-04-07T17:08:09.078585Z",
     "start_time": "2018-04-07T17:08:09.025549Z"
    }
   },
   "outputs": [],
   "source": [
    "train_step = tf.train.GradientDescentOptimizer(0.01).minimize(cross_entropy)"
   ]
  },
  {
   "cell_type": "code",
   "execution_count": 10,
   "metadata": {
    "ExecuteTime": {
     "end_time": "2018-04-07T17:08:10.067065Z",
     "start_time": "2018-04-07T17:08:09.080593Z"
    }
   },
   "outputs": [],
   "source": [
    "for i in range(1000):\n",
    "    batch = mnist.train.next_batch(50)\n",
    "    train_step.run(feed_dict={x: batch[0], y_: batch[1]})"
   ]
  },
  {
   "cell_type": "code",
   "execution_count": 11,
   "metadata": {
    "ExecuteTime": {
     "end_time": "2018-04-07T17:08:10.078265Z",
     "start_time": "2018-04-07T17:08:10.069259Z"
    }
   },
   "outputs": [],
   "source": [
    "correct_prediction = tf.equal(tf.argmax(y,1), tf.argmax(y_,1))"
   ]
  },
  {
   "cell_type": "code",
   "execution_count": 12,
   "metadata": {
    "ExecuteTime": {
     "end_time": "2018-04-07T17:08:10.098277Z",
     "start_time": "2018-04-07T17:08:10.081268Z"
    }
   },
   "outputs": [],
   "source": [
    "accuracy = tf.reduce_mean(tf.cast(correct_prediction, \"float\"))"
   ]
  },
  {
   "cell_type": "code",
   "execution_count": 13,
   "metadata": {
    "ExecuteTime": {
     "end_time": "2018-04-07T17:08:10.151681Z",
     "start_time": "2018-04-07T17:08:10.101280Z"
    }
   },
   "outputs": [
    {
     "name": "stdout",
     "output_type": "stream",
     "text": [
      "0.9139\n"
     ]
    }
   ],
   "source": [
    "print (accuracy.eval(feed_dict={x: mnist.test.images, y_: mnist.test.labels}))"
   ]
  },
  {
   "cell_type": "code",
   "execution_count": 25,
   "metadata": {
    "ExecuteTime": {
     "end_time": "2018-04-08T01:20:45.985278Z",
     "start_time": "2018-04-08T01:20:45.961260Z"
    }
   },
   "outputs": [],
   "source": [
    "def weight_variable(shape):\n",
    "    initial = tf.truncated_normal(shape, stddev=0.1)\n",
    "    return tf.Variable(initial)\n",
    "def bias_variable(shape):\n",
    "    initial = tf.constant(0.1, shape=shape)\n",
    "    return tf.Variable(initial)"
   ]
  },
  {
   "cell_type": "code",
   "execution_count": 26,
   "metadata": {
    "ExecuteTime": {
     "end_time": "2018-04-08T01:20:46.154097Z",
     "start_time": "2018-04-08T01:20:46.143089Z"
    }
   },
   "outputs": [],
   "source": [
    "def conv2d(x, W):\n",
    "    return tf.nn.conv2d(x, W, strides=[1, 1, 1, 1], padding='SAME')\n",
    "\n",
    "def max_pool_2x2(x):\n",
    "    return tf.nn.max_pool(x, ksize=[1, 2, 2, 1],\n",
    "                          strides=[1, 2, 2, 1], padding='SAME')"
   ]
  },
  {
   "cell_type": "code",
   "execution_count": 27,
   "metadata": {
    "ExecuteTime": {
     "end_time": "2018-04-08T01:20:46.407599Z",
     "start_time": "2018-04-08T01:20:46.327545Z"
    }
   },
   "outputs": [],
   "source": [
    "W_conv1 = weight_variable([5, 5, 1, 32])\n",
    "b_conv1 = bias_variable([32])"
   ]
  },
  {
   "cell_type": "code",
   "execution_count": 28,
   "metadata": {
    "ExecuteTime": {
     "end_time": "2018-04-08T01:20:46.504059Z",
     "start_time": "2018-04-08T01:20:46.494049Z"
    }
   },
   "outputs": [],
   "source": [
    "x_image = tf.reshape(x, [-1,28,28,1])"
   ]
  },
  {
   "cell_type": "code",
   "execution_count": 29,
   "metadata": {
    "ExecuteTime": {
     "end_time": "2018-04-08T01:20:46.705459Z",
     "start_time": "2018-04-08T01:20:46.678441Z"
    }
   },
   "outputs": [],
   "source": [
    "h_conv1 = tf.nn.relu(conv2d(x_image, W_conv1) + b_conv1)\n",
    "h_pool1 = max_pool_2x2(h_conv1)"
   ]
  },
  {
   "cell_type": "code",
   "execution_count": 30,
   "metadata": {
    "ExecuteTime": {
     "end_time": "2018-04-08T01:20:46.882274Z",
     "start_time": "2018-04-08T01:20:46.861261Z"
    }
   },
   "outputs": [],
   "source": [
    "W_conv2 = weight_variable([5, 5, 32, 64])\n",
    "b_conv2 = bias_variable([64])\n",
    "\n",
    "h_conv2 = tf.nn.relu(conv2d(h_pool1, W_conv2) + b_conv2)\n",
    "h_pool2 = max_pool_2x2(h_conv2)"
   ]
  },
  {
   "cell_type": "code",
   "execution_count": 31,
   "metadata": {
    "ExecuteTime": {
     "end_time": "2018-04-08T01:20:47.087901Z",
     "start_time": "2018-04-08T01:20:47.062882Z"
    }
   },
   "outputs": [],
   "source": [
    "W_fc1 = weight_variable([7 * 7 * 64, 1024])\n",
    "b_fc1 = bias_variable([1024])\n",
    "\n",
    "h_pool2_flat = tf.reshape(h_pool2, [-1, 7*7*64])\n",
    "h_fc1 = tf.nn.relu(tf.matmul(h_pool2_flat, W_fc1) + b_fc1)"
   ]
  },
  {
   "cell_type": "code",
   "execution_count": 32,
   "metadata": {
    "ExecuteTime": {
     "end_time": "2018-04-08T01:20:47.350016Z",
     "start_time": "2018-04-08T01:20:47.325996Z"
    }
   },
   "outputs": [],
   "source": [
    "keep_prob = tf.placeholder(\"float\")\n",
    "h_fc1_drop = tf.nn.dropout(h_fc1, keep_prob)"
   ]
  },
  {
   "cell_type": "code",
   "execution_count": 33,
   "metadata": {
    "ExecuteTime": {
     "end_time": "2018-04-08T01:20:47.641481Z",
     "start_time": "2018-04-08T01:20:47.620966Z"
    }
   },
   "outputs": [],
   "source": [
    "W_fc2 = weight_variable([1024, 10])\n",
    "b_fc2 = bias_variable([10])\n",
    "\n",
    "y_conv=tf.nn.softmax(tf.matmul(h_fc1_drop, W_fc2) + b_fc2)"
   ]
  },
  {
   "cell_type": "code",
   "execution_count": 34,
   "metadata": {
    "ExecuteTime": {
     "end_time": "2018-04-08T01:20:48.614392Z",
     "start_time": "2018-04-08T01:20:48.062988Z"
    }
   },
   "outputs": [],
   "source": [
    "cross_entropy = -tf.reduce_sum(y_*tf.log(y_conv))\n",
    "train_step = tf.train.AdamOptimizer(1e-4).minimize(cross_entropy)\n",
    "correct_prediction = tf.equal(tf.argmax(y_conv,1), tf.argmax(y_,1))\n",
    "accuracy = tf.reduce_mean(tf.cast(correct_prediction, \"float\"))\n",
    "sess.run(tf.global_variables_initializer())"
   ]
  },
  {
   "cell_type": "code",
   "execution_count": 35,
   "metadata": {
    "ExecuteTime": {
     "end_time": "2018-04-08T01:31:42.485948Z",
     "start_time": "2018-04-08T01:20:48.734102Z"
    }
   },
   "outputs": [
    {
     "name": "stdout",
     "output_type": "stream",
     "text": [
      "test accuracy 0.9856\n"
     ]
    }
   ],
   "source": [
    "\n",
    "for i in range(5000):\n",
    "    batch = mnist.train.next_batch(50)\n",
    "    train_step.run(feed_dict={x: batch[0], y_: batch[1], keep_prob: 0.5})\n",
    "\n",
    "print (\"test accuracy %g\"%accuracy.eval(feed_dict={\n",
    "      x: mnist.test.images, y_: mnist.test.labels, keep_prob: 1.0}))"
   ]
  },
  {
   "cell_type": "markdown",
   "metadata": {
    "collapsed": true
   },
   "source": [
    " 7m 40s in ubuntu   \n",
    "10m 50s in win10"
   ]
  },
  {
   "cell_type": "code",
   "execution_count": null,
   "metadata": {},
   "outputs": [],
   "source": []
  }
 ],
 "metadata": {
  "anaconda-cloud": {},
  "kernelspec": {
   "display_name": "Python 3",
   "language": "python",
   "name": "python3"
  },
  "language_info": {
   "codemirror_mode": {
    "name": "ipython",
    "version": 3
   },
   "file_extension": ".py",
   "mimetype": "text/x-python",
   "name": "python",
   "nbconvert_exporter": "python",
   "pygments_lexer": "ipython3",
   "version": "3.6.4"
  },
  "toc": {
   "nav_menu": {},
   "number_sections": true,
   "sideBar": true,
   "skip_h1_title": false,
   "title_cell": "Table of Contents",
   "title_sidebar": "Contents",
   "toc_cell": false,
   "toc_position": {},
   "toc_section_display": true,
   "toc_window_display": false
  }
 },
 "nbformat": 4,
 "nbformat_minor": 1
}
